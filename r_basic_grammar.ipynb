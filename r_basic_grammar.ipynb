{
 "cells": [
  {
   "cell_type": "markdown",
   "id": "8cab55d2",
   "metadata": {},
   "source": [
    "<h2>Table_of_Contents</h2>"
   ]
  },
  {
   "cell_type": "markdown",
   "id": "d0c34305",
   "metadata": {},
   "source": [
    "- [R basic grammar](#R_basic_grammar)\n",
    "    - [Variable](#Variable)\n",
    "        - [Writing comments](#Writing_comments)\n",
    "        - [Variable assignment](#Variable_assignment)\n",
    "        - [Rules for naming variables](#Rules_for_naming_variables)\n",
    "        - [Variable assignment](#Variable_assignment)\n",
    "    - [Data type](#Data_type)\n",
    "        - [Numeric data](#Numeric_data)\n",
    "        - [Character data](#Character_data)\n",
    "        - [Logical data](#Logical_data)\n",
    "        - [Factor data](#Factor_data)\n",
    "        - [Factor and label](#Factor_and_label)\n",
    "    - [Operator](#Operator)\n",
    "        - [Arithmetic operator](#Arithmetic_operator)\n",
    "        - [Basic calculator](#Basic_calculator)\n",
    "- [References](#References)"
   ]
  },
  {
   "cell_type": "markdown",
   "id": "91eab171",
   "metadata": {},
   "source": [
    "<h2>R_basic_grammar</h2>"
   ]
  },
  {
   "cell_type": "markdown",
   "id": "a2394a53",
   "metadata": {},
   "source": [
    "<h3>Variable</h3>\n",
    "Syntax, Indentation"
   ]
  },
  {
   "cell_type": "markdown",
   "id": "2e1518ad",
   "metadata": {},
   "source": [
    "<h4>Writing_comments</h4>"
   ]
  },
  {
   "cell_type": "markdown",
   "id": "db39c7bd",
   "metadata": {},
   "source": [
    "1. One line comment"
   ]
  },
  {
   "cell_type": "code",
   "execution_count": null,
   "id": "b9cd63a7",
   "metadata": {},
   "outputs": [],
   "source": [
    "# In RStudio, Simply press the shortcut Ctrl + Shift + c to comment.\n",
    "# <-  The comment in R is the hash symbol"
   ]
  },
  {
   "cell_type": "markdown",
   "id": "684571e4",
   "metadata": {},
   "source": [
    "2. Multiline comment"
   ]
  },
  {
   "cell_type": "code",
   "execution_count": null,
   "id": "dffc6aa8",
   "metadata": {},
   "outputs": [],
   "source": [
    "Comment1 = \"\n",
    "    Create a variable that you don't want to use \n",
    "    and put a comment there.\n",
    "    It doesn't matter if that variable isn't used\n",
    "    in the actual process.\n",
    "\""
   ]
  },
  {
   "cell_type": "markdown",
   "id": "c8cdf5fd",
   "metadata": {},
   "source": [
    "[Back to the top](#Table_of_Contents)"
   ]
  },
  {
   "cell_type": "markdown",
   "id": "70086813",
   "metadata": {},
   "source": [
    "<h4>Variable_assignment</h4>"
   ]
  },
  {
   "cell_type": "code",
   "execution_count": null,
   "id": "78ae002e",
   "metadata": {},
   "outputs": [],
   "source": [
    "# there are two ways to assign the variable\n",
    "variableName <- 0 # assign the value using <-\n",
    "variableName<-4 # hard to read\n",
    "4->variableName # old fashioned, hard to read"
   ]
  },
  {
   "cell_type": "code",
   "execution_count": null,
   "id": "bb7e25a1",
   "metadata": {},
   "outputs": [],
   "source": [
    "variableName = 1 # assign the value using = \n",
    "variableName"
   ]
  },
  {
   "cell_type": "code",
   "execution_count": null,
   "id": "bc8c8b56",
   "metadata": {
    "scrolled": true
   },
   "outputs": [],
   "source": [
    "assign(\"a\", 5)\n",
    "a"
   ]
  },
  {
   "cell_type": "code",
   "execution_count": null,
   "id": "e7404fe0",
   "metadata": {},
   "outputs": [],
   "source": [
    "# c: Combine Values into a Vector or List\n",
    "var1 <- c(1,2,5,7,8)\n",
    "print(var1)\n",
    "\n",
    "var2 <- c(1:5)\n",
    "print(var2)"
   ]
  },
  {
   "cell_type": "code",
   "execution_count": null,
   "id": "f93b744b",
   "metadata": {
    "scrolled": true
   },
   "outputs": [],
   "source": [
    "# seq: Sequence Generation\n",
    "# Create var3 with continuous values from 1 to 5\n",
    "var3 <- seq(1,5)\n",
    "print(var3)\n",
    "# Create var4 with 2 consecutive values from 1 to 10\n",
    "var4 <- seq(1, 10, by = 2)\n",
    "print(var4)\n",
    "# Generate var5 with 3 consecutive values from 1 to 10\n",
    "var5 <- seq(1, 10, by = 3)\n",
    "print(var5)"
   ]
  },
  {
   "cell_type": "code",
   "execution_count": null,
   "id": "3bdf906b",
   "metadata": {},
   "outputs": [],
   "source": [
    "# Creating sequences\n",
    "# I’ve been using, for example, code like c(1:9) to create sequences, but there are other options.\n",
    "# sequence from 1 to 9\n",
    "seq(1, 9)\n",
    "# sequence from 1 to 9 in increments of 2\n",
    "seq(1, 9, 2)\n",
    "# sequence that count from 1 to 9 in increments such that the vector has a length of 11\n",
    "seq(1, 9, length.out = 11)"
   ]
  },
  {
   "cell_type": "markdown",
   "id": "1b58010a",
   "metadata": {},
   "source": [
    "[Back to the top](#Table_of_Contents)"
   ]
  },
  {
   "cell_type": "markdown",
   "id": "0b0055ce",
   "metadata": {},
   "source": [
    "<h4>Rules_for_naming_variables</h4>"
   ]
  },
  {
   "cell_type": "code",
   "execution_count": null,
   "id": "da39a1f6",
   "metadata": {},
   "outputs": [],
   "source": [
    "Rules_for_naming_variables = \"\n",
    "    * exclude #\n",
    "    * 첫 문자를 영문자로 시작해서 영문 대문자(A~Z)와 소문자(a~z),\n",
    "      숫자(0~9), 밑줄(_)을 사용하여 작성\n",
    "    * 특수기호(!, @, # ...)는 사용할 수 없음\n",
    "    * 미리 정해진 예약어(var, if, for ...)는 사용할 수 없음\n",
    "    * 대/소문자를 구분\n",
    "    * 변수의 값이 무엇을 나타내는지 쉽게 표기\n",
    "\"\n",
    "# Name convention\n",
    "variable.Name <- variableName # . worked \n",
    "_ok.dor <- 1 # error\n",
    "77ok.dor <- 1 # error\n",
    "casesensitive <-2 \n",
    "Casesensitive <-3 # Case sensitive\n",
    "# Defined commands\n",
    "FALSE\n",
    "TRUE\n",
    "else\n",
    "NULL\n",
    "false <- 9 # Okay"
   ]
  },
  {
   "cell_type": "markdown",
   "id": "cbfbe76e",
   "metadata": {},
   "source": [
    "[Back to the top](#Table_of_Contents)"
   ]
  },
  {
   "cell_type": "markdown",
   "id": "9d2226a9",
   "metadata": {},
   "source": [
    "<h4>Variable_assignment</h4>"
   ]
  },
  {
   "cell_type": "code",
   "execution_count": null,
   "id": "10c288e2",
   "metadata": {},
   "outputs": [],
   "source": [
    "# variable assignment\n",
    "tot1<-5\n",
    "tot1"
   ]
  },
  {
   "cell_type": "code",
   "execution_count": null,
   "id": "91937bde",
   "metadata": {},
   "outputs": [],
   "source": [
    "tot2=10\n",
    "tot2"
   ]
  },
  {
   "cell_type": "code",
   "execution_count": null,
   "id": "70a0db0f",
   "metadata": {},
   "outputs": [],
   "source": [
    "tot2=tot1 + tot2\n",
    "tot2"
   ]
  },
  {
   "cell_type": "code",
   "execution_count": null,
   "id": "563f965b",
   "metadata": {},
   "outputs": [],
   "source": [
    "1tot"
   ]
  },
  {
   "cell_type": "markdown",
   "id": "90174ff4",
   "metadata": {},
   "source": [
    "[Back to the top](#Table_of_Contents)"
   ]
  },
  {
   "cell_type": "markdown",
   "id": "ae8b4880",
   "metadata": {},
   "source": [
    "<h3>Data_type</h3>\n",
    "Everyting is an object. There are four main data types used in R: numeric, character, factor and logical. The factor will cover in data structure with I&O."
   ]
  },
  {
   "cell_type": "code",
   "execution_count": null,
   "id": "1adca9c6",
   "metadata": {},
   "outputs": [],
   "source": [
    "# You can use the class() function to see what type of data R thinks you have"
   ]
  },
  {
   "cell_type": "markdown",
   "id": "76fe54a5",
   "metadata": {},
   "source": [
    "numeric : (1,2,3)<br>\n",
    "<li>integer</li>\n",
    "<li>double</li>\n",
    "character : (\"character\")<br>\n",
    "logical : TRUE(T), FALSE(F) <br>\n",
    "factor <br>\n",
    "NULL <br>\n",
    "NA : missing value"
   ]
  },
  {
   "cell_type": "markdown",
   "id": "6a97c7e3",
   "metadata": {},
   "source": [
    "<h4>Numeric_data</h4>"
   ]
  },
  {
   "cell_type": "code",
   "execution_count": null,
   "id": "ea3fbe15",
   "metadata": {},
   "outputs": [],
   "source": [
    "# Data: numeric (1,2,3)\n",
    "# Numbers (almost) always default to numeric\n",
    "num1 <- c(1, 2, 3, 4, 5) # a vector of numbers\n",
    "num1\n",
    "class(num1)\n",
    "mode(num1)\n",
    "typeof(num1)"
   ]
  },
  {
   "cell_type": "markdown",
   "id": "dc5eea2e",
   "metadata": {},
   "source": [
    "[Back to the top](#Table_of_Contents)"
   ]
  },
  {
   "cell_type": "markdown",
   "id": "3ae5f983",
   "metadata": {},
   "source": [
    "<h4>Character_data</h4>"
   ]
  },
  {
   "cell_type": "code",
   "execution_count": null,
   "id": "3f75f08c",
   "metadata": {},
   "outputs": [],
   "source": [
    "# Data: character (\"English\")\n",
    "# Character\n",
    "char1 <- c(\"male\", \"female\") # concatenate, a vector of strings\n",
    "char1\n",
    "class(char1) # Check the class of names()\n",
    "mode(char1)\n",
    "typeof(char1)"
   ]
  },
  {
   "cell_type": "markdown",
   "id": "9b392bab",
   "metadata": {},
   "source": [
    "[Back to the top](#Table_of_Contents)"
   ]
  },
  {
   "cell_type": "markdown",
   "id": "da481eb2",
   "metadata": {},
   "source": [
    "<h4>Logical_data</h4>"
   ]
  },
  {
   "cell_type": "code",
   "execution_count": null,
   "id": "edbd1880",
   "metadata": {},
   "outputs": [],
   "source": [
    "# Logicals\n",
    "# I'll cover how you generate T/F values in the next section\n",
    "#  but the TRUE/FALSE input in R are special and are automatically \n",
    "#  recognized as logical values.  Importantly, don't use quotes!\n",
    "b = c(TRUE, FALSE, TRUE, TRUE)\n",
    "b\n",
    "class(b)\n",
    "mode(b)\n",
    "typeof(b)"
   ]
  },
  {
   "cell_type": "markdown",
   "id": "4208f579",
   "metadata": {},
   "source": [
    "[Back to the top](#Table_of_Contents)"
   ]
  },
  {
   "cell_type": "markdown",
   "id": "88612210",
   "metadata": {},
   "source": [
    "<h4>Factor_data</h4>\n",
    "The reason R has factors relates to the main purpose of R: run statistical analyses. In many models you run with categorical variables, there’s a specific baseline comparison that makes the most sense."
   ]
  },
  {
   "cell_type": "code",
   "execution_count": null,
   "id": "f4821718",
   "metadata": {},
   "outputs": [],
   "source": [
    "# Factors\n",
    "gender = c(\"m\", \"f\", \"m\", \"f\", \"m\",\"m\", \"f\")  # here it is a character\n",
    "gender.factor = as.factor(gender)        \n",
    "gender.factor\n",
    "class(gender)\n",
    "mode(gender)\n",
    "typeof(gender)\n",
    "class(gender.factor)\n",
    "mode(gender.factor)\n",
    "typeof(gender.factor)"
   ]
  },
  {
   "cell_type": "markdown",
   "id": "24064cf0",
   "metadata": {},
   "source": [
    "[Back to the top](#Table_of_Contents)"
   ]
  },
  {
   "cell_type": "markdown",
   "id": "fc9f6c1e",
   "metadata": {},
   "source": [
    "Sometimes after reading in data it will automatically change things into factors that you wish were numbers. Be very careful when you do this! You must first convert to a character and then a numeric, otherwise it will use the level value as the value."
   ]
  },
  {
   "cell_type": "code",
   "execution_count": null,
   "id": "322226aa",
   "metadata": {},
   "outputs": [],
   "source": [
    "# Common mistake\n",
    "# Going from factor to number\n",
    "num.vec = as.factor(c(1.2, 1.4, 1.6))\n",
    "num.vec\n",
    "\n",
    "# Wrong way\n",
    "as.numeric(num.vec)\n",
    "\n",
    "# Correct way\n",
    "as.numeric(as.character(num.vec))"
   ]
  },
  {
   "cell_type": "markdown",
   "id": "dd40acae",
   "metadata": {},
   "source": [
    "[Back to the top](#Table_of_Contents)"
   ]
  },
  {
   "cell_type": "markdown",
   "id": "ed3507be",
   "metadata": {},
   "source": [
    "<h4>Factor_and_label</h4>"
   ]
  },
  {
   "cell_type": "markdown",
   "id": "815d4b4b",
   "metadata": {},
   "source": [
    "<center><img src=\"img/r_All_kinds_of_objects.png\" ></center> "
   ]
  },
  {
   "cell_type": "code",
   "execution_count": null,
   "id": "eacb36ed",
   "metadata": {},
   "outputs": [],
   "source": [
    "# factor (handle the qualitative (categorical) variable)\n",
    "gradetxt <- read.table(\"example/0201.grade.txt\",\n",
    "                       header=FALSE,\n",
    "                       sep = \"\\t\",\n",
    "                       stringsAsFactor = FALSE,\n",
    "                       na.strings = \"\"\n",
    "                      )\n",
    "\n",
    "# without handling factor\n",
    "print(gradetxt)\n",
    "plot(x = gradetxt$V2, y = gradetxt$V4) # Error in plot"
   ]
  },
  {
   "cell_type": "code",
   "execution_count": null,
   "id": "b881014b",
   "metadata": {},
   "outputs": [],
   "source": [
    "# Character type data factor\n",
    "# with handling factor\n",
    "gradetxt$V2 <- factor(gradetxt$V2,\n",
    "                      levels = c(\"Male\", \"Female\")\n",
    "                     )\n",
    "str(gradetxt$V2)\n",
    "table(gradetxt$V2)\n",
    "plot(x = gradetxt$V2, y = gradetxt$V4)"
   ]
  },
  {
   "cell_type": "code",
   "execution_count": null,
   "id": "4ecdfbb0",
   "metadata": {},
   "outputs": [],
   "source": [
    "# Numeric variable factor\n",
    "gradetxt$V3 <- factor(gradetxt$V3,\n",
    "                      levels = c(1,2)\n",
    "                     )\n",
    "str(gradetxt$V3)\n",
    "table(gradetxt$V3)"
   ]
  },
  {
   "cell_type": "code",
   "execution_count": null,
   "id": "a76b9c18",
   "metadata": {},
   "outputs": [],
   "source": [
    "gradetxt$V3 <- factor(gradetxt$V3,\n",
    "                      levels = c(1,2),\n",
    "                      labels = c(\"M\",\"F\")\n",
    "                     )\n",
    "str(gradetxt$V3)\n",
    "table(gradetxt$V3)"
   ]
  },
  {
   "cell_type": "markdown",
   "id": "0803ca0d",
   "metadata": {},
   "source": [
    "[Back to the top](#Table_of_Contents)"
   ]
  },
  {
   "cell_type": "markdown",
   "id": "717bc7f6",
   "metadata": {},
   "source": [
    "<h3>Operator</h3>"
   ]
  },
  {
   "cell_type": "markdown",
   "id": "e52275bc",
   "metadata": {},
   "source": [
    "<li> Arithmetic, Increment and decrement, Assignment operator </li>\n",
    "<li> Comparison, logical, concatenation operator </li>"
   ]
  },
  {
   "cell_type": "markdown",
   "id": "0195cf3c",
   "metadata": {},
   "source": [
    "<h4>Arithmetic_operator</h4>\n",
    "Basic math with scalars"
   ]
  },
  {
   "cell_type": "markdown",
   "id": "37b9ba10",
   "metadata": {},
   "source": [
    "<center><img src=\"img/r_Arithmetic_operator.png\" ></center> "
   ]
  },
  {
   "cell_type": "code",
   "execution_count": null,
   "id": "9262fa1d",
   "metadata": {},
   "outputs": [],
   "source": [
    "# Arithmetic operator\n",
    "tot1 <- 5\n",
    "tot2 <- 10"
   ]
  },
  {
   "cell_type": "code",
   "execution_count": null,
   "id": "d4921dff",
   "metadata": {},
   "outputs": [],
   "source": [
    "# Addition operation\n",
    "tot1 + tot2"
   ]
  },
  {
   "cell_type": "code",
   "execution_count": null,
   "id": "a309682d",
   "metadata": {},
   "outputs": [],
   "source": [
    "# Subtraction operation\n",
    "tot1 - tot2"
   ]
  },
  {
   "cell_type": "code",
   "execution_count": null,
   "id": "e1275d48",
   "metadata": {},
   "outputs": [],
   "source": [
    "# Multiplication operation\n",
    "tot1 * tot2"
   ]
  },
  {
   "cell_type": "code",
   "execution_count": null,
   "id": "cd7a020e",
   "metadata": {},
   "outputs": [],
   "source": [
    "# Division operation\n",
    "tot1 / tot2"
   ]
  },
  {
   "cell_type": "code",
   "execution_count": null,
   "id": "fe0c6b29",
   "metadata": {
    "scrolled": true
   },
   "outputs": [],
   "source": [
    "# Power\n",
    "tot1 ^ tot2"
   ]
  },
  {
   "cell_type": "code",
   "execution_count": null,
   "id": "f92bcb75",
   "metadata": {},
   "outputs": [],
   "source": [
    "3 + 2\n",
    "3 - 2\n",
    "3 / 2\n",
    "3 * 2\n",
    "3 %% 2 # modulus 3 mod 2\n",
    "3^2\n",
    "# You can also use\n",
    "3**2\n",
    "sqrt(3)"
   ]
  },
  {
   "cell_type": "markdown",
   "id": "4a6a1442",
   "metadata": {},
   "source": [
    "<h4>Basic_calculator</h4>\n",
    "Basic calculator"
   ]
  },
  {
   "cell_type": "code",
   "execution_count": null,
   "id": "e4a0e6f0",
   "metadata": {},
   "outputs": [],
   "source": [
    "# Integer division, modulo %/%, %%\n",
    "# Extremes and mean # max(), min(), range(), mean()\n",
    "# Square root # sqrt()\n",
    "# Rounding # round(), ceiling(), floor()\n",
    "# Trigonometric functions # sin(), cos(), tan(), asin(), acos(), atan()\n",
    "# Logarithms # log(), log10(), log2(), exp()\n",
    "# Sum, product # sum(), prod()\n",
    "# Pie # pi\n",
    "# Infinity # Inf, -Inf\n",
    "# Not a Number (Not defined) # NaN\n",
    "# Not Available (Missing values) # NA\n",
    "# Empty set # NULL"
   ]
  },
  {
   "cell_type": "code",
   "execution_count": null,
   "id": "32a9f617",
   "metadata": {},
   "outputs": [],
   "source": [
    "10%/%3 # Integer division, 3 # Integer division is floor\n",
    "10%%3 # Integer modulo, 1"
   ]
  },
  {
   "cell_type": "markdown",
   "id": "d97f1eaa",
   "metadata": {},
   "source": [
    "[Back to the top](#Table_of_Contents)"
   ]
  },
  {
   "cell_type": "markdown",
   "id": "6d7d575d",
   "metadata": {},
   "source": [
    "<h4>Logical operators</h4>\n",
    "The usual logical operators are available as well."
   ]
  },
  {
   "cell_type": "code",
   "execution_count": null,
   "id": "8658b1de",
   "metadata": {},
   "outputs": [],
   "source": [
    "# Comparisons ==, !=, >, <, >=, <=\n",
    "# Constants TRUE, (T), FALSE, (F) and NA\n",
    "# Operators &, &&, |, || (and or), ! (negative), xor() (exclusive or)\n",
    "# vector wise &\n",
    "# NOT vector wise &&"
   ]
  },
  {
   "cell_type": "code",
   "execution_count": null,
   "id": "fd5f93e5",
   "metadata": {},
   "outputs": [],
   "source": [
    "a = c(1, 2, 3)\n",
    "b = c(2, 2, 1)\n",
    "\n",
    "a<b\n",
    "a<=b\n",
    "a>b\n",
    "a!=b\n",
    "a==b\n",
    "FALSE + TRUE + TRUE # assist as numerical value 2\n",
    "60/FALSE # Inf\n",
    "T/F # Inf"
   ]
  },
  {
   "cell_type": "markdown",
   "id": "3379e1c5",
   "metadata": {},
   "source": [
    "You can also combine using and/or."
   ]
  },
  {
   "cell_type": "code",
   "execution_count": null,
   "id": "c5857c09",
   "metadata": {
    "scrolled": true
   },
   "outputs": [],
   "source": [
    "c = c(4, 2, 1)\n",
    "\n",
    "(a==b) & (b==c)\n",
    "\n",
    "(a==b) | (b==c)"
   ]
  },
  {
   "cell_type": "markdown",
   "id": "1031a6d9",
   "metadata": {},
   "source": [
    "Handily (at least I think so) if you try to do math with a vector of TRUE/FALSE, the data are treated as 1/0 (1=TRUE)"
   ]
  },
  {
   "cell_type": "code",
   "execution_count": null,
   "id": "a416bc2e",
   "metadata": {},
   "outputs": [],
   "source": [
    "d = (a==b)\n",
    "2*d"
   ]
  },
  {
   "cell_type": "markdown",
   "id": "b13f3d29",
   "metadata": {},
   "source": [
    "You can use logical operators to pull out parts of a matrix or change the matrix"
   ]
  },
  {
   "cell_type": "code",
   "execution_count": null,
   "id": "211e08c9",
   "metadata": {},
   "outputs": [],
   "source": [
    "a = matrix(1:9, nrow = 3)\n",
    "# Values in a that are larger than 3\n",
    "a[a>3]\n",
    "# Change values larger than 3 to 0\n",
    "a[a>3] = 0\n",
    "a"
   ]
  },
  {
   "cell_type": "code",
   "execution_count": null,
   "id": "dd25d5c1",
   "metadata": {},
   "outputs": [],
   "source": [
    "# any() # Is any element TRUE?\n",
    "# all() # Are all elements TRUE?\n",
    "# is.na() # Check on NAs using is.na()\n",
    "# na.omit() # Remove NAs"
   ]
  },
  {
   "cell_type": "markdown",
   "id": "224d279a",
   "metadata": {},
   "source": [
    "[Back to the top](#Table_of_Contents)"
   ]
  },
  {
   "cell_type": "markdown",
   "id": "d83e71b5",
   "metadata": {},
   "source": [
    "<h2><a id=\"References\"></a>References</h2>"
   ]
  },
  {
   "cell_type": "markdown",
   "id": "4e3bb907",
   "metadata": {},
   "source": [
    "The State of Naming Conventions in R, please refer to the link below: <br>\n",
    "[The State of Naming Conventions in R](https://journal.r-project.org/archive/2012/RJ-2012-018/RJ-2012-018.pdf) <br>"
   ]
  },
  {
   "cell_type": "markdown",
   "id": "38edf27e",
   "metadata": {},
   "source": [
    "Introduction of the Principles of programming with R, please refer to the link below: <br>\n",
    "[Ch01_04.R 설치 및 사용법(프로그래밍 6원칙)04](https://youtu.be/dZpquIDHcOg) <br>\n",
    "[Ch01_05.R 설치 및 사용법(변수선언)05](https://youtu.be/incriCSAMo4) <br>\n",
    "[Ch01_06.R 설치 및 사용법(데이터형)06](https://youtu.be/75UNhUB1l5Y) <br>\n",
    "[Ch01_07.R 설치 및 사용법(산술연산자)07](https://youtu.be/tpNIIqrLv18) <br>\n",
    "[Assigning data to a variable](https://jeanettemumford.org/R-tutorial/01-getting-started/)"
   ]
  },
  {
   "cell_type": "markdown",
   "id": "1c2e6cd7",
   "metadata": {},
   "source": [
    "Introduction of the Comment <br>\n",
    "[[R] 주석 처리 방법](http://triki.net/prgm/3057)"
   ]
  },
  {
   "cell_type": "markdown",
   "id": "9d570f65",
   "metadata": {},
   "source": [
    "Variables c function, seq function - RDocumentation <br>\n",
    "[c: Combine Values into a Vector or List](https://www.rdocumentation.org/packages/base/versions/3.6.2/topics/c) <br>\n",
    "[seq: Sequence Generation](https://www.rdocumentation.org/packages/base/versions/3.6.2/topics/seq) <br>\n",
    "[R 프로그래밍 기초 강의 3일만에 끝내기:3장-1 인트로, 변수란?[R 프로그램,R 언어]](https://youtu.be/Vy0Z_dKvwvI) <br>"
   ]
  }
 ],
 "metadata": {
  "kernelspec": {
   "display_name": "R",
   "language": "R",
   "name": "ir"
  },
  "language_info": {
   "codemirror_mode": "r",
   "file_extension": ".r",
   "mimetype": "text/x-r-source",
   "name": "R",
   "pygments_lexer": "r",
   "version": "3.6.1"
  },
  "toc-autonumbering": true,
  "toc-showmarkdowntxt": false
 },
 "nbformat": 4,
 "nbformat_minor": 5
}
