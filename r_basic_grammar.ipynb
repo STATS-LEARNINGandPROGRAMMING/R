{
 "cells": [
  {
   "cell_type": "markdown",
   "id": "69888d3f-92f8-4e03-b6ed-fda974a78dea",
   "metadata": {},
   "source": [
    "<h2>Table_of_Contents</h2>"
   ]
  },
  {
   "cell_type": "markdown",
   "id": "f1d889a8-1ee1-4ec9-ba68-f0085045153d",
   "metadata": {},
   "source": [
    "- [R basic grammar](#R_basic_grammar)\n",
    "    - [Variable](#Variable)\n",
    "        - [Writing comments](#Writing_comments)\n",
    "        - [Variable assignment](#Variable_assignment)\n",
    "        - [Rules for naming variables](#Rules_for_naming_variables)\n",
    "        - [Variable assignment](#Variable_assignment)\n",
    "    - [Data type](#Data_type)\n",
    "        - [Numeric data](#Numeric_data)\n",
    "        - [Character data](#Character_data)\n",
    "        - [Logical data](#Logical_data)\n",
    "    - [Operator](#Operator)\n",
    "        - [Arithmetic operator](#Arithmetic_operator)\n",
    "    - [Structural programming](#Structural_programming)\n",
    "        - [Concatenate](#Concatenate)\n",
    "        - [Conditional](#Conditional)\n",
    "        - [Loop](#Loop)\n",
    "    - [Function](#Function)\n",
    "- [References](#References)"
   ]
  },
  {
   "cell_type": "markdown",
   "id": "096476ac-7841-41b2-8a39-84b27aafd053",
   "metadata": {},
   "source": [
    "<h2>R_basic_grammar</h2>"
   ]
  },
  {
   "cell_type": "markdown",
   "id": "84e1702f-a645-4c09-96ba-fc4afd94d9ef",
   "metadata": {},
   "source": [
    "<h3>Variable</h3>\n",
    "Syntax, Indentation"
   ]
  },
  {
   "cell_type": "markdown",
   "id": "f55d3521-e0f3-4644-af73-7098daa10536",
   "metadata": {},
   "source": [
    "<h4>Writing_comments</h4>"
   ]
  },
  {
   "cell_type": "markdown",
   "id": "641f09a1-a66e-45e6-ba91-69bbef6e3655",
   "metadata": {},
   "source": [
    "1. One line comment"
   ]
  },
  {
   "cell_type": "code",
   "execution_count": 1,
   "id": "57cdaba7-15a9-4f6c-bed2-6d8ab5d049cf",
   "metadata": {},
   "outputs": [],
   "source": [
    "# In RStudio, Simply press the shortcut Ctrl + Shift + c to comment."
   ]
  },
  {
   "cell_type": "markdown",
   "id": "5f5f1048-c0d7-43f5-9b1a-e09c39938bf6",
   "metadata": {},
   "source": [
    "2. Multiline comment"
   ]
  },
  {
   "cell_type": "code",
   "execution_count": 2,
   "id": "a0734fab-b43a-439b-82be-5d0ed2975dd1",
   "metadata": {},
   "outputs": [],
   "source": [
    "Comment1 = \"\n",
    "    Create a variable that you don't want to use \n",
    "    and put a comment there.\n",
    "    It doesn't matter if that variable isn't used\n",
    "    in the actual process.\n",
    "\""
   ]
  },
  {
   "cell_type": "markdown",
   "id": "34908bf4-9299-4608-84b0-72bb17e19426",
   "metadata": {},
   "source": [
    "[Back to the top](#Table_of_Contents)"
   ]
  },
  {
   "cell_type": "markdown",
   "id": "9e808aef-a265-4d22-be8d-26b7440fe400",
   "metadata": {},
   "source": [
    "<h4>Variable_assignment</h4>"
   ]
  },
  {
   "cell_type": "code",
   "execution_count": 11,
   "id": "3f173aa1-31e2-40af-9b5f-fa56f053fbb2",
   "metadata": {},
   "outputs": [
    {
     "data": {
      "text/html": [
       "0"
      ],
      "text/latex": [
       "0"
      ],
      "text/markdown": [
       "0"
      ],
      "text/plain": [
       "[1] 0"
      ]
     },
     "metadata": {},
     "output_type": "display_data"
    }
   ],
   "source": [
    "# there are two ways to assign the variable\n",
    "variableName <- 0 # assign the value using <-\n",
    "variableName"
   ]
  },
  {
   "cell_type": "code",
   "execution_count": 12,
   "id": "5f1005d8-d4ba-4098-b1bd-5ac55c89f07e",
   "metadata": {},
   "outputs": [
    {
     "data": {
      "text/html": [
       "1"
      ],
      "text/latex": [
       "1"
      ],
      "text/markdown": [
       "1"
      ],
      "text/plain": [
       "[1] 1"
      ]
     },
     "metadata": {},
     "output_type": "display_data"
    }
   ],
   "source": [
    "variableName = 1 # assign the value using = \n",
    "variableName"
   ]
  },
  {
   "cell_type": "code",
   "execution_count": 3,
   "id": "5550f3c3-2f74-4123-9578-902bb2f1e2b6",
   "metadata": {},
   "outputs": [
    {
     "name": "stdout",
     "output_type": "stream",
     "text": [
      "[1] 1 2 5 7 8\n",
      "[1] 1 2 3 4 5\n"
     ]
    }
   ],
   "source": [
    "# c: Combine Values into a Vector or List\n",
    "var1 <- c(1,2,5,7,8)\n",
    "print(var1)\n",
    "\n",
    "var2 <- c(1:5)\n",
    "print(var2)"
   ]
  },
  {
   "cell_type": "code",
   "execution_count": 4,
   "id": "b5e39f4b-47de-4154-a54c-d71df67ed6aa",
   "metadata": {},
   "outputs": [
    {
     "name": "stdout",
     "output_type": "stream",
     "text": [
      "[1] 1 2 3 4 5\n",
      "[1] 1 3 5 7 9\n",
      "[1]  1  4  7 10\n"
     ]
    }
   ],
   "source": [
    "# seq: Sequence Generation\n",
    "# Create var3 with continuous values from 1 to 5\n",
    "var3 <- seq(1,5)\n",
    "print(var3)\n",
    "# Create var4 with 2 consecutive values from 1 to 10\n",
    "var4 <- seq(1, 10, by = 2)\n",
    "print(var4)\n",
    "# Generate var5 with 3 consecutive values from 1 to 10\n",
    "var5 <- seq(1, 10, by = 3)\n",
    "print(var5)"
   ]
  },
  {
   "cell_type": "markdown",
   "id": "f3d1fa33-cf4a-40b8-b6be-9619fa5a1de9",
   "metadata": {},
   "source": [
    "[Back to the top](#Table_of_Contents)"
   ]
  },
  {
   "cell_type": "markdown",
   "id": "6db5d0c5-70ed-405b-90bc-4cc1fa189379",
   "metadata": {},
   "source": [
    "<h4>Rules_for_naming_variables</h4>"
   ]
  },
  {
   "cell_type": "code",
   "execution_count": 4,
   "id": "fde02f56-53da-4ca7-a9c6-b2a419e91d44",
   "metadata": {},
   "outputs": [
    {
     "name": "stderr",
     "output_type": "stream",
     "text": [
      "Your code contains a unicode char which cannot be displayed in your\n",
      "current locale and R will silently convert it to an escaped form when the\n",
      "R kernel executes this code. This can lead to subtle errors if you use\n",
      "such chars to do comparisons. For more information, please see\n",
      "https://github.com/IRkernel/repr/wiki/Problems-with-unicode-on-windows"
     ]
    }
   ],
   "source": [
    "Rules_for_naming_variables = \"\n",
    "    * exclude #\n",
    "    * 첫 문자를 영문자로 시작해서 영문 대문자(A~Z)와 소문자(a~z),\n",
    "      숫자(0~9), 밑줄(_)을 사용하여 작성\n",
    "    * 특수기호(!, @, # ...)는 사용할 수 없음\n",
    "    * 미리 정해진 예약어(var, if, for ...)는 사용할 수 없음\n",
    "    * 대/소문자를 구분\n",
    "    * 변수의 값이 무엇을 나타내는지 쉽게 표기\n",
    "\""
   ]
  },
  {
   "cell_type": "markdown",
   "id": "d1948223-23d2-416f-a7cd-571f5f1aba5d",
   "metadata": {},
   "source": [
    "[Back to the top](#Table_of_Contents)"
   ]
  },
  {
   "cell_type": "markdown",
   "id": "6c1782c7-b804-4a58-80cb-9e000653c019",
   "metadata": {},
   "source": [
    "<h4>Variable_assignment</h4>"
   ]
  },
  {
   "cell_type": "code",
   "execution_count": 7,
   "id": "5cbc66dd-8d65-4c0e-8646-a1a79d536118",
   "metadata": {},
   "outputs": [
    {
     "data": {
      "text/html": [
       "5"
      ],
      "text/latex": [
       "5"
      ],
      "text/markdown": [
       "5"
      ],
      "text/plain": [
       "[1] 5"
      ]
     },
     "metadata": {},
     "output_type": "display_data"
    }
   ],
   "source": [
    "# variable assignment\n",
    "tot1<-5\n",
    "tot1"
   ]
  },
  {
   "cell_type": "code",
   "execution_count": 8,
   "id": "84c2f48e-5371-48a7-9ac1-00d7b8ffdcaf",
   "metadata": {},
   "outputs": [
    {
     "data": {
      "text/html": [
       "10"
      ],
      "text/latex": [
       "10"
      ],
      "text/markdown": [
       "10"
      ],
      "text/plain": [
       "[1] 10"
      ]
     },
     "metadata": {},
     "output_type": "display_data"
    }
   ],
   "source": [
    "tot2=10\n",
    "tot2"
   ]
  },
  {
   "cell_type": "code",
   "execution_count": 9,
   "id": "be8bf8c3-cd44-4e7d-8912-9b53fcffefe6",
   "metadata": {},
   "outputs": [
    {
     "data": {
      "text/html": [
       "15"
      ],
      "text/latex": [
       "15"
      ],
      "text/markdown": [
       "15"
      ],
      "text/plain": [
       "[1] 15"
      ]
     },
     "metadata": {},
     "output_type": "display_data"
    }
   ],
   "source": [
    "tot2=tot1 + tot2\n",
    "tot2"
   ]
  },
  {
   "cell_type": "code",
   "execution_count": 6,
   "id": "652c6a5d-415c-4a05-b0a1-691ebfef85c0",
   "metadata": {},
   "outputs": [
    {
     "ename": "ERROR",
     "evalue": "Error in parse(text = x, srcfile = src): <text>:1:2: unexpected symbol\n1: 1tot\n     ^\n",
     "output_type": "error",
     "traceback": [
      "Error in parse(text = x, srcfile = src): <text>:1:2: unexpected symbol\n1: 1tot\n     ^\nTraceback:\n"
     ]
    }
   ],
   "source": [
    "1tot"
   ]
  },
  {
   "cell_type": "markdown",
   "id": "0c3715c9-95f2-4c19-ad6f-171a062529a2",
   "metadata": {},
   "source": [
    "[Back to the top](#Table_of_Contents)"
   ]
  },
  {
   "cell_type": "markdown",
   "id": "71f7e67b-1ffc-4f40-824e-583aa4fcdf09",
   "metadata": {},
   "source": [
    "<h3>Data_type</h3>"
   ]
  },
  {
   "cell_type": "markdown",
   "id": "24085566-f81a-406f-a74c-e614b24ca032",
   "metadata": {},
   "source": [
    "numeric : (1,2,3)<br>\n",
    "<li>integer</li>\n",
    "<li>double</li>\n",
    "character : (\"character\")<br>\n",
    "logical : TRUE(T), FALSE(F) <br>\n",
    "NULL <br>\n",
    "NA : missing value"
   ]
  },
  {
   "cell_type": "markdown",
   "id": "599992c8-d28f-4b87-9c8c-9c29515753b2",
   "metadata": {},
   "source": [
    "<h4>Numeric_data</h4>"
   ]
  },
  {
   "cell_type": "code",
   "execution_count": 9,
   "id": "c8721b14-f297-4dba-a088-8d19b995da98",
   "metadata": {},
   "outputs": [
    {
     "data": {
      "text/html": [
       "<ol class=list-inline>\n",
       "\t<li>1</li>\n",
       "\t<li>2</li>\n",
       "\t<li>3</li>\n",
       "\t<li>4</li>\n",
       "\t<li>5</li>\n",
       "</ol>\n"
      ],
      "text/latex": [
       "\\begin{enumerate*}\n",
       "\\item 1\n",
       "\\item 2\n",
       "\\item 3\n",
       "\\item 4\n",
       "\\item 5\n",
       "\\end{enumerate*}\n"
      ],
      "text/markdown": [
       "1. 1\n",
       "2. 2\n",
       "3. 3\n",
       "4. 4\n",
       "5. 5\n",
       "\n",
       "\n"
      ],
      "text/plain": [
       "[1] 1 2 3 4 5"
      ]
     },
     "metadata": {},
     "output_type": "display_data"
    },
    {
     "data": {
      "text/html": [
       "'numeric'"
      ],
      "text/latex": [
       "'numeric'"
      ],
      "text/markdown": [
       "'numeric'"
      ],
      "text/plain": [
       "[1] \"numeric\""
      ]
     },
     "metadata": {},
     "output_type": "display_data"
    },
    {
     "data": {
      "text/html": [
       "'double'"
      ],
      "text/latex": [
       "'double'"
      ],
      "text/markdown": [
       "'double'"
      ],
      "text/plain": [
       "[1] \"double\""
      ]
     },
     "metadata": {},
     "output_type": "display_data"
    }
   ],
   "source": [
    "# Data: numeric (1,2,3)\n",
    "num1 <- c(1, 2, 3, 4, 5)\n",
    "num1\n",
    "mode(num1)\n",
    "typeof(num1)"
   ]
  },
  {
   "cell_type": "markdown",
   "id": "602aa1d5-1059-4b21-9c6e-8253e7fc7a71",
   "metadata": {},
   "source": [
    "[Back to the top](#Table_of_Contents)"
   ]
  },
  {
   "cell_type": "markdown",
   "id": "557e5443-8693-4ea5-8eee-54af02979526",
   "metadata": {},
   "source": [
    "<h4>Character_data</h4>"
   ]
  },
  {
   "cell_type": "code",
   "execution_count": 11,
   "id": "d49e3cdb-5a6b-47a3-a8e0-5e11b5d2ca55",
   "metadata": {},
   "outputs": [
    {
     "data": {
      "text/html": [
       "<ol class=list-inline>\n",
       "\t<li>'male'</li>\n",
       "\t<li>'female'</li>\n",
       "</ol>\n"
      ],
      "text/latex": [
       "\\begin{enumerate*}\n",
       "\\item 'male'\n",
       "\\item 'female'\n",
       "\\end{enumerate*}\n"
      ],
      "text/markdown": [
       "1. 'male'\n",
       "2. 'female'\n",
       "\n",
       "\n"
      ],
      "text/plain": [
       "[1] \"male\"   \"female\""
      ]
     },
     "metadata": {},
     "output_type": "display_data"
    },
    {
     "data": {
      "text/html": [
       "'character'"
      ],
      "text/latex": [
       "'character'"
      ],
      "text/markdown": [
       "'character'"
      ],
      "text/plain": [
       "[1] \"character\""
      ]
     },
     "metadata": {},
     "output_type": "display_data"
    },
    {
     "data": {
      "text/html": [
       "'character'"
      ],
      "text/latex": [
       "'character'"
      ],
      "text/markdown": [
       "'character'"
      ],
      "text/plain": [
       "[1] \"character\""
      ]
     },
     "metadata": {},
     "output_type": "display_data"
    }
   ],
   "source": [
    "# Data: character (\"English\")\n",
    "char1 <- c(\"male\", \"female\") # concatenate\n",
    "char1\n",
    "mode(char1)\n",
    "typeof(char1)"
   ]
  },
  {
   "cell_type": "markdown",
   "id": "d6da9238-64ac-4612-bcb8-6f28ff4323e0",
   "metadata": {},
   "source": [
    "[Back to the top](#Table_of_Contents)"
   ]
  },
  {
   "cell_type": "markdown",
   "id": "dcdabbb2-f85c-4033-bd4c-6920061e7a9d",
   "metadata": {},
   "source": [
    "<h4>Logical_data</h4>"
   ]
  },
  {
   "cell_type": "code",
   "execution_count": 1,
   "id": "e980f976-997c-4447-9fc0-58f45826e47a",
   "metadata": {},
   "outputs": [
    {
     "data": {
      "text/html": [
       "<ol class=list-inline>\n",
       "\t<li>TRUE</li>\n",
       "\t<li>FALSE</li>\n",
       "\t<li>FALSE</li>\n",
       "\t<li>TRUE</li>\n",
       "</ol>\n"
      ],
      "text/latex": [
       "\\begin{enumerate*}\n",
       "\\item TRUE\n",
       "\\item FALSE\n",
       "\\item FALSE\n",
       "\\item TRUE\n",
       "\\end{enumerate*}\n"
      ],
      "text/markdown": [
       "1. TRUE\n",
       "2. FALSE\n",
       "3. FALSE\n",
       "4. TRUE\n",
       "\n",
       "\n"
      ],
      "text/plain": [
       "[1]  TRUE FALSE FALSE  TRUE"
      ]
     },
     "metadata": {},
     "output_type": "display_data"
    }
   ],
   "source": [
    "c(TRUE, FALSE, FALSE, TRUE)"
   ]
  },
  {
   "cell_type": "markdown",
   "id": "669517c9-5a50-4a6f-8ff8-4c4c68167f11",
   "metadata": {},
   "source": [
    "[Back to the top](#Table_of_Contents)"
   ]
  },
  {
   "cell_type": "markdown",
   "id": "0c6185f0-2224-42c5-8f57-2f6a58873c22",
   "metadata": {},
   "source": [
    "<h3>Operator</h3>"
   ]
  },
  {
   "cell_type": "markdown",
   "id": "f47c8455-b626-48bd-864d-0b2ac3183007",
   "metadata": {},
   "source": [
    "<li> Arithmetic, Increment and decrement, Assignment operator </li>\n",
    "<li> Comparison, logical, concatenation operator </li>"
   ]
  },
  {
   "cell_type": "markdown",
   "id": "ef081025-1aac-4935-8eb4-7bb789abefdd",
   "metadata": {},
   "source": [
    "<h4>Arithmetic_operator</h4>"
   ]
  },
  {
   "cell_type": "markdown",
   "id": "24620d14-bbc8-4bb0-a7d2-1e6a73187801",
   "metadata": {},
   "source": [
    "<center><img src=\"img/r_Arithmetic_operator.png\" ></center> "
   ]
  },
  {
   "cell_type": "code",
   "execution_count": 12,
   "id": "0cc203d5-a6c4-493a-86c5-dbba4a489380",
   "metadata": {},
   "outputs": [],
   "source": [
    "# Arithmetic operator\n",
    "tot1 <- 5\n",
    "tot2 <- 10"
   ]
  },
  {
   "cell_type": "code",
   "execution_count": 13,
   "id": "a3642317-91aa-40bd-a004-b794023a5413",
   "metadata": {},
   "outputs": [
    {
     "data": {
      "text/html": [
       "15"
      ],
      "text/latex": [
       "15"
      ],
      "text/markdown": [
       "15"
      ],
      "text/plain": [
       "[1] 15"
      ]
     },
     "metadata": {},
     "output_type": "display_data"
    }
   ],
   "source": [
    "# Addition operation\n",
    "tot1 + tot2"
   ]
  },
  {
   "cell_type": "code",
   "execution_count": 14,
   "id": "2f4682cc-d525-42c7-bf26-9c2b765541d9",
   "metadata": {},
   "outputs": [
    {
     "data": {
      "text/html": [
       "-5"
      ],
      "text/latex": [
       "-5"
      ],
      "text/markdown": [
       "-5"
      ],
      "text/plain": [
       "[1] -5"
      ]
     },
     "metadata": {},
     "output_type": "display_data"
    }
   ],
   "source": [
    "# Subtraction operation\n",
    "tot1 - tot2"
   ]
  },
  {
   "cell_type": "code",
   "execution_count": 15,
   "id": "285d8cc6-2372-4520-8db3-f092dd17bcfe",
   "metadata": {},
   "outputs": [
    {
     "data": {
      "text/html": [
       "50"
      ],
      "text/latex": [
       "50"
      ],
      "text/markdown": [
       "50"
      ],
      "text/plain": [
       "[1] 50"
      ]
     },
     "metadata": {},
     "output_type": "display_data"
    }
   ],
   "source": [
    "# Multiplication operation\n",
    "tot1 * tot2"
   ]
  },
  {
   "cell_type": "code",
   "execution_count": 16,
   "id": "5336d666-88d0-41cf-8ab1-0d1e03749939",
   "metadata": {},
   "outputs": [
    {
     "data": {
      "text/html": [
       "0.5"
      ],
      "text/latex": [
       "0.5"
      ],
      "text/markdown": [
       "0.5"
      ],
      "text/plain": [
       "[1] 0.5"
      ]
     },
     "metadata": {},
     "output_type": "display_data"
    }
   ],
   "source": [
    "# Division operation\n",
    "tot1 / tot2"
   ]
  },
  {
   "cell_type": "code",
   "execution_count": 17,
   "id": "17776e2f-29a1-4fac-a4ac-8e9b0e18ba50",
   "metadata": {},
   "outputs": [
    {
     "data": {
      "text/html": [
       "9765625"
      ],
      "text/latex": [
       "9765625"
      ],
      "text/markdown": [
       "9765625"
      ],
      "text/plain": [
       "[1] 9765625"
      ]
     },
     "metadata": {},
     "output_type": "display_data"
    }
   ],
   "source": [
    "# Power\n",
    "tot1 ^ tot2"
   ]
  },
  {
   "cell_type": "markdown",
   "id": "383fd3c6-6619-47ac-8d44-1498afbd1669",
   "metadata": {},
   "source": [
    "[Back to the top](#Table_of_Contents)"
   ]
  },
  {
   "cell_type": "markdown",
   "id": "cee8d293-a450-4051-8939-e94638f8e7f4",
   "metadata": {},
   "source": [
    "<h3>Structural_programming</h3>"
   ]
  },
  {
   "cell_type": "markdown",
   "id": "0323a89e-b04d-4d8b-b35e-2aae7a8d2a69",
   "metadata": {},
   "source": [
    "<h4>Concatenate</h4>"
   ]
  },
  {
   "cell_type": "markdown",
   "id": "1838b20d-5796-4aba-b7b7-86d03f804c33",
   "metadata": {},
   "source": [
    "<h4>Conditional</h4>"
   ]
  },
  {
   "cell_type": "markdown",
   "id": "fc854312-a9d7-4d67-8f6a-445604dbf64f",
   "metadata": {},
   "source": [
    "<li> if </li>\n",
    "<li> switch </li>"
   ]
  },
  {
   "cell_type": "markdown",
   "id": "986a5e17-33a4-4ae7-8e81-87da3b24700c",
   "metadata": {},
   "source": [
    "<h4>Loop</h4>"
   ]
  },
  {
   "cell_type": "markdown",
   "id": "d87f6fa2-8116-4462-a62d-69f0607e02ec",
   "metadata": {},
   "source": [
    "<li> for </li>\n",
    "<li> while </li>"
   ]
  },
  {
   "cell_type": "markdown",
   "id": "453755ae-39ce-4fb9-8cdf-7bdf4a485b78",
   "metadata": {},
   "source": [
    "[Back to the top](#Table_of_Contents)"
   ]
  },
  {
   "cell_type": "markdown",
   "id": "3e638184-4762-454d-b5ef-f0581beb4661",
   "metadata": {},
   "source": [
    "<h3>Function</h3>"
   ]
  },
  {
   "cell_type": "markdown",
   "id": "0ca473b1-e49a-48b5-a9d4-0a4cf63acad4",
   "metadata": {},
   "source": [
    "function"
   ]
  },
  {
   "cell_type": "markdown",
   "id": "b96f79f8-7e3e-460b-a1b7-44a761090bb7",
   "metadata": {},
   "source": [
    "[Back to the top](#Table_of_Contents)"
   ]
  },
  {
   "cell_type": "markdown",
   "id": "87b1a1ff-e4b7-4807-be00-5a3eaebbe86a",
   "metadata": {},
   "source": [
    "<h2><a id=\"References\"></a>References</h2>"
   ]
  },
  {
   "cell_type": "markdown",
   "id": "1500b99f-cc3e-448d-8c54-cb558c05c633",
   "metadata": {},
   "source": [
    "The State of Naming Conventions in R, please refer to the link below: <br>\n",
    "[The State of Naming Conventions in R](https://journal.r-project.org/archive/2012/RJ-2012-018/RJ-2012-018.pdf) <br>"
   ]
  },
  {
   "cell_type": "markdown",
   "id": "628085ba-da02-4a9b-9344-663653b09091",
   "metadata": {},
   "source": [
    "Introduction of the Principles of programming with R, please refer to the link below: <br>\n",
    "[Ch01_04.R 설치 및 사용법(프로그래밍 6원칙)04](https://youtu.be/dZpquIDHcOg) <br>\n",
    "[Ch01_05.R 설치 및 사용법(변수선언)05](https://youtu.be/incriCSAMo4) <br>\n",
    "[Ch01_06.R 설치 및 사용법(데이터형)06](https://youtu.be/75UNhUB1l5Y) <br>\n",
    "[Ch01_07.R 설치 및 사용법(산술연산자)07](https://youtu.be/tpNIIqrLv18) <br>"
   ]
  },
  {
   "cell_type": "markdown",
   "id": "646e736b-97e9-4f87-82ce-c2aaec488661",
   "metadata": {},
   "source": [
    "Introduction of the Comment <br>\n",
    "[[R] 주석 처리 방법](http://triki.net/prgm/3057)"
   ]
  },
  {
   "cell_type": "markdown",
   "id": "d6ef9ae5-735c-408a-9ea9-1f69119a59c1",
   "metadata": {},
   "source": [
    "Variables c function, seq function - RDocumentation <br>\n",
    "[c: Combine Values into a Vector or List](https://www.rdocumentation.org/packages/base/versions/3.6.2/topics/c) <br>\n",
    "[seq: Sequence Generation](https://www.rdocumentation.org/packages/base/versions/3.6.2/topics/seq) <br>\n",
    "[R 프로그래밍 기초 강의 3일만에 끝내기:3장-1 인트로, 변수란?[R 프로그램,R 언어]](https://youtu.be/Vy0Z_dKvwvI) <br>"
   ]
  },
  {
   "cell_type": "code",
   "execution_count": null,
   "id": "1a483398-5efd-4ac3-aae1-efba5d7570ba",
   "metadata": {},
   "outputs": [],
   "source": []
  }
 ],
 "metadata": {
  "kernelspec": {
   "display_name": "R",
   "language": "R",
   "name": "ir"
  },
  "language_info": {
   "codemirror_mode": "r",
   "file_extension": ".r",
   "mimetype": "text/x-r-source",
   "name": "R",
   "pygments_lexer": "r",
   "version": "3.6.1"
  },
  "toc-autonumbering": true,
  "toc-showmarkdowntxt": false
 },
 "nbformat": 4,
 "nbformat_minor": 5
}
