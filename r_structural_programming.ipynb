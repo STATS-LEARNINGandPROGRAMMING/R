{
 "cells": [
  {
   "cell_type": "markdown",
   "id": "f08cba74",
   "metadata": {},
   "source": [
    "<h2>Table_of_Contents</h2>"
   ]
  },
  {
   "cell_type": "markdown",
   "id": "7f3e2f5f",
   "metadata": {},
   "source": [
    "- [R structural programming](#R_structural_programming)\n",
    "    - [Help!](#Help!)    \n",
    "    - [Function](#Function)\n",
    "    - [Structural programming](#Structural_programming)\n",
    "        - [Concatenate](#Concatenate)\n",
    "        - [Conditional](#Conditional)\n",
    "        - [Loop](#Loop)\n",
    "- [References](#References)"
   ]
  },
  {
   "cell_type": "markdown",
   "id": "63272876",
   "metadata": {},
   "source": [
    "<h2>R_structural_programming</h2>"
   ]
  },
  {
   "cell_type": "markdown",
   "id": "3744139e",
   "metadata": {},
   "source": [
    "<h3>Help!</h3>"
   ]
  },
  {
   "cell_type": "code",
   "execution_count": null,
   "id": "c5dfe167",
   "metadata": {},
   "outputs": [],
   "source": [
    "# In RStudio\n",
    "help.start() # Start the help system in a browser\n",
    "help(\"plot\") # Help on a function plot\n",
    "help(\"?\") # Help on help\n",
    "?min() # Help on min() Navigate to documentation"
   ]
  },
  {
   "cell_type": "markdown",
   "id": "14d0eddf",
   "metadata": {},
   "source": [
    "[Back to the top](#Table_of_Contents)"
   ]
  },
  {
   "cell_type": "markdown",
   "id": "ee2f0601",
   "metadata": {},
   "source": [
    "<h3>Function</h3>\n",
    "Functions are also useful if you’re looking to do something using the apply() function that doesn’t have a function to apply already. For example, if I want to run a regression over 10,000 voxels and save the p-value, I can create a function that spits out p-values and then use that with apply to run all of my 10,000 models at once! It is a bit faster than looping. First, let’s look at a simple example. Note that lists are often used to pass information out of the function using the return() function."
   ]
  },
  {
   "cell_type": "markdown",
   "id": "626f6dfc",
   "metadata": {},
   "source": [
    "A function call separated arguments within parentheses: <br>\n",
    " <i>function(argument1 = value1, argument2 = value2, etc.)</i>"
   ]
  },
  {
   "cell_type": "code",
   "execution_count": 1,
   "id": "1adbc09a",
   "metadata": {},
   "outputs": [
    {
     "data": {
      "text/html": [
       "TRUE"
      ],
      "text/latex": [
       "TRUE"
      ],
      "text/markdown": [
       "TRUE"
      ],
      "text/plain": [
       "[1] TRUE"
      ]
     },
     "metadata": {},
     "output_type": "display_data"
    },
    {
     "data": {
      "text/html": [
       "FALSE"
      ],
      "text/latex": [
       "FALSE"
      ],
      "text/markdown": [
       "FALSE"
      ],
      "text/plain": [
       "[1] FALSE"
      ]
     },
     "metadata": {},
     "output_type": "display_data"
    }
   ],
   "source": [
    "# Simple function that determines if a number is odd\n",
    "\n",
    "isodd = function(input){\n",
    "  output = input%%2  # modulo operation from earlier\n",
    "  result = output == 1\n",
    "  return(result)\n",
    "}\n",
    "isodd(5)\n",
    "isodd(6)"
   ]
  },
  {
   "cell_type": "markdown",
   "id": "99d7c7b4",
   "metadata": {},
   "source": [
    "Here’s an example with two input and two values output"
   ]
  },
  {
   "cell_type": "code",
   "execution_count": null,
   "id": "35ff63e8",
   "metadata": {},
   "outputs": [],
   "source": [
    "sumprod = function(val1, val2){\n",
    "  sumvals = val1 + val2\n",
    "  prodvals = val1*val2\n",
    "  result = list()\n",
    "  result$sumvals = sumvals\n",
    "  result$prodvals = prodvals\n",
    "  return(result)\n",
    "}\n",
    "sumprod(1, 5)\n",
    "sumprod(4, 10)"
   ]
  },
  {
   "cell_type": "markdown",
   "id": "e8892ec6",
   "metadata": {},
   "source": [
    "One thing to be very careful about with functions is that although they are set up to take in variables to do something locally and then pass this back out to the global environment, it can (unfortunately) also use global variables. In other words, if you already defined x in your R session and you refer to x within your function, the function will work if you forget to feed it in."
   ]
  },
  {
   "cell_type": "code",
   "execution_count": null,
   "id": "db1bfea5",
   "metadata": {},
   "outputs": [],
   "source": [
    "x = 5\n",
    "junkFunction = function(a, b){\n",
    "  ax = a*x\n",
    "  bx = b*x\n",
    "  result = list()\n",
    "  result$ax = ax\n",
    "  result$bx = bx\n",
    "  return(result)\n",
    "}\n",
    "# Even though x isn't fed in, the function grabs it from the global environment.  BE CAREFUL!!\n",
    "junkFunction(3, 4)"
   ]
  },
  {
   "cell_type": "markdown",
   "id": "0f6dc8f5",
   "metadata": {},
   "source": [
    "[Back to the top](#Table_of_Contents)"
   ]
  },
  {
   "cell_type": "markdown",
   "id": "5e013eef",
   "metadata": {},
   "source": [
    "<h3>Structural_programming</h3>"
   ]
  },
  {
   "cell_type": "markdown",
   "id": "e07809b5",
   "metadata": {},
   "source": [
    "<h4>Concatenate</h4>"
   ]
  },
  {
   "cell_type": "markdown",
   "id": "742c621b",
   "metadata": {},
   "source": [
    "[Back to the top](#Table_of_Contents)"
   ]
  },
  {
   "cell_type": "markdown",
   "id": "d2b0e78c",
   "metadata": {},
   "source": [
    "<h4>Loop</h4>"
   ]
  },
  {
   "cell_type": "markdown",
   "id": "a3a30d68",
   "metadata": {},
   "source": [
    "* For loops<br>\n",
    "\n",
    "Looping in R has similar structure to other programs. Basically, you can loop through anything: numbers, characters, factors, etc."
   ]
  },
  {
   "cell_type": "code",
   "execution_count": null,
   "id": "0f6c52d4",
   "metadata": {},
   "outputs": [],
   "source": [
    "a = c(\"one\", \"two\", \"three\")\n",
    "for (i in a){\n",
    "  print(i)\n",
    "}\n",
    "\n",
    "a = c(1:3)\n",
    "for (i in a){\n",
    "  print(i)\n",
    "}\n",
    "\n",
    "# Equivalently\n",
    "for (i in 1:3){\n",
    "  print(i)\n",
    "}"
   ]
  },
  {
   "cell_type": "markdown",
   "id": "bff736fa",
   "metadata": {},
   "source": [
    "If you’re building a vector with a for loop, it is better to create an empty vector first and fill it. The following illustrates the two styles and introduces the proc.time() function, which can be used to time procedures in R."
   ]
  },
  {
   "cell_type": "code",
   "execution_count": null,
   "id": "e06f0124",
   "metadata": {},
   "outputs": [],
   "source": [
    "start = proc.time()\n",
    "# Initialize with a vector of 0s\n",
    "vec = rep(0, 10000)\n",
    "for (i in 1:10000){\n",
    "  vec[i] = i\n",
    "}\n",
    "proc.time() - start\n",
    "\n",
    "\n",
    "start = proc.time()\n",
    "# Initialize with an empty vector \n",
    "vec = c()\n",
    "for (i in 1:10000){\n",
    "  #concatenate on each iteration\n",
    "  vec = c(vec, i)\n",
    "}\n",
    "proc.time() - start"
   ]
  },
  {
   "cell_type": "markdown",
   "id": "e7c38784",
   "metadata": {},
   "source": [
    "* While loops\n",
    "\n",
    "While loops are used when you don’t know how long something will take. For example, if I’m randomly generating trial orderings, but I have 3-4 criteria that must be met for that trial order to work in my experiment I use a while loop. For example, no more than 3 trials of the same type in a row, etc."
   ]
  },
  {
   "cell_type": "code",
   "execution_count": null,
   "id": "fbfb6162",
   "metadata": {},
   "outputs": [],
   "source": [
    "# Start simple\n",
    "stop = 10\n",
    "\n",
    "while (stop > 1){\n",
    "  print(stop)\n",
    "  stop = stop -1\n",
    "}"
   ]
  },
  {
   "cell_type": "markdown",
   "id": "7fcf725d",
   "metadata": {},
   "source": [
    "Historically R has been very, very slow at looping and it is often advised to avoid loops when you can. Matrix math tricks can often help, if you’re comfortable with that, but there are also functions that can help cut down on looping. The apply() function is a good example. It allows you to apply an operation along one of the dimensions of an array."
   ]
  },
  {
   "cell_type": "code",
   "execution_count": null,
   "id": "2d071a17",
   "metadata": {},
   "outputs": [],
   "source": [
    "# I'll get row averages\n",
    "a = matrix(c(1:9), nrow = 3)\n",
    "apply(a, 1, mean)\n",
    "# Column averages\n",
    "apply(a, 2, mean)\n",
    "\n",
    "# Standard deviation within each row\n",
    "apply(a, 1, sd)\n",
    "\n",
    "# Works on arrays also.  \n",
    "b = array(c(1:12), c(2, 3, 2))\n",
    "# If I want the sum across the first dimension\n",
    "# then the result is in the 2:3 dimensions\n",
    "apply(b, c(2:3), sum)\n",
    "\n",
    "# If I want the sum within each of the 3rd dimensions\n",
    "apply(b, 3, sum)"
   ]
  },
  {
   "cell_type": "markdown",
   "id": "bf7b3d3a",
   "metadata": {},
   "source": [
    "[Back to the top](#Table_of_Contents)"
   ]
  },
  {
   "cell_type": "markdown",
   "id": "2370328e",
   "metadata": {},
   "source": [
    "<h4>Conditional</h4>"
   ]
  },
  {
   "cell_type": "markdown",
   "id": "5d348520",
   "metadata": {},
   "source": [
    "* if <br>\n",
    "If/else two ways <br>\n",
    "The If/else statement is frequently used in programming and there are a couple of ways to do it in R. The classical style is in the following example."
   ]
  },
  {
   "cell_type": "code",
   "execution_count": null,
   "id": "dd6bdd66",
   "metadata": {},
   "outputs": [],
   "source": [
    "x = -5\n",
    "if(x > 0){\n",
    "   print(\"Non-negative number\")\n",
    "} else {\n",
    "   print(\"Negative number\")\n",
    "}"
   ]
  },
  {
   "cell_type": "markdown",
   "id": "a7fcfaf6",
   "metadata": {},
   "source": [
    "A shortcut for simple if/else statement is the ifelse function"
   ]
  },
  {
   "cell_type": "code",
   "execution_count": null,
   "id": "8d963029",
   "metadata": {},
   "outputs": [],
   "source": [
    "ifelse(x>0, \"Non-negative number\", \"Negative number\")"
   ]
  },
  {
   "cell_type": "markdown",
   "id": "8c8ee6de",
   "metadata": {},
   "source": [
    "The if/else statement can have nesting as well"
   ]
  },
  {
   "cell_type": "code",
   "execution_count": null,
   "id": "b8d88554",
   "metadata": {},
   "outputs": [],
   "source": [
    "if (x < 0) {\n",
    "   print(\"Negative number\")\n",
    "} else if (x > 0) {\n",
    "   print(\"Positive number\")\n",
    "} else {\n",
    "   print(\"Zero\")\n",
    "}"
   ]
  },
  {
   "cell_type": "markdown",
   "id": "98e22352",
   "metadata": {},
   "source": [
    "[Back to the top](#Table_of_Contents)"
   ]
  },
  {
   "cell_type": "markdown",
   "id": "310997a1",
   "metadata": {},
   "source": [
    "* switch"
   ]
  },
  {
   "cell_type": "code",
   "execution_count": null,
   "id": "7fd86129",
   "metadata": {},
   "outputs": [],
   "source": []
  },
  {
   "cell_type": "markdown",
   "id": "e7e70853",
   "metadata": {},
   "source": [
    "[Back to the top](#Table_of_Contents)"
   ]
  },
  {
   "cell_type": "markdown",
   "id": "f78a6fe2",
   "metadata": {},
   "source": [
    "<h2><a id=\"References\"></a>References</h2>"
   ]
  },
  {
   "cell_type": "markdown",
   "id": "0a917ff7",
   "metadata": {},
   "source": [
    "Introduction of the Principles of programming with R, please refer to the link below: <br>\n",
    "[Ch01_04.R 설치 및 사용법(프로그래밍 6원칙)04](https://youtu.be/dZpquIDHcOg) <br>\n",
    "\n",
    "Function <br>\n",
    "[Writing functions](https://jeanettemumford.org/R-tutorial/07-functions/)\n",
    "\n",
    "\n",
    "Structural programming <br>\n",
    "[Loops](https://jeanettemumford.org/R-tutorial/04-loops/)<br>\n",
    "[Decision making](https://jeanettemumford.org/R-tutorial/06-decision-making/)"
   ]
  }
 ],
 "metadata": {
  "kernelspec": {
   "display_name": "R",
   "language": "R",
   "name": "ir"
  },
  "language_info": {
   "codemirror_mode": "r",
   "file_extension": ".r",
   "mimetype": "text/x-r-source",
   "name": "R",
   "pygments_lexer": "r",
   "version": "3.6.1"
  }
 },
 "nbformat": 4,
 "nbformat_minor": 5
}
