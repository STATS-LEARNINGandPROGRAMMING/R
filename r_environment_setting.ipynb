{
 "cells": [
  {
   "cell_type": "markdown",
   "id": "899e10ab",
   "metadata": {},
   "source": [
    "<h2>Table_of_contents</h2>"
   ]
  },
  {
   "cell_type": "markdown",
   "id": "72781c4c",
   "metadata": {},
   "source": [
    "- [Environment setting](#Environment_setting)\n",
    "    - [Install R with RStudio](#Install_R_with_RStudio)\n",
    "        - [Download and install R](#Download_and_install_R)\n",
    "        - [Download RStudio Desktop](#Download_RStudio_Desktop)\n",
    "        - [Tutorial RStudio setting](#Tutorial_RStudio_setting)\n",
    "        - [Tutorial RMarkdown](#Tutorial_RMarkdown)\n",
    "    - [Install R in Conda](#Install_R_in_Conda)\n",
    "        - [Install Conda with Jupyter](#Install_Conda_with_Jupyter)\n",
    "        - [Install Conda with VScode](#Install_Conda_with_VScode)\n",
    "    - [Use R in colab](#Use_R_in_colab)\n",
    "    - [Install Packages](#Install_packages)\n",
    "- [Reference](#Reference)"
   ]
  },
  {
   "cell_type": "markdown",
   "id": "6351a9d3",
   "metadata": {},
   "source": [
    "<h2>Environment_setting</h2>"
   ]
  },
  {
   "cell_type": "markdown",
   "id": "9365a9d6",
   "metadata": {},
   "source": [
    "There are two ways to use R on the local computer: after installing R, through the R Studio IDE, and after installing Conda, use it in jupyter or visual studio code. There are other ways to use R in Google Colab."
   ]
  },
  {
   "cell_type": "markdown",
   "id": "c49d8b99",
   "metadata": {},
   "source": [
    "<i>The future contents will be explained based on the use of a Jupyter notebook in the future for use with Markdown, Python, etc</i>."
   ]
  },
  {
   "cell_type": "markdown",
   "id": "c6033457",
   "metadata": {},
   "source": [
    "<h3>Install_R_with_RStudio</h3>"
   ]
  },
  {
   "cell_type": "markdown",
   "id": "6b800814",
   "metadata": {},
   "source": [
    "<h4>Download_and_install_R</h4>"
   ]
  },
  {
   "cell_type": "markdown",
   "id": "3a4ca1af",
   "metadata": {},
   "source": [
    "R download link: <https://cran.r-project.org/> <br>\n",
    "<center><img src=\"img/r_Download_and_Install_R.png\" ></center> \n",
    "Case: Windows\n",
    "<li> Download R for Windows </li>\n",
    "<li> Click, base Binaries for base distribution. </li>"
   ]
  },
  {
   "cell_type": "markdown",
   "id": "719d3375",
   "metadata": {},
   "source": [
    "[Back to the top](#Table_of_contents)"
   ]
  },
  {
   "cell_type": "markdown",
   "id": "c17c8c16",
   "metadata": {},
   "source": [
    "<h4>Download_RStudio_Desktop</h4>"
   ]
  },
  {
   "cell_type": "markdown",
   "id": "b875fb11",
   "metadata": {},
   "source": [
    "RStudio download link: https://www.rstudio.com/ <br>\n",
    "<center><img src=\"img/r_Download_the_RStudio_IDE.png\" ></center> \n",
    "Case: Windows\n",
    "<li> prerequisite, R installed </li>\n",
    "<li> Click, Free version of the RStudio </li>\n",
    "<li> Download Rstudio Windows </li>"
   ]
  },
  {
   "cell_type": "markdown",
   "id": "81331d99",
   "metadata": {},
   "source": [
    "[Back to the top](#Table_of_contents)"
   ]
  },
  {
   "cell_type": "markdown",
   "id": "c06f59bd",
   "metadata": {},
   "source": [
    "<h4>Tutorial_RStudio_setting</h4>"
   ]
  },
  {
   "cell_type": "code",
   "execution_count": 1,
   "id": "7b9dbf5a",
   "metadata": {},
   "outputs": [],
   "source": [
    "# TBA"
   ]
  },
  {
   "cell_type": "markdown",
   "id": "36f9a6c4",
   "metadata": {},
   "source": [
    "[Back to the top](#Table_of_contents)"
   ]
  },
  {
   "cell_type": "markdown",
   "id": "e0f040c8",
   "metadata": {},
   "source": [
    "<h4>Tutorial_RMarkdown</h4>"
   ]
  },
  {
   "cell_type": "code",
   "execution_count": 2,
   "id": "1d5717f5",
   "metadata": {},
   "outputs": [],
   "source": [
    "# TBA"
   ]
  },
  {
   "cell_type": "markdown",
   "id": "6f1e935a",
   "metadata": {},
   "source": [
    "[Back to the top](#Table_of_contents)"
   ]
  },
  {
   "cell_type": "markdown",
   "id": "ac4cae42",
   "metadata": {},
   "source": [
    "<h3>Install_R_in_Conda</h3>"
   ]
  },
  {
   "cell_type": "markdown",
   "id": "284d9988",
   "metadata": {},
   "source": [
    "You can use R in both jupyter and visual stuido code in Ananconda."
   ]
  },
  {
   "cell_type": "markdown",
   "id": "f53214ba",
   "metadata": {},
   "source": [
    "[Back to the top](#Table_of_contents)"
   ]
  },
  {
   "cell_type": "markdown",
   "id": "851a9b4e",
   "metadata": {},
   "source": [
    "<h4>Install_Conda_with_Jupyter</h4>"
   ]
  },
  {
   "cell_type": "markdown",
   "id": "3bbd71fe",
   "metadata": {},
   "source": [
    "<center><img src=\"img/r_Conda_install.png\" ></center> \n",
    "<li> prerequisite, Conda installed </li>\n",
    "<li> Open the anaconda prompt and type the \"conda install -c r r-essentials\"</li>\n",
    "<li> Then you can use R in the jupyter lab or jupyter notebook</li>\n",
    "<center><img src=\"img/r_Conda_jupyterlab.png\" ></center> "
   ]
  },
  {
   "cell_type": "markdown",
   "id": "940a01ca",
   "metadata": {},
   "source": [
    "[Back to the top](#Table_of_contents)"
   ]
  },
  {
   "cell_type": "markdown",
   "id": "f02bf29a",
   "metadata": {},
   "source": [
    "<h4>Install_Conda_with_VScode</h4>"
   ]
  },
  {
   "cell_type": "code",
   "execution_count": 4,
   "id": "3da4f3e1",
   "metadata": {},
   "outputs": [],
   "source": [
    "# TBA"
   ]
  },
  {
   "cell_type": "markdown",
   "id": "efd4db8f",
   "metadata": {},
   "source": [
    "[Back to the top](#Table_of_contents)"
   ]
  },
  {
   "cell_type": "markdown",
   "id": "8d16b28f",
   "metadata": {},
   "source": [
    "<h3>Use_R_in_colab</h3>"
   ]
  },
  {
   "cell_type": "code",
   "execution_count": 5,
   "id": "97de6a25",
   "metadata": {},
   "outputs": [],
   "source": [
    "# TBA"
   ]
  },
  {
   "cell_type": "markdown",
   "id": "1d5c005f",
   "metadata": {},
   "source": [
    "[Back to the top](#Table_of_contents)"
   ]
  },
  {
   "cell_type": "markdown",
   "id": "b1924a27",
   "metadata": {},
   "source": [
    "<h3>Install_packages</h3>\n",
    "(Rtools, helibrary, ggplot2, data.table ... )"
   ]
  },
  {
   "cell_type": "code",
   "execution_count": 6,
   "id": "1294ee7d",
   "metadata": {},
   "outputs": [],
   "source": [
    "# TBA"
   ]
  },
  {
   "cell_type": "markdown",
   "id": "669468af",
   "metadata": {
    "tags": []
   },
   "source": [
    "[Back to the top](#Table_of_contents)"
   ]
  },
  {
   "cell_type": "markdown",
   "id": "5272ef57",
   "metadata": {},
   "source": [
    "<h2>Reference</h2>"
   ]
  },
  {
   "cell_type": "markdown",
   "id": "1ba28845",
   "metadata": {},
   "source": [
    "For a simple R installation and usage, please refer to the link below: <br>\n",
    "[Ch01_02.R 설치 및 사용법(R프로그램설치)02](https://youtu.be/zfBvEOPk-kE) <br>\n",
    "[Ch01_03.R 설치 및 사용법(프로젝트생성)03](https://youtu.be/UwfeS0KjQOU) <br>\n",
    "[[R 강의]1.R 설치하기](https://youtu.be/esK37_bj8Is) <br>\n",
    "[Installing R and R libraries](https://jeanettemumford.org/R-tutorial/01-getting-started/) <br>\n",
    "[Using R language with Anaconda](https://docs.anaconda.com/anaconda/user-guide/tasks/using-r-language/)"
   ]
  },
  {
   "cell_type": "code",
   "execution_count": null,
   "id": "84b2a3eb",
   "metadata": {},
   "outputs": [],
   "source": []
  }
 ],
 "metadata": {
  "kernelspec": {
   "display_name": "R",
   "language": "R",
   "name": "ir"
  },
  "language_info": {
   "codemirror_mode": "r",
   "file_extension": ".r",
   "mimetype": "text/x-r-source",
   "name": "R",
   "pygments_lexer": "r",
   "version": "3.6.1"
  },
  "toc-autonumbering": false,
  "toc-showcode": false,
  "toc-showmarkdowntxt": true
 },
 "nbformat": 4,
 "nbformat_minor": 5
}
