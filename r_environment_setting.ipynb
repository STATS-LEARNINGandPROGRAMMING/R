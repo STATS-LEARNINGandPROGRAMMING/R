{
 "cells": [
  {
   "cell_type": "markdown",
   "id": "d2651397-71a2-46d3-83f6-43f02ec7c33b",
   "metadata": {},
   "source": [
    "<h2>Table_of_contents</h2>"
   ]
  },
  {
   "cell_type": "markdown",
   "id": "19866895-b4e5-42c4-88c3-babb4cc03120",
   "metadata": {},
   "source": [
    "- [Environment setting](#Environment_setting)\n",
    "    - [Install R with RStudio](#Install_R_with_RStudio)\n",
    "        - [Download and install R](#Download_and_install_R)\n",
    "        - [Download RStudio Desktop](#Download_RStudio_Desktop)\n",
    "        - [Tutorial RStudio setting](#Tutorial_RStudio_setting)\n",
    "        - [Tutorial RMarkdown](#Tutorial_RMarkdown)\n",
    "    - [Install R in Conda](#Install_R_in_Conda)\n",
    "        - [Install Conda with Jupyter](#Install_Conda_with_Jupyter)\n",
    "        - [Install Conda with VScode](#Install_Conda_with_VScode)\n",
    "    - [Use R in colab](#Use_R_in_colab)\n",
    "    - [Install Packages](#Install_packages)\n",
    "- [Reference](#Reference)"
   ]
  },
  {
   "cell_type": "markdown",
   "id": "46912699-4f08-4e82-8752-dacd3a32e0ef",
   "metadata": {},
   "source": [
    "<h2>Environment_setting</h2>"
   ]
  },
  {
   "cell_type": "markdown",
   "id": "eb8a6f86-44b8-4827-96fc-ff61bad259fd",
   "metadata": {},
   "source": [
    "There are two ways to use R on the local computer: after installing R, through the R Studio IDE, and after installing Conda, use it in jupyter or visual studio code. There are other ways to use R in Google Colab."
   ]
  },
  {
   "cell_type": "markdown",
   "id": "99a5b278-81ce-43f7-82a1-058d65deab18",
   "metadata": {},
   "source": [
    "<i>The future contents will be explained based on the use of a Jupyter notebook in the future for use with Markdown, Python, etc</i>."
   ]
  },
  {
   "cell_type": "markdown",
   "id": "fbac7646-3a37-4023-a081-b2df53d4991d",
   "metadata": {},
   "source": [
    "<h3>Install_R_with_RStudio</h3>"
   ]
  },
  {
   "cell_type": "markdown",
   "id": "11c8b135-0f45-4120-954f-186967fbf0ce",
   "metadata": {},
   "source": [
    "<h4>Download_and_install_R</h4>"
   ]
  },
  {
   "cell_type": "markdown",
   "id": "7ceed4a6-da4d-4086-afeb-cbf8997da5b9",
   "metadata": {},
   "source": [
    "R download link: <https://cran.r-project.org/> <br>\n",
    "<center><img src=\"img/r_Download_and_Install_R.png\" ></center> \n",
    "Case: Windows\n",
    "<li> Download R for Windows </li>\n",
    "<li> Click, base Binaries for base distribution. </li>"
   ]
  },
  {
   "cell_type": "markdown",
   "id": "5d4e5928-835b-4824-bc22-1f2d68a496ff",
   "metadata": {},
   "source": [
    "[Back to the top](#Table_of_contents)"
   ]
  },
  {
   "cell_type": "markdown",
   "id": "ce68be7b-739d-49c2-8fab-b824479fe593",
   "metadata": {},
   "source": [
    "<h4>Download_RStudio_Desktop</h4>"
   ]
  },
  {
   "cell_type": "markdown",
   "id": "d3c057b5-e4a7-4829-b29c-6d9c4e75aefb",
   "metadata": {},
   "source": [
    "RStudio download link: https://www.rstudio.com/ <br>\n",
    "<center><img src=\"img/r_Download_the_RStudio_IDE.png\" ></center> \n",
    "Case: Windows\n",
    "<li> prerequisite, R installed </li>\n",
    "<li> Click, Free version of the RStudio </li>\n",
    "<li> Download Rstudio Windows </li>"
   ]
  },
  {
   "cell_type": "markdown",
   "id": "4fa98226-2218-4b71-9484-dab993ac43d9",
   "metadata": {},
   "source": [
    "[Back to the top](#Table_of_contents)"
   ]
  },
  {
   "cell_type": "markdown",
   "id": "912f09f0-0f68-4e77-a6fa-be1238c4239b",
   "metadata": {},
   "source": [
    "<h4>Tutorial_RStudio_setting</h4>"
   ]
  },
  {
   "cell_type": "code",
   "execution_count": 1,
   "id": "0409ce45-7ad5-4d24-b802-d41c5fdd724d",
   "metadata": {},
   "outputs": [],
   "source": [
    "# TBA"
   ]
  },
  {
   "cell_type": "markdown",
   "id": "5b6b0dbd-258f-4c82-867d-9d43c13ef3c9",
   "metadata": {},
   "source": [
    "[Back to the top](#Table_of_contents)"
   ]
  },
  {
   "cell_type": "markdown",
   "id": "b9880e77-af3a-45f6-8fe3-f9631f43d9fd",
   "metadata": {},
   "source": [
    "<h4>Tutorial_RMarkdown</h4>"
   ]
  },
  {
   "cell_type": "code",
   "execution_count": 2,
   "id": "ebab020a-ae7a-43c1-8891-c995fde3244a",
   "metadata": {},
   "outputs": [],
   "source": [
    "# TBA"
   ]
  },
  {
   "cell_type": "markdown",
   "id": "707cd8ea-f326-41ce-8a79-4d31aee989a8",
   "metadata": {},
   "source": [
    "[Back to the top](#Table_of_contents)"
   ]
  },
  {
   "cell_type": "markdown",
   "id": "35261a7d-3b77-4293-b571-4e47e7408a58",
   "metadata": {},
   "source": [
    "<h3>Install_R_in_Conda</h3>"
   ]
  },
  {
   "cell_type": "code",
   "execution_count": 3,
   "id": "ba5e6d79-62e2-42a7-a686-5984a751bcdf",
   "metadata": {},
   "outputs": [],
   "source": [
    "# TBA"
   ]
  },
  {
   "cell_type": "markdown",
   "id": "8ab98b3b-8f9f-4358-bd51-c250a8525301",
   "metadata": {},
   "source": [
    "[Back to the top](#Table_of_contents)"
   ]
  },
  {
   "cell_type": "markdown",
   "id": "1bb9a77f-cd7b-44e0-9ecc-74667d743df6",
   "metadata": {},
   "source": [
    "<h4>Install_Conda_with_Jupyter</h4>"
   ]
  },
  {
   "cell_type": "code",
   "execution_count": 1,
   "id": "f1c5ce9f-ea0d-44dc-bbf7-b6676b1312b9",
   "metadata": {},
   "outputs": [],
   "source": [
    "# TBA"
   ]
  },
  {
   "cell_type": "markdown",
   "id": "624bf2d4-bec5-4512-a75e-e88a60318fc6",
   "metadata": {},
   "source": [
    "[Back to the top](#Table_of_contents)"
   ]
  },
  {
   "cell_type": "markdown",
   "id": "be1a755c-9548-43bb-859f-e5a33a7276b5",
   "metadata": {},
   "source": [
    "<h4>Install_Conda_with_VScode</h4>"
   ]
  },
  {
   "cell_type": "code",
   "execution_count": 4,
   "id": "ceeb5260-e7c7-467f-b005-cd68ecb949b5",
   "metadata": {},
   "outputs": [],
   "source": [
    "# TBA"
   ]
  },
  {
   "cell_type": "markdown",
   "id": "a044a4a2-f04a-4157-b1bb-db0d7fdf4fb8",
   "metadata": {},
   "source": [
    "[Back to the top](#Table_of_contents)"
   ]
  },
  {
   "cell_type": "markdown",
   "id": "acc09aca-ec6d-4e8d-b64b-7befa3d9399e",
   "metadata": {},
   "source": [
    "<h3>Use_R_in_colab</h3>"
   ]
  },
  {
   "cell_type": "code",
   "execution_count": 5,
   "id": "e19f4ae5-198c-42bc-a349-63c78e6995bb",
   "metadata": {},
   "outputs": [],
   "source": [
    "# TBA"
   ]
  },
  {
   "cell_type": "markdown",
   "id": "daf28955-c85b-4adc-aaf6-4d6778ed1ac6",
   "metadata": {},
   "source": [
    "[Back to the top](#Table_of_contents)"
   ]
  },
  {
   "cell_type": "markdown",
   "id": "c6ac214c-277d-4b5a-8858-2fa57ca15619",
   "metadata": {},
   "source": [
    "<h3>Install_packages</h3>\n",
    "(Rtools, helibrary, ggplot2, data.table ... )"
   ]
  },
  {
   "cell_type": "code",
   "execution_count": 6,
   "id": "a7d63263-973d-411b-8f44-833c84762989",
   "metadata": {},
   "outputs": [],
   "source": [
    "# TBA"
   ]
  },
  {
   "cell_type": "markdown",
   "id": "936e71e3-0901-48e7-8a7a-23b675c8e9c1",
   "metadata": {
    "tags": []
   },
   "source": [
    "[Back to the top](#Table_of_contents)"
   ]
  },
  {
   "cell_type": "markdown",
   "id": "5b703686-61b4-43eb-a71c-ed7ce0895a38",
   "metadata": {},
   "source": [
    "<h2>Reference</h2>"
   ]
  },
  {
   "cell_type": "markdown",
   "id": "519c939f-d46d-4f52-8edc-17bb565b7555",
   "metadata": {},
   "source": [
    "For a simple R installation and usage, please refer to the link below: <br>\n",
    "[Ch01_02.R 설치 및 사용법(R프로그램설치)02](https://youtu.be/zfBvEOPk-kE) <br>\n",
    "[Ch01_03.R 설치 및 사용법(프로젝트생성)03](https://youtu.be/UwfeS0KjQOU) <br>\n",
    "[[R 강의]1.R 설치하기](https://youtu.be/esK37_bj8Is)"
   ]
  },
  {
   "cell_type": "code",
   "execution_count": null,
   "id": "0b083c67-b814-420a-96a3-f73065e7a61f",
   "metadata": {},
   "outputs": [],
   "source": []
  }
 ],
 "metadata": {
  "kernelspec": {
   "display_name": "R",
   "language": "R",
   "name": "ir"
  },
  "language_info": {
   "codemirror_mode": "r",
   "file_extension": ".r",
   "mimetype": "text/x-r-source",
   "name": "R",
   "pygments_lexer": "r",
   "version": "3.6.1"
  },
  "toc-autonumbering": false,
  "toc-showcode": false,
  "toc-showmarkdowntxt": true
 },
 "nbformat": 4,
 "nbformat_minor": 5
}
