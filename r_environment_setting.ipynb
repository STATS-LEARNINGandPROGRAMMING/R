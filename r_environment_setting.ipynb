{
 "cells": [
  {
   "cell_type": "markdown",
   "id": "2bb8dc52",
   "metadata": {},
   "source": [
    "<h2>Table_of_contents</h2>"
   ]
  },
  {
   "cell_type": "markdown",
   "id": "b50cbe5e",
   "metadata": {},
   "source": [
    "- [Environment setting](#Environment_setting)\n",
    "    - [Install R with RStudio](#Install_R_with_RStudio)\n",
    "        - [Download and install R](#Download_and_install_R)\n",
    "        - [R Console](#R_Console)\n",
    "        - [Download RStudio Desktop](#Download_RStudio_Desktop)\n",
    "        - [Tutorial RStudio setting](#Tutorial_RStudio_setting)\n",
    "        - [Tutorial RMarkdown](#Tutorial_RMarkdown)\n",
    "    - [Install R in Conda](#Install_R_in_Conda)\n",
    "        - [Install Conda with Jupyter](#Install_Conda_with_Jupyter)\n",
    "        - [Install Conda with VScode](#Install_Conda_with_VScode)\n",
    "    - [Use R in colab](#Use_R_in_colab)\n",
    "    - [Install Packages](#Install_packages)\n",
    "- [Reference](#Reference)"
   ]
  },
  {
   "cell_type": "markdown",
   "id": "fe479188",
   "metadata": {},
   "source": [
    "<h2>Environment_setting</h2>"
   ]
  },
  {
   "cell_type": "markdown",
   "id": "6673f980",
   "metadata": {},
   "source": [
    "There are two ways to use R on the local computer: after installing R, through the R Studio IDE, and after installing Conda, use it in jupyter or visual studio code. There are other ways to use R in Google Colab."
   ]
  },
  {
   "cell_type": "markdown",
   "id": "32333e99",
   "metadata": {},
   "source": [
    "<i>The future contents will be explained based on the use of a Jupyter notebook in the future for use with Markdown, Python, etc</i>."
   ]
  },
  {
   "cell_type": "markdown",
   "id": "a572cae6",
   "metadata": {},
   "source": [
    "<h3>Install_R_with_RStudio</h3>"
   ]
  },
  {
   "cell_type": "markdown",
   "id": "0fca2d68",
   "metadata": {},
   "source": [
    "<h4>Download_and_install_R</h4>"
   ]
  },
  {
   "cell_type": "markdown",
   "id": "23e0d9e5",
   "metadata": {},
   "source": [
    "R download link: <https://cran.r-project.org/> <br>\n",
    "<center><img src=\"img/r_Download_and_Install_R.png\" ></center> \n",
    "Case: Windows\n",
    "<li> Download R for Windows </li>\n",
    "<li> Click, base Binaries for base distribution. </li>"
   ]
  },
  {
   "cell_type": "markdown",
   "id": "258eaddb",
   "metadata": {},
   "source": [
    "<h4>R_Console</h4>"
   ]
  },
  {
   "cell_type": "markdown",
   "id": "43b82333",
   "metadata": {},
   "source": [
    "<center><img src=\"img/r_R_Console.png\" ></center> \n",
    "Case: Windows"
   ]
  },
  {
   "cell_type": "markdown",
   "id": "7189636a",
   "metadata": {},
   "source": [
    "[Back to the top](#Table_of_contents)"
   ]
  },
  {
   "cell_type": "markdown",
   "id": "fb9681ef",
   "metadata": {},
   "source": [
    "<h4>Download_RStudio_Desktop</h4>"
   ]
  },
  {
   "cell_type": "markdown",
   "id": "55814bcf",
   "metadata": {},
   "source": [
    "RStudio download link: https://www.rstudio.com/ <br>\n",
    "<center><img src=\"img/r_Download_the_RStudio_IDE.png\" ></center> \n",
    "Case: Windows\n",
    "<li> prerequisite, R installed </li>\n",
    "<li> Click, Free version of the RStudio </li>\n",
    "<li> Download Rstudio Windows </li>"
   ]
  },
  {
   "cell_type": "markdown",
   "id": "6e0ef906",
   "metadata": {},
   "source": [
    "[Back to the top](#Table_of_contents)"
   ]
  },
  {
   "cell_type": "markdown",
   "id": "e0bd3e62",
   "metadata": {},
   "source": [
    "<h4>Tutorial_RStudio_setting</h4>"
   ]
  },
  {
   "cell_type": "markdown",
   "id": "10a55843",
   "metadata": {},
   "source": [
    "<center><img src=\"img/r_RStudio_IDE.png\" ></center> \n",
    "Case: R Studio"
   ]
  },
  {
   "cell_type": "code",
   "execution_count": 1,
   "id": "7cda6681",
   "metadata": {},
   "outputs": [],
   "source": [
    "# TBA"
   ]
  },
  {
   "cell_type": "markdown",
   "id": "7f95107c",
   "metadata": {},
   "source": [
    "[Back to the top](#Table_of_contents)"
   ]
  },
  {
   "cell_type": "markdown",
   "id": "f7fa3206",
   "metadata": {},
   "source": [
    "<h4>Tutorial_RMarkdown</h4>"
   ]
  },
  {
   "cell_type": "code",
   "execution_count": 2,
   "id": "cf15cca1",
   "metadata": {},
   "outputs": [],
   "source": [
    "# TBA"
   ]
  },
  {
   "cell_type": "markdown",
   "id": "53feaa55",
   "metadata": {},
   "source": [
    "[Back to the top](#Table_of_contents)"
   ]
  },
  {
   "cell_type": "markdown",
   "id": "66b3b7ef",
   "metadata": {},
   "source": [
    "<h3>Install_R_in_Conda</h3>"
   ]
  },
  {
   "cell_type": "markdown",
   "id": "a2e3ee1d",
   "metadata": {},
   "source": [
    "You can use R in both jupyter and visual stuido code in Ananconda."
   ]
  },
  {
   "cell_type": "markdown",
   "id": "e99bdab9",
   "metadata": {},
   "source": [
    "[Back to the top](#Table_of_contents)"
   ]
  },
  {
   "cell_type": "markdown",
   "id": "68fe83ea",
   "metadata": {},
   "source": [
    "<h4>Install_Conda_with_Jupyter</h4>"
   ]
  },
  {
   "cell_type": "markdown",
   "id": "adf44efc",
   "metadata": {},
   "source": [
    "<center><img src=\"img/r_Conda_install.png\" ></center> \n",
    "<li> prerequisite, Conda installed </li>\n",
    "<li> Open the anaconda prompt and type the \"conda install -c r r-essentials\"</li>\n",
    "<li> Then you can use R in the jupyter lab or jupyter notebook</li>\n",
    "<center><img src=\"img/r_Conda_jupyterlab.png\" ></center> "
   ]
  },
  {
   "cell_type": "markdown",
   "id": "c017a4cc",
   "metadata": {},
   "source": [
    "[Back to the top](#Table_of_contents)"
   ]
  },
  {
   "cell_type": "markdown",
   "id": "d662397b",
   "metadata": {},
   "source": [
    "<h4>Install_Conda_with_VScode</h4>"
   ]
  },
  {
   "cell_type": "code",
   "execution_count": 4,
   "id": "11b0eb0c",
   "metadata": {},
   "outputs": [],
   "source": [
    "# TBA"
   ]
  },
  {
   "cell_type": "markdown",
   "id": "10ab7752",
   "metadata": {},
   "source": [
    "[Back to the top](#Table_of_contents)"
   ]
  },
  {
   "cell_type": "markdown",
   "id": "b1df081b",
   "metadata": {},
   "source": [
    "<h3>Use_R_in_colab</h3>"
   ]
  },
  {
   "cell_type": "code",
   "execution_count": 5,
   "id": "7d6ab50a",
   "metadata": {},
   "outputs": [],
   "source": [
    "# TBA"
   ]
  },
  {
   "cell_type": "markdown",
   "id": "d3126f69",
   "metadata": {},
   "source": [
    "[Back to the top](#Table_of_contents)"
   ]
  },
  {
   "cell_type": "markdown",
   "id": "543ec1ee",
   "metadata": {},
   "source": [
    "<h3>Install_packages</h3>\n",
    "(Rtools, helibrary, ggplot2, data.table ... )"
   ]
  },
  {
   "cell_type": "code",
   "execution_count": 6,
   "id": "12b5d548",
   "metadata": {},
   "outputs": [],
   "source": [
    "# TBA"
   ]
  },
  {
   "cell_type": "markdown",
   "id": "828c6510",
   "metadata": {
    "tags": []
   },
   "source": [
    "[Back to the top](#Table_of_contents)"
   ]
  },
  {
   "cell_type": "markdown",
   "id": "473ca786",
   "metadata": {},
   "source": [
    "<h2>Reference</h2>"
   ]
  },
  {
   "cell_type": "markdown",
   "id": "6895b9c9",
   "metadata": {},
   "source": [
    "For a simple R installation and usage, please refer to the link below: <br>\n",
    "[Ch01_02.R 설치 및 사용법(R프로그램설치)02](https://youtu.be/zfBvEOPk-kE) <br>\n",
    "[Ch01_03.R 설치 및 사용법(프로젝트생성)03](https://youtu.be/UwfeS0KjQOU) <br>\n",
    "[[R 강의]1.R 설치하기](https://youtu.be/esK37_bj8Is) <br>\n",
    "[Installing R and R libraries](https://jeanettemumford.org/R-tutorial/01-getting-started/) <br>\n",
    "[Using R language with Anaconda](https://docs.anaconda.com/anaconda/user-guide/tasks/using-r-language/)"
   ]
  },
  {
   "cell_type": "code",
   "execution_count": null,
   "id": "2e19567a",
   "metadata": {},
   "outputs": [],
   "source": []
  }
 ],
 "metadata": {
  "kernelspec": {
   "display_name": "R",
   "language": "R",
   "name": "ir"
  },
  "language_info": {
   "codemirror_mode": "r",
   "file_extension": ".r",
   "mimetype": "text/x-r-source",
   "name": "R",
   "pygments_lexer": "r",
   "version": "3.6.1"
  },
  "toc-autonumbering": false,
  "toc-showcode": false,
  "toc-showmarkdowntxt": true
 },
 "nbformat": 4,
 "nbformat_minor": 5
}
