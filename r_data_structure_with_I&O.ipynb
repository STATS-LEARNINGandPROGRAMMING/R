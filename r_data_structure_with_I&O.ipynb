{
 "cells": [
  {
   "cell_type": "markdown",
   "id": "d1f927d5-e23e-498c-b9bd-5179dc949de9",
   "metadata": {},
   "source": [
    "<h2>Table_of_Contents</h2>"
   ]
  },
  {
   "cell_type": "markdown",
   "id": "4459199f-8365-426e-bd69-9c44c7f3e730",
   "metadata": {},
   "source": [
    "- [R data structure with I/O](#R_data_structure_with_I/O)\n",
    "    - [Data structure](#Data_structure)\n",
    "        - [Scalar](#Scalar)\n",
    "        - [Vector](#Vector)\n",
    "        - [Matrix](#Matrix)\n",
    "        - [Array](#Array)\n",
    "        - [Data frame](#Data_frame)\n",
    "        - [List](#List)\n",
    "    - [Load the data](#Load_the_data)\n",
    "        - [Load the txt file](#Load_the_txt_file)\n",
    "        - [Load the csv file](#Load_the_csv_file)\n",
    "        - [Load the excel file](#Load_the_excel_file)\n",
    "        - [View the data structure](#View_the_data_structure)\n",
    "    - [Factor and label](#Factor_and_label)\n",
    "    - [Export the data](#Export_the_data)\n",
    "        - [Export the txt file](#Export_the_txt_file)\n",
    "        - [Export the csv file](#Export_the_csv_file)\n",
    "        - [Export the excel file](#Export_the_excel_file)\n",
    "        - [Export the data as R](#Export_the_data_as_R)\n",
    "- [References](#References)"
   ]
  },
  {
   "cell_type": "markdown",
   "id": "66efd447-f814-424a-8a60-b136c6d797af",
   "metadata": {},
   "source": [
    "<h3>R_data_structure_with_I/O</h3>"
   ]
  },
  {
   "cell_type": "markdown",
   "id": "b5640543-ff65-4297-afc2-ea3e09fe60b0",
   "metadata": {},
   "source": [
    "<h4>Data_structure</h4>"
   ]
  },
  {
   "cell_type": "markdown",
   "id": "76aeac76-8ba1-4cd7-8030-f6acc6049d84",
   "metadata": {},
   "source": [
    "<center><img src=\"img/r_Data_structure.png\" ></center> "
   ]
  },
  {
   "cell_type": "markdown",
   "id": "ec6b8294-4f9b-4988-ad36-d96644e0da4b",
   "metadata": {},
   "source": [
    "<li>Save only with the same data type: scalar, vector, matrix, array</li>\n",
    "<li>Different types of data types can be stored: data frames, lists</li>"
   ]
  },
  {
   "cell_type": "markdown",
   "id": "fcb69f25-6fe3-4cee-87b3-77592cbd0da1",
   "metadata": {},
   "source": [
    "<h5>Scalar</h5>"
   ]
  },
  {
   "cell_type": "code",
   "execution_count": 4,
   "id": "9fdb3be5-cb06-43a7-bc9f-e2cfd0c820e9",
   "metadata": {},
   "outputs": [
    {
     "data": {
      "text/html": [
       "1"
      ],
      "text/latex": [
       "1"
      ],
      "text/markdown": [
       "1"
      ],
      "text/plain": [
       "[1] 1"
      ]
     },
     "metadata": {},
     "output_type": "display_data"
    }
   ],
   "source": [
    "# Scalar\n",
    "c(1)"
   ]
  },
  {
   "cell_type": "markdown",
   "id": "ef186031-a97d-4ae6-adc1-acd819d6fe5c",
   "metadata": {},
   "source": [
    "[Back to the top](#Table_of_Contents)"
   ]
  },
  {
   "cell_type": "markdown",
   "id": "31e4db04-e7e7-4645-8113-281acd7a9bc8",
   "metadata": {},
   "source": [
    "<h5>Vector</h5>"
   ]
  },
  {
   "cell_type": "code",
   "execution_count": 9,
   "id": "68b32b63-da15-4f53-820f-5e394144c1a2",
   "metadata": {},
   "outputs": [
    {
     "data": {
      "text/html": [
       "<ol class=list-inline>\n",
       "\t<li>1</li>\n",
       "\t<li>2</li>\n",
       "\t<li>3</li>\n",
       "\t<li>4</li>\n",
       "</ol>\n"
      ],
      "text/latex": [
       "\\begin{enumerate*}\n",
       "\\item 1\n",
       "\\item 2\n",
       "\\item 3\n",
       "\\item 4\n",
       "\\end{enumerate*}\n"
      ],
      "text/markdown": [
       "1. 1\n",
       "2. 2\n",
       "3. 3\n",
       "4. 4\n",
       "\n",
       "\n"
      ],
      "text/plain": [
       "[1] 1 2 3 4"
      ]
     },
     "metadata": {},
     "output_type": "display_data"
    }
   ],
   "source": [
    "# Vector (c) - Numeric data type\n",
    "num <- c(1,2,3,4) # c(1:4)\n",
    "num\n",
    "# View(num) # only working in RStudio"
   ]
  },
  {
   "cell_type": "code",
   "execution_count": 10,
   "id": "54e68e9e-687f-4433-b740-f559782232d9",
   "metadata": {},
   "outputs": [
    {
     "data": {
      "text/html": [
       "<table>\n",
       "<tbody>\n",
       "\t<tr><td>1</td><td>2</td><td>3</td><td>4</td></tr>\n",
       "</tbody>\n",
       "</table>\n"
      ],
      "text/latex": [
       "\\begin{tabular}{llll}\n",
       "\t 1 & 2 & 3 & 4\\\\\n",
       "\\end{tabular}\n"
      ],
      "text/markdown": [
       "\n",
       "| 1 | 2 | 3 | 4 |\n",
       "\n"
      ],
      "text/plain": [
       "     [,1] [,2] [,3] [,4]\n",
       "[1,] 1    2    3    4   "
      ]
     },
     "metadata": {},
     "output_type": "display_data"
    }
   ],
   "source": [
    "num.T <- t(num) # Transpose column vector to row vector\n",
    "num.T\n",
    "# View(numT) # only working in RStudio"
   ]
  },
  {
   "cell_type": "code",
   "execution_count": 12,
   "id": "a37ed133-8d91-4013-8caf-386c59c778a7",
   "metadata": {},
   "outputs": [
    {
     "data": {
      "text/html": [
       "<table>\n",
       "<tbody>\n",
       "\t<tr><td>1 </td><td>2 </td><td> 3</td><td> 4</td></tr>\n",
       "\t<tr><td>2 </td><td>4 </td><td> 6</td><td> 8</td></tr>\n",
       "\t<tr><td>3 </td><td>6 </td><td> 9</td><td>12</td></tr>\n",
       "\t<tr><td>4 </td><td>8 </td><td>12</td><td>16</td></tr>\n",
       "</tbody>\n",
       "</table>\n"
      ],
      "text/latex": [
       "\\begin{tabular}{llll}\n",
       "\t 1  & 2  &  3 &  4\\\\\n",
       "\t 2  & 4  &  6 &  8\\\\\n",
       "\t 3  & 6  &  9 & 12\\\\\n",
       "\t 4  & 8  & 12 & 16\\\\\n",
       "\\end{tabular}\n"
      ],
      "text/markdown": [
       "\n",
       "| 1  | 2  |  3 |  4 |\n",
       "| 2  | 4  |  6 |  8 |\n",
       "| 3  | 6  |  9 | 12 |\n",
       "| 4  | 8  | 12 | 16 |\n",
       "\n"
      ],
      "text/plain": [
       "     [,1] [,2] [,3] [,4]\n",
       "[1,] 1    2     3    4  \n",
       "[2,] 2    4     6    8  \n",
       "[3,] 3    6     9   12  \n",
       "[4,] 4    8    12   16  "
      ]
     },
     "metadata": {},
     "output_type": "display_data"
    }
   ],
   "source": [
    "num %*% num.T # Vector multiplication (4*1 X 1*4) = 4*4"
   ]
  },
  {
   "cell_type": "code",
   "execution_count": 13,
   "id": "d1a608bc-9806-4cbd-b2e7-e8755dc60bde",
   "metadata": {},
   "outputs": [
    {
     "data": {
      "text/html": [
       "<table>\n",
       "<tbody>\n",
       "\t<tr><td>30</td></tr>\n",
       "</tbody>\n",
       "</table>\n"
      ],
      "text/latex": [
       "\\begin{tabular}{l}\n",
       "\t 30\\\\\n",
       "\\end{tabular}\n"
      ],
      "text/markdown": [
       "\n",
       "| 30 |\n",
       "\n"
      ],
      "text/plain": [
       "     [,1]\n",
       "[1,] 30  "
      ]
     },
     "metadata": {},
     "output_type": "display_data"
    }
   ],
   "source": [
    "num.T %*% num # Vector multiplication (1*4 X 4*1) = 1*1"
   ]
  },
  {
   "cell_type": "code",
   "execution_count": 14,
   "id": "082d0392-a83c-4cff-b2e5-6a0fe18018fa",
   "metadata": {},
   "outputs": [
    {
     "data": {
      "text/html": [
       "<ol class=list-inline>\n",
       "\t<li>'M'</li>\n",
       "\t<li>'F'</li>\n",
       "\t<li>'F'</li>\n",
       "\t<li>'M'</li>\n",
       "</ol>\n"
      ],
      "text/latex": [
       "\\begin{enumerate*}\n",
       "\\item 'M'\n",
       "\\item 'F'\n",
       "\\item 'F'\n",
       "\\item 'M'\n",
       "\\end{enumerate*}\n"
      ],
      "text/markdown": [
       "1. 'M'\n",
       "2. 'F'\n",
       "3. 'F'\n",
       "4. 'M'\n",
       "\n",
       "\n"
      ],
      "text/plain": [
       "[1] \"M\" \"F\" \"F\" \"M\""
      ]
     },
     "metadata": {},
     "output_type": "display_data"
    },
    {
     "data": {
      "text/html": [
       "<ol class=list-inline>\n",
       "\t<li>TRUE</li>\n",
       "\t<li>FALSE</li>\n",
       "\t<li>FALSE</li>\n",
       "\t<li>TRUE</li>\n",
       "</ol>\n"
      ],
      "text/latex": [
       "\\begin{enumerate*}\n",
       "\\item TRUE\n",
       "\\item FALSE\n",
       "\\item FALSE\n",
       "\\item TRUE\n",
       "\\end{enumerate*}\n"
      ],
      "text/markdown": [
       "1. TRUE\n",
       "2. FALSE\n",
       "3. FALSE\n",
       "4. TRUE\n",
       "\n",
       "\n"
      ],
      "text/plain": [
       "[1]  TRUE FALSE FALSE  TRUE"
      ]
     },
     "metadata": {},
     "output_type": "display_data"
    }
   ],
   "source": [
    "# character, logical data type\n",
    "c(\"M\",\"F\",\"F\",\"M\")\n",
    "c(TRUE, FALSE, FALSE, TRUE)"
   ]
  },
  {
   "cell_type": "markdown",
   "id": "0bd78547-64d7-4c51-bff2-3089010a01bf",
   "metadata": {},
   "source": [
    "[Back to the top](#Table_of_Contents)"
   ]
  },
  {
   "cell_type": "markdown",
   "id": "a9c6ad2d-9576-414f-9de5-aee414f50f43",
   "metadata": {},
   "source": [
    "<h5>Matrix</h5>"
   ]
  },
  {
   "cell_type": "code",
   "execution_count": 18,
   "id": "2184ccc8-3c8d-4423-adb3-6943a1fa72b6",
   "metadata": {},
   "outputs": [
    {
     "name": "stdout",
     "output_type": "stream",
     "text": [
      " [1]  1  2  3  4  5  6  7  8  9 10 11 12\n",
      "     [,1] [,2] [,3]\n",
      "[1,]    1    5    9\n",
      "[2,]    2    6   10\n",
      "[3,]    3    7   11\n",
      "[4,]    4    8   12\n"
     ]
    }
   ],
   "source": [
    "m <- 1:12\n",
    "print(m)\n",
    "\n",
    "# Matrix (Matrix 4x3)\n",
    "mtx <- matrix(m, nrow=4)\n",
    "print(mtx)"
   ]
  },
  {
   "cell_type": "code",
   "execution_count": 19,
   "id": "530c8bfd-cd59-4d1e-8bf6-9cb16136e38c",
   "metadata": {},
   "outputs": [
    {
     "data": {
      "text/html": [
       "7"
      ],
      "text/latex": [
       "7"
      ],
      "text/markdown": [
       "7"
      ],
      "text/plain": [
       "[1] 7"
      ]
     },
     "metadata": {},
     "output_type": "display_data"
    }
   ],
   "source": [
    "mtx[3,2]"
   ]
  },
  {
   "cell_type": "markdown",
   "id": "c28b4777-e627-4b37-8024-88df0d9be9b8",
   "metadata": {},
   "source": [
    "[Back to the top](#Table_of_Contents)"
   ]
  },
  {
   "cell_type": "markdown",
   "id": "c894e204-4427-44db-bf89-09429667e410",
   "metadata": {},
   "source": [
    "<h5>Array</h5>"
   ]
  },
  {
   "cell_type": "code",
   "execution_count": 17,
   "id": "985de134-e204-4209-8195-e3a696d0f47c",
   "metadata": {},
   "outputs": [
    {
     "name": "stdout",
     "output_type": "stream",
     "text": [
      ", , 1\n",
      "\n",
      "     [,1] [,2] [,3]\n",
      "[1,]    1    3    5\n",
      "[2,]    2    4    6\n",
      "\n",
      ", , 2\n",
      "\n",
      "     [,1] [,2] [,3]\n",
      "[1,]    7    9   11\n",
      "[2,]    8   10   12\n",
      "\n"
     ]
    }
   ],
   "source": [
    "# Array (Array 2x3x2)\n",
    "arr <- array(m, c(2,3,2))\n",
    "print(arr)"
   ]
  },
  {
   "cell_type": "markdown",
   "id": "64d385d1-6bc5-4680-9556-62512aa7f619",
   "metadata": {},
   "source": [
    "[Back to the top](#Table_of_Contents)"
   ]
  },
  {
   "cell_type": "markdown",
   "id": "24895e88-ba85-4996-870c-d99a5855ee13",
   "metadata": {},
   "source": [
    "<h5>Data_frame</h5>"
   ]
  },
  {
   "cell_type": "code",
   "execution_count": 20,
   "id": "748bc84a-fb35-4c96-a4b3-0c149546c235",
   "metadata": {},
   "outputs": [
    {
     "name": "stdout",
     "output_type": "stream",
     "text": [
      "'data.frame':\t4 obs. of  2 variables:\n",
      " $ id : num  1 2 3 4\n",
      " $ sex: Factor w/ 2 levels \"F\",\"M\": 2 1 1 2\n"
     ]
    }
   ],
   "source": [
    "# Data Frame\n",
    "var1 <- c(1,2,3,4)\n",
    "var2 <- factor(c(\"M\",\"F\",\"F\",\"M\"))\n",
    "df = data.frame(id = var1, sex = var2)\n",
    "str(df)"
   ]
  },
  {
   "cell_type": "markdown",
   "id": "57481576-acb4-4ba0-8573-15624261864d",
   "metadata": {},
   "source": [
    "[Back to the top](#Table_of_Contents)"
   ]
  },
  {
   "cell_type": "markdown",
   "id": "0311fac8-402a-45c1-918b-417541d0b897",
   "metadata": {},
   "source": [
    "<h5>List</h5>"
   ]
  },
  {
   "cell_type": "code",
   "execution_count": 21,
   "id": "39dfa719-764d-4a00-b02a-e00db7e727c7",
   "metadata": {},
   "outputs": [
    {
     "name": "stdout",
     "output_type": "stream",
     "text": [
      "List of 4\n",
      " $ : num [1:4] 1 2 3 4\n",
      " $ : int [1:4, 1:3] 1 2 3 4 5 6 7 8 9 10 ...\n",
      " $ : int [1:2, 1:3, 1:2] 1 2 3 4 5 6 7 8 9 10 ...\n",
      " $ :'data.frame':\t4 obs. of  2 variables:\n",
      "  ..$ id : num [1:4] 1 2 3 4\n",
      "  ..$ sex: Factor w/ 2 levels \"F\",\"M\": 2 1 1 2\n"
     ]
    }
   ],
   "source": [
    "# list\n",
    "v1 <- c(1,2,3,4)\n",
    "v2 <- matrix(1:12, nrow=4)\n",
    "v3 <- array(1:12, c(2,3,2))\n",
    "v4 <- data.frame(id = c(1,2,3,4), sex = c(\"M\",\"F\",\"F\",\"M\"))\n",
    "lt <- list (v1, v2, v3, v4)\n",
    "str(lt)"
   ]
  },
  {
   "cell_type": "code",
   "execution_count": 23,
   "id": "4458f990-0d98-4143-b55c-b4a45ec582be",
   "metadata": {},
   "outputs": [
    {
     "name": "stdout",
     "output_type": "stream",
     "text": [
      "[[1]]\n",
      "[1] 1 2 3 4\n",
      "\n",
      "[[2]]\n",
      "     [,1] [,2] [,3]\n",
      "[1,]    1    5    9\n",
      "[2,]    2    6   10\n",
      "[3,]    3    7   11\n",
      "[4,]    4    8   12\n",
      "\n",
      "[[3]]\n",
      ", , 1\n",
      "\n",
      "     [,1] [,2] [,3]\n",
      "[1,]    1    3    5\n",
      "[2,]    2    4    6\n",
      "\n",
      ", , 2\n",
      "\n",
      "     [,1] [,2] [,3]\n",
      "[1,]    7    9   11\n",
      "[2,]    8   10   12\n",
      "\n",
      "\n",
      "[[4]]\n",
      "  id sex\n",
      "1  1   M\n",
      "2  2   F\n",
      "3  3   F\n",
      "4  4   M\n",
      "\n"
     ]
    }
   ],
   "source": [
    "print(lt)"
   ]
  },
  {
   "cell_type": "markdown",
   "id": "8a074ba7-0bef-429d-9e77-8d7e900b6097",
   "metadata": {},
   "source": [
    "[Back to the top](#Table_of_Contents)"
   ]
  },
  {
   "cell_type": "markdown",
   "id": "2f331b53-9cfd-4d97-b63d-73d01c712c57",
   "metadata": {},
   "source": [
    "<h3>Load_the_data</h3>"
   ]
  },
  {
   "cell_type": "markdown",
   "id": "b632d3c7-b2aa-4d85-9609-4f4f108246a6",
   "metadata": {},
   "source": [
    "<li>Read.table: load the txt file # 0201.grade, separated by tab</li>\n",
    "<li>Read.csv: load the csv file # 0201.grade.csv, separated by \",\"</li>\n",
    "<li>Read_excel: load the excel file # 0201.grade.xlsx, prerequisite adding library</li>\n",
    "<li>In addition, files such as SPSS and JSON can be connected</li>"
   ]
  },
  {
   "cell_type": "code",
   "execution_count": 1,
   "id": "45171dd8-8b40-4091-b964-a62d649708f3",
   "metadata": {},
   "outputs": [],
   "source": [
    "r_data_input_output_dataset = \"\n",
    "    example/0201.grade.txt,\n",
    "    example/0202.grade.csv,\n",
    "    example/0203.grade.xlsx\n",
    "\""
   ]
  },
  {
   "cell_type": "markdown",
   "id": "61bcb9c3-41d4-4f2c-9526-60ba89583093",
   "metadata": {},
   "source": [
    "<h4>Load_the_txt_file</h4>"
   ]
  },
  {
   "cell_type": "code",
   "execution_count": 3,
   "id": "3b9d612e-3cc4-454f-9b81-e61ac5c37f68",
   "metadata": {},
   "outputs": [
    {
     "name": "stdout",
     "output_type": "stream",
     "text": [
      "'data.frame':\t50 obs. of  4 variables:\n",
      " $ V1: int  1 2 3 4 5 6 7 8 9 10 ...\n",
      " $ V2: chr  \"Male\" \"Male\" \"Male\" \"Male\" ...\n",
      " $ V3: int  1 1 1 1 1 1 1 1 1 1 ...\n",
      " $ V4: int  3 4 5 3 2 5 4 4 3 2 ...\n"
     ]
    }
   ],
   "source": [
    "# Load the data (read.table)\n",
    "# header = FALSE, (When there is no variable name)\"\n",
    "# sep (separtor): \",\" or \" \" or \":\" or \"\\t\" (tab)\n",
    "# stringAsFactor = recognize text data as a factor (True)\n",
    "# na.strings = \"\", \".\", \"NA\" etc.\n",
    "# str() : view attributes\n",
    "\n",
    "gradetxt <- read.table(\"example/0201.grade.txt\",\n",
    "                       header=FALSE,\n",
    "                       sep = \"\\t\",\n",
    "                       stringsAsFactor = FALSE,\n",
    "                       na.strings = \"\"\n",
    "                      )\n",
    "str(gradetxt)"
   ]
  },
  {
   "cell_type": "code",
   "execution_count": 4,
   "id": "bd4f7544-af1f-4d42-a9fb-7743b380a79f",
   "metadata": {
    "collapsed": true,
    "jupyter": {
     "outputs_hidden": true
    },
    "tags": []
   },
   "outputs": [
    {
     "name": "stdout",
     "output_type": "stream",
     "text": [
      "   V1     V2 V3 V4\n",
      "1   1   Male  1  3\n",
      "2   2   Male  1  4\n",
      "3   3   Male  1  5\n",
      "4   4   Male  1  3\n",
      "5   5   Male  1  2\n",
      "6   6   Male  1  5\n",
      "7   7   Male  1  4\n",
      "8   8   Male  1  4\n",
      "9   9   Male  1  3\n",
      "10 10   Male  1  2\n",
      "11 11   Male  1  5\n",
      "12 12   Male  1  4\n",
      "13 13   Male  1  4\n",
      "14 14   Male  1  3\n",
      "15 15   Male  1  5\n",
      "16 16   Male  1  4\n",
      "17 17   Male  1  4\n",
      "18 18   Male  1  1\n",
      "19 19   Male  1  2\n",
      "20 20   Male  1  2\n",
      "21 21   Male  1  4\n",
      "22 22   Male  1  3\n",
      "23 23   Male  1  4\n",
      "24 24   Male  1  3\n",
      "25 25   Male  1  4\n",
      "26 26 Female  2  4\n",
      "27 27 Female  2  3\n",
      "28 28 Female  2  4\n",
      "29 29 Female  2  1\n",
      "30 30 Female  2  4\n",
      "31 31 Female  2  4\n",
      "32 32 Female  2  2\n",
      "33 33 Female  2  3\n",
      "34 34 Female  2  5\n",
      "35 35 Female  2  4\n",
      "36 36 Female  2  3\n",
      "37 37 Female  2  4\n",
      "38 38 Female  2  4\n",
      "39 39 Female  2  3\n",
      "40 40 Female  2  4\n",
      "41 41 Female  2  3\n",
      "42 42 Female  2  3\n",
      "43 43 Female  2  2\n",
      "44 44 Female  2  4\n",
      "45 45 Female  2  3\n",
      "46 46 Female  2  4\n",
      "47 47 Female  2  5\n",
      "48 48 Female  2  4\n",
      "49 49 Female  2  3\n",
      "50 50 Female  2  3\n"
     ]
    }
   ],
   "source": [
    "print(gradetxt)"
   ]
  },
  {
   "cell_type": "markdown",
   "id": "7e315e64-e365-4f8d-a610-bd0c2b231f62",
   "metadata": {},
   "source": [
    "[Back to the top](#Table_of_Contents)"
   ]
  },
  {
   "cell_type": "markdown",
   "id": "c1a55147-b180-4d6a-b782-b6871e31f23d",
   "metadata": {},
   "source": [
    "<h4>Load_the_csv_file</h4>"
   ]
  },
  {
   "cell_type": "code",
   "execution_count": 33,
   "id": "ac1d508d-348d-4ac9-9d9f-acac45753ea1",
   "metadata": {},
   "outputs": [
    {
     "name": "stdout",
     "output_type": "stream",
     "text": [
      "'data.frame':\t50 obs. of  4 variables:\n",
      " $ id   : int  1 2 3 4 5 6 7 8 9 10 ...\n",
      " $ msex : Factor w/ 2 levels \"Female\",\"Male\": 2 2 2 2 2 2 2 2 2 2 ...\n",
      " $ csex : int  1 1 1 1 1 1 1 1 1 1 ...\n",
      " $ grade: int  3 4 5 3 2 5 4 4 3 2 ...\n"
     ]
    }
   ],
   "source": [
    "# Load the data (read.csv)\n",
    "# No separator due to separted by \",\"\n",
    "# stringsAsFactor = It doesn't matter if you don't specify\n",
    "\n",
    "gradecsv <- read.csv(\"example/0202.grade.csv\",\n",
    "                     header = TRUE, # T\n",
    "                     na.strings = \".\"\n",
    "                    )\n",
    "str(gradecsv)"
   ]
  },
  {
   "cell_type": "code",
   "execution_count": 5,
   "id": "af068286-b665-4d05-9350-a2ca222f2a78",
   "metadata": {
    "collapsed": true,
    "jupyter": {
     "outputs_hidden": true
    },
    "tags": []
   },
   "outputs": [
    {
     "name": "stdout",
     "output_type": "stream",
     "text": [
      "   id   msex csex grade\n",
      "1   1   Male    1     3\n",
      "2   2   Male    1     4\n",
      "3   3   Male    1     5\n",
      "4   4   Male    1     3\n",
      "5   5   Male    1     2\n",
      "6   6   Male    1     5\n",
      "7   7   Male    1     4\n",
      "8   8   Male    1     4\n",
      "9   9   Male    1     3\n",
      "10 10   Male    1     2\n",
      "11 11   Male    1     5\n",
      "12 12   Male    1     4\n",
      "13 13   Male    1     4\n",
      "14 14   Male    1     3\n",
      "15 15   Male    1     5\n",
      "16 16   Male    1     4\n",
      "17 17   Male    1     4\n",
      "18 18   Male    1     1\n",
      "19 19   Male    1     2\n",
      "20 20   Male    1     2\n",
      "21 21   Male    1     4\n",
      "22 22   Male    1     3\n",
      "23 23   Male    1     4\n",
      "24 24   Male    1     3\n",
      "25 25   Male    1     4\n",
      "26 26 Female    2     4\n",
      "27 27 Female    2     3\n",
      "28 28 Female    2     4\n",
      "29 29 Female    2     1\n",
      "30 30 Female    2     4\n",
      "31 31 Female    2     4\n",
      "32 32 Female    2     2\n",
      "33 33 Female    2     3\n",
      "34 34 Female    2     5\n",
      "35 35 Female    2     4\n",
      "36 36 Female    2     3\n",
      "37 37 Female    2     4\n",
      "38 38 Female    2     4\n",
      "39 39 Female    2     3\n",
      "40 40 Female    2     4\n",
      "41 41 Female    2     3\n",
      "42 42 Female    2     3\n",
      "43 43 Female    2     2\n",
      "44 44 Female    2     4\n",
      "45 45 Female    2     3\n",
      "46 46 Female    2     4\n",
      "47 47 Female    2     5\n",
      "48 48 Female    2     4\n",
      "49 49 Female    2     3\n",
      "50 50 Female    2     3\n"
     ]
    }
   ],
   "source": [
    "print(gradecsv)"
   ]
  },
  {
   "cell_type": "markdown",
   "id": "2da0c8d3-b08d-4528-8122-40edd01716bc",
   "metadata": {},
   "source": [
    "[Back to the top](#Table_of_Contents)"
   ]
  },
  {
   "cell_type": "markdown",
   "id": "7c27531b-8aa2-4a77-90b8-878d7b38c8ea",
   "metadata": {},
   "source": [
    "<h4>Load_the_excel_file</h4>"
   ]
  },
  {
   "cell_type": "code",
   "execution_count": 36,
   "id": "cc532ed5-8468-491b-b539-013d4cee1962",
   "metadata": {},
   "outputs": [
    {
     "name": "stdout",
     "output_type": "stream",
     "text": [
      "package 'readxl' successfully unpacked and MD5 sums checked\n",
      "\n",
      "The downloaded binary packages are in\n",
      "\tC:\\Users\\kimji\\AppData\\Local\\Temp\\RtmpeUstLR\\downloaded_packages\n"
     ]
    },
    {
     "name": "stderr",
     "output_type": "stream",
     "text": [
      "Warning message:\n",
      "\"package 'readxl' was built under R version 3.6.3\""
     ]
    },
    {
     "name": "stdout",
     "output_type": "stream",
     "text": [
      "Classes 'tbl_df', 'tbl' and 'data.frame':\t50 obs. of  4 variables:\n",
      " $ id   : num  1 2 3 4 5 6 7 8 9 10 ...\n",
      " $ msex : chr  \"Male\" \"Male\" \"Male\" \"Male\" ...\n",
      " $ csex : num  1 1 1 1 1 1 1 1 1 1 ...\n",
      " $ grade: num  3 4 5 3 2 5 4 4 3 2 ...\n"
     ]
    }
   ],
   "source": [
    "# Load the data (read_excel)\n",
    "install.packages('readxl') # install the packages\n",
    "library(readxl) # import the library\n",
    "gradexls <- read_excel(\"example/0203.grade.xlsx\",\n",
    "                       sheet = \"grade\",\n",
    "                       col_names = TRUE,\n",
    "                       na = \"NA\"\n",
    "                      )\n",
    "str(gradexls)"
   ]
  },
  {
   "cell_type": "code",
   "execution_count": 7,
   "id": "9cd88bf9-f9db-4b4a-b715-e1cdc8614bac",
   "metadata": {
    "collapsed": true,
    "jupyter": {
     "outputs_hidden": true
    },
    "tags": []
   },
   "outputs": [
    {
     "data": {
      "text/html": [
       "<table>\n",
       "<thead><tr><th scope=col>id</th><th scope=col>msex</th><th scope=col>csex</th><th scope=col>grade</th></tr></thead>\n",
       "<tbody>\n",
       "\t<tr><td> 1    </td><td>Male  </td><td>1     </td><td>3     </td></tr>\n",
       "\t<tr><td> 2    </td><td>Male  </td><td>1     </td><td>4     </td></tr>\n",
       "\t<tr><td> 3    </td><td>Male  </td><td>1     </td><td>5     </td></tr>\n",
       "\t<tr><td> 4    </td><td>Male  </td><td>1     </td><td>3     </td></tr>\n",
       "\t<tr><td> 5    </td><td>Male  </td><td>1     </td><td>2     </td></tr>\n",
       "\t<tr><td> 6    </td><td>Male  </td><td>1     </td><td>5     </td></tr>\n",
       "\t<tr><td> 7    </td><td>Male  </td><td>1     </td><td>4     </td></tr>\n",
       "\t<tr><td> 8    </td><td>Male  </td><td>1     </td><td>4     </td></tr>\n",
       "\t<tr><td> 9    </td><td>Male  </td><td>1     </td><td>3     </td></tr>\n",
       "\t<tr><td>10    </td><td>Male  </td><td>1     </td><td>2     </td></tr>\n",
       "\t<tr><td>11    </td><td>Male  </td><td>1     </td><td>5     </td></tr>\n",
       "\t<tr><td>12    </td><td>Male  </td><td>1     </td><td>4     </td></tr>\n",
       "\t<tr><td>13    </td><td>Male  </td><td>1     </td><td>4     </td></tr>\n",
       "\t<tr><td>14    </td><td>Male  </td><td>1     </td><td>3     </td></tr>\n",
       "\t<tr><td>15    </td><td>Male  </td><td>1     </td><td>5     </td></tr>\n",
       "\t<tr><td>16    </td><td>Male  </td><td>1     </td><td>4     </td></tr>\n",
       "\t<tr><td>17    </td><td>Male  </td><td>1     </td><td>4     </td></tr>\n",
       "\t<tr><td>18    </td><td>Male  </td><td>1     </td><td>1     </td></tr>\n",
       "\t<tr><td>19    </td><td>Male  </td><td>1     </td><td>2     </td></tr>\n",
       "\t<tr><td>20    </td><td>Male  </td><td>1     </td><td>2     </td></tr>\n",
       "\t<tr><td>21    </td><td>Male  </td><td>1     </td><td>4     </td></tr>\n",
       "\t<tr><td>22    </td><td>Male  </td><td>1     </td><td>3     </td></tr>\n",
       "\t<tr><td>23    </td><td>Male  </td><td>1     </td><td>4     </td></tr>\n",
       "\t<tr><td>24    </td><td>Male  </td><td>1     </td><td>3     </td></tr>\n",
       "\t<tr><td>25    </td><td>Male  </td><td>1     </td><td>4     </td></tr>\n",
       "\t<tr><td>26    </td><td>Female</td><td>2     </td><td>4     </td></tr>\n",
       "\t<tr><td>27    </td><td>Female</td><td>2     </td><td>3     </td></tr>\n",
       "\t<tr><td>28    </td><td>Female</td><td>2     </td><td>4     </td></tr>\n",
       "\t<tr><td>29    </td><td>Female</td><td>2     </td><td>1     </td></tr>\n",
       "\t<tr><td>30    </td><td>Female</td><td>2     </td><td>4     </td></tr>\n",
       "\t<tr><td>31    </td><td>Female</td><td>2     </td><td>4     </td></tr>\n",
       "\t<tr><td>32    </td><td>Female</td><td>2     </td><td>2     </td></tr>\n",
       "\t<tr><td>33    </td><td>Female</td><td>2     </td><td>3     </td></tr>\n",
       "\t<tr><td>34    </td><td>Female</td><td>2     </td><td>5     </td></tr>\n",
       "\t<tr><td>35    </td><td>Female</td><td>2     </td><td>4     </td></tr>\n",
       "\t<tr><td>36    </td><td>Female</td><td>2     </td><td>3     </td></tr>\n",
       "\t<tr><td>37    </td><td>Female</td><td>2     </td><td>4     </td></tr>\n",
       "\t<tr><td>38    </td><td>Female</td><td>2     </td><td>4     </td></tr>\n",
       "\t<tr><td>39    </td><td>Female</td><td>2     </td><td>3     </td></tr>\n",
       "\t<tr><td>40    </td><td>Female</td><td>2     </td><td>4     </td></tr>\n",
       "\t<tr><td>41    </td><td>Female</td><td>2     </td><td>3     </td></tr>\n",
       "\t<tr><td>42    </td><td>Female</td><td>2     </td><td>3     </td></tr>\n",
       "\t<tr><td>43    </td><td>Female</td><td>2     </td><td>2     </td></tr>\n",
       "\t<tr><td>44    </td><td>Female</td><td>2     </td><td>4     </td></tr>\n",
       "\t<tr><td>45    </td><td>Female</td><td>2     </td><td>3     </td></tr>\n",
       "\t<tr><td>46    </td><td>Female</td><td>2     </td><td>4     </td></tr>\n",
       "\t<tr><td>47    </td><td>Female</td><td>2     </td><td>5     </td></tr>\n",
       "\t<tr><td>48    </td><td>Female</td><td>2     </td><td>4     </td></tr>\n",
       "\t<tr><td>49    </td><td>Female</td><td>2     </td><td>3     </td></tr>\n",
       "\t<tr><td>50    </td><td>Female</td><td>2     </td><td>3     </td></tr>\n",
       "</tbody>\n",
       "</table>\n"
      ],
      "text/latex": [
       "\\begin{tabular}{r|llll}\n",
       " id & msex & csex & grade\\\\\n",
       "\\hline\n",
       "\t  1     & Male   & 1      & 3     \\\\\n",
       "\t  2     & Male   & 1      & 4     \\\\\n",
       "\t  3     & Male   & 1      & 5     \\\\\n",
       "\t  4     & Male   & 1      & 3     \\\\\n",
       "\t  5     & Male   & 1      & 2     \\\\\n",
       "\t  6     & Male   & 1      & 5     \\\\\n",
       "\t  7     & Male   & 1      & 4     \\\\\n",
       "\t  8     & Male   & 1      & 4     \\\\\n",
       "\t  9     & Male   & 1      & 3     \\\\\n",
       "\t 10     & Male   & 1      & 2     \\\\\n",
       "\t 11     & Male   & 1      & 5     \\\\\n",
       "\t 12     & Male   & 1      & 4     \\\\\n",
       "\t 13     & Male   & 1      & 4     \\\\\n",
       "\t 14     & Male   & 1      & 3     \\\\\n",
       "\t 15     & Male   & 1      & 5     \\\\\n",
       "\t 16     & Male   & 1      & 4     \\\\\n",
       "\t 17     & Male   & 1      & 4     \\\\\n",
       "\t 18     & Male   & 1      & 1     \\\\\n",
       "\t 19     & Male   & 1      & 2     \\\\\n",
       "\t 20     & Male   & 1      & 2     \\\\\n",
       "\t 21     & Male   & 1      & 4     \\\\\n",
       "\t 22     & Male   & 1      & 3     \\\\\n",
       "\t 23     & Male   & 1      & 4     \\\\\n",
       "\t 24     & Male   & 1      & 3     \\\\\n",
       "\t 25     & Male   & 1      & 4     \\\\\n",
       "\t 26     & Female & 2      & 4     \\\\\n",
       "\t 27     & Female & 2      & 3     \\\\\n",
       "\t 28     & Female & 2      & 4     \\\\\n",
       "\t 29     & Female & 2      & 1     \\\\\n",
       "\t 30     & Female & 2      & 4     \\\\\n",
       "\t 31     & Female & 2      & 4     \\\\\n",
       "\t 32     & Female & 2      & 2     \\\\\n",
       "\t 33     & Female & 2      & 3     \\\\\n",
       "\t 34     & Female & 2      & 5     \\\\\n",
       "\t 35     & Female & 2      & 4     \\\\\n",
       "\t 36     & Female & 2      & 3     \\\\\n",
       "\t 37     & Female & 2      & 4     \\\\\n",
       "\t 38     & Female & 2      & 4     \\\\\n",
       "\t 39     & Female & 2      & 3     \\\\\n",
       "\t 40     & Female & 2      & 4     \\\\\n",
       "\t 41     & Female & 2      & 3     \\\\\n",
       "\t 42     & Female & 2      & 3     \\\\\n",
       "\t 43     & Female & 2      & 2     \\\\\n",
       "\t 44     & Female & 2      & 4     \\\\\n",
       "\t 45     & Female & 2      & 3     \\\\\n",
       "\t 46     & Female & 2      & 4     \\\\\n",
       "\t 47     & Female & 2      & 5     \\\\\n",
       "\t 48     & Female & 2      & 4     \\\\\n",
       "\t 49     & Female & 2      & 3     \\\\\n",
       "\t 50     & Female & 2      & 3     \\\\\n",
       "\\end{tabular}\n"
      ],
      "text/markdown": [
       "\n",
       "| id | msex | csex | grade |\n",
       "|---|---|---|---|\n",
       "|  1     | Male   | 1      | 3      |\n",
       "|  2     | Male   | 1      | 4      |\n",
       "|  3     | Male   | 1      | 5      |\n",
       "|  4     | Male   | 1      | 3      |\n",
       "|  5     | Male   | 1      | 2      |\n",
       "|  6     | Male   | 1      | 5      |\n",
       "|  7     | Male   | 1      | 4      |\n",
       "|  8     | Male   | 1      | 4      |\n",
       "|  9     | Male   | 1      | 3      |\n",
       "| 10     | Male   | 1      | 2      |\n",
       "| 11     | Male   | 1      | 5      |\n",
       "| 12     | Male   | 1      | 4      |\n",
       "| 13     | Male   | 1      | 4      |\n",
       "| 14     | Male   | 1      | 3      |\n",
       "| 15     | Male   | 1      | 5      |\n",
       "| 16     | Male   | 1      | 4      |\n",
       "| 17     | Male   | 1      | 4      |\n",
       "| 18     | Male   | 1      | 1      |\n",
       "| 19     | Male   | 1      | 2      |\n",
       "| 20     | Male   | 1      | 2      |\n",
       "| 21     | Male   | 1      | 4      |\n",
       "| 22     | Male   | 1      | 3      |\n",
       "| 23     | Male   | 1      | 4      |\n",
       "| 24     | Male   | 1      | 3      |\n",
       "| 25     | Male   | 1      | 4      |\n",
       "| 26     | Female | 2      | 4      |\n",
       "| 27     | Female | 2      | 3      |\n",
       "| 28     | Female | 2      | 4      |\n",
       "| 29     | Female | 2      | 1      |\n",
       "| 30     | Female | 2      | 4      |\n",
       "| 31     | Female | 2      | 4      |\n",
       "| 32     | Female | 2      | 2      |\n",
       "| 33     | Female | 2      | 3      |\n",
       "| 34     | Female | 2      | 5      |\n",
       "| 35     | Female | 2      | 4      |\n",
       "| 36     | Female | 2      | 3      |\n",
       "| 37     | Female | 2      | 4      |\n",
       "| 38     | Female | 2      | 4      |\n",
       "| 39     | Female | 2      | 3      |\n",
       "| 40     | Female | 2      | 4      |\n",
       "| 41     | Female | 2      | 3      |\n",
       "| 42     | Female | 2      | 3      |\n",
       "| 43     | Female | 2      | 2      |\n",
       "| 44     | Female | 2      | 4      |\n",
       "| 45     | Female | 2      | 3      |\n",
       "| 46     | Female | 2      | 4      |\n",
       "| 47     | Female | 2      | 5      |\n",
       "| 48     | Female | 2      | 4      |\n",
       "| 49     | Female | 2      | 3      |\n",
       "| 50     | Female | 2      | 3      |\n",
       "\n"
      ],
      "text/plain": [
       "   id msex   csex grade\n",
       "1   1 Male   1    3    \n",
       "2   2 Male   1    4    \n",
       "3   3 Male   1    5    \n",
       "4   4 Male   1    3    \n",
       "5   5 Male   1    2    \n",
       "6   6 Male   1    5    \n",
       "7   7 Male   1    4    \n",
       "8   8 Male   1    4    \n",
       "9   9 Male   1    3    \n",
       "10 10 Male   1    2    \n",
       "11 11 Male   1    5    \n",
       "12 12 Male   1    4    \n",
       "13 13 Male   1    4    \n",
       "14 14 Male   1    3    \n",
       "15 15 Male   1    5    \n",
       "16 16 Male   1    4    \n",
       "17 17 Male   1    4    \n",
       "18 18 Male   1    1    \n",
       "19 19 Male   1    2    \n",
       "20 20 Male   1    2    \n",
       "21 21 Male   1    4    \n",
       "22 22 Male   1    3    \n",
       "23 23 Male   1    4    \n",
       "24 24 Male   1    3    \n",
       "25 25 Male   1    4    \n",
       "26 26 Female 2    4    \n",
       "27 27 Female 2    3    \n",
       "28 28 Female 2    4    \n",
       "29 29 Female 2    1    \n",
       "30 30 Female 2    4    \n",
       "31 31 Female 2    4    \n",
       "32 32 Female 2    2    \n",
       "33 33 Female 2    3    \n",
       "34 34 Female 2    5    \n",
       "35 35 Female 2    4    \n",
       "36 36 Female 2    3    \n",
       "37 37 Female 2    4    \n",
       "38 38 Female 2    4    \n",
       "39 39 Female 2    3    \n",
       "40 40 Female 2    4    \n",
       "41 41 Female 2    3    \n",
       "42 42 Female 2    3    \n",
       "43 43 Female 2    2    \n",
       "44 44 Female 2    4    \n",
       "45 45 Female 2    3    \n",
       "46 46 Female 2    4    \n",
       "47 47 Female 2    5    \n",
       "48 48 Female 2    4    \n",
       "49 49 Female 2    3    \n",
       "50 50 Female 2    3    "
      ]
     },
     "metadata": {},
     "output_type": "display_data"
    }
   ],
   "source": [
    "gradexls"
   ]
  },
  {
   "cell_type": "markdown",
   "id": "22a92a7b-b19c-4d0c-b13d-9325aae66158",
   "metadata": {},
   "source": [
    "[Back to the top](#Table_of_Contents)"
   ]
  },
  {
   "cell_type": "markdown",
   "id": "40a7d258-c55c-40d3-861e-69feadba7b48",
   "metadata": {},
   "source": [
    "<h4>View_the_data_structure</h4>"
   ]
  },
  {
   "cell_type": "code",
   "execution_count": 8,
   "id": "f6863322-04a5-4844-8166-05546926da18",
   "metadata": {},
   "outputs": [
    {
     "name": "stdout",
     "output_type": "stream",
     "text": [
      "Classes 'tbl_df', 'tbl' and 'data.frame':\t50 obs. of  4 variables:\n",
      " $ id   : num  1 2 3 4 5 6 7 8 9 10 ...\n",
      " $ msex : chr  \"Male\" \"Male\" \"Male\" \"Male\" ...\n",
      " $ csex : num  1 1 1 1 1 1 1 1 1 1 ...\n",
      " $ grade: num  3 4 5 3 2 5 4 4 3 2 ...\n"
     ]
    },
    {
     "data": {
      "text/html": [
       "<ol class=list-inline>\n",
       "\t<li>50</li>\n",
       "\t<li>4</li>\n",
       "</ol>\n"
      ],
      "text/latex": [
       "\\begin{enumerate*}\n",
       "\\item 50\n",
       "\\item 4\n",
       "\\end{enumerate*}\n"
      ],
      "text/markdown": [
       "1. 50\n",
       "2. 4\n",
       "\n",
       "\n"
      ],
      "text/plain": [
       "[1] 50  4"
      ]
     },
     "metadata": {},
     "output_type": "display_data"
    },
    {
     "data": {
      "text/plain": [
       "       id            msex                csex         grade     \n",
       " Min.   : 1.00   Length:50          Min.   :1.0   Min.   :1.00  \n",
       " 1st Qu.:13.25   Class :character   1st Qu.:1.0   1st Qu.:3.00  \n",
       " Median :25.50   Mode  :character   Median :1.5   Median :4.00  \n",
       " Mean   :25.50                      Mean   :1.5   Mean   :3.46  \n",
       " 3rd Qu.:37.75                      3rd Qu.:2.0   3rd Qu.:4.00  \n",
       " Max.   :50.00                      Max.   :2.0   Max.   :5.00  "
      ]
     },
     "metadata": {},
     "output_type": "display_data"
    },
    {
     "data": {
      "text/plain": [
       "   Length     Class      Mode \n",
       "       50 character character "
      ]
     },
     "metadata": {},
     "output_type": "display_data"
    }
   ],
   "source": [
    "# View the data structure\n",
    "str(gradexls) # summary of the data structure\n",
    "dim(gradexls) # data row number and whole data number\n",
    "summary(gradexls) # summary of data\n",
    "summary(gradexls$msex) # specific variable summary"
   ]
  },
  {
   "cell_type": "markdown",
   "id": "4e21e571-14fb-480c-966c-bdc5af9d0757",
   "metadata": {},
   "source": [
    "[Back to the top](#Table_of_Contents)"
   ]
  },
  {
   "cell_type": "markdown",
   "id": "bb8c9c2d-5a5b-4dcf-a4e5-dd83b4f0926f",
   "metadata": {},
   "source": [
    "<h3>Factor_and_label</h3>"
   ]
  },
  {
   "cell_type": "markdown",
   "id": "d04d5fc3-936f-40f2-a87e-aaaec22e0cd2",
   "metadata": {},
   "source": [
    "<center><img src=\"img/r_All_kinds_of_objects.png\" ></center> "
   ]
  },
  {
   "cell_type": "code",
   "execution_count": 24,
   "id": "3ad511b4-38a5-42a4-b553-7c6b824b9223",
   "metadata": {
    "collapsed": true,
    "jupyter": {
     "outputs_hidden": true
    },
    "tags": []
   },
   "outputs": [
    {
     "name": "stdout",
     "output_type": "stream",
     "text": [
      "   V1     V2 V3 V4\n",
      "1   1   Male  1  3\n",
      "2   2   Male  1  4\n",
      "3   3   Male  1  5\n",
      "4   4   Male  1  3\n",
      "5   5   Male  1  2\n",
      "6   6   Male  1  5\n",
      "7   7   Male  1  4\n",
      "8   8   Male  1  4\n",
      "9   9   Male  1  3\n",
      "10 10   Male  1  2\n",
      "11 11   Male  1  5\n",
      "12 12   Male  1  4\n",
      "13 13   Male  1  4\n",
      "14 14   Male  1  3\n",
      "15 15   Male  1  5\n",
      "16 16   Male  1  4\n",
      "17 17   Male  1  4\n",
      "18 18   Male  1  1\n",
      "19 19   Male  1  2\n",
      "20 20   Male  1  2\n",
      "21 21   Male  1  4\n",
      "22 22   Male  1  3\n",
      "23 23   Male  1  4\n",
      "24 24   Male  1  3\n",
      "25 25   Male  1  4\n",
      "26 26 Female  2  4\n",
      "27 27 Female  2  3\n",
      "28 28 Female  2  4\n",
      "29 29 Female  2  1\n",
      "30 30 Female  2  4\n",
      "31 31 Female  2  4\n",
      "32 32 Female  2  2\n",
      "33 33 Female  2  3\n",
      "34 34 Female  2  5\n",
      "35 35 Female  2  4\n",
      "36 36 Female  2  3\n",
      "37 37 Female  2  4\n",
      "38 38 Female  2  4\n",
      "39 39 Female  2  3\n",
      "40 40 Female  2  4\n",
      "41 41 Female  2  3\n",
      "42 42 Female  2  3\n",
      "43 43 Female  2  2\n",
      "44 44 Female  2  4\n",
      "45 45 Female  2  3\n",
      "46 46 Female  2  4\n",
      "47 47 Female  2  5\n",
      "48 48 Female  2  4\n",
      "49 49 Female  2  3\n",
      "50 50 Female  2  3\n"
     ]
    },
    {
     "name": "stderr",
     "output_type": "stream",
     "text": [
      "Warning message in xy.coords(x, y, xlabel, ylabel, log):\n",
      "\"NAs introduced by coercion\"Warning message in min(x):\n",
      "\"no non-missing arguments to min; returning Inf\"Warning message in max(x):\n",
      "\"no non-missing arguments to max; returning -Inf\""
     ]
    },
    {
     "ename": "ERROR",
     "evalue": "Error in plot.window(...): need finite 'xlim' values\n",
     "output_type": "error",
     "traceback": [
      "Error in plot.window(...): need finite 'xlim' values\nTraceback:\n",
      "1. plot(x = gradetxt$V2, y = gradetxt$V4)",
      "2. plot.default(x = gradetxt$V2, y = gradetxt$V4)",
      "3. localWindow(xlim, ylim, log, asp, ...)",
      "4. plot.window(...)"
     ]
    },
    {
     "data": {
      "image/png": "[encoded data removed]",
      "text/plain": [
       "plot without title"
      ]
     },
     "metadata": {},
     "output_type": "display_data"
    }
   ],
   "source": [
    "# factor (handle the qualitative (categorical) variable)\n",
    "gradetxt <- read.table(\"example/0201.grade.txt\",\n",
    "                       header=FALSE,\n",
    "                       sep = \"\\t\",\n",
    "                       stringsAsFactor = FALSE,\n",
    "                       na.strings = \"\"\n",
    "                      )\n",
    "\n",
    "# without handling factor\n",
    "print(gradetxt)\n",
    "plot(x = gradetxt$V2, y = gradetxt$V4) # Error in plot"
   ]
  },
  {
   "cell_type": "code",
   "execution_count": 25,
   "id": "a7ecba66-17a7-4f56-94d6-ba680b0439b8",
   "metadata": {},
   "outputs": [
    {
     "name": "stdout",
     "output_type": "stream",
     "text": [
      " Factor w/ 2 levels \"Male\",\"Female\": 1 1 1 1 1 1 1 1 1 1 ...\n"
     ]
    },
    {
     "data": {
      "text/plain": [
       "\n",
       "  Male Female \n",
       "    25     25 "
      ]
     },
     "metadata": {},
     "output_type": "display_data"
    },
    {
     "data": {
      "image/png": "[encoded data removed]",
      "text/plain": [
       "plot without title"
      ]
     },
     "metadata": {},
     "output_type": "display_data"
    }
   ],
   "source": [
    "# Character type data factor\n",
    "# with handling factor\n",
    "gradetxt$V2 <- factor(gradetxt$V2,\n",
    "                      levels = c(\"Male\", \"Female\")\n",
    "                     )\n",
    "str(gradetxt$V2)\n",
    "table(gradetxt$V2)\n",
    "plot(x = gradetxt$V2, y = gradetxt$V4)"
   ]
  },
  {
   "cell_type": "code",
   "execution_count": 26,
   "id": "7892e1e7-5d48-426e-9768-74628bfa048e",
   "metadata": {},
   "outputs": [
    {
     "name": "stdout",
     "output_type": "stream",
     "text": [
      " Factor w/ 2 levels \"1\",\"2\": 1 1 1 1 1 1 1 1 1 1 ...\n"
     ]
    },
    {
     "data": {
      "text/plain": [
       "\n",
       " 1  2 \n",
       "25 25 "
      ]
     },
     "metadata": {},
     "output_type": "display_data"
    }
   ],
   "source": [
    "# Numeric variable factor\n",
    "gradetxt$V3 <- factor(gradetxt$V3,\n",
    "                      levels = c(1,2)\n",
    "                     )\n",
    "str(gradetxt$V3)\n",
    "table(gradetxt$V3)"
   ]
  },
  {
   "cell_type": "code",
   "execution_count": 27,
   "id": "79c35cc3-c38a-40d9-985f-07c4a243efb2",
   "metadata": {},
   "outputs": [
    {
     "name": "stdout",
     "output_type": "stream",
     "text": [
      " Factor w/ 2 levels \"M\",\"F\": 1 1 1 1 1 1 1 1 1 1 ...\n"
     ]
    },
    {
     "data": {
      "text/plain": [
       "\n",
       " M  F \n",
       "25 25 "
      ]
     },
     "metadata": {},
     "output_type": "display_data"
    }
   ],
   "source": [
    "gradetxt$V3 <- factor(gradetxt$V3,\n",
    "                      levels = c(1,2),\n",
    "                      labels = c(\"M\",\"F\")\n",
    "                     )\n",
    "str(gradetxt$V3)\n",
    "table(gradetxt$V3)"
   ]
  },
  {
   "cell_type": "markdown",
   "id": "09fb54e3-b995-4638-a6fa-f6374da52c12",
   "metadata": {},
   "source": [
    "[Back to the top](#Table_of_Contents)"
   ]
  },
  {
   "cell_type": "markdown",
   "id": "49384bdc-9a22-42a9-a066-d7a2be8465ba",
   "metadata": {},
   "source": [
    "<h3>Export_the_data</h3>"
   ]
  },
  {
   "cell_type": "markdown",
   "id": "cafbf264-a0ff-47c1-bee3-9c93b0131224",
   "metadata": {},
   "source": [
    "<h4>Export_the_txt_file</h4>"
   ]
  },
  {
   "cell_type": "code",
   "execution_count": 28,
   "id": "9e6cfdbd-4cb5-484c-a2e2-6bc62d38bc9b",
   "metadata": {},
   "outputs": [
    {
     "name": "stdout",
     "output_type": "stream",
     "text": [
      "'data.frame':\t50 obs. of  4 variables:\n",
      " $ V1: int  1 2 3 4 5 6 7 8 9 10 ...\n",
      " $ V2: Factor w/ 2 levels \"Male\",\"Female\": 1 1 1 1 1 1 1 1 1 1 ...\n",
      " $ V3: Factor w/ 2 levels \"M\",\"F\": 1 1 1 1 1 1 1 1 1 1 ...\n",
      " $ V4: int  3 4 5 3 2 5 4 4 3 2 ...\n"
     ]
    }
   ],
   "source": [
    "# Export the data (write.txt)\n",
    "str(gradetxt)\n",
    "\n",
    "write.table(gradetxt,\n",
    "            file = \"example/output/gradetxt.txt\",\n",
    "            row.names = FALSE,\n",
    "            na = \"\",\n",
    "            col.names = FALSE,\n",
    "            sep = \",\"\n",
    "           )"
   ]
  },
  {
   "cell_type": "code",
   "execution_count": 29,
   "id": "2b2fca8b-6d18-4cf5-9e3f-20db9aeaac8a",
   "metadata": {},
   "outputs": [
    {
     "name": "stdout",
     "output_type": "stream",
     "text": [
      "'data.frame':\t50 obs. of  4 variables:\n",
      " $ V1: int  1 2 3 4 5 6 7 8 9 10 ...\n",
      " $ V2: Factor w/ 2 levels \"Male\",\"Female\": 1 1 1 1 1 1 1 1 1 1 ...\n",
      " $ V3: Factor w/ 2 levels \"M\",\"F\": 1 1 1 1 1 1 1 1 1 1 ...\n",
      " $ V4: int  3 4 5 3 2 5 4 4 3 2 ...\n",
      "'data.frame':\t50 obs. of  4 variables:\n",
      " $ V1: int  1 2 3 4 5 6 7 8 9 10 ...\n",
      " $ V2: chr  \"Male\" \"Male\" \"Male\" \"Male\" ...\n",
      " $ V3: chr  \"M\" \"M\" \"M\" \"M\" ...\n",
      " $ V4: int  3 4 5 3 2 5 4 4 3 2 ...\n"
     ]
    }
   ],
   "source": [
    "# Reload the data (read.table)\n",
    "gradetxt1 <- read.table(\"example/output/gradetxt.txt\",\n",
    "                        header = FALSE,\n",
    "                        sep = \",\",\n",
    "                        stringsAsFactor = FALSE,\n",
    "                        na.strings = \"\"\n",
    "                       )\n",
    "# V3 converts from number to character type and saves\n",
    "str(gradetxt)\n",
    "str(gradetxt1)"
   ]
  },
  {
   "cell_type": "markdown",
   "id": "9d09ef4b-d52a-4ac8-845f-2fe2de07cdde",
   "metadata": {},
   "source": [
    "[Back to the top](#Table_of_Contents)"
   ]
  },
  {
   "cell_type": "markdown",
   "id": "8a65ae28-93fc-4eee-ad5e-07c60af926a2",
   "metadata": {},
   "source": [
    "<h4>Export_the_csv_file</h4>"
   ]
  },
  {
   "cell_type": "code",
   "execution_count": 34,
   "id": "a5664c7b-3efa-4eb5-85ff-871d825e28a1",
   "metadata": {},
   "outputs": [],
   "source": [
    "# Export the data (write.csv)\n",
    "write.csv(gradecsv,\n",
    "          file = \"example/output/gradecsv.csv\",\n",
    "          row.names=FALSE,\n",
    "          na=\"\"\n",
    "         )"
   ]
  },
  {
   "cell_type": "markdown",
   "id": "16057622-3ecb-40e3-8fb4-1c6eff7dd13d",
   "metadata": {},
   "source": [
    "[Back to the top](#Table_of_Contents)"
   ]
  },
  {
   "cell_type": "markdown",
   "id": "0e57cb11-c5d8-4b1d-b9a7-6b0b15421309",
   "metadata": {},
   "source": [
    "<h4>Export_the_excel_file</h4>"
   ]
  },
  {
   "cell_type": "code",
   "execution_count": 37,
   "id": "9e59563f-fcd6-4476-8cf7-6a5c66c97559",
   "metadata": {},
   "outputs": [
    {
     "name": "stdout",
     "output_type": "stream",
     "text": [
      "Classes 'tbl_df', 'tbl' and 'data.frame':\t50 obs. of  4 variables:\n",
      " $ id   : num  1 2 3 4 5 6 7 8 9 10 ...\n",
      " $ msex : chr  \"Male\" \"Male\" \"Male\" \"Male\" ...\n",
      " $ csex : num  1 1 1 1 1 1 1 1 1 1 ...\n",
      " $ grade: num  3 4 5 3 2 5 4 4 3 2 ...\n"
     ]
    }
   ],
   "source": [
    "# Export the data (write_xlsx)\n",
    "str(gradexls)"
   ]
  },
  {
   "cell_type": "code",
   "execution_count": 38,
   "id": "a643e322-6114-4194-851e-2e09d9b1c74a",
   "metadata": {},
   "outputs": [
    {
     "name": "stdout",
     "output_type": "stream",
     "text": [
      "package 'writexl' successfully unpacked and MD5 sums checked\n",
      "\n",
      "The downloaded binary packages are in\n",
      "\tC:\\Users\\kimji\\AppData\\Local\\Temp\\RtmpeUstLR\\downloaded_packages\n"
     ]
    },
    {
     "name": "stderr",
     "output_type": "stream",
     "text": [
      "Warning message:\n",
      "\"package 'writexl' was built under R version 3.6.3\""
     ]
    }
   ],
   "source": [
    "install.packages(\"writexl\")\n",
    "library(writexl)\n",
    "write_xlsx(gradexls,\n",
    "           path = \"example/output/gradexls.xlsx\"\n",
    "          )"
   ]
  },
  {
   "cell_type": "markdown",
   "id": "19a83a6b-aacd-401b-b6ef-f906789a3ef9",
   "metadata": {},
   "source": [
    "[Back to the top](#Table_of_Contents)"
   ]
  },
  {
   "cell_type": "markdown",
   "id": "cacabe43-639d-41e4-9aaf-93c8a36537ad",
   "metadata": {},
   "source": [
    "<h4>Export_the_data_as_R</h4>"
   ]
  },
  {
   "cell_type": "code",
   "execution_count": 39,
   "id": "ae24aec6-395d-478e-b6f9-591bfe368127",
   "metadata": {},
   "outputs": [],
   "source": [
    "# Export the data as R data\n",
    "save(gradetxt, file=\"example/output/grade.RData\")"
   ]
  },
  {
   "cell_type": "code",
   "execution_count": 40,
   "id": "c86d4ea2-e0b5-4053-afac-45f102e94c59",
   "metadata": {},
   "outputs": [],
   "source": [
    "load(file=\"example/output/grade.RData\")"
   ]
  },
  {
   "cell_type": "markdown",
   "id": "35fa257c-8465-4223-a539-c3b8f8b247d1",
   "metadata": {},
   "source": [
    "[Back to the top](#Table_of_Contents)"
   ]
  },
  {
   "cell_type": "markdown",
   "id": "1d8f6b3a-4ba6-472d-b79c-07157ae4fb4d",
   "metadata": {},
   "source": [
    "<h2>References</h2>"
   ]
  },
  {
   "cell_type": "markdown",
   "id": "dc77c9a5-209c-4c3b-9401-f4077a339b08",
   "metadata": {},
   "source": [
    "Intoduction of the data structure in R, please refer to the link below: <br>\n",
    "[Ch02_01.R 데이터 처리(데이터구조)01](https://youtu.be/DJZGU6DieNs) <br>\n",
    "[Ch02_02.R 데이터 처리(벡터)02](https://youtu.be/PsizlmG1ZQ0) <br>\n",
    "[Ch02_03.R 데이터 처리(행렬과 벡터)03](https://youtu.be/OuT9jIr2Or4) <br>\n",
    "[Ch02_04.R 데이터 처리(데이터프레임과 리스트)04](https://youtu.be/bvvKJpTlP-s) <br>\n",
    "[R 데이터 구조 (Data Structure in R) : scala, vector, factor, matrix, array, dataframe, list](https://rfriend.tistory.com/14?category=601862)\n",
    "\n",
    "Intoduction of the data input and output in R, please refer to the link below: <br>\n",
    "[Ch02_05.R 데이터 처리(txt데이터가져오기)05](https://youtu.be/NXxfNWYUxyg) <br>\n",
    "[Ch02_06.R 데이터 처리(csv데이터가져오기)06](https://youtu.be/RH82mghumAg) <br>\n",
    "[Ch02_07.R 데이터 처리(excel데이터가져오기)07](https://youtu.be/WAsnbhQOiQ4) <br>\n",
    "[Ch03_01.R 기술통계분석(범주형)(작업환경설정)01](https://youtu.be/fXjy0w-QEgA) <br>\n",
    "[Ch03_02.R 기술통계분석(범주형)(데이터 내보내기 1/2)02](https://youtu.be/8a-0cw07Iao) <br>\n",
    "[Ch03_03.R 기술통계분석(범주형)(데이터 내보내기 2/2)03](https://youtu.be/sZt1rfiyHS8)"
   ]
  },
  {
   "cell_type": "code",
   "execution_count": null,
   "id": "52e15e03-89ce-48ac-bffa-f1181af9c621",
   "metadata": {},
   "outputs": [],
   "source": []
  }
 ],
 "metadata": {
  "kernelspec": {
   "display_name": "R",
   "language": "R",
   "name": "ir"
  },
  "language_info": {
   "codemirror_mode": "r",
   "file_extension": ".r",
   "mimetype": "text/x-r-source",
   "name": "R",
   "pygments_lexer": "r",
   "version": "3.6.1"
  },
  "toc-autonumbering": false
 },
 "nbformat": 4,
 "nbformat_minor": 5
}
