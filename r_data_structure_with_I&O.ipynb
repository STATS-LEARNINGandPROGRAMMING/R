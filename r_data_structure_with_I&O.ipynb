{
 "cells": [
  {
   "cell_type": "markdown",
   "id": "d1f927d5-e23e-498c-b9bd-5179dc949de9",
   "metadata": {},
   "source": [
    "<h2>Table_of_Contents</h2>"
   ]
  },
  {
   "cell_type": "markdown",
   "id": "4459199f-8365-426e-bd69-9c44c7f3e730",
   "metadata": {},
   "source": [
    "- [R data structure with I/O](#R_data_structure_with_I/O)\n",
    "    - [Data structure](#Data_structure)\n",
    "        - [Scalar](#Scalar)\n",
    "        - [Vector](#Vector)\n",
    "        - [Matrix](#Matrix)\n",
    "        - [Array](#Array)\n",
    "        - [Data frame](#Data_frame)\n",
    "        - [List](#List)\n",
    "    - [Load the data](#Load_the_data)\n",
    "        - [Load the txt file](#Load_the_txt_file)\n",
    "        - [Load the csv file](#Load_the_csv_file)\n",
    "        - [Load the excel file](#Load_the_excel_file)\n",
    "        - [View the data structure](#View_the_data_structure)\n",
    "    - [Factor and label](#Factor_and_label)\n",
    "    - [Export the data](#Export_the_data)\n",
    "        - [Export the txt file](#Export_the_txt_file)\n",
    "        - [Export the csv file](#Export_the_csv_file)\n",
    "        - [Export the excel file](#Export_the_excel_file)\n",
    "        - [Export the data as R](#Export_the_data_as_R)\n",
    "    - [Manipulate the data](#Manipulate_the_data)\n",
    "- [References](#References)"
   ]
  },
  {
   "cell_type": "markdown",
   "id": "66efd447-f814-424a-8a60-b136c6d797af",
   "metadata": {},
   "source": [
    "<h3>R_data_structure_with_I/O</h3>"
   ]
  },
  {
   "cell_type": "markdown",
   "id": "b5640543-ff65-4297-afc2-ea3e09fe60b0",
   "metadata": {},
   "source": [
    "<h4>Data_structure</h4>"
   ]
  },
  {
   "cell_type": "markdown",
   "id": "76aeac76-8ba1-4cd7-8030-f6acc6049d84",
   "metadata": {},
   "source": [
    "<center><img src=\"img/r_Data_structure.png\" ></center> "
   ]
  },
  {
   "cell_type": "markdown",
   "id": "ec6b8294-4f9b-4988-ad36-d96644e0da4b",
   "metadata": {},
   "source": [
    "<li>Save only with the same data type: scalar, vector, matrix, array</li>\n",
    "<li>Different types of data types can be stored: data frames, lists</li>"
   ]
  },
  {
   "cell_type": "markdown",
   "id": "fcb69f25-6fe3-4cee-87b3-77592cbd0da1",
   "metadata": {},
   "source": [
    "<h5>Scalar</h5>"
   ]
  },
  {
   "cell_type": "code",
   "execution_count": 4,
   "id": "9fdb3be5-cb06-43a7-bc9f-e2cfd0c820e9",
   "metadata": {},
   "outputs": [
    {
     "data": {
      "text/html": [
       "1"
      ],
      "text/latex": [
       "1"
      ],
      "text/markdown": [
       "1"
      ],
      "text/plain": [
       "[1] 1"
      ]
     },
     "metadata": {},
     "output_type": "display_data"
    }
   ],
   "source": [
    "# Scalar\n",
    "c(1)"
   ]
  },
  {
   "cell_type": "markdown",
   "id": "ef186031-a97d-4ae6-adc1-acd819d6fe5c",
   "metadata": {},
   "source": [
    "[Back to the top](#Table_of_Contents)"
   ]
  },
  {
   "cell_type": "markdown",
   "id": "31e4db04-e7e7-4645-8113-281acd7a9bc8",
   "metadata": {},
   "source": [
    "<h5>Vector</h5>"
   ]
  },
  {
   "cell_type": "code",
   "execution_count": 9,
   "id": "68b32b63-da15-4f53-820f-5e394144c1a2",
   "metadata": {},
   "outputs": [
    {
     "data": {
      "text/html": [
       "<ol class=list-inline>\n",
       "\t<li>1</li>\n",
       "\t<li>2</li>\n",
       "\t<li>3</li>\n",
       "\t<li>4</li>\n",
       "</ol>\n"
      ],
      "text/latex": [
       "\\begin{enumerate*}\n",
       "\\item 1\n",
       "\\item 2\n",
       "\\item 3\n",
       "\\item 4\n",
       "\\end{enumerate*}\n"
      ],
      "text/markdown": [
       "1. 1\n",
       "2. 2\n",
       "3. 3\n",
       "4. 4\n",
       "\n",
       "\n"
      ],
      "text/plain": [
       "[1] 1 2 3 4"
      ]
     },
     "metadata": {},
     "output_type": "display_data"
    }
   ],
   "source": [
    "# Vector (c) - Numeric data type\n",
    "num <- c(1,2,3,4) # c(1:4)\n",
    "num\n",
    "# View(num) # only working in RStudio"
   ]
  },
  {
   "cell_type": "code",
   "execution_count": 10,
   "id": "54e68e9e-687f-4433-b740-f559782232d9",
   "metadata": {},
   "outputs": [
    {
     "data": {
      "text/html": [
       "<table>\n",
       "<tbody>\n",
       "\t<tr><td>1</td><td>2</td><td>3</td><td>4</td></tr>\n",
       "</tbody>\n",
       "</table>\n"
      ],
      "text/latex": [
       "\\begin{tabular}{llll}\n",
       "\t 1 & 2 & 3 & 4\\\\\n",
       "\\end{tabular}\n"
      ],
      "text/markdown": [
       "\n",
       "| 1 | 2 | 3 | 4 |\n",
       "\n"
      ],
      "text/plain": [
       "     [,1] [,2] [,3] [,4]\n",
       "[1,] 1    2    3    4   "
      ]
     },
     "metadata": {},
     "output_type": "display_data"
    }
   ],
   "source": [
    "num.T <- t(num) # Transpose column vector to row vector\n",
    "num.T\n",
    "# View(numT) # only working in RStudio"
   ]
  },
  {
   "cell_type": "code",
   "execution_count": 12,
   "id": "a37ed133-8d91-4013-8caf-386c59c778a7",
   "metadata": {},
   "outputs": [
    {
     "data": {
      "text/html": [
       "<table>\n",
       "<tbody>\n",
       "\t<tr><td>1 </td><td>2 </td><td> 3</td><td> 4</td></tr>\n",
       "\t<tr><td>2 </td><td>4 </td><td> 6</td><td> 8</td></tr>\n",
       "\t<tr><td>3 </td><td>6 </td><td> 9</td><td>12</td></tr>\n",
       "\t<tr><td>4 </td><td>8 </td><td>12</td><td>16</td></tr>\n",
       "</tbody>\n",
       "</table>\n"
      ],
      "text/latex": [
       "\\begin{tabular}{llll}\n",
       "\t 1  & 2  &  3 &  4\\\\\n",
       "\t 2  & 4  &  6 &  8\\\\\n",
       "\t 3  & 6  &  9 & 12\\\\\n",
       "\t 4  & 8  & 12 & 16\\\\\n",
       "\\end{tabular}\n"
      ],
      "text/markdown": [
       "\n",
       "| 1  | 2  |  3 |  4 |\n",
       "| 2  | 4  |  6 |  8 |\n",
       "| 3  | 6  |  9 | 12 |\n",
       "| 4  | 8  | 12 | 16 |\n",
       "\n"
      ],
      "text/plain": [
       "     [,1] [,2] [,3] [,4]\n",
       "[1,] 1    2     3    4  \n",
       "[2,] 2    4     6    8  \n",
       "[3,] 3    6     9   12  \n",
       "[4,] 4    8    12   16  "
      ]
     },
     "metadata": {},
     "output_type": "display_data"
    }
   ],
   "source": [
    "num %*% num.T # Vector multiplication (4*1 X 1*4) = 4*4"
   ]
  },
  {
   "cell_type": "code",
   "execution_count": 13,
   "id": "d1a608bc-9806-4cbd-b2e7-e8755dc60bde",
   "metadata": {},
   "outputs": [
    {
     "data": {
      "text/html": [
       "<table>\n",
       "<tbody>\n",
       "\t<tr><td>30</td></tr>\n",
       "</tbody>\n",
       "</table>\n"
      ],
      "text/latex": [
       "\\begin{tabular}{l}\n",
       "\t 30\\\\\n",
       "\\end{tabular}\n"
      ],
      "text/markdown": [
       "\n",
       "| 30 |\n",
       "\n"
      ],
      "text/plain": [
       "     [,1]\n",
       "[1,] 30  "
      ]
     },
     "metadata": {},
     "output_type": "display_data"
    }
   ],
   "source": [
    "num.T %*% num # Vector multiplication (1*4 X 4*1) = 1*1"
   ]
  },
  {
   "cell_type": "code",
   "execution_count": 14,
   "id": "082d0392-a83c-4cff-b2e5-6a0fe18018fa",
   "metadata": {},
   "outputs": [
    {
     "data": {
      "text/html": [
       "<ol class=list-inline>\n",
       "\t<li>'M'</li>\n",
       "\t<li>'F'</li>\n",
       "\t<li>'F'</li>\n",
       "\t<li>'M'</li>\n",
       "</ol>\n"
      ],
      "text/latex": [
       "\\begin{enumerate*}\n",
       "\\item 'M'\n",
       "\\item 'F'\n",
       "\\item 'F'\n",
       "\\item 'M'\n",
       "\\end{enumerate*}\n"
      ],
      "text/markdown": [
       "1. 'M'\n",
       "2. 'F'\n",
       "3. 'F'\n",
       "4. 'M'\n",
       "\n",
       "\n"
      ],
      "text/plain": [
       "[1] \"M\" \"F\" \"F\" \"M\""
      ]
     },
     "metadata": {},
     "output_type": "display_data"
    },
    {
     "data": {
      "text/html": [
       "<ol class=list-inline>\n",
       "\t<li>TRUE</li>\n",
       "\t<li>FALSE</li>\n",
       "\t<li>FALSE</li>\n",
       "\t<li>TRUE</li>\n",
       "</ol>\n"
      ],
      "text/latex": [
       "\\begin{enumerate*}\n",
       "\\item TRUE\n",
       "\\item FALSE\n",
       "\\item FALSE\n",
       "\\item TRUE\n",
       "\\end{enumerate*}\n"
      ],
      "text/markdown": [
       "1. TRUE\n",
       "2. FALSE\n",
       "3. FALSE\n",
       "4. TRUE\n",
       "\n",
       "\n"
      ],
      "text/plain": [
       "[1]  TRUE FALSE FALSE  TRUE"
      ]
     },
     "metadata": {},
     "output_type": "display_data"
    }
   ],
   "source": [
    "# character, logical data type\n",
    "c(\"M\",\"F\",\"F\",\"M\")\n",
    "c(TRUE, FALSE, FALSE, TRUE)"
   ]
  },
  {
   "cell_type": "markdown",
   "id": "0bd78547-64d7-4c51-bff2-3089010a01bf",
   "metadata": {},
   "source": [
    "[Back to the top](#Table_of_Contents)"
   ]
  },
  {
   "cell_type": "markdown",
   "id": "a9c6ad2d-9576-414f-9de5-aee414f50f43",
   "metadata": {},
   "source": [
    "<h5>Matrix</h5>"
   ]
  },
  {
   "cell_type": "code",
   "execution_count": 18,
   "id": "2184ccc8-3c8d-4423-adb3-6943a1fa72b6",
   "metadata": {},
   "outputs": [
    {
     "name": "stdout",
     "output_type": "stream",
     "text": [
      " [1]  1  2  3  4  5  6  7  8  9 10 11 12\n",
      "     [,1] [,2] [,3]\n",
      "[1,]    1    5    9\n",
      "[2,]    2    6   10\n",
      "[3,]    3    7   11\n",
      "[4,]    4    8   12\n"
     ]
    }
   ],
   "source": [
    "m <- 1:12\n",
    "print(m)\n",
    "\n",
    "# Matrix (Matrix 4x3)\n",
    "mtx <- matrix(m, nrow=4)\n",
    "print(mtx)"
   ]
  },
  {
   "cell_type": "code",
   "execution_count": 19,
   "id": "530c8bfd-cd59-4d1e-8bf6-9cb16136e38c",
   "metadata": {},
   "outputs": [
    {
     "data": {
      "text/html": [
       "7"
      ],
      "text/latex": [
       "7"
      ],
      "text/markdown": [
       "7"
      ],
      "text/plain": [
       "[1] 7"
      ]
     },
     "metadata": {},
     "output_type": "display_data"
    }
   ],
   "source": [
    "mtx[3,2]"
   ]
  },
  {
   "cell_type": "code",
   "execution_count": 1,
   "id": "074455d1",
   "metadata": {
    "scrolled": true
   },
   "outputs": [
    {
     "data": {
      "text/html": [
       "<ol class=list-inline>\n",
       "\t<li>2</li>\n",
       "\t<li>3</li>\n",
       "</ol>\n"
      ],
      "text/latex": [
       "\\begin{enumerate*}\n",
       "\\item 2\n",
       "\\item 3\n",
       "\\end{enumerate*}\n"
      ],
      "text/markdown": [
       "1. 2\n",
       "2. 3\n",
       "\n",
       "\n"
      ],
      "text/plain": [
       "[1] 2 3"
      ]
     },
     "metadata": {},
     "output_type": "display_data"
    },
    {
     "data": {
      "text/html": [
       "<table>\n",
       "<tbody>\n",
       "\t<tr><td>1</td><td>3</td><td>5</td></tr>\n",
       "\t<tr><td>2</td><td>4</td><td>6</td></tr>\n",
       "</tbody>\n",
       "</table>\n"
      ],
      "text/latex": [
       "\\begin{tabular}{lll}\n",
       "\t 1 & 3 & 5\\\\\n",
       "\t 2 & 4 & 6\\\\\n",
       "\\end{tabular}\n"
      ],
      "text/markdown": [
       "\n",
       "| 1 | 3 | 5 |\n",
       "| 2 | 4 | 6 |\n",
       "\n"
      ],
      "text/plain": [
       "     [,1] [,2] [,3]\n",
       "[1,] 1    3    5   \n",
       "[2,] 2    4    6   "
      ]
     },
     "metadata": {},
     "output_type": "display_data"
    }
   ],
   "source": [
    "mat.ex = matrix(c(1,2,3,4,5,6), nrow = 2)\n",
    "dim(mat.ex)\n",
    "mat.ex"
   ]
  },
  {
   "cell_type": "markdown",
   "id": "288e237a",
   "metadata": {},
   "source": [
    "It is easy to construct diagonal matrices and extract diagonals from matrices in R. The same command is use."
   ]
  },
  {
   "cell_type": "code",
   "execution_count": 6,
   "id": "a64df9a8",
   "metadata": {
    "scrolled": true
   },
   "outputs": [
    {
     "data": {
      "text/html": [
       "<ol class=list-inline>\n",
       "\t<li>1</li>\n",
       "\t<li>5</li>\n",
       "\t<li>9</li>\n",
       "</ol>\n"
      ],
      "text/latex": [
       "\\begin{enumerate*}\n",
       "\\item 1\n",
       "\\item 5\n",
       "\\item 9\n",
       "\\end{enumerate*}\n"
      ],
      "text/markdown": [
       "1. 1\n",
       "2. 5\n",
       "3. 9\n",
       "\n",
       "\n"
      ],
      "text/plain": [
       "[1] 1 5 9"
      ]
     },
     "metadata": {},
     "output_type": "display_data"
    },
    {
     "data": {
      "text/html": [
       "<table>\n",
       "<tbody>\n",
       "\t<tr><td>1</td><td>0</td><td>0</td></tr>\n",
       "\t<tr><td>0</td><td>2</td><td>0</td></tr>\n",
       "\t<tr><td>0</td><td>0</td><td>3</td></tr>\n",
       "</tbody>\n",
       "</table>\n"
      ],
      "text/latex": [
       "\\begin{tabular}{lll}\n",
       "\t 1 & 0 & 0\\\\\n",
       "\t 0 & 2 & 0\\\\\n",
       "\t 0 & 0 & 3\\\\\n",
       "\\end{tabular}\n"
      ],
      "text/markdown": [
       "\n",
       "| 1 | 0 | 0 |\n",
       "| 0 | 2 | 0 |\n",
       "| 0 | 0 | 3 |\n",
       "\n"
      ],
      "text/plain": [
       "     [,1] [,2] [,3]\n",
       "[1,] 1    0    0   \n",
       "[2,] 0    2    0   \n",
       "[3,] 0    0    3   "
      ]
     },
     "metadata": {},
     "output_type": "display_data"
    },
    {
     "data": {
      "text/html": [
       "<table>\n",
       "<tbody>\n",
       "\t<tr><td>1</td><td>4</td><td>7</td></tr>\n",
       "\t<tr><td>2</td><td>5</td><td>8</td></tr>\n",
       "\t<tr><td>3</td><td>6</td><td>9</td></tr>\n",
       "</tbody>\n",
       "</table>\n"
      ],
      "text/latex": [
       "\\begin{tabular}{lll}\n",
       "\t 1 & 4 & 7\\\\\n",
       "\t 2 & 5 & 8\\\\\n",
       "\t 3 & 6 & 9\\\\\n",
       "\\end{tabular}\n"
      ],
      "text/markdown": [
       "\n",
       "| 1 | 4 | 7 |\n",
       "| 2 | 5 | 8 |\n",
       "| 3 | 6 | 9 |\n",
       "\n"
      ],
      "text/plain": [
       "     [,1] [,2] [,3]\n",
       "[1,] 1    4    7   \n",
       "[2,] 2    5    8   \n",
       "[3,] 3    6    9   "
      ]
     },
     "metadata": {},
     "output_type": "display_data"
    },
    {
     "data": {
      "text/html": [
       "<table>\n",
       "<tbody>\n",
       "\t<tr><td>1</td><td>4</td><td>7</td></tr>\n",
       "\t<tr><td>2</td><td>1</td><td>8</td></tr>\n",
       "\t<tr><td>3</td><td>6</td><td>1</td></tr>\n",
       "</tbody>\n",
       "</table>\n"
      ],
      "text/latex": [
       "\\begin{tabular}{lll}\n",
       "\t 1 & 4 & 7\\\\\n",
       "\t 2 & 1 & 8\\\\\n",
       "\t 3 & 6 & 1\\\\\n",
       "\\end{tabular}\n"
      ],
      "text/markdown": [
       "\n",
       "| 1 | 4 | 7 |\n",
       "| 2 | 1 | 8 |\n",
       "| 3 | 6 | 1 |\n",
       "\n"
      ],
      "text/plain": [
       "     [,1] [,2] [,3]\n",
       "[1,] 1    4    7   \n",
       "[2,] 2    1    8   \n",
       "[3,] 3    6    1   "
      ]
     },
     "metadata": {},
     "output_type": "display_data"
    }
   ],
   "source": [
    "a = matrix(1:9, nrow = 3)\n",
    "diag(a)\n",
    "\n",
    "diag(c(1,2,3))\n",
    "\n",
    "# you can even change the diagonal of the matrix\n",
    "# Here I'll change it to 1s\n",
    "a\n",
    "diag(a) = 1\n",
    "a"
   ]
  },
  {
   "cell_type": "markdown",
   "id": "3aac3e4b",
   "metadata": {},
   "source": [
    "Basic math with matrices"
   ]
  },
  {
   "cell_type": "markdown",
   "id": "c5456c28",
   "metadata": {},
   "source": [
    "Matrix math is a bit cumbersome! Three key strokes for the multiplication symbol…oh well."
   ]
  },
  {
   "cell_type": "code",
   "execution_count": 1,
   "id": "38267cb3",
   "metadata": {},
   "outputs": [
    {
     "data": {
      "text/html": [
       "<table>\n",
       "<tbody>\n",
       "\t<tr><td>1</td><td>2</td><td>2</td></tr>\n",
       "\t<tr><td>2</td><td>1</td><td>2</td></tr>\n",
       "\t<tr><td>3</td><td>2</td><td>1</td></tr>\n",
       "</tbody>\n",
       "</table>\n"
      ],
      "text/latex": [
       "\\begin{tabular}{lll}\n",
       "\t 1 & 2 & 2\\\\\n",
       "\t 2 & 1 & 2\\\\\n",
       "\t 3 & 2 & 1\\\\\n",
       "\\end{tabular}\n"
      ],
      "text/markdown": [
       "\n",
       "| 1 | 2 | 2 |\n",
       "| 2 | 1 | 2 |\n",
       "| 3 | 2 | 1 |\n",
       "\n"
      ],
      "text/plain": [
       "     [,1] [,2] [,3]\n",
       "[1,] 1    2    2   \n",
       "[2,] 2    1    2   \n",
       "[3,] 3    2    1   "
      ]
     },
     "metadata": {},
     "output_type": "display_data"
    },
    {
     "data": {
      "text/html": [
       "<table>\n",
       "<tbody>\n",
       "\t<tr><td>1</td><td>2</td><td>3</td></tr>\n",
       "\t<tr><td>2</td><td>1</td><td>2</td></tr>\n",
       "\t<tr><td>2</td><td>2</td><td>1</td></tr>\n",
       "</tbody>\n",
       "</table>\n"
      ],
      "text/latex": [
       "\\begin{tabular}{lll}\n",
       "\t 1 & 2 & 3\\\\\n",
       "\t 2 & 1 & 2\\\\\n",
       "\t 2 & 2 & 1\\\\\n",
       "\\end{tabular}\n"
      ],
      "text/markdown": [
       "\n",
       "| 1 | 2 | 3 |\n",
       "| 2 | 1 | 2 |\n",
       "| 2 | 2 | 1 |\n",
       "\n"
      ],
      "text/plain": [
       "     [,1] [,2] [,3]\n",
       "[1,] 1    2    3   \n",
       "[2,] 2    1    2   \n",
       "[3,] 2    2    1   "
      ]
     },
     "metadata": {},
     "output_type": "display_data"
    },
    {
     "data": {
      "text/html": [
       "<table>\n",
       "<tbody>\n",
       "\t<tr><td>11</td><td> 8</td><td> 8</td></tr>\n",
       "\t<tr><td>10</td><td> 9</td><td> 8</td></tr>\n",
       "\t<tr><td>10</td><td>10</td><td>11</td></tr>\n",
       "</tbody>\n",
       "</table>\n"
      ],
      "text/latex": [
       "\\begin{tabular}{lll}\n",
       "\t 11 &  8 &  8\\\\\n",
       "\t 10 &  9 &  8\\\\\n",
       "\t 10 & 10 & 11\\\\\n",
       "\\end{tabular}\n"
      ],
      "text/markdown": [
       "\n",
       "| 11 |  8 |  8 |\n",
       "| 10 |  9 |  8 |\n",
       "| 10 | 10 | 11 |\n",
       "\n"
      ],
      "text/plain": [
       "     [,1] [,2] [,3]\n",
       "[1,] 11    8    8  \n",
       "[2,] 10    9    8  \n",
       "[3,] 10   10   11  "
      ]
     },
     "metadata": {},
     "output_type": "display_data"
    },
    {
     "data": {
      "text/html": [
       "<table>\n",
       "<tbody>\n",
       "\t<tr><td>-0.4285714</td><td> 0.2857143</td><td> 0.2857143</td></tr>\n",
       "\t<tr><td> 0.5714286</td><td>-0.7142857</td><td> 0.2857143</td></tr>\n",
       "\t<tr><td> 0.1428571</td><td> 0.5714286</td><td>-0.4285714</td></tr>\n",
       "</tbody>\n",
       "</table>\n"
      ],
      "text/latex": [
       "\\begin{tabular}{lll}\n",
       "\t -0.4285714 &  0.2857143 &  0.2857143\\\\\n",
       "\t  0.5714286 & -0.7142857 &  0.2857143\\\\\n",
       "\t  0.1428571 &  0.5714286 & -0.4285714\\\\\n",
       "\\end{tabular}\n"
      ],
      "text/markdown": [
       "\n",
       "| -0.4285714 |  0.2857143 |  0.2857143 |\n",
       "|  0.5714286 | -0.7142857 |  0.2857143 |\n",
       "|  0.1428571 |  0.5714286 | -0.4285714 |\n",
       "\n"
      ],
      "text/plain": [
       "     [,1]       [,2]       [,3]      \n",
       "[1,] -0.4285714  0.2857143  0.2857143\n",
       "[2,]  0.5714286 -0.7142857  0.2857143\n",
       "[3,]  0.1428571  0.5714286 -0.4285714"
      ]
     },
     "metadata": {},
     "output_type": "display_data"
    }
   ],
   "source": [
    "a = matrix(c(1, 2, 3, 2, 1, 2, 2, 2, 1), nrow = 3)\n",
    "a\n",
    "# transpose\n",
    "t(a)\n",
    "# multiplication\n",
    "a%*%a\n",
    "# inverse \n",
    "solve(a)"
   ]
  },
  {
   "cell_type": "markdown",
   "id": "9d207b1b",
   "metadata": {},
   "source": [
    "Extracting parts of a matrix is similar to other programs."
   ]
  },
  {
   "cell_type": "code",
   "execution_count": 2,
   "id": "92fd338b",
   "metadata": {},
   "outputs": [
    {
     "data": {
      "text/html": [
       "<table>\n",
       "<tbody>\n",
       "\t<tr><td>1</td><td>4</td><td>7</td></tr>\n",
       "\t<tr><td>2</td><td>5</td><td>8</td></tr>\n",
       "\t<tr><td>3</td><td>6</td><td>9</td></tr>\n",
       "</tbody>\n",
       "</table>\n"
      ],
      "text/latex": [
       "\\begin{tabular}{lll}\n",
       "\t 1 & 4 & 7\\\\\n",
       "\t 2 & 5 & 8\\\\\n",
       "\t 3 & 6 & 9\\\\\n",
       "\\end{tabular}\n"
      ],
      "text/markdown": [
       "\n",
       "| 1 | 4 | 7 |\n",
       "| 2 | 5 | 8 |\n",
       "| 3 | 6 | 9 |\n",
       "\n"
      ],
      "text/plain": [
       "     [,1] [,2] [,3]\n",
       "[1,] 1    4    7   \n",
       "[2,] 2    5    8   \n",
       "[3,] 3    6    9   "
      ]
     },
     "metadata": {},
     "output_type": "display_data"
    },
    {
     "data": {
      "text/html": [
       "<ol class=list-inline>\n",
       "\t<li>1</li>\n",
       "\t<li>4</li>\n",
       "\t<li>7</li>\n",
       "</ol>\n"
      ],
      "text/latex": [
       "\\begin{enumerate*}\n",
       "\\item 1\n",
       "\\item 4\n",
       "\\item 7\n",
       "\\end{enumerate*}\n"
      ],
      "text/markdown": [
       "1. 1\n",
       "2. 4\n",
       "3. 7\n",
       "\n",
       "\n"
      ],
      "text/plain": [
       "[1] 1 4 7"
      ]
     },
     "metadata": {},
     "output_type": "display_data"
    },
    {
     "data": {
      "text/html": [
       "<ol class=list-inline>\n",
       "\t<li>1</li>\n",
       "\t<li>2</li>\n",
       "\t<li>3</li>\n",
       "</ol>\n"
      ],
      "text/latex": [
       "\\begin{enumerate*}\n",
       "\\item 1\n",
       "\\item 2\n",
       "\\item 3\n",
       "\\end{enumerate*}\n"
      ],
      "text/markdown": [
       "1. 1\n",
       "2. 2\n",
       "3. 3\n",
       "\n",
       "\n"
      ],
      "text/plain": [
       "[1] 1 2 3"
      ]
     },
     "metadata": {},
     "output_type": "display_data"
    },
    {
     "data": {
      "text/html": [
       "<ol class=list-inline>\n",
       "\t<li>6</li>\n",
       "\t<li>9</li>\n",
       "</ol>\n"
      ],
      "text/latex": [
       "\\begin{enumerate*}\n",
       "\\item 6\n",
       "\\item 9\n",
       "\\end{enumerate*}\n"
      ],
      "text/markdown": [
       "1. 6\n",
       "2. 9\n",
       "\n",
       "\n"
      ],
      "text/plain": [
       "[1] 6 9"
      ]
     },
     "metadata": {},
     "output_type": "display_data"
    }
   ],
   "source": [
    "a = matrix(c(1:9), nrow = 3)\n",
    "a\n",
    "# First row\n",
    "a[1,]\n",
    "# First column\n",
    "a[,1]\n",
    "# Second and third entry of the third row\n",
    "a[3, 2:3]"
   ]
  },
  {
   "cell_type": "markdown",
   "id": "c28b4777-e627-4b37-8024-88df0d9be9b8",
   "metadata": {},
   "source": [
    "[Back to the top](#Table_of_Contents)"
   ]
  },
  {
   "cell_type": "markdown",
   "id": "c894e204-4427-44db-bf89-09429667e410",
   "metadata": {},
   "source": [
    "<h5>Array</h5>"
   ]
  },
  {
   "cell_type": "code",
   "execution_count": 17,
   "id": "985de134-e204-4209-8195-e3a696d0f47c",
   "metadata": {},
   "outputs": [
    {
     "name": "stdout",
     "output_type": "stream",
     "text": [
      ", , 1\n",
      "\n",
      "     [,1] [,2] [,3]\n",
      "[1,]    1    3    5\n",
      "[2,]    2    4    6\n",
      "\n",
      ", , 2\n",
      "\n",
      "     [,1] [,2] [,3]\n",
      "[1,]    7    9   11\n",
      "[2,]    8   10   12\n",
      "\n"
     ]
    }
   ],
   "source": [
    "# Array (Array 2x3x2)\n",
    "arr <- array(m, c(2,3,2))\n",
    "print(arr)"
   ]
  },
  {
   "cell_type": "code",
   "execution_count": 2,
   "id": "5ad8d166",
   "metadata": {},
   "outputs": [
    {
     "data": {
      "text/html": [
       "<ol class=list-inline>\n",
       "\t<li>4</li>\n",
       "\t<li>3</li>\n",
       "\t<li>2</li>\n",
       "</ol>\n"
      ],
      "text/latex": [
       "\\begin{enumerate*}\n",
       "\\item 4\n",
       "\\item 3\n",
       "\\item 2\n",
       "\\end{enumerate*}\n"
      ],
      "text/markdown": [
       "1. 4\n",
       "2. 3\n",
       "3. 2\n",
       "\n",
       "\n"
      ],
      "text/plain": [
       "[1] 4 3 2"
      ]
     },
     "metadata": {},
     "output_type": "display_data"
    },
    {
     "data": {
      "text/html": [
       "<ol class=list-inline>\n",
       "\t<li>1</li>\n",
       "\t<li>2</li>\n",
       "\t<li>3</li>\n",
       "\t<li>4</li>\n",
       "\t<li>5</li>\n",
       "\t<li>6</li>\n",
       "\t<li>7</li>\n",
       "\t<li>8</li>\n",
       "\t<li>9</li>\n",
       "\t<li>10</li>\n",
       "\t<li>11</li>\n",
       "\t<li>12</li>\n",
       "\t<li>13</li>\n",
       "\t<li>14</li>\n",
       "\t<li>15</li>\n",
       "\t<li>16</li>\n",
       "\t<li>17</li>\n",
       "\t<li>18</li>\n",
       "\t<li>19</li>\n",
       "\t<li>20</li>\n",
       "\t<li>21</li>\n",
       "\t<li>22</li>\n",
       "\t<li>23</li>\n",
       "\t<li>24</li>\n",
       "</ol>\n"
      ],
      "text/latex": [
       "\\begin{enumerate*}\n",
       "\\item 1\n",
       "\\item 2\n",
       "\\item 3\n",
       "\\item 4\n",
       "\\item 5\n",
       "\\item 6\n",
       "\\item 7\n",
       "\\item 8\n",
       "\\item 9\n",
       "\\item 10\n",
       "\\item 11\n",
       "\\item 12\n",
       "\\item 13\n",
       "\\item 14\n",
       "\\item 15\n",
       "\\item 16\n",
       "\\item 17\n",
       "\\item 18\n",
       "\\item 19\n",
       "\\item 20\n",
       "\\item 21\n",
       "\\item 22\n",
       "\\item 23\n",
       "\\item 24\n",
       "\\end{enumerate*}\n"
      ],
      "text/markdown": [
       "1. 1\n",
       "2. 2\n",
       "3. 3\n",
       "4. 4\n",
       "5. 5\n",
       "6. 6\n",
       "7. 7\n",
       "8. 8\n",
       "9. 9\n",
       "10. 10\n",
       "11. 11\n",
       "12. 12\n",
       "13. 13\n",
       "14. 14\n",
       "15. 15\n",
       "16. 16\n",
       "17. 17\n",
       "18. 18\n",
       "19. 19\n",
       "20. 20\n",
       "21. 21\n",
       "22. 22\n",
       "23. 23\n",
       "24. 24\n",
       "\n",
       "\n"
      ],
      "text/plain": [
       ", , 1\n",
       "\n",
       "     [,1] [,2] [,3]\n",
       "[1,]    1    5    9\n",
       "[2,]    2    6   10\n",
       "[3,]    3    7   11\n",
       "[4,]    4    8   12\n",
       "\n",
       ", , 2\n",
       "\n",
       "     [,1] [,2] [,3]\n",
       "[1,]   13   17   21\n",
       "[2,]   14   18   22\n",
       "[3,]   15   19   23\n",
       "[4,]   16   20   24\n"
      ]
     },
     "metadata": {},
     "output_type": "display_data"
    }
   ],
   "source": [
    "array.ex = array(c(1:24), c(4, 3, 2))\n",
    "dim(array.ex)\n",
    "array.ex"
   ]
  },
  {
   "cell_type": "markdown",
   "id": "64d385d1-6bc5-4680-9556-62512aa7f619",
   "metadata": {},
   "source": [
    "[Back to the top](#Table_of_Contents)"
   ]
  },
  {
   "cell_type": "markdown",
   "id": "24895e88-ba85-4996-870c-d99a5855ee13",
   "metadata": {},
   "source": [
    "<h5>Data_frame</h5>"
   ]
  },
  {
   "cell_type": "code",
   "execution_count": 20,
   "id": "748bc84a-fb35-4c96-a4b3-0c149546c235",
   "metadata": {},
   "outputs": [
    {
     "name": "stdout",
     "output_type": "stream",
     "text": [
      "'data.frame':\t4 obs. of  2 variables:\n",
      " $ id : num  1 2 3 4\n",
      " $ sex: Factor w/ 2 levels \"F\",\"M\": 2 1 1 2\n"
     ]
    }
   ],
   "source": [
    "# Data Frame\n",
    "var1 <- c(1,2,3,4)\n",
    "var2 <- factor(c(\"M\",\"F\",\"F\",\"M\"))\n",
    "df = data.frame(id = var1, sex = var2)\n",
    "str(df)"
   ]
  },
  {
   "cell_type": "code",
   "execution_count": 4,
   "id": "ebe40a7f",
   "metadata": {
    "scrolled": false
   },
   "outputs": [
    {
     "data": {
      "text/html": [
       "<table>\n",
       "<thead><tr><th scope=col>col1</th><th scope=col>col2</th><th scope=col>col3</th></tr></thead>\n",
       "<tbody>\n",
       "\t<tr><td> 1</td><td>21</td><td>a1</td></tr>\n",
       "\t<tr><td> 2</td><td>22</td><td>a1</td></tr>\n",
       "\t<tr><td> 3</td><td>23</td><td>a1</td></tr>\n",
       "\t<tr><td> 4</td><td>24</td><td>a1</td></tr>\n",
       "\t<tr><td> 5</td><td>25</td><td>a1</td></tr>\n",
       "\t<tr><td> 6</td><td>26</td><td>b1</td></tr>\n",
       "\t<tr><td> 7</td><td>27</td><td>b1</td></tr>\n",
       "\t<tr><td> 8</td><td>28</td><td>b1</td></tr>\n",
       "\t<tr><td> 9</td><td>29</td><td>b1</td></tr>\n",
       "\t<tr><td>10</td><td>30</td><td>b1</td></tr>\n",
       "</tbody>\n",
       "</table>\n"
      ],
      "text/latex": [
       "\\begin{tabular}{r|lll}\n",
       " col1 & col2 & col3\\\\\n",
       "\\hline\n",
       "\t  1 & 21 & a1\\\\\n",
       "\t  2 & 22 & a1\\\\\n",
       "\t  3 & 23 & a1\\\\\n",
       "\t  4 & 24 & a1\\\\\n",
       "\t  5 & 25 & a1\\\\\n",
       "\t  6 & 26 & b1\\\\\n",
       "\t  7 & 27 & b1\\\\\n",
       "\t  8 & 28 & b1\\\\\n",
       "\t  9 & 29 & b1\\\\\n",
       "\t 10 & 30 & b1\\\\\n",
       "\\end{tabular}\n"
      ],
      "text/markdown": [
       "\n",
       "| col1 | col2 | col3 |\n",
       "|---|---|---|\n",
       "|  1 | 21 | a1 |\n",
       "|  2 | 22 | a1 |\n",
       "|  3 | 23 | a1 |\n",
       "|  4 | 24 | a1 |\n",
       "|  5 | 25 | a1 |\n",
       "|  6 | 26 | b1 |\n",
       "|  7 | 27 | b1 |\n",
       "|  8 | 28 | b1 |\n",
       "|  9 | 29 | b1 |\n",
       "| 10 | 30 | b1 |\n",
       "\n"
      ],
      "text/plain": [
       "   col1 col2 col3\n",
       "1   1   21   a1  \n",
       "2   2   22   a1  \n",
       "3   3   23   a1  \n",
       "4   4   24   a1  \n",
       "5   5   25   a1  \n",
       "6   6   26   b1  \n",
       "7   7   27   b1  \n",
       "8   8   28   b1  \n",
       "9   9   29   b1  \n",
       "10 10   30   b1  "
      ]
     },
     "metadata": {},
     "output_type": "display_data"
    },
    {
     "data": {
      "text/html": [
       "<ol class=list-inline>\n",
       "\t<li>10</li>\n",
       "\t<li>3</li>\n",
       "</ol>\n"
      ],
      "text/latex": [
       "\\begin{enumerate*}\n",
       "\\item 10\n",
       "\\item 3\n",
       "\\end{enumerate*}\n"
      ],
      "text/markdown": [
       "1. 10\n",
       "2. 3\n",
       "\n",
       "\n"
      ],
      "text/plain": [
       "[1] 10  3"
      ]
     },
     "metadata": {},
     "output_type": "display_data"
    },
    {
     "data": {
      "text/html": [
       "<ol class=list-inline>\n",
       "\t<li>'col1'</li>\n",
       "\t<li>'col2'</li>\n",
       "\t<li>'col3'</li>\n",
       "</ol>\n"
      ],
      "text/latex": [
       "\\begin{enumerate*}\n",
       "\\item 'col1'\n",
       "\\item 'col2'\n",
       "\\item 'col3'\n",
       "\\end{enumerate*}\n"
      ],
      "text/markdown": [
       "1. 'col1'\n",
       "2. 'col2'\n",
       "3. 'col3'\n",
       "\n",
       "\n"
      ],
      "text/plain": [
       "[1] \"col1\" \"col2\" \"col3\""
      ]
     },
     "metadata": {},
     "output_type": "display_data"
    },
    {
     "data": {
      "text/html": [
       "<ol class=list-inline>\n",
       "\t<li>1</li>\n",
       "\t<li>2</li>\n",
       "\t<li>3</li>\n",
       "\t<li>4</li>\n",
       "\t<li>5</li>\n",
       "\t<li>6</li>\n",
       "\t<li>7</li>\n",
       "\t<li>8</li>\n",
       "\t<li>9</li>\n",
       "\t<li>10</li>\n",
       "</ol>\n"
      ],
      "text/latex": [
       "\\begin{enumerate*}\n",
       "\\item 1\n",
       "\\item 2\n",
       "\\item 3\n",
       "\\item 4\n",
       "\\item 5\n",
       "\\item 6\n",
       "\\item 7\n",
       "\\item 8\n",
       "\\item 9\n",
       "\\item 10\n",
       "\\end{enumerate*}\n"
      ],
      "text/markdown": [
       "1. 1\n",
       "2. 2\n",
       "3. 3\n",
       "4. 4\n",
       "5. 5\n",
       "6. 6\n",
       "7. 7\n",
       "8. 8\n",
       "9. 9\n",
       "10. 10\n",
       "\n",
       "\n"
      ],
      "text/plain": [
       " [1]  1  2  3  4  5  6  7  8  9 10"
      ]
     },
     "metadata": {},
     "output_type": "display_data"
    },
    {
     "data": {
      "text/html": [
       "<table>\n",
       "<thead><tr><th scope=col>col1</th><th scope=col>col2</th><th scope=col>col3</th><th scope=col>col4</th></tr></thead>\n",
       "<tbody>\n",
       "\t<tr><td> 1</td><td>21</td><td>a1</td><td>m </td></tr>\n",
       "\t<tr><td> 2</td><td>22</td><td>a1</td><td>f </td></tr>\n",
       "\t<tr><td> 3</td><td>23</td><td>a1</td><td>m </td></tr>\n",
       "\t<tr><td> 4</td><td>24</td><td>a1</td><td>f </td></tr>\n",
       "\t<tr><td> 5</td><td>25</td><td>a1</td><td>m </td></tr>\n",
       "\t<tr><td> 6</td><td>26</td><td>b1</td><td>f </td></tr>\n",
       "\t<tr><td> 7</td><td>27</td><td>b1</td><td>m </td></tr>\n",
       "\t<tr><td> 8</td><td>28</td><td>b1</td><td>f </td></tr>\n",
       "\t<tr><td> 9</td><td>29</td><td>b1</td><td>m </td></tr>\n",
       "\t<tr><td>10</td><td>30</td><td>b1</td><td>f </td></tr>\n",
       "</tbody>\n",
       "</table>\n"
      ],
      "text/latex": [
       "\\begin{tabular}{r|llll}\n",
       " col1 & col2 & col3 & col4\\\\\n",
       "\\hline\n",
       "\t  1 & 21 & a1 & m \\\\\n",
       "\t  2 & 22 & a1 & f \\\\\n",
       "\t  3 & 23 & a1 & m \\\\\n",
       "\t  4 & 24 & a1 & f \\\\\n",
       "\t  5 & 25 & a1 & m \\\\\n",
       "\t  6 & 26 & b1 & f \\\\\n",
       "\t  7 & 27 & b1 & m \\\\\n",
       "\t  8 & 28 & b1 & f \\\\\n",
       "\t  9 & 29 & b1 & m \\\\\n",
       "\t 10 & 30 & b1 & f \\\\\n",
       "\\end{tabular}\n"
      ],
      "text/markdown": [
       "\n",
       "| col1 | col2 | col3 | col4 |\n",
       "|---|---|---|---|\n",
       "|  1 | 21 | a1 | m  |\n",
       "|  2 | 22 | a1 | f  |\n",
       "|  3 | 23 | a1 | m  |\n",
       "|  4 | 24 | a1 | f  |\n",
       "|  5 | 25 | a1 | m  |\n",
       "|  6 | 26 | b1 | f  |\n",
       "|  7 | 27 | b1 | m  |\n",
       "|  8 | 28 | b1 | f  |\n",
       "|  9 | 29 | b1 | m  |\n",
       "| 10 | 30 | b1 | f  |\n",
       "\n"
      ],
      "text/plain": [
       "   col1 col2 col3 col4\n",
       "1   1   21   a1   m   \n",
       "2   2   22   a1   f   \n",
       "3   3   23   a1   m   \n",
       "4   4   24   a1   f   \n",
       "5   5   25   a1   m   \n",
       "6   6   26   b1   f   \n",
       "7   7   27   b1   m   \n",
       "8   8   28   b1   f   \n",
       "9   9   29   b1   m   \n",
       "10 10   30   b1   f   "
      ]
     },
     "metadata": {},
     "output_type": "display_data"
    }
   ],
   "source": [
    "col1 = c(1:10)\n",
    "col2 = c(21:30)\n",
    "col3 = rep(c(\"a1\", \"b1\"), each = 5)\n",
    "data.frame.ex = data.frame(col1, col2, col3)\n",
    "data.frame.ex\n",
    "dim(data.frame.ex)\n",
    "names(data.frame.ex)\n",
    "# you can pull columns of a data frame out using the column name\n",
    "data.frame.ex$col1\n",
    "# you can also add a new column to a pre-existing data frame\n",
    "data.frame.ex$col4 = rep(c(\"m\", \"f\"), 5)\n",
    "data.frame.ex"
   ]
  },
  {
   "cell_type": "code",
   "execution_count": 5,
   "id": "4bb28822",
   "metadata": {},
   "outputs": [
    {
     "data": {
      "text/html": [
       "<table>\n",
       "<thead><tr><th scope=col>col1</th><th scope=col>col2</th><th scope=col>col3</th></tr></thead>\n",
       "<tbody>\n",
       "\t<tr><td>1 </td><td> 7</td><td>13</td></tr>\n",
       "\t<tr><td>2 </td><td> 8</td><td>14</td></tr>\n",
       "\t<tr><td>3 </td><td> 9</td><td>15</td></tr>\n",
       "\t<tr><td>4 </td><td>10</td><td>16</td></tr>\n",
       "\t<tr><td>5 </td><td>11</td><td>17</td></tr>\n",
       "\t<tr><td>6 </td><td>12</td><td>18</td></tr>\n",
       "</tbody>\n",
       "</table>\n"
      ],
      "text/latex": [
       "\\begin{tabular}{r|lll}\n",
       " col1 & col2 & col3\\\\\n",
       "\\hline\n",
       "\t 1  &  7 & 13\\\\\n",
       "\t 2  &  8 & 14\\\\\n",
       "\t 3  &  9 & 15\\\\\n",
       "\t 4  & 10 & 16\\\\\n",
       "\t 5  & 11 & 17\\\\\n",
       "\t 6  & 12 & 18\\\\\n",
       "\\end{tabular}\n"
      ],
      "text/markdown": [
       "\n",
       "| col1 | col2 | col3 |\n",
       "|---|---|---|\n",
       "| 1  |  7 | 13 |\n",
       "| 2  |  8 | 14 |\n",
       "| 3  |  9 | 15 |\n",
       "| 4  | 10 | 16 |\n",
       "| 5  | 11 | 17 |\n",
       "| 6  | 12 | 18 |\n",
       "\n"
      ],
      "text/plain": [
       "  col1 col2 col3\n",
       "1 1     7   13  \n",
       "2 2     8   14  \n",
       "3 3     9   15  \n",
       "4 4    10   16  \n",
       "5 5    11   17  \n",
       "6 6    12   18  "
      ]
     },
     "metadata": {},
     "output_type": "display_data"
    }
   ],
   "source": [
    "# you can easily convert a matrix to a data.frame and add names\n",
    "df.ex2 = matrix(1:18, ncol = 3)\n",
    "df.ex2 = data.frame(df.ex2)\n",
    "names(df.ex2) = c(\"col1\", \"col2\", \"col3\")\n",
    "df.ex2"
   ]
  },
  {
   "cell_type": "markdown",
   "id": "57481576-acb4-4ba0-8573-15624261864d",
   "metadata": {},
   "source": [
    "[Back to the top](#Table_of_Contents)"
   ]
  },
  {
   "cell_type": "markdown",
   "id": "0311fac8-402a-45c1-918b-417541d0b897",
   "metadata": {},
   "source": [
    "<h5>List</h5>"
   ]
  },
  {
   "cell_type": "code",
   "execution_count": 21,
   "id": "39dfa719-764d-4a00-b02a-e00db7e727c7",
   "metadata": {},
   "outputs": [
    {
     "name": "stdout",
     "output_type": "stream",
     "text": [
      "List of 4\n",
      " $ : num [1:4] 1 2 3 4\n",
      " $ : int [1:4, 1:3] 1 2 3 4 5 6 7 8 9 10 ...\n",
      " $ : int [1:2, 1:3, 1:2] 1 2 3 4 5 6 7 8 9 10 ...\n",
      " $ :'data.frame':\t4 obs. of  2 variables:\n",
      "  ..$ id : num [1:4] 1 2 3 4\n",
      "  ..$ sex: Factor w/ 2 levels \"F\",\"M\": 2 1 1 2\n"
     ]
    }
   ],
   "source": [
    "# list\n",
    "v1 <- c(1,2,3,4)\n",
    "v2 <- matrix(1:12, nrow=4)\n",
    "v3 <- array(1:12, c(2,3,2))\n",
    "v4 <- data.frame(id = c(1,2,3,4), sex = c(\"M\",\"F\",\"F\",\"M\"))\n",
    "lt <- list (v1, v2, v3, v4)\n",
    "str(lt)"
   ]
  },
  {
   "cell_type": "code",
   "execution_count": 23,
   "id": "4458f990-0d98-4143-b55c-b4a45ec582be",
   "metadata": {
    "scrolled": false
   },
   "outputs": [
    {
     "name": "stdout",
     "output_type": "stream",
     "text": [
      "[[1]]\n",
      "[1] 1 2 3 4\n",
      "\n",
      "[[2]]\n",
      "     [,1] [,2] [,3]\n",
      "[1,]    1    5    9\n",
      "[2,]    2    6   10\n",
      "[3,]    3    7   11\n",
      "[4,]    4    8   12\n",
      "\n",
      "[[3]]\n",
      ", , 1\n",
      "\n",
      "     [,1] [,2] [,3]\n",
      "[1,]    1    3    5\n",
      "[2,]    2    4    6\n",
      "\n",
      ", , 2\n",
      "\n",
      "     [,1] [,2] [,3]\n",
      "[1,]    7    9   11\n",
      "[2,]    8   10   12\n",
      "\n",
      "\n",
      "[[4]]\n",
      "  id sex\n",
      "1  1   M\n",
      "2  2   F\n",
      "3  3   F\n",
      "4  4   M\n",
      "\n"
     ]
    }
   ],
   "source": [
    "print(lt)"
   ]
  },
  {
   "cell_type": "code",
   "execution_count": 3,
   "id": "fbe571e4",
   "metadata": {},
   "outputs": [
    {
     "data": {
      "text/html": [
       "4"
      ],
      "text/latex": [
       "4"
      ],
      "text/markdown": [
       "4"
      ],
      "text/plain": [
       "[1] 4"
      ]
     },
     "metadata": {},
     "output_type": "display_data"
    },
    {
     "data": {
      "text/html": [
       "<dl>\n",
       "\t<dt>$a</dt>\n",
       "\t\t<dd><ol class=list-inline>\n",
       "\t<li>1</li>\n",
       "\t<li>2</li>\n",
       "\t<li>3</li>\n",
       "\t<li>4</li>\n",
       "\t<li>5</li>\n",
       "\t<li>6</li>\n",
       "\t<li>7</li>\n",
       "\t<li>8</li>\n",
       "\t<li>9</li>\n",
       "\t<li>10</li>\n",
       "</ol>\n",
       "</dd>\n",
       "\t<dt>$b</dt>\n",
       "\t\t<dd><ol class=list-inline>\n",
       "\t<li>45</li>\n",
       "\t<li>46</li>\n",
       "\t<li>47</li>\n",
       "\t<li>48</li>\n",
       "\t<li>49</li>\n",
       "\t<li>50</li>\n",
       "\t<li>51</li>\n",
       "\t<li>52</li>\n",
       "\t<li>53</li>\n",
       "\t<li>54</li>\n",
       "\t<li>55</li>\n",
       "\t<li>56</li>\n",
       "\t<li>57</li>\n",
       "\t<li>58</li>\n",
       "\t<li>59</li>\n",
       "\t<li>60</li>\n",
       "\t<li>61</li>\n",
       "\t<li>62</li>\n",
       "\t<li>63</li>\n",
       "\t<li>64</li>\n",
       "\t<li>65</li>\n",
       "\t<li>66</li>\n",
       "\t<li>67</li>\n",
       "\t<li>68</li>\n",
       "\t<li>69</li>\n",
       "\t<li>70</li>\n",
       "</ol>\n",
       "</dd>\n",
       "\t<dt>$c</dt>\n",
       "\t\t<dd><ol class=list-inline>\n",
       "\t<li>a1</li>\n",
       "\t<li>b1</li>\n",
       "\t<li>c1</li>\n",
       "</ol>\n",
       "\n",
       "<details>\n",
       "\t<summary style=display:list-item;cursor:pointer>\n",
       "\t\t<strong>Levels</strong>:\n",
       "\t</summary>\n",
       "\t<ol class=list-inline>\n",
       "\t\t<li>'a1'</li>\n",
       "\t\t<li>'b1'</li>\n",
       "\t\t<li>'c1'</li>\n",
       "\t</ol>\n",
       "</details></dd>\n",
       "\t<dt>$d</dt>\n",
       "\t\t<dd><ol class=list-inline>\n",
       "\t<li>'bat'</li>\n",
       "\t<li>'cat'</li>\n",
       "\t<li>'bird'</li>\n",
       "\t<li>'dog'</li>\n",
       "</ol>\n",
       "</dd>\n",
       "</dl>\n"
      ],
      "text/latex": [
       "\\begin{description}\n",
       "\\item[\\$a] \\begin{enumerate*}\n",
       "\\item 1\n",
       "\\item 2\n",
       "\\item 3\n",
       "\\item 4\n",
       "\\item 5\n",
       "\\item 6\n",
       "\\item 7\n",
       "\\item 8\n",
       "\\item 9\n",
       "\\item 10\n",
       "\\end{enumerate*}\n",
       "\n",
       "\\item[\\$b] \\begin{enumerate*}\n",
       "\\item 45\n",
       "\\item 46\n",
       "\\item 47\n",
       "\\item 48\n",
       "\\item 49\n",
       "\\item 50\n",
       "\\item 51\n",
       "\\item 52\n",
       "\\item 53\n",
       "\\item 54\n",
       "\\item 55\n",
       "\\item 56\n",
       "\\item 57\n",
       "\\item 58\n",
       "\\item 59\n",
       "\\item 60\n",
       "\\item 61\n",
       "\\item 62\n",
       "\\item 63\n",
       "\\item 64\n",
       "\\item 65\n",
       "\\item 66\n",
       "\\item 67\n",
       "\\item 68\n",
       "\\item 69\n",
       "\\item 70\n",
       "\\end{enumerate*}\n",
       "\n",
       "\\item[\\$c] \\begin{enumerate*}\n",
       "\\item a1\n",
       "\\item b1\n",
       "\\item c1\n",
       "\\end{enumerate*}\n",
       "\n",
       "\\emph{Levels}: \\begin{enumerate*}\n",
       "\\item 'a1'\n",
       "\\item 'b1'\n",
       "\\item 'c1'\n",
       "\\end{enumerate*}\n",
       "\n",
       "\\item[\\$d] \\begin{enumerate*}\n",
       "\\item 'bat'\n",
       "\\item 'cat'\n",
       "\\item 'bird'\n",
       "\\item 'dog'\n",
       "\\end{enumerate*}\n",
       "\n",
       "\\end{description}\n"
      ],
      "text/markdown": [
       "$a\n",
       ":   1. 1\n",
       "2. 2\n",
       "3. 3\n",
       "4. 4\n",
       "5. 5\n",
       "6. 6\n",
       "7. 7\n",
       "8. 8\n",
       "9. 9\n",
       "10. 10\n",
       "\n",
       "\n",
       "\n",
       "$b\n",
       ":   1. 45\n",
       "2. 46\n",
       "3. 47\n",
       "4. 48\n",
       "5. 49\n",
       "6. 50\n",
       "7. 51\n",
       "8. 52\n",
       "9. 53\n",
       "10. 54\n",
       "11. 55\n",
       "12. 56\n",
       "13. 57\n",
       "14. 58\n",
       "15. 59\n",
       "16. 60\n",
       "17. 61\n",
       "18. 62\n",
       "19. 63\n",
       "20. 64\n",
       "21. 65\n",
       "22. 66\n",
       "23. 67\n",
       "24. 68\n",
       "25. 69\n",
       "26. 70\n",
       "\n",
       "\n",
       "\n",
       "$c\n",
       ":   1. a1\n",
       "2. b1\n",
       "3. c1\n",
       "\n",
       "\n",
       "\n",
       "**Levels**: 1. 'a1'\n",
       "2. 'b1'\n",
       "3. 'c1'\n",
       "\n",
       "\n",
       "\n",
       "$d\n",
       ":   1. 'bat'\n",
       "2. 'cat'\n",
       "3. 'bird'\n",
       "4. 'dog'\n",
       "\n",
       "\n",
       "\n",
       "\n",
       "\n"
      ],
      "text/plain": [
       "$a\n",
       " [1]  1  2  3  4  5  6  7  8  9 10\n",
       "\n",
       "$b\n",
       " [1] 45 46 47 48 49 50 51 52 53 54 55 56 57 58 59 60 61 62 63 64 65 66 67 68 69\n",
       "[26] 70\n",
       "\n",
       "$c\n",
       "[1] a1 b1 c1\n",
       "Levels: a1 b1 c1\n",
       "\n",
       "$d\n",
       "[1] \"bat\"  \"cat\"  \"bird\" \"dog\" \n"
      ]
     },
     "metadata": {},
     "output_type": "display_data"
    },
    {
     "data": {
      "text/html": [
       "<ol class=list-inline>\n",
       "\t<li>'bat'</li>\n",
       "\t<li>'cat'</li>\n",
       "\t<li>'bird'</li>\n",
       "\t<li>'dog'</li>\n",
       "</ol>\n"
      ],
      "text/latex": [
       "\\begin{enumerate*}\n",
       "\\item 'bat'\n",
       "\\item 'cat'\n",
       "\\item 'bird'\n",
       "\\item 'dog'\n",
       "\\end{enumerate*}\n"
      ],
      "text/markdown": [
       "1. 'bat'\n",
       "2. 'cat'\n",
       "3. 'bird'\n",
       "4. 'dog'\n",
       "\n",
       "\n"
      ],
      "text/plain": [
       "[1] \"bat\"  \"cat\"  \"bird\" \"dog\" "
      ]
     },
     "metadata": {},
     "output_type": "display_data"
    }
   ],
   "source": [
    "list.ex = list()\n",
    "list.ex$a = c(1:10)\n",
    "list.ex$b = c(45:70)\n",
    "list.ex$c = factor(c(\"a1\", \"b1\", \"c1\"))\n",
    "list.ex$d = as.character(c(\"bat\", \"cat\", \"bird\", \"dog\"))\n",
    "length(list.ex)\n",
    "list.ex\n",
    "# you can pull out one element of the list using $\n",
    "list.ex$d"
   ]
  },
  {
   "cell_type": "markdown",
   "id": "8a074ba7-0bef-429d-9e77-8d7e900b6097",
   "metadata": {},
   "source": [
    "[Back to the top](#Table_of_Contents)"
   ]
  },
  {
   "cell_type": "markdown",
   "id": "2f331b53-9cfd-4d97-b63d-73d01c712c57",
   "metadata": {},
   "source": [
    "<h3>Load_the_data</h3>"
   ]
  },
  {
   "cell_type": "markdown",
   "id": "b632d3c7-b2aa-4d85-9609-4f4f108246a6",
   "metadata": {},
   "source": [
    "<li>Read.table: load the txt file # 0201.grade, separated by tab</li>\n",
    "<li>Read.csv: load the csv file # 0201.grade.csv, separated by \",\"</li>\n",
    "<li>Read_excel: load the excel file # 0201.grade.xlsx, prerequisite adding library</li>\n",
    "<li>In addition, files such as SPSS and JSON can be connected</li>"
   ]
  },
  {
   "cell_type": "code",
   "execution_count": 1,
   "id": "45171dd8-8b40-4091-b964-a62d649708f3",
   "metadata": {},
   "outputs": [],
   "source": [
    "r_data_input_output_dataset = \"\n",
    "    example/0201.grade.txt,\n",
    "    example/0202.grade.csv,\n",
    "    example/0203.grade.xlsx\n",
    "\""
   ]
  },
  {
   "cell_type": "markdown",
   "id": "61bcb9c3-41d4-4f2c-9526-60ba89583093",
   "metadata": {},
   "source": [
    "<h4>Load_the_txt_file</h4>"
   ]
  },
  {
   "cell_type": "code",
   "execution_count": 3,
   "id": "3b9d612e-3cc4-454f-9b81-e61ac5c37f68",
   "metadata": {},
   "outputs": [
    {
     "name": "stdout",
     "output_type": "stream",
     "text": [
      "'data.frame':\t50 obs. of  4 variables:\n",
      " $ V1: int  1 2 3 4 5 6 7 8 9 10 ...\n",
      " $ V2: chr  \"Male\" \"Male\" \"Male\" \"Male\" ...\n",
      " $ V3: int  1 1 1 1 1 1 1 1 1 1 ...\n",
      " $ V4: int  3 4 5 3 2 5 4 4 3 2 ...\n"
     ]
    }
   ],
   "source": [
    "# Load the data (read.table)\n",
    "# header = FALSE, (When there is no variable name)\"\n",
    "# sep (separtor): \",\" or \" \" or \":\" or \"\\t\" (tab)\n",
    "# stringAsFactor = recognize text data as a factor (True)\n",
    "# na.strings = \"\", \".\", \"NA\" etc.\n",
    "# str() : view attributes\n",
    "\n",
    "gradetxt <- read.table(\"example/0201.grade.txt\",\n",
    "                       header=FALSE,\n",
    "                       sep = \"\\t\",\n",
    "                       stringsAsFactor = FALSE,\n",
    "                       na.strings = \"\"\n",
    "                      )\n",
    "str(gradetxt)"
   ]
  },
  {
   "cell_type": "code",
   "execution_count": 4,
   "id": "bd4f7544-af1f-4d42-a9fb-7743b380a79f",
   "metadata": {
    "collapsed": true,
    "jupyter": {
     "outputs_hidden": true
    },
    "tags": []
   },
   "outputs": [
    {
     "name": "stdout",
     "output_type": "stream",
     "text": [
      "   V1     V2 V3 V4\n",
      "1   1   Male  1  3\n",
      "2   2   Male  1  4\n",
      "3   3   Male  1  5\n",
      "4   4   Male  1  3\n",
      "5   5   Male  1  2\n",
      "6   6   Male  1  5\n",
      "7   7   Male  1  4\n",
      "8   8   Male  1  4\n",
      "9   9   Male  1  3\n",
      "10 10   Male  1  2\n",
      "11 11   Male  1  5\n",
      "12 12   Male  1  4\n",
      "13 13   Male  1  4\n",
      "14 14   Male  1  3\n",
      "15 15   Male  1  5\n",
      "16 16   Male  1  4\n",
      "17 17   Male  1  4\n",
      "18 18   Male  1  1\n",
      "19 19   Male  1  2\n",
      "20 20   Male  1  2\n",
      "21 21   Male  1  4\n",
      "22 22   Male  1  3\n",
      "23 23   Male  1  4\n",
      "24 24   Male  1  3\n",
      "25 25   Male  1  4\n",
      "26 26 Female  2  4\n",
      "27 27 Female  2  3\n",
      "28 28 Female  2  4\n",
      "29 29 Female  2  1\n",
      "30 30 Female  2  4\n",
      "31 31 Female  2  4\n",
      "32 32 Female  2  2\n",
      "33 33 Female  2  3\n",
      "34 34 Female  2  5\n",
      "35 35 Female  2  4\n",
      "36 36 Female  2  3\n",
      "37 37 Female  2  4\n",
      "38 38 Female  2  4\n",
      "39 39 Female  2  3\n",
      "40 40 Female  2  4\n",
      "41 41 Female  2  3\n",
      "42 42 Female  2  3\n",
      "43 43 Female  2  2\n",
      "44 44 Female  2  4\n",
      "45 45 Female  2  3\n",
      "46 46 Female  2  4\n",
      "47 47 Female  2  5\n",
      "48 48 Female  2  4\n",
      "49 49 Female  2  3\n",
      "50 50 Female  2  3\n"
     ]
    }
   ],
   "source": [
    "print(gradetxt)"
   ]
  },
  {
   "cell_type": "markdown",
   "id": "7e315e64-e365-4f8d-a610-bd0c2b231f62",
   "metadata": {},
   "source": [
    "[Back to the top](#Table_of_Contents)"
   ]
  },
  {
   "cell_type": "markdown",
   "id": "c1a55147-b180-4d6a-b782-b6871e31f23d",
   "metadata": {},
   "source": [
    "<h4>Load_the_csv_file</h4>\n",
    "read.data vs fread vs read_csv: which is faster??"
   ]
  },
  {
   "cell_type": "markdown",
   "id": "2faa2f18",
   "metadata": {},
   "source": [
    "In the past I have used the read.data function to read in data, but now there are faster options that work much better if you’re reading in huge data: fread (data.table package) and read_csv (readr library)."
   ]
  },
  {
   "cell_type": "code",
   "execution_count": 1,
   "id": "d23a5bbf",
   "metadata": {},
   "outputs": [],
   "source": [
    "#install.packages(\"data.table\") # Only run this if you've never installed it\n",
    "#install.packages(\"readr\")\n",
    "library(data.table)\n",
    "library(readr)"
   ]
  },
  {
   "cell_type": "code",
   "execution_count": 2,
   "id": "9aed2dc5",
   "metadata": {},
   "outputs": [
    {
     "name": "stdout",
     "output_type": "stream",
     "text": [
      "File size (MB): 51 \n"
     ]
    },
    {
     "data": {
      "text/plain": [
       "   user  system elapsed \n",
       "   6.15    0.27    6.57 "
      ]
     },
     "metadata": {},
     "output_type": "display_data"
    },
    {
     "data": {
      "text/html": [
       "'data.frame'"
      ],
      "text/latex": [
       "'data.frame'"
      ],
      "text/markdown": [
       "'data.frame'"
      ],
      "text/plain": [
       "[1] \"data.frame\""
      ]
     },
     "metadata": {},
     "output_type": "display_data"
    },
    {
     "name": "stderr",
     "output_type": "stream",
     "text": [
      "Parsed with column specification:\n",
      "cols(\n",
      "  a = col_double(),\n",
      "  b = col_double(),\n",
      "  c = col_double(),\n",
      "  d = col_character(),\n",
      "  e = col_double(),\n",
      "  f = col_double()\n",
      ")\n"
     ]
    },
    {
     "data": {
      "text/plain": [
       "   user  system elapsed \n",
       "   0.64    0.09    0.75 "
      ]
     },
     "metadata": {},
     "output_type": "display_data"
    }
   ],
   "source": [
    "# This is simply the demo from the R help for fread, but it shows how much faster fread is!\n",
    "# Make up a data set (I haven't covered data.table, but it is like data.frame)\n",
    "n=1e6\n",
    "DT = data.table( a=sample(1:1000,n,replace=TRUE),\n",
    "                 b=sample(1:1000,n,replace=TRUE),\n",
    "                 c=rnorm(n),\n",
    "                 d=sample(c(\"foo\",\"bar\",\"baz\",\"qux\",\"quux\"),n,replace=TRUE),\n",
    "                 e=rnorm(n),\n",
    "                 f=sample(1:1000,n,replace=TRUE) )\n",
    "# Save it and get the size info\n",
    "write.table(DT,\"test.csv\",sep=\",\",row.names=FALSE,quote=FALSE)\n",
    "cat(\"File size (MB):\", round(file.info(\"test.csv\")$size/1024^2),\"\\n\")\n",
    "\n",
    "#Here is the read.table timing.  The bit in the system.time() is what \n",
    "# you'd typically use to read it in.\n",
    "# header=TRUE lets it know there's a header (column names)\n",
    "# sep = \",\" is the delimiter\n",
    "# quote=\"\" disables quoting\n",
    "# stringsAsFactors=FALSE is really handy, since you often\n",
    "#     don't want the strings to automatically be made into factors\n",
    "\n",
    "# note, the \"=\" notation won't work since the assignment is within another function\n",
    "# so <- is used instead.\n",
    "system.time(DF2 <- read.table(\"test.csv\",header=TRUE,sep=\",\",stringsAsFactors=FALSE))\n",
    "class(DF2)\n",
    "\n",
    "# read_csv from readr\n",
    "system.time(DF3 <- read_csv(\"test.csv\"))"
   ]
  },
  {
   "cell_type": "code",
   "execution_count": 3,
   "id": "eafe13bf",
   "metadata": {
    "scrolled": true
   },
   "outputs": [
    {
     "data": {
      "text/html": [
       "<ol class=list-inline>\n",
       "\t<li>'spec_tbl_df'</li>\n",
       "\t<li>'tbl_df'</li>\n",
       "\t<li>'tbl'</li>\n",
       "\t<li>'data.frame'</li>\n",
       "</ol>\n"
      ],
      "text/latex": [
       "\\begin{enumerate*}\n",
       "\\item 'spec\\_tbl\\_df'\n",
       "\\item 'tbl\\_df'\n",
       "\\item 'tbl'\n",
       "\\item 'data.frame'\n",
       "\\end{enumerate*}\n"
      ],
      "text/markdown": [
       "1. 'spec_tbl_df'\n",
       "2. 'tbl_df'\n",
       "3. 'tbl'\n",
       "4. 'data.frame'\n",
       "\n",
       "\n"
      ],
      "text/plain": [
       "[1] \"spec_tbl_df\" \"tbl_df\"      \"tbl\"         \"data.frame\" "
      ]
     },
     "metadata": {},
     "output_type": "display_data"
    },
    {
     "data": {
      "text/plain": [
       "   user  system elapsed \n",
       "   0.22    0.00    0.07 "
      ]
     },
     "metadata": {},
     "output_type": "display_data"
    },
    {
     "data": {
      "text/html": [
       "<ol class=list-inline>\n",
       "\t<li>'data.table'</li>\n",
       "\t<li>'data.frame'</li>\n",
       "</ol>\n"
      ],
      "text/latex": [
       "\\begin{enumerate*}\n",
       "\\item 'data.table'\n",
       "\\item 'data.frame'\n",
       "\\end{enumerate*}\n"
      ],
      "text/markdown": [
       "1. 'data.table'\n",
       "2. 'data.frame'\n",
       "\n",
       "\n"
      ],
      "text/plain": [
       "[1] \"data.table\" \"data.frame\""
      ]
     },
     "metadata": {},
     "output_type": "display_data"
    }
   ],
   "source": [
    "class(DF3)\n",
    "\n",
    "# fread from data.table\n",
    "system.time(DT <- fread(\"test.csv\"))\n",
    "class(DT)"
   ]
  },
  {
   "cell_type": "markdown",
   "id": "69819f6c",
   "metadata": {},
   "source": [
    "It used to be the case the fread was only a data.table format, which made plotting in ggplot2 difficult, since that requires a data.frame. Guess they’ve changed it! I would use either fread or read_csv, although read_csv will only work for comma delimited files.\n",
    "\n",
    "One thing you must be careful about is that data.tables behave differently than regular data.frames. Specifically, data.table uses pass-by-reference, which improves performance but has odd behavior. For example, if I create a copy of DT2, it is still linked to DT and if I change a column heading in DT2 it will change it in DT as well!"
   ]
  },
  {
   "cell_type": "code",
   "execution_count": 4,
   "id": "5e3ac1e0",
   "metadata": {},
   "outputs": [
    {
     "data": {
      "text/html": [
       "<ol class=list-inline>\n",
       "\t<li>'a'</li>\n",
       "\t<li>'b'</li>\n",
       "\t<li>'c'</li>\n",
       "\t<li>'d'</li>\n",
       "\t<li>'e'</li>\n",
       "\t<li>'f'</li>\n",
       "</ol>\n"
      ],
      "text/latex": [
       "\\begin{enumerate*}\n",
       "\\item 'a'\n",
       "\\item 'b'\n",
       "\\item 'c'\n",
       "\\item 'd'\n",
       "\\item 'e'\n",
       "\\item 'f'\n",
       "\\end{enumerate*}\n"
      ],
      "text/markdown": [
       "1. 'a'\n",
       "2. 'b'\n",
       "3. 'c'\n",
       "4. 'd'\n",
       "5. 'e'\n",
       "6. 'f'\n",
       "\n",
       "\n"
      ],
      "text/plain": [
       "[1] \"a\" \"b\" \"c\" \"d\" \"e\" \"f\""
      ]
     },
     "metadata": {},
     "output_type": "display_data"
    },
    {
     "data": {
      "text/html": [
       "<ol class=list-inline>\n",
       "\t<li>'a2'</li>\n",
       "\t<li>'b'</li>\n",
       "\t<li>'c'</li>\n",
       "\t<li>'d'</li>\n",
       "\t<li>'e'</li>\n",
       "\t<li>'f'</li>\n",
       "</ol>\n"
      ],
      "text/latex": [
       "\\begin{enumerate*}\n",
       "\\item 'a2'\n",
       "\\item 'b'\n",
       "\\item 'c'\n",
       "\\item 'd'\n",
       "\\item 'e'\n",
       "\\item 'f'\n",
       "\\end{enumerate*}\n"
      ],
      "text/markdown": [
       "1. 'a2'\n",
       "2. 'b'\n",
       "3. 'c'\n",
       "4. 'd'\n",
       "5. 'e'\n",
       "6. 'f'\n",
       "\n",
       "\n"
      ],
      "text/plain": [
       "[1] \"a2\" \"b\"  \"c\"  \"d\"  \"e\"  \"f\" "
      ]
     },
     "metadata": {},
     "output_type": "display_data"
    },
    {
     "data": {
      "text/html": [
       "<ol class=list-inline>\n",
       "\t<li>'a'</li>\n",
       "\t<li>'b'</li>\n",
       "\t<li>'c'</li>\n",
       "\t<li>'d'</li>\n",
       "\t<li>'e'</li>\n",
       "\t<li>'f'</li>\n",
       "</ol>\n"
      ],
      "text/latex": [
       "\\begin{enumerate*}\n",
       "\\item 'a'\n",
       "\\item 'b'\n",
       "\\item 'c'\n",
       "\\item 'd'\n",
       "\\item 'e'\n",
       "\\item 'f'\n",
       "\\end{enumerate*}\n"
      ],
      "text/markdown": [
       "1. 'a'\n",
       "2. 'b'\n",
       "3. 'c'\n",
       "4. 'd'\n",
       "5. 'e'\n",
       "6. 'f'\n",
       "\n",
       "\n"
      ],
      "text/plain": [
       "[1] \"a\" \"b\" \"c\" \"d\" \"e\" \"f\""
      ]
     },
     "metadata": {},
     "output_type": "display_data"
    },
    {
     "data": {
      "text/html": [
       "<ol class=list-inline>\n",
       "\t<li>'a2'</li>\n",
       "\t<li>'b'</li>\n",
       "\t<li>'c'</li>\n",
       "\t<li>'d'</li>\n",
       "\t<li>'e'</li>\n",
       "\t<li>'f'</li>\n",
       "\t<li>'g'</li>\n",
       "</ol>\n"
      ],
      "text/latex": [
       "\\begin{enumerate*}\n",
       "\\item 'a2'\n",
       "\\item 'b'\n",
       "\\item 'c'\n",
       "\\item 'd'\n",
       "\\item 'e'\n",
       "\\item 'f'\n",
       "\\item 'g'\n",
       "\\end{enumerate*}\n"
      ],
      "text/markdown": [
       "1. 'a2'\n",
       "2. 'b'\n",
       "3. 'c'\n",
       "4. 'd'\n",
       "5. 'e'\n",
       "6. 'f'\n",
       "7. 'g'\n",
       "\n",
       "\n"
      ],
      "text/plain": [
       "[1] \"a2\" \"b\"  \"c\"  \"d\"  \"e\"  \"f\"  \"g\" "
      ]
     },
     "metadata": {},
     "output_type": "display_data"
    },
    {
     "data": {
      "text/html": [
       "<ol class=list-inline>\n",
       "\t<li>'a'</li>\n",
       "\t<li>'b'</li>\n",
       "\t<li>'c'</li>\n",
       "\t<li>'d'</li>\n",
       "\t<li>'e'</li>\n",
       "\t<li>'f'</li>\n",
       "</ol>\n"
      ],
      "text/latex": [
       "\\begin{enumerate*}\n",
       "\\item 'a'\n",
       "\\item 'b'\n",
       "\\item 'c'\n",
       "\\item 'd'\n",
       "\\item 'e'\n",
       "\\item 'f'\n",
       "\\end{enumerate*}\n"
      ],
      "text/markdown": [
       "1. 'a'\n",
       "2. 'b'\n",
       "3. 'c'\n",
       "4. 'd'\n",
       "5. 'e'\n",
       "6. 'f'\n",
       "\n",
       "\n"
      ],
      "text/plain": [
       "[1] \"a\" \"b\" \"c\" \"d\" \"e\" \"f\""
      ]
     },
     "metadata": {},
     "output_type": "display_data"
    },
    {
     "data": {
      "text/html": [
       "<ol class=list-inline>\n",
       "\t<li>389</li>\n",
       "\t<li>355</li>\n",
       "\t<li>896</li>\n",
       "\t<li>197</li>\n",
       "\t<li>724</li>\n",
       "</ol>\n"
      ],
      "text/latex": [
       "\\begin{enumerate*}\n",
       "\\item 389\n",
       "\\item 355\n",
       "\\item 896\n",
       "\\item 197\n",
       "\\item 724\n",
       "\\end{enumerate*}\n"
      ],
      "text/markdown": [
       "1. 389\n",
       "2. 355\n",
       "3. 896\n",
       "4. 197\n",
       "5. 724\n",
       "\n",
       "\n"
      ],
      "text/plain": [
       "[1] 389 355 896 197 724"
      ]
     },
     "metadata": {},
     "output_type": "display_data"
    },
    {
     "data": {
      "text/html": [
       "<ol class=list-inline>\n",
       "\t<li>151321</li>\n",
       "\t<li>126025</li>\n",
       "\t<li>802816</li>\n",
       "\t<li>38809</li>\n",
       "\t<li>524176</li>\n",
       "</ol>\n"
      ],
      "text/latex": [
       "\\begin{enumerate*}\n",
       "\\item 151321\n",
       "\\item 126025\n",
       "\\item 802816\n",
       "\\item 38809\n",
       "\\item 524176\n",
       "\\end{enumerate*}\n"
      ],
      "text/markdown": [
       "1. 151321\n",
       "2. 126025\n",
       "3. 802816\n",
       "4. 38809\n",
       "5. 524176\n",
       "\n",
       "\n"
      ],
      "text/plain": [
       "[1] 151321 126025 802816  38809 524176"
      ]
     },
     "metadata": {},
     "output_type": "display_data"
    },
    {
     "data": {
      "text/html": [
       "<ol class=list-inline>\n",
       "\t<li>389</li>\n",
       "\t<li>355</li>\n",
       "\t<li>896</li>\n",
       "\t<li>197</li>\n",
       "\t<li>724</li>\n",
       "</ol>\n"
      ],
      "text/latex": [
       "\\begin{enumerate*}\n",
       "\\item 389\n",
       "\\item 355\n",
       "\\item 896\n",
       "\\item 197\n",
       "\\item 724\n",
       "\\end{enumerate*}\n"
      ],
      "text/markdown": [
       "1. 389\n",
       "2. 355\n",
       "3. 896\n",
       "4. 197\n",
       "5. 724\n",
       "\n",
       "\n"
      ],
      "text/plain": [
       "[1] 389 355 896 197 724"
      ]
     },
     "metadata": {},
     "output_type": "display_data"
    },
    {
     "data": {
      "text/html": [
       "<ol class=list-inline>\n",
       "\t<li>-1.37095443853592</li>\n",
       "\t<li>-0.304619408992865</li>\n",
       "\t<li>-0.0239327465000332</li>\n",
       "\t<li>0.218112975248047</li>\n",
       "\t<li>-0.0497063868770466</li>\n",
       "\t<li>-0.907009335741395</li>\n",
       "\t<li>-0.483684749859693</li>\n",
       "\t<li>0.0576665848929188</li>\n",
       "\t<li>0.718861381049783</li>\n",
       "\t<li>-0.185901246991878</li>\n",
       "</ol>\n"
      ],
      "text/latex": [
       "\\begin{enumerate*}\n",
       "\\item -1.37095443853592\n",
       "\\item -0.304619408992865\n",
       "\\item -0.0239327465000332\n",
       "\\item 0.218112975248047\n",
       "\\item -0.0497063868770466\n",
       "\\item -0.907009335741395\n",
       "\\item -0.483684749859693\n",
       "\\item 0.0576665848929188\n",
       "\\item 0.718861381049783\n",
       "\\item -0.185901246991878\n",
       "\\end{enumerate*}\n"
      ],
      "text/markdown": [
       "1. -1.37095443853592\n",
       "2. -0.304619408992865\n",
       "3. -0.0239327465000332\n",
       "4. 0.218112975248047\n",
       "5. -0.0497063868770466\n",
       "6. -0.907009335741395\n",
       "7. -0.483684749859693\n",
       "8. 0.0576665848929188\n",
       "9. 0.718861381049783\n",
       "10. -0.185901246991878\n",
       "\n",
       "\n"
      ],
      "text/plain": [
       " [1] -1.37095444 -0.30461941 -0.02393275  0.21811298 -0.04970639 -0.90700934\n",
       " [7] -0.48368475  0.05766658  0.71886138 -0.18590125"
      ]
     },
     "metadata": {},
     "output_type": "display_data"
    },
    {
     "data": {
      "text/html": [
       "<ol class=list-inline>\n",
       "\t<li>1.87951607254134</li>\n",
       "\t<li>0.0927929843351624</li>\n",
       "\t<li>0.000572776355034851</li>\n",
       "\t<li>0.0475732699715552</li>\n",
       "\t<li>0.00247072489637063</li>\n",
       "\t<li>0.822665935122047</li>\n",
       "\t<li>0.233950937246834</li>\n",
       "\t<li>0.00332543501321221</li>\n",
       "\t<li>0.516761685164801</li>\n",
       "\t<li>0.0345592736331352</li>\n",
       "</ol>\n"
      ],
      "text/latex": [
       "\\begin{enumerate*}\n",
       "\\item 1.87951607254134\n",
       "\\item 0.0927929843351624\n",
       "\\item 0.000572776355034851\n",
       "\\item 0.0475732699715552\n",
       "\\item 0.00247072489637063\n",
       "\\item 0.822665935122047\n",
       "\\item 0.233950937246834\n",
       "\\item 0.00332543501321221\n",
       "\\item 0.516761685164801\n",
       "\\item 0.0345592736331352\n",
       "\\end{enumerate*}\n"
      ],
      "text/markdown": [
       "1. 1.87951607254134\n",
       "2. 0.0927929843351624\n",
       "3. 0.000572776355034851\n",
       "4. 0.0475732699715552\n",
       "5. 0.00247072489637063\n",
       "6. 0.822665935122047\n",
       "7. 0.233950937246834\n",
       "8. 0.00332543501321221\n",
       "9. 0.516761685164801\n",
       "10. 0.0345592736331352\n",
       "\n",
       "\n"
      ],
      "text/plain": [
       " [1] 1.8795160725 0.0927929843 0.0005727764 0.0475732700 0.0024707249\n",
       " [6] 0.8226659351 0.2339509372 0.0033254350 0.5167616852 0.0345592736"
      ]
     },
     "metadata": {},
     "output_type": "display_data"
    },
    {
     "data": {
      "text/html": [
       "<ol class=list-inline>\n",
       "\t<li>-1.37095443853592</li>\n",
       "\t<li>-0.304619408992865</li>\n",
       "\t<li>-0.0239327465000332</li>\n",
       "\t<li>0.218112975248047</li>\n",
       "\t<li>-0.0497063868770466</li>\n",
       "\t<li>-0.907009335741395</li>\n",
       "\t<li>-0.483684749859693</li>\n",
       "\t<li>0.0576665848929188</li>\n",
       "\t<li>0.718861381049783</li>\n",
       "\t<li>-0.185901246991878</li>\n",
       "</ol>\n"
      ],
      "text/latex": [
       "\\begin{enumerate*}\n",
       "\\item -1.37095443853592\n",
       "\\item -0.304619408992865\n",
       "\\item -0.0239327465000332\n",
       "\\item 0.218112975248047\n",
       "\\item -0.0497063868770466\n",
       "\\item -0.907009335741395\n",
       "\\item -0.483684749859693\n",
       "\\item 0.0576665848929188\n",
       "\\item 0.718861381049783\n",
       "\\item -0.185901246991878\n",
       "\\end{enumerate*}\n"
      ],
      "text/markdown": [
       "1. -1.37095443853592\n",
       "2. -0.304619408992865\n",
       "3. -0.0239327465000332\n",
       "4. 0.218112975248047\n",
       "5. -0.0497063868770466\n",
       "6. -0.907009335741395\n",
       "7. -0.483684749859693\n",
       "8. 0.0576665848929188\n",
       "9. 0.718861381049783\n",
       "10. -0.185901246991878\n",
       "\n",
       "\n"
      ],
      "text/plain": [
       " [1] -1.37095444 -0.30461941 -0.02393275  0.21811298 -0.04970639 -0.90700934\n",
       " [7] -0.48368475  0.05766658  0.71886138 -0.18590125"
      ]
     },
     "metadata": {},
     "output_type": "display_data"
    }
   ],
   "source": [
    "DT2 = DT\n",
    "names(DT2)\n",
    "\n",
    "# change a to a2\n",
    "names(DT2)[1] = \"a2\"\n",
    "names(DT2)\n",
    "\n",
    "# Now look at DT\n",
    "names(DT)\n",
    "#!!\n",
    "\n",
    "# If I add to DT2, what happens?\n",
    "DT2$g = DT2$f^2\n",
    "names(DT2)\n",
    "names(DT)\n",
    "# Nope, only in the new one\n",
    "\n",
    "# What if I manipulate the values in a column of DT2?\n",
    "# see what we're starting with\n",
    "DT2$b[1:5]\n",
    "DT2$b = DT2$b^2\n",
    "# See the change\n",
    "DT2$b[1:5]\n",
    "# Did it alter the original?\n",
    "DT$b[1:5]\n",
    "\n",
    "#  What if I change something in DT, is it automatically changed in DT2?\n",
    "# See what we start with\n",
    "DT$c[1:10]\n",
    "DT$c = DT$c^2\n",
    "# See the change in DT\n",
    "DT$c[1:10]\n",
    "# How's DT2?\n",
    "DT2$c[1:10]\n",
    "# unchanged"
   ]
  },
  {
   "cell_type": "markdown",
   "id": "98123649",
   "metadata": {},
   "source": [
    "Now for some cleanup, since we created a big file that we don’t need…"
   ]
  },
  {
   "cell_type": "code",
   "execution_count": 6,
   "id": "86a4019a",
   "metadata": {},
   "outputs": [],
   "source": [
    "# system() allows us to run a command in the Linux environment\n",
    "# system(\"rm test.csv\")"
   ]
  },
  {
   "cell_type": "code",
   "execution_count": 33,
   "id": "ac1d508d-348d-4ac9-9d9f-acac45753ea1",
   "metadata": {},
   "outputs": [
    {
     "name": "stdout",
     "output_type": "stream",
     "text": [
      "'data.frame':\t50 obs. of  4 variables:\n",
      " $ id   : int  1 2 3 4 5 6 7 8 9 10 ...\n",
      " $ msex : Factor w/ 2 levels \"Female\",\"Male\": 2 2 2 2 2 2 2 2 2 2 ...\n",
      " $ csex : int  1 1 1 1 1 1 1 1 1 1 ...\n",
      " $ grade: int  3 4 5 3 2 5 4 4 3 2 ...\n"
     ]
    }
   ],
   "source": [
    "# Load the data (read.csv)\n",
    "# No separator due to separted by \",\"\n",
    "# stringsAsFactor = It doesn't matter if you don't specify\n",
    "\n",
    "gradecsv <- read.csv(\"example/0202.grade.csv\",\n",
    "                     header = TRUE, # T\n",
    "                     na.strings = \".\"\n",
    "                    )\n",
    "str(gradecsv)"
   ]
  },
  {
   "cell_type": "code",
   "execution_count": 5,
   "id": "af068286-b665-4d05-9350-a2ca222f2a78",
   "metadata": {
    "collapsed": true,
    "jupyter": {
     "outputs_hidden": true
    },
    "tags": []
   },
   "outputs": [
    {
     "name": "stdout",
     "output_type": "stream",
     "text": [
      "   id   msex csex grade\n",
      "1   1   Male    1     3\n",
      "2   2   Male    1     4\n",
      "3   3   Male    1     5\n",
      "4   4   Male    1     3\n",
      "5   5   Male    1     2\n",
      "6   6   Male    1     5\n",
      "7   7   Male    1     4\n",
      "8   8   Male    1     4\n",
      "9   9   Male    1     3\n",
      "10 10   Male    1     2\n",
      "11 11   Male    1     5\n",
      "12 12   Male    1     4\n",
      "13 13   Male    1     4\n",
      "14 14   Male    1     3\n",
      "15 15   Male    1     5\n",
      "16 16   Male    1     4\n",
      "17 17   Male    1     4\n",
      "18 18   Male    1     1\n",
      "19 19   Male    1     2\n",
      "20 20   Male    1     2\n",
      "21 21   Male    1     4\n",
      "22 22   Male    1     3\n",
      "23 23   Male    1     4\n",
      "24 24   Male    1     3\n",
      "25 25   Male    1     4\n",
      "26 26 Female    2     4\n",
      "27 27 Female    2     3\n",
      "28 28 Female    2     4\n",
      "29 29 Female    2     1\n",
      "30 30 Female    2     4\n",
      "31 31 Female    2     4\n",
      "32 32 Female    2     2\n",
      "33 33 Female    2     3\n",
      "34 34 Female    2     5\n",
      "35 35 Female    2     4\n",
      "36 36 Female    2     3\n",
      "37 37 Female    2     4\n",
      "38 38 Female    2     4\n",
      "39 39 Female    2     3\n",
      "40 40 Female    2     4\n",
      "41 41 Female    2     3\n",
      "42 42 Female    2     3\n",
      "43 43 Female    2     2\n",
      "44 44 Female    2     4\n",
      "45 45 Female    2     3\n",
      "46 46 Female    2     4\n",
      "47 47 Female    2     5\n",
      "48 48 Female    2     4\n",
      "49 49 Female    2     3\n",
      "50 50 Female    2     3\n"
     ]
    }
   ],
   "source": [
    "print(gradecsv)"
   ]
  },
  {
   "cell_type": "markdown",
   "id": "2da0c8d3-b08d-4528-8122-40edd01716bc",
   "metadata": {},
   "source": [
    "[Back to the top](#Table_of_Contents)"
   ]
  },
  {
   "cell_type": "markdown",
   "id": "7c27531b-8aa2-4a77-90b8-878d7b38c8ea",
   "metadata": {},
   "source": [
    "<h4>Load_the_excel_file</h4>"
   ]
  },
  {
   "cell_type": "code",
   "execution_count": 36,
   "id": "cc532ed5-8468-491b-b539-013d4cee1962",
   "metadata": {},
   "outputs": [
    {
     "name": "stdout",
     "output_type": "stream",
     "text": [
      "package 'readxl' successfully unpacked and MD5 sums checked\n",
      "\n",
      "The downloaded binary packages are in\n",
      "\tC:\\Users\\kimji\\AppData\\Local\\Temp\\RtmpeUstLR\\downloaded_packages\n"
     ]
    },
    {
     "name": "stderr",
     "output_type": "stream",
     "text": [
      "Warning message:\n",
      "\"package 'readxl' was built under R version 3.6.3\""
     ]
    },
    {
     "name": "stdout",
     "output_type": "stream",
     "text": [
      "Classes 'tbl_df', 'tbl' and 'data.frame':\t50 obs. of  4 variables:\n",
      " $ id   : num  1 2 3 4 5 6 7 8 9 10 ...\n",
      " $ msex : chr  \"Male\" \"Male\" \"Male\" \"Male\" ...\n",
      " $ csex : num  1 1 1 1 1 1 1 1 1 1 ...\n",
      " $ grade: num  3 4 5 3 2 5 4 4 3 2 ...\n"
     ]
    }
   ],
   "source": [
    "# Load the data (read_excel)\n",
    "install.packages('readxl') # install the packages\n",
    "library(readxl) # import the library\n",
    "gradexls <- read_excel(\"example/0203.grade.xlsx\",\n",
    "                       sheet = \"grade\",\n",
    "                       col_names = TRUE,\n",
    "                       na = \"NA\"\n",
    "                      )\n",
    "str(gradexls)"
   ]
  },
  {
   "cell_type": "code",
   "execution_count": 7,
   "id": "9cd88bf9-f9db-4b4a-b715-e1cdc8614bac",
   "metadata": {
    "collapsed": true,
    "jupyter": {
     "outputs_hidden": true
    },
    "tags": []
   },
   "outputs": [
    {
     "data": {
      "text/html": [
       "<table>\n",
       "<thead><tr><th scope=col>id</th><th scope=col>msex</th><th scope=col>csex</th><th scope=col>grade</th></tr></thead>\n",
       "<tbody>\n",
       "\t<tr><td> 1    </td><td>Male  </td><td>1     </td><td>3     </td></tr>\n",
       "\t<tr><td> 2    </td><td>Male  </td><td>1     </td><td>4     </td></tr>\n",
       "\t<tr><td> 3    </td><td>Male  </td><td>1     </td><td>5     </td></tr>\n",
       "\t<tr><td> 4    </td><td>Male  </td><td>1     </td><td>3     </td></tr>\n",
       "\t<tr><td> 5    </td><td>Male  </td><td>1     </td><td>2     </td></tr>\n",
       "\t<tr><td> 6    </td><td>Male  </td><td>1     </td><td>5     </td></tr>\n",
       "\t<tr><td> 7    </td><td>Male  </td><td>1     </td><td>4     </td></tr>\n",
       "\t<tr><td> 8    </td><td>Male  </td><td>1     </td><td>4     </td></tr>\n",
       "\t<tr><td> 9    </td><td>Male  </td><td>1     </td><td>3     </td></tr>\n",
       "\t<tr><td>10    </td><td>Male  </td><td>1     </td><td>2     </td></tr>\n",
       "\t<tr><td>11    </td><td>Male  </td><td>1     </td><td>5     </td></tr>\n",
       "\t<tr><td>12    </td><td>Male  </td><td>1     </td><td>4     </td></tr>\n",
       "\t<tr><td>13    </td><td>Male  </td><td>1     </td><td>4     </td></tr>\n",
       "\t<tr><td>14    </td><td>Male  </td><td>1     </td><td>3     </td></tr>\n",
       "\t<tr><td>15    </td><td>Male  </td><td>1     </td><td>5     </td></tr>\n",
       "\t<tr><td>16    </td><td>Male  </td><td>1     </td><td>4     </td></tr>\n",
       "\t<tr><td>17    </td><td>Male  </td><td>1     </td><td>4     </td></tr>\n",
       "\t<tr><td>18    </td><td>Male  </td><td>1     </td><td>1     </td></tr>\n",
       "\t<tr><td>19    </td><td>Male  </td><td>1     </td><td>2     </td></tr>\n",
       "\t<tr><td>20    </td><td>Male  </td><td>1     </td><td>2     </td></tr>\n",
       "\t<tr><td>21    </td><td>Male  </td><td>1     </td><td>4     </td></tr>\n",
       "\t<tr><td>22    </td><td>Male  </td><td>1     </td><td>3     </td></tr>\n",
       "\t<tr><td>23    </td><td>Male  </td><td>1     </td><td>4     </td></tr>\n",
       "\t<tr><td>24    </td><td>Male  </td><td>1     </td><td>3     </td></tr>\n",
       "\t<tr><td>25    </td><td>Male  </td><td>1     </td><td>4     </td></tr>\n",
       "\t<tr><td>26    </td><td>Female</td><td>2     </td><td>4     </td></tr>\n",
       "\t<tr><td>27    </td><td>Female</td><td>2     </td><td>3     </td></tr>\n",
       "\t<tr><td>28    </td><td>Female</td><td>2     </td><td>4     </td></tr>\n",
       "\t<tr><td>29    </td><td>Female</td><td>2     </td><td>1     </td></tr>\n",
       "\t<tr><td>30    </td><td>Female</td><td>2     </td><td>4     </td></tr>\n",
       "\t<tr><td>31    </td><td>Female</td><td>2     </td><td>4     </td></tr>\n",
       "\t<tr><td>32    </td><td>Female</td><td>2     </td><td>2     </td></tr>\n",
       "\t<tr><td>33    </td><td>Female</td><td>2     </td><td>3     </td></tr>\n",
       "\t<tr><td>34    </td><td>Female</td><td>2     </td><td>5     </td></tr>\n",
       "\t<tr><td>35    </td><td>Female</td><td>2     </td><td>4     </td></tr>\n",
       "\t<tr><td>36    </td><td>Female</td><td>2     </td><td>3     </td></tr>\n",
       "\t<tr><td>37    </td><td>Female</td><td>2     </td><td>4     </td></tr>\n",
       "\t<tr><td>38    </td><td>Female</td><td>2     </td><td>4     </td></tr>\n",
       "\t<tr><td>39    </td><td>Female</td><td>2     </td><td>3     </td></tr>\n",
       "\t<tr><td>40    </td><td>Female</td><td>2     </td><td>4     </td></tr>\n",
       "\t<tr><td>41    </td><td>Female</td><td>2     </td><td>3     </td></tr>\n",
       "\t<tr><td>42    </td><td>Female</td><td>2     </td><td>3     </td></tr>\n",
       "\t<tr><td>43    </td><td>Female</td><td>2     </td><td>2     </td></tr>\n",
       "\t<tr><td>44    </td><td>Female</td><td>2     </td><td>4     </td></tr>\n",
       "\t<tr><td>45    </td><td>Female</td><td>2     </td><td>3     </td></tr>\n",
       "\t<tr><td>46    </td><td>Female</td><td>2     </td><td>4     </td></tr>\n",
       "\t<tr><td>47    </td><td>Female</td><td>2     </td><td>5     </td></tr>\n",
       "\t<tr><td>48    </td><td>Female</td><td>2     </td><td>4     </td></tr>\n",
       "\t<tr><td>49    </td><td>Female</td><td>2     </td><td>3     </td></tr>\n",
       "\t<tr><td>50    </td><td>Female</td><td>2     </td><td>3     </td></tr>\n",
       "</tbody>\n",
       "</table>\n"
      ],
      "text/latex": [
       "\\begin{tabular}{r|llll}\n",
       " id & msex & csex & grade\\\\\n",
       "\\hline\n",
       "\t  1     & Male   & 1      & 3     \\\\\n",
       "\t  2     & Male   & 1      & 4     \\\\\n",
       "\t  3     & Male   & 1      & 5     \\\\\n",
       "\t  4     & Male   & 1      & 3     \\\\\n",
       "\t  5     & Male   & 1      & 2     \\\\\n",
       "\t  6     & Male   & 1      & 5     \\\\\n",
       "\t  7     & Male   & 1      & 4     \\\\\n",
       "\t  8     & Male   & 1      & 4     \\\\\n",
       "\t  9     & Male   & 1      & 3     \\\\\n",
       "\t 10     & Male   & 1      & 2     \\\\\n",
       "\t 11     & Male   & 1      & 5     \\\\\n",
       "\t 12     & Male   & 1      & 4     \\\\\n",
       "\t 13     & Male   & 1      & 4     \\\\\n",
       "\t 14     & Male   & 1      & 3     \\\\\n",
       "\t 15     & Male   & 1      & 5     \\\\\n",
       "\t 16     & Male   & 1      & 4     \\\\\n",
       "\t 17     & Male   & 1      & 4     \\\\\n",
       "\t 18     & Male   & 1      & 1     \\\\\n",
       "\t 19     & Male   & 1      & 2     \\\\\n",
       "\t 20     & Male   & 1      & 2     \\\\\n",
       "\t 21     & Male   & 1      & 4     \\\\\n",
       "\t 22     & Male   & 1      & 3     \\\\\n",
       "\t 23     & Male   & 1      & 4     \\\\\n",
       "\t 24     & Male   & 1      & 3     \\\\\n",
       "\t 25     & Male   & 1      & 4     \\\\\n",
       "\t 26     & Female & 2      & 4     \\\\\n",
       "\t 27     & Female & 2      & 3     \\\\\n",
       "\t 28     & Female & 2      & 4     \\\\\n",
       "\t 29     & Female & 2      & 1     \\\\\n",
       "\t 30     & Female & 2      & 4     \\\\\n",
       "\t 31     & Female & 2      & 4     \\\\\n",
       "\t 32     & Female & 2      & 2     \\\\\n",
       "\t 33     & Female & 2      & 3     \\\\\n",
       "\t 34     & Female & 2      & 5     \\\\\n",
       "\t 35     & Female & 2      & 4     \\\\\n",
       "\t 36     & Female & 2      & 3     \\\\\n",
       "\t 37     & Female & 2      & 4     \\\\\n",
       "\t 38     & Female & 2      & 4     \\\\\n",
       "\t 39     & Female & 2      & 3     \\\\\n",
       "\t 40     & Female & 2      & 4     \\\\\n",
       "\t 41     & Female & 2      & 3     \\\\\n",
       "\t 42     & Female & 2      & 3     \\\\\n",
       "\t 43     & Female & 2      & 2     \\\\\n",
       "\t 44     & Female & 2      & 4     \\\\\n",
       "\t 45     & Female & 2      & 3     \\\\\n",
       "\t 46     & Female & 2      & 4     \\\\\n",
       "\t 47     & Female & 2      & 5     \\\\\n",
       "\t 48     & Female & 2      & 4     \\\\\n",
       "\t 49     & Female & 2      & 3     \\\\\n",
       "\t 50     & Female & 2      & 3     \\\\\n",
       "\\end{tabular}\n"
      ],
      "text/markdown": [
       "\n",
       "| id | msex | csex | grade |\n",
       "|---|---|---|---|\n",
       "|  1     | Male   | 1      | 3      |\n",
       "|  2     | Male   | 1      | 4      |\n",
       "|  3     | Male   | 1      | 5      |\n",
       "|  4     | Male   | 1      | 3      |\n",
       "|  5     | Male   | 1      | 2      |\n",
       "|  6     | Male   | 1      | 5      |\n",
       "|  7     | Male   | 1      | 4      |\n",
       "|  8     | Male   | 1      | 4      |\n",
       "|  9     | Male   | 1      | 3      |\n",
       "| 10     | Male   | 1      | 2      |\n",
       "| 11     | Male   | 1      | 5      |\n",
       "| 12     | Male   | 1      | 4      |\n",
       "| 13     | Male   | 1      | 4      |\n",
       "| 14     | Male   | 1      | 3      |\n",
       "| 15     | Male   | 1      | 5      |\n",
       "| 16     | Male   | 1      | 4      |\n",
       "| 17     | Male   | 1      | 4      |\n",
       "| 18     | Male   | 1      | 1      |\n",
       "| 19     | Male   | 1      | 2      |\n",
       "| 20     | Male   | 1      | 2      |\n",
       "| 21     | Male   | 1      | 4      |\n",
       "| 22     | Male   | 1      | 3      |\n",
       "| 23     | Male   | 1      | 4      |\n",
       "| 24     | Male   | 1      | 3      |\n",
       "| 25     | Male   | 1      | 4      |\n",
       "| 26     | Female | 2      | 4      |\n",
       "| 27     | Female | 2      | 3      |\n",
       "| 28     | Female | 2      | 4      |\n",
       "| 29     | Female | 2      | 1      |\n",
       "| 30     | Female | 2      | 4      |\n",
       "| 31     | Female | 2      | 4      |\n",
       "| 32     | Female | 2      | 2      |\n",
       "| 33     | Female | 2      | 3      |\n",
       "| 34     | Female | 2      | 5      |\n",
       "| 35     | Female | 2      | 4      |\n",
       "| 36     | Female | 2      | 3      |\n",
       "| 37     | Female | 2      | 4      |\n",
       "| 38     | Female | 2      | 4      |\n",
       "| 39     | Female | 2      | 3      |\n",
       "| 40     | Female | 2      | 4      |\n",
       "| 41     | Female | 2      | 3      |\n",
       "| 42     | Female | 2      | 3      |\n",
       "| 43     | Female | 2      | 2      |\n",
       "| 44     | Female | 2      | 4      |\n",
       "| 45     | Female | 2      | 3      |\n",
       "| 46     | Female | 2      | 4      |\n",
       "| 47     | Female | 2      | 5      |\n",
       "| 48     | Female | 2      | 4      |\n",
       "| 49     | Female | 2      | 3      |\n",
       "| 50     | Female | 2      | 3      |\n",
       "\n"
      ],
      "text/plain": [
       "   id msex   csex grade\n",
       "1   1 Male   1    3    \n",
       "2   2 Male   1    4    \n",
       "3   3 Male   1    5    \n",
       "4   4 Male   1    3    \n",
       "5   5 Male   1    2    \n",
       "6   6 Male   1    5    \n",
       "7   7 Male   1    4    \n",
       "8   8 Male   1    4    \n",
       "9   9 Male   1    3    \n",
       "10 10 Male   1    2    \n",
       "11 11 Male   1    5    \n",
       "12 12 Male   1    4    \n",
       "13 13 Male   1    4    \n",
       "14 14 Male   1    3    \n",
       "15 15 Male   1    5    \n",
       "16 16 Male   1    4    \n",
       "17 17 Male   1    4    \n",
       "18 18 Male   1    1    \n",
       "19 19 Male   1    2    \n",
       "20 20 Male   1    2    \n",
       "21 21 Male   1    4    \n",
       "22 22 Male   1    3    \n",
       "23 23 Male   1    4    \n",
       "24 24 Male   1    3    \n",
       "25 25 Male   1    4    \n",
       "26 26 Female 2    4    \n",
       "27 27 Female 2    3    \n",
       "28 28 Female 2    4    \n",
       "29 29 Female 2    1    \n",
       "30 30 Female 2    4    \n",
       "31 31 Female 2    4    \n",
       "32 32 Female 2    2    \n",
       "33 33 Female 2    3    \n",
       "34 34 Female 2    5    \n",
       "35 35 Female 2    4    \n",
       "36 36 Female 2    3    \n",
       "37 37 Female 2    4    \n",
       "38 38 Female 2    4    \n",
       "39 39 Female 2    3    \n",
       "40 40 Female 2    4    \n",
       "41 41 Female 2    3    \n",
       "42 42 Female 2    3    \n",
       "43 43 Female 2    2    \n",
       "44 44 Female 2    4    \n",
       "45 45 Female 2    3    \n",
       "46 46 Female 2    4    \n",
       "47 47 Female 2    5    \n",
       "48 48 Female 2    4    \n",
       "49 49 Female 2    3    \n",
       "50 50 Female 2    3    "
      ]
     },
     "metadata": {},
     "output_type": "display_data"
    }
   ],
   "source": [
    "gradexls"
   ]
  },
  {
   "cell_type": "markdown",
   "id": "22a92a7b-b19c-4d0c-b13d-9325aae66158",
   "metadata": {},
   "source": [
    "[Back to the top](#Table_of_Contents)"
   ]
  },
  {
   "cell_type": "markdown",
   "id": "40a7d258-c55c-40d3-861e-69feadba7b48",
   "metadata": {},
   "source": [
    "<h4>View_the_data_structure</h4>"
   ]
  },
  {
   "cell_type": "code",
   "execution_count": 8,
   "id": "f6863322-04a5-4844-8166-05546926da18",
   "metadata": {},
   "outputs": [
    {
     "name": "stdout",
     "output_type": "stream",
     "text": [
      "Classes 'tbl_df', 'tbl' and 'data.frame':\t50 obs. of  4 variables:\n",
      " $ id   : num  1 2 3 4 5 6 7 8 9 10 ...\n",
      " $ msex : chr  \"Male\" \"Male\" \"Male\" \"Male\" ...\n",
      " $ csex : num  1 1 1 1 1 1 1 1 1 1 ...\n",
      " $ grade: num  3 4 5 3 2 5 4 4 3 2 ...\n"
     ]
    },
    {
     "data": {
      "text/html": [
       "<ol class=list-inline>\n",
       "\t<li>50</li>\n",
       "\t<li>4</li>\n",
       "</ol>\n"
      ],
      "text/latex": [
       "\\begin{enumerate*}\n",
       "\\item 50\n",
       "\\item 4\n",
       "\\end{enumerate*}\n"
      ],
      "text/markdown": [
       "1. 50\n",
       "2. 4\n",
       "\n",
       "\n"
      ],
      "text/plain": [
       "[1] 50  4"
      ]
     },
     "metadata": {},
     "output_type": "display_data"
    },
    {
     "data": {
      "text/plain": [
       "       id            msex                csex         grade     \n",
       " Min.   : 1.00   Length:50          Min.   :1.0   Min.   :1.00  \n",
       " 1st Qu.:13.25   Class :character   1st Qu.:1.0   1st Qu.:3.00  \n",
       " Median :25.50   Mode  :character   Median :1.5   Median :4.00  \n",
       " Mean   :25.50                      Mean   :1.5   Mean   :3.46  \n",
       " 3rd Qu.:37.75                      3rd Qu.:2.0   3rd Qu.:4.00  \n",
       " Max.   :50.00                      Max.   :2.0   Max.   :5.00  "
      ]
     },
     "metadata": {},
     "output_type": "display_data"
    },
    {
     "data": {
      "text/plain": [
       "   Length     Class      Mode \n",
       "       50 character character "
      ]
     },
     "metadata": {},
     "output_type": "display_data"
    }
   ],
   "source": [
    "# View the data structure\n",
    "str(gradexls) # summary of the data structure\n",
    "dim(gradexls) # data row number and whole data number\n",
    "summary(gradexls) # summary of data\n",
    "summary(gradexls$msex) # specific variable summary"
   ]
  },
  {
   "cell_type": "markdown",
   "id": "4e21e571-14fb-480c-966c-bdc5af9d0757",
   "metadata": {},
   "source": [
    "[Back to the top](#Table_of_Contents)"
   ]
  },
  {
   "cell_type": "markdown",
   "id": "bb8c9c2d-5a5b-4dcf-a4e5-dd83b4f0926f",
   "metadata": {},
   "source": [
    "<h3>Factor_and_label</h3>"
   ]
  },
  {
   "cell_type": "markdown",
   "id": "d04d5fc3-936f-40f2-a87e-aaaec22e0cd2",
   "metadata": {},
   "source": [
    "<center><img src=\"img/r_All_kinds_of_objects.png\" ></center> "
   ]
  },
  {
   "cell_type": "code",
   "execution_count": 24,
   "id": "3ad511b4-38a5-42a4-b553-7c6b824b9223",
   "metadata": {
    "collapsed": true,
    "jupyter": {
     "outputs_hidden": true
    },
    "tags": []
   },
   "outputs": [
    {
     "name": "stdout",
     "output_type": "stream",
     "text": [
      "   V1     V2 V3 V4\n",
      "1   1   Male  1  3\n",
      "2   2   Male  1  4\n",
      "3   3   Male  1  5\n",
      "4   4   Male  1  3\n",
      "5   5   Male  1  2\n",
      "6   6   Male  1  5\n",
      "7   7   Male  1  4\n",
      "8   8   Male  1  4\n",
      "9   9   Male  1  3\n",
      "10 10   Male  1  2\n",
      "11 11   Male  1  5\n",
      "12 12   Male  1  4\n",
      "13 13   Male  1  4\n",
      "14 14   Male  1  3\n",
      "15 15   Male  1  5\n",
      "16 16   Male  1  4\n",
      "17 17   Male  1  4\n",
      "18 18   Male  1  1\n",
      "19 19   Male  1  2\n",
      "20 20   Male  1  2\n",
      "21 21   Male  1  4\n",
      "22 22   Male  1  3\n",
      "23 23   Male  1  4\n",
      "24 24   Male  1  3\n",
      "25 25   Male  1  4\n",
      "26 26 Female  2  4\n",
      "27 27 Female  2  3\n",
      "28 28 Female  2  4\n",
      "29 29 Female  2  1\n",
      "30 30 Female  2  4\n",
      "31 31 Female  2  4\n",
      "32 32 Female  2  2\n",
      "33 33 Female  2  3\n",
      "34 34 Female  2  5\n",
      "35 35 Female  2  4\n",
      "36 36 Female  2  3\n",
      "37 37 Female  2  4\n",
      "38 38 Female  2  4\n",
      "39 39 Female  2  3\n",
      "40 40 Female  2  4\n",
      "41 41 Female  2  3\n",
      "42 42 Female  2  3\n",
      "43 43 Female  2  2\n",
      "44 44 Female  2  4\n",
      "45 45 Female  2  3\n",
      "46 46 Female  2  4\n",
      "47 47 Female  2  5\n",
      "48 48 Female  2  4\n",
      "49 49 Female  2  3\n",
      "50 50 Female  2  3\n"
     ]
    },
    {
     "name": "stderr",
     "output_type": "stream",
     "text": [
      "Warning message in xy.coords(x, y, xlabel, ylabel, log):\n",
      "\"NAs introduced by coercion\"Warning message in min(x):\n",
      "\"no non-missing arguments to min; returning Inf\"Warning message in max(x):\n",
      "\"no non-missing arguments to max; returning -Inf\""
     ]
    },
    {
     "ename": "ERROR",
     "evalue": "Error in plot.window(...): need finite 'xlim' values\n",
     "output_type": "error",
     "traceback": [
      "Error in plot.window(...): need finite 'xlim' values\nTraceback:\n",
      "1. plot(x = gradetxt$V2, y = gradetxt$V4)",
      "2. plot.default(x = gradetxt$V2, y = gradetxt$V4)",
      "3. localWindow(xlim, ylim, log, asp, ...)",
      "4. plot.window(...)"
     ]
    },
    {
     "data": {
      "image/png": "[encoded data removed]",
      "text/plain": [
       "plot without title"
      ]
     },
     "metadata": {},
     "output_type": "display_data"
    }
   ],
   "source": [
    "# factor (handle the qualitative (categorical) variable)\n",
    "gradetxt <- read.table(\"example/0201.grade.txt\",\n",
    "                       header=FALSE,\n",
    "                       sep = \"\\t\",\n",
    "                       stringsAsFactor = FALSE,\n",
    "                       na.strings = \"\"\n",
    "                      )\n",
    "\n",
    "# without handling factor\n",
    "print(gradetxt)\n",
    "plot(x = gradetxt$V2, y = gradetxt$V4) # Error in plot"
   ]
  },
  {
   "cell_type": "code",
   "execution_count": 25,
   "id": "a7ecba66-17a7-4f56-94d6-ba680b0439b8",
   "metadata": {},
   "outputs": [
    {
     "name": "stdout",
     "output_type": "stream",
     "text": [
      " Factor w/ 2 levels \"Male\",\"Female\": 1 1 1 1 1 1 1 1 1 1 ...\n"
     ]
    },
    {
     "data": {
      "text/plain": [
       "\n",
       "  Male Female \n",
       "    25     25 "
      ]
     },
     "metadata": {},
     "output_type": "display_data"
    },
    {
     "data": {
      "image/png": "[encoded data removed]",
      "text/plain": [
       "plot without title"
      ]
     },
     "metadata": {},
     "output_type": "display_data"
    }
   ],
   "source": [
    "# Character type data factor\n",
    "# with handling factor\n",
    "gradetxt$V2 <- factor(gradetxt$V2,\n",
    "                      levels = c(\"Male\", \"Female\")\n",
    "                     )\n",
    "str(gradetxt$V2)\n",
    "table(gradetxt$V2)\n",
    "plot(x = gradetxt$V2, y = gradetxt$V4)"
   ]
  },
  {
   "cell_type": "code",
   "execution_count": 26,
   "id": "7892e1e7-5d48-426e-9768-74628bfa048e",
   "metadata": {},
   "outputs": [
    {
     "name": "stdout",
     "output_type": "stream",
     "text": [
      " Factor w/ 2 levels \"1\",\"2\": 1 1 1 1 1 1 1 1 1 1 ...\n"
     ]
    },
    {
     "data": {
      "text/plain": [
       "\n",
       " 1  2 \n",
       "25 25 "
      ]
     },
     "metadata": {},
     "output_type": "display_data"
    }
   ],
   "source": [
    "# Numeric variable factor\n",
    "gradetxt$V3 <- factor(gradetxt$V3,\n",
    "                      levels = c(1,2)\n",
    "                     )\n",
    "str(gradetxt$V3)\n",
    "table(gradetxt$V3)"
   ]
  },
  {
   "cell_type": "code",
   "execution_count": 27,
   "id": "79c35cc3-c38a-40d9-985f-07c4a243efb2",
   "metadata": {},
   "outputs": [
    {
     "name": "stdout",
     "output_type": "stream",
     "text": [
      " Factor w/ 2 levels \"M\",\"F\": 1 1 1 1 1 1 1 1 1 1 ...\n"
     ]
    },
    {
     "data": {
      "text/plain": [
       "\n",
       " M  F \n",
       "25 25 "
      ]
     },
     "metadata": {},
     "output_type": "display_data"
    }
   ],
   "source": [
    "gradetxt$V3 <- factor(gradetxt$V3,\n",
    "                      levels = c(1,2),\n",
    "                      labels = c(\"M\",\"F\")\n",
    "                     )\n",
    "str(gradetxt$V3)\n",
    "table(gradetxt$V3)"
   ]
  },
  {
   "cell_type": "markdown",
   "id": "09fb54e3-b995-4638-a6fa-f6374da52c12",
   "metadata": {},
   "source": [
    "[Back to the top](#Table_of_Contents)"
   ]
  },
  {
   "cell_type": "markdown",
   "id": "49384bdc-9a22-42a9-a066-d7a2be8465ba",
   "metadata": {},
   "source": [
    "<h3>Export_the_data</h3>"
   ]
  },
  {
   "cell_type": "markdown",
   "id": "cafbf264-a0ff-47c1-bee3-9c93b0131224",
   "metadata": {},
   "source": [
    "<h4>Export_the_txt_file</h4>"
   ]
  },
  {
   "cell_type": "code",
   "execution_count": 28,
   "id": "9e6cfdbd-4cb5-484c-a2e2-6bc62d38bc9b",
   "metadata": {},
   "outputs": [
    {
     "name": "stdout",
     "output_type": "stream",
     "text": [
      "'data.frame':\t50 obs. of  4 variables:\n",
      " $ V1: int  1 2 3 4 5 6 7 8 9 10 ...\n",
      " $ V2: Factor w/ 2 levels \"Male\",\"Female\": 1 1 1 1 1 1 1 1 1 1 ...\n",
      " $ V3: Factor w/ 2 levels \"M\",\"F\": 1 1 1 1 1 1 1 1 1 1 ...\n",
      " $ V4: int  3 4 5 3 2 5 4 4 3 2 ...\n"
     ]
    }
   ],
   "source": [
    "# Export the data (write.txt)\n",
    "str(gradetxt)\n",
    "\n",
    "write.table(gradetxt,\n",
    "            file = \"example/output/gradetxt.txt\",\n",
    "            row.names = FALSE,\n",
    "            na = \"\",\n",
    "            col.names = FALSE,\n",
    "            sep = \",\"\n",
    "           )"
   ]
  },
  {
   "cell_type": "code",
   "execution_count": 29,
   "id": "2b2fca8b-6d18-4cf5-9e3f-20db9aeaac8a",
   "metadata": {},
   "outputs": [
    {
     "name": "stdout",
     "output_type": "stream",
     "text": [
      "'data.frame':\t50 obs. of  4 variables:\n",
      " $ V1: int  1 2 3 4 5 6 7 8 9 10 ...\n",
      " $ V2: Factor w/ 2 levels \"Male\",\"Female\": 1 1 1 1 1 1 1 1 1 1 ...\n",
      " $ V3: Factor w/ 2 levels \"M\",\"F\": 1 1 1 1 1 1 1 1 1 1 ...\n",
      " $ V4: int  3 4 5 3 2 5 4 4 3 2 ...\n",
      "'data.frame':\t50 obs. of  4 variables:\n",
      " $ V1: int  1 2 3 4 5 6 7 8 9 10 ...\n",
      " $ V2: chr  \"Male\" \"Male\" \"Male\" \"Male\" ...\n",
      " $ V3: chr  \"M\" \"M\" \"M\" \"M\" ...\n",
      " $ V4: int  3 4 5 3 2 5 4 4 3 2 ...\n"
     ]
    }
   ],
   "source": [
    "# Reload the data (read.table)\n",
    "gradetxt1 <- read.table(\"example/output/gradetxt.txt\",\n",
    "                        header = FALSE,\n",
    "                        sep = \",\",\n",
    "                        stringsAsFactor = FALSE,\n",
    "                        na.strings = \"\"\n",
    "                       )\n",
    "# V3 converts from number to character type and saves\n",
    "str(gradetxt)\n",
    "str(gradetxt1)"
   ]
  },
  {
   "cell_type": "markdown",
   "id": "9d09ef4b-d52a-4ac8-845f-2fe2de07cdde",
   "metadata": {},
   "source": [
    "[Back to the top](#Table_of_Contents)"
   ]
  },
  {
   "cell_type": "markdown",
   "id": "8a65ae28-93fc-4eee-ad5e-07c60af926a2",
   "metadata": {},
   "source": [
    "<h4>Export_the_csv_file</h4>"
   ]
  },
  {
   "cell_type": "code",
   "execution_count": 34,
   "id": "a5664c7b-3efa-4eb5-85ff-871d825e28a1",
   "metadata": {},
   "outputs": [],
   "source": [
    "# Export the data (write.csv)\n",
    "write.csv(gradecsv,\n",
    "          file = \"example/output/gradecsv.csv\",\n",
    "          row.names=FALSE,\n",
    "          na=\"\"\n",
    "         )"
   ]
  },
  {
   "cell_type": "markdown",
   "id": "16057622-3ecb-40e3-8fb4-1c6eff7dd13d",
   "metadata": {},
   "source": [
    "[Back to the top](#Table_of_Contents)"
   ]
  },
  {
   "cell_type": "markdown",
   "id": "0e57cb11-c5d8-4b1d-b9a7-6b0b15421309",
   "metadata": {},
   "source": [
    "<h4>Export_the_excel_file</h4>"
   ]
  },
  {
   "cell_type": "code",
   "execution_count": 37,
   "id": "9e59563f-fcd6-4476-8cf7-6a5c66c97559",
   "metadata": {},
   "outputs": [
    {
     "name": "stdout",
     "output_type": "stream",
     "text": [
      "Classes 'tbl_df', 'tbl' and 'data.frame':\t50 obs. of  4 variables:\n",
      " $ id   : num  1 2 3 4 5 6 7 8 9 10 ...\n",
      " $ msex : chr  \"Male\" \"Male\" \"Male\" \"Male\" ...\n",
      " $ csex : num  1 1 1 1 1 1 1 1 1 1 ...\n",
      " $ grade: num  3 4 5 3 2 5 4 4 3 2 ...\n"
     ]
    }
   ],
   "source": [
    "# Export the data (write_xlsx)\n",
    "str(gradexls)"
   ]
  },
  {
   "cell_type": "code",
   "execution_count": 38,
   "id": "a643e322-6114-4194-851e-2e09d9b1c74a",
   "metadata": {},
   "outputs": [
    {
     "name": "stdout",
     "output_type": "stream",
     "text": [
      "package 'writexl' successfully unpacked and MD5 sums checked\n",
      "\n",
      "The downloaded binary packages are in\n",
      "\tC:\\Users\\kimji\\AppData\\Local\\Temp\\RtmpeUstLR\\downloaded_packages\n"
     ]
    },
    {
     "name": "stderr",
     "output_type": "stream",
     "text": [
      "Warning message:\n",
      "\"package 'writexl' was built under R version 3.6.3\""
     ]
    }
   ],
   "source": [
    "install.packages(\"writexl\")\n",
    "library(writexl)\n",
    "write_xlsx(gradexls,\n",
    "           path = \"example/output/gradexls.xlsx\"\n",
    "          )"
   ]
  },
  {
   "cell_type": "markdown",
   "id": "19a83a6b-aacd-401b-b6ef-f906789a3ef9",
   "metadata": {},
   "source": [
    "[Back to the top](#Table_of_Contents)"
   ]
  },
  {
   "cell_type": "markdown",
   "id": "cacabe43-639d-41e4-9aaf-93c8a36537ad",
   "metadata": {},
   "source": [
    "<h4>Export_the_data_as_R</h4>"
   ]
  },
  {
   "cell_type": "code",
   "execution_count": 39,
   "id": "ae24aec6-395d-478e-b6f9-591bfe368127",
   "metadata": {},
   "outputs": [],
   "source": [
    "# Export the data as R data\n",
    "save(gradetxt, file=\"example/output/grade.RData\")"
   ]
  },
  {
   "cell_type": "code",
   "execution_count": 40,
   "id": "c86d4ea2-e0b5-4053-afac-45f102e94c59",
   "metadata": {},
   "outputs": [],
   "source": [
    "load(file=\"example/output/grade.RData\")"
   ]
  },
  {
   "cell_type": "markdown",
   "id": "35fa257c-8465-4223-a539-c3b8f8b247d1",
   "metadata": {},
   "source": [
    "[Back to the top](#Table_of_Contents)"
   ]
  },
  {
   "cell_type": "markdown",
   "id": "cc26ba2f",
   "metadata": {},
   "source": [
    "<h3>Manipulate_the_data</h3>"
   ]
  },
  {
   "cell_type": "markdown",
   "id": "bf33c5db",
   "metadata": {},
   "source": [
    "Two libraries, tidyr and dplyr libraries provide really great functions for manipulating data frames. A couple of quick examples are in the following. Typically I use it to convert between wide and long data formats."
   ]
  },
  {
   "cell_type": "code",
   "execution_count": 9,
   "id": "ac90029e",
   "metadata": {
    "scrolled": false
   },
   "outputs": [
    {
     "name": "stderr",
     "output_type": "stream",
     "text": [
      "also installing the dependencies 'ellipsis', 'glue', 'lifecycle', 'rlang', 'tibble', 'tidyselect', 'vctrs', 'pillar'\n",
      "\n"
     ]
    },
    {
     "name": "stdout",
     "output_type": "stream",
     "text": [
      "\n",
      "  There are binary versions available but the source versions are later:\n",
      "       binary source needs_compilation\n",
      "tibble  3.1.1  3.1.2              TRUE\n",
      "pillar  1.6.0  1.6.1             FALSE\n",
      "\n",
      "  Binaries will be installed\n"
     ]
    },
    {
     "name": "stderr",
     "output_type": "stream",
     "text": [
      "Warning message:\n",
      "\"package 'dplyr' is in use and will not be installed\""
     ]
    },
    {
     "name": "stdout",
     "output_type": "stream",
     "text": [
      "package 'ellipsis' successfully unpacked and MD5 sums checked\n",
      "package 'glue' successfully unpacked and MD5 sums checked\n"
     ]
    },
    {
     "name": "stderr",
     "output_type": "stream",
     "text": [
      "Warning message:\n",
      "\"cannot remove prior installation of package 'glue'\"Warning message in file.copy(savedcopy, lib, recursive = TRUE):\n",
      "\"problem copying C:\\Users\\kimji\\.conda\\envs\\slap\\Lib\\R\\library\\00LOCK\\glue\\libs\\x64\\glue.dll to C:\\Users\\kimji\\.conda\\envs\\slap\\Lib\\R\\library\\glue\\libs\\x64\\glue.dll: Permission denied\"Warning message:\n",
      "\"restored 'glue'\""
     ]
    },
    {
     "name": "stdout",
     "output_type": "stream",
     "text": [
      "package 'lifecycle' successfully unpacked and MD5 sums checked\n",
      "package 'rlang' successfully unpacked and MD5 sums checked\n"
     ]
    },
    {
     "name": "stderr",
     "output_type": "stream",
     "text": [
      "Warning message:\n",
      "\"cannot remove prior installation of package 'rlang'\"Warning message in file.copy(savedcopy, lib, recursive = TRUE):\n",
      "\"problem copying C:\\Users\\kimji\\.conda\\envs\\slap\\Lib\\R\\library\\00LOCK\\rlang\\libs\\x64\\rlang.dll to C:\\Users\\kimji\\.conda\\envs\\slap\\Lib\\R\\library\\rlang\\libs\\x64\\rlang.dll: Permission denied\"Warning message:\n",
      "\"restored 'rlang'\""
     ]
    },
    {
     "name": "stdout",
     "output_type": "stream",
     "text": [
      "package 'tibble' successfully unpacked and MD5 sums checked\n"
     ]
    },
    {
     "name": "stderr",
     "output_type": "stream",
     "text": [
      "Warning message:\n",
      "\"cannot remove prior installation of package 'tibble'\"Warning message in file.copy(savedcopy, lib, recursive = TRUE):\n",
      "\"problem copying C:\\Users\\kimji\\.conda\\envs\\slap\\Lib\\R\\library\\00LOCK\\tibble\\libs\\x64\\tibble.dll to C:\\Users\\kimji\\.conda\\envs\\slap\\Lib\\R\\library\\tibble\\libs\\x64\\tibble.dll: Permission denied\"Warning message:\n",
      "\"restored 'tibble'\""
     ]
    },
    {
     "name": "stdout",
     "output_type": "stream",
     "text": [
      "package 'tidyselect' successfully unpacked and MD5 sums checked\n"
     ]
    },
    {
     "name": "stderr",
     "output_type": "stream",
     "text": [
      "Warning message:\n",
      "\"cannot remove prior installation of package 'tidyselect'\"Warning message in file.copy(savedcopy, lib, recursive = TRUE):\n",
      "\"problem copying C:\\Users\\kimji\\.conda\\envs\\slap\\Lib\\R\\library\\00LOCK\\tidyselect\\libs\\x64\\tidyselect.dll to C:\\Users\\kimji\\.conda\\envs\\slap\\Lib\\R\\library\\tidyselect\\libs\\x64\\tidyselect.dll: Permission denied\"Warning message:\n",
      "\"restored 'tidyselect'\""
     ]
    },
    {
     "name": "stdout",
     "output_type": "stream",
     "text": [
      "package 'vctrs' successfully unpacked and MD5 sums checked\n",
      "\n",
      "The downloaded binary packages are in\n",
      "\tC:\\Users\\kimji\\AppData\\Local\\Temp\\RtmpQDn5MV\\downloaded_packages\n"
     ]
    },
    {
     "name": "stderr",
     "output_type": "stream",
     "text": [
      "installing the source package 'pillar'\n",
      "\n",
      "Warning message in install.packages(\"dplyr\"):\n",
      "\"installation of package 'pillar' had non-zero exit status\"also installing the dependencies 'glue', 'rlang', 'tibble', 'pillar', 'dplyr', 'tidyselect', 'cpp11'\n",
      "\n"
     ]
    },
    {
     "name": "stdout",
     "output_type": "stream",
     "text": [
      "\n",
      "  There are binary versions available but the source versions are later:\n",
      "       binary source needs_compilation\n",
      "tibble  3.1.1  3.1.2              TRUE\n",
      "pillar  1.6.0  1.6.1             FALSE\n",
      "\n",
      "  Binaries will be installed\n"
     ]
    },
    {
     "name": "stderr",
     "output_type": "stream",
     "text": [
      "Warning message:\n",
      "\"packages 'dplyr', 'tidyr' are in use and will not be installed\""
     ]
    },
    {
     "name": "stdout",
     "output_type": "stream",
     "text": [
      "package 'glue' successfully unpacked and MD5 sums checked\n"
     ]
    },
    {
     "name": "stderr",
     "output_type": "stream",
     "text": [
      "Warning message:\n",
      "\"cannot remove prior installation of package 'glue'\"Warning message in file.copy(savedcopy, lib, recursive = TRUE):\n",
      "\"problem copying C:\\Users\\kimji\\.conda\\envs\\slap\\Lib\\R\\library\\00LOCK\\glue\\libs\\x64\\glue.dll to C:\\Users\\kimji\\.conda\\envs\\slap\\Lib\\R\\library\\glue\\libs\\x64\\glue.dll: Permission denied\"Warning message:\n",
      "\"restored 'glue'\""
     ]
    },
    {
     "name": "stdout",
     "output_type": "stream",
     "text": [
      "package 'rlang' successfully unpacked and MD5 sums checked\n"
     ]
    },
    {
     "name": "stderr",
     "output_type": "stream",
     "text": [
      "Warning message:\n",
      "\"cannot remove prior installation of package 'rlang'\"Warning message in file.copy(savedcopy, lib, recursive = TRUE):\n",
      "\"problem copying C:\\Users\\kimji\\.conda\\envs\\slap\\Lib\\R\\library\\00LOCK\\rlang\\libs\\x64\\rlang.dll to C:\\Users\\kimji\\.conda\\envs\\slap\\Lib\\R\\library\\rlang\\libs\\x64\\rlang.dll: Permission denied\"Warning message:\n",
      "\"restored 'rlang'\""
     ]
    },
    {
     "name": "stdout",
     "output_type": "stream",
     "text": [
      "package 'tibble' successfully unpacked and MD5 sums checked\n"
     ]
    },
    {
     "name": "stderr",
     "output_type": "stream",
     "text": [
      "Warning message:\n",
      "\"cannot remove prior installation of package 'tibble'\"Warning message in file.copy(savedcopy, lib, recursive = TRUE):\n",
      "\"problem copying C:\\Users\\kimji\\.conda\\envs\\slap\\Lib\\R\\library\\00LOCK\\tibble\\libs\\x64\\tibble.dll to C:\\Users\\kimji\\.conda\\envs\\slap\\Lib\\R\\library\\tibble\\libs\\x64\\tibble.dll: Permission denied\"Warning message:\n",
      "\"restored 'tibble'\""
     ]
    },
    {
     "name": "stdout",
     "output_type": "stream",
     "text": [
      "package 'tidyselect' successfully unpacked and MD5 sums checked\n"
     ]
    },
    {
     "name": "stderr",
     "output_type": "stream",
     "text": [
      "Warning message:\n",
      "\"cannot remove prior installation of package 'tidyselect'\"Warning message in file.copy(savedcopy, lib, recursive = TRUE):\n",
      "\"problem copying C:\\Users\\kimji\\.conda\\envs\\slap\\Lib\\R\\library\\00LOCK\\tidyselect\\libs\\x64\\tidyselect.dll to C:\\Users\\kimji\\.conda\\envs\\slap\\Lib\\R\\library\\tidyselect\\libs\\x64\\tidyselect.dll: Permission denied\"Warning message:\n",
      "\"restored 'tidyselect'\""
     ]
    },
    {
     "name": "stdout",
     "output_type": "stream",
     "text": [
      "package 'cpp11' successfully unpacked and MD5 sums checked\n",
      "\n",
      "The downloaded binary packages are in\n",
      "\tC:\\Users\\kimji\\AppData\\Local\\Temp\\RtmpQDn5MV\\downloaded_packages\n"
     ]
    },
    {
     "name": "stderr",
     "output_type": "stream",
     "text": [
      "installing the source package 'pillar'\n",
      "\n",
      "Warning message in install.packages(\"tidyr\"):\n",
      "\"installation of package 'pillar' had non-zero exit status\""
     ]
    },
    {
     "name": "stdout",
     "output_type": "stream",
     "text": [
      "package 'Lahman' successfully unpacked and MD5 sums checked\n",
      "\n",
      "The downloaded binary packages are in\n",
      "\tC:\\Users\\kimji\\AppData\\Local\\Temp\\RtmpQDn5MV\\downloaded_packages\n"
     ]
    },
    {
     "name": "stderr",
     "output_type": "stream",
     "text": [
      "Warning message:\n",
      "\"package 'Lahman' was built under R version 3.6.3\""
     ]
    }
   ],
   "source": [
    "# install.packages(\"dplyr\")\n",
    "# install.packages(\"tidyr\")\n",
    "# install.packages(\"Lahman\")\n",
    "library(dplyr)\n",
    "library(tidyr)\n",
    "library(Lahman)  #I'm using a data set from this library"
   ]
  },
  {
   "cell_type": "code",
   "execution_count": 10,
   "id": "fb4f787e",
   "metadata": {},
   "outputs": [
    {
     "data": {
      "text/html": [
       "<ol class=list-inline>\n",
       "\t<li>108789</li>\n",
       "\t<li>22</li>\n",
       "</ol>\n"
      ],
      "text/latex": [
       "\\begin{enumerate*}\n",
       "\\item 108789\n",
       "\\item 22\n",
       "\\end{enumerate*}\n"
      ],
      "text/markdown": [
       "1. 108789\n",
       "2. 22\n",
       "\n",
       "\n"
      ],
      "text/plain": [
       "[1] 108789     22"
      ]
     },
     "metadata": {},
     "output_type": "display_data"
    },
    {
     "data": {
      "text/html": [
       "<ol class=list-inline>\n",
       "\t<li>'playerID'</li>\n",
       "\t<li>'yearID'</li>\n",
       "\t<li>'stint'</li>\n",
       "\t<li>'teamID'</li>\n",
       "\t<li>'lgID'</li>\n",
       "\t<li>'G'</li>\n",
       "\t<li>'AB'</li>\n",
       "\t<li>'R'</li>\n",
       "\t<li>'H'</li>\n",
       "\t<li>'X2B'</li>\n",
       "\t<li>'X3B'</li>\n",
       "\t<li>'HR'</li>\n",
       "\t<li>'RBI'</li>\n",
       "\t<li>'SB'</li>\n",
       "\t<li>'CS'</li>\n",
       "\t<li>'BB'</li>\n",
       "\t<li>'SO'</li>\n",
       "\t<li>'IBB'</li>\n",
       "\t<li>'HBP'</li>\n",
       "\t<li>'SH'</li>\n",
       "\t<li>'SF'</li>\n",
       "\t<li>'GIDP'</li>\n",
       "</ol>\n"
      ],
      "text/latex": [
       "\\begin{enumerate*}\n",
       "\\item 'playerID'\n",
       "\\item 'yearID'\n",
       "\\item 'stint'\n",
       "\\item 'teamID'\n",
       "\\item 'lgID'\n",
       "\\item 'G'\n",
       "\\item 'AB'\n",
       "\\item 'R'\n",
       "\\item 'H'\n",
       "\\item 'X2B'\n",
       "\\item 'X3B'\n",
       "\\item 'HR'\n",
       "\\item 'RBI'\n",
       "\\item 'SB'\n",
       "\\item 'CS'\n",
       "\\item 'BB'\n",
       "\\item 'SO'\n",
       "\\item 'IBB'\n",
       "\\item 'HBP'\n",
       "\\item 'SH'\n",
       "\\item 'SF'\n",
       "\\item 'GIDP'\n",
       "\\end{enumerate*}\n"
      ],
      "text/markdown": [
       "1. 'playerID'\n",
       "2. 'yearID'\n",
       "3. 'stint'\n",
       "4. 'teamID'\n",
       "5. 'lgID'\n",
       "6. 'G'\n",
       "7. 'AB'\n",
       "8. 'R'\n",
       "9. 'H'\n",
       "10. 'X2B'\n",
       "11. 'X3B'\n",
       "12. 'HR'\n",
       "13. 'RBI'\n",
       "14. 'SB'\n",
       "15. 'CS'\n",
       "16. 'BB'\n",
       "17. 'SO'\n",
       "18. 'IBB'\n",
       "19. 'HBP'\n",
       "20. 'SH'\n",
       "21. 'SF'\n",
       "22. 'GIDP'\n",
       "\n",
       "\n"
      ],
      "text/plain": [
       " [1] \"playerID\" \"yearID\"   \"stint\"    \"teamID\"   \"lgID\"     \"G\"       \n",
       " [7] \"AB\"       \"R\"        \"H\"        \"X2B\"      \"X3B\"      \"HR\"      \n",
       "[13] \"RBI\"      \"SB\"       \"CS\"       \"BB\"       \"SO\"       \"IBB\"     \n",
       "[19] \"HBP\"      \"SH\"       \"SF\"       \"GIDP\"    "
      ]
     },
     "metadata": {},
     "output_type": "display_data"
    },
    {
     "data": {
      "text/html": [
       "<ol class=list-inline>\n",
       "\t<li>108789</li>\n",
       "\t<li>22</li>\n",
       "</ol>\n"
      ],
      "text/latex": [
       "\\begin{enumerate*}\n",
       "\\item 108789\n",
       "\\item 22\n",
       "\\end{enumerate*}\n"
      ],
      "text/markdown": [
       "1. 108789\n",
       "2. 22\n",
       "\n",
       "\n"
      ],
      "text/plain": [
       "[1] 108789     22"
      ]
     },
     "metadata": {},
     "output_type": "display_data"
    },
    {
     "data": {
      "text/html": [
       "<ol class=list-inline>\n",
       "\t<li>108789</li>\n",
       "\t<li>22</li>\n",
       "</ol>\n"
      ],
      "text/latex": [
       "\\begin{enumerate*}\n",
       "\\item 108789\n",
       "\\item 22\n",
       "\\end{enumerate*}\n"
      ],
      "text/markdown": [
       "1. 108789\n",
       "2. 22\n",
       "\n",
       "\n"
      ],
      "text/plain": [
       "[1] 108789     22"
      ]
     },
     "metadata": {},
     "output_type": "display_data"
    },
    {
     "data": {
      "text/html": [
       "<table>\n",
       "<thead><tr><th scope=col>playerID</th><th scope=col>yearID</th><th scope=col>stint</th><th scope=col>teamID</th><th scope=col>lgID</th><th scope=col>G</th><th scope=col>AB</th><th scope=col>R</th><th scope=col>H</th><th scope=col>X2B</th><th scope=col>...</th><th scope=col>RBI</th><th scope=col>SB</th><th scope=col>CS</th><th scope=col>BB</th><th scope=col>SO</th><th scope=col>IBB</th><th scope=col>HBP</th><th scope=col>SH</th><th scope=col>SF</th><th scope=col>GIDP</th></tr></thead>\n",
       "<tbody>\n",
       "\t<tr><td>abercda01</td><td>1871     </td><td>1        </td><td>TRO      </td><td>NA       </td><td> 1       </td><td>  4      </td><td> 0       </td><td> 0       </td><td> 0       </td><td>...      </td><td> 0       </td><td>0        </td><td>0        </td><td>0        </td><td>0        </td><td>NA       </td><td>NA       </td><td>NA       </td><td>NA       </td><td>0        </td></tr>\n",
       "\t<tr><td>addybo01 </td><td>1871     </td><td>1        </td><td>RC1      </td><td>NA       </td><td>25       </td><td>118      </td><td>30       </td><td>32       </td><td> 6       </td><td>...      </td><td>13       </td><td>8        </td><td>1        </td><td>4        </td><td>0        </td><td>NA       </td><td>NA       </td><td>NA       </td><td>NA       </td><td>0        </td></tr>\n",
       "\t<tr><td>allisar01</td><td>1871     </td><td>1        </td><td>CL1      </td><td>NA       </td><td>29       </td><td>137      </td><td>28       </td><td>40       </td><td> 4       </td><td>...      </td><td>19       </td><td>3        </td><td>1        </td><td>2        </td><td>5        </td><td>NA       </td><td>NA       </td><td>NA       </td><td>NA       </td><td>1        </td></tr>\n",
       "\t<tr><td>allisdo01</td><td>1871     </td><td>1        </td><td>WS3      </td><td>NA       </td><td>27       </td><td>133      </td><td>28       </td><td>44       </td><td>10       </td><td>...      </td><td>27       </td><td>1        </td><td>1        </td><td>0        </td><td>2        </td><td>NA       </td><td>NA       </td><td>NA       </td><td>NA       </td><td>0        </td></tr>\n",
       "\t<tr><td>ansonca01</td><td>1871     </td><td>1        </td><td>RC1      </td><td>NA       </td><td>25       </td><td>120      </td><td>29       </td><td>39       </td><td>11       </td><td>...      </td><td>16       </td><td>6        </td><td>2        </td><td>2        </td><td>1        </td><td>NA       </td><td>NA       </td><td>NA       </td><td>NA       </td><td>0        </td></tr>\n",
       "\t<tr><td>armstbo01</td><td>1871     </td><td>1        </td><td>FW1      </td><td>NA       </td><td>12       </td><td> 49      </td><td> 9       </td><td>11       </td><td> 2       </td><td>...      </td><td> 5       </td><td>0        </td><td>1        </td><td>0        </td><td>1        </td><td>NA       </td><td>NA       </td><td>NA       </td><td>NA       </td><td>0        </td></tr>\n",
       "</tbody>\n",
       "</table>\n"
      ],
      "text/latex": [
       "\\begin{tabular}{r|llllllllllllllllllllll}\n",
       " playerID & yearID & stint & teamID & lgID & G & AB & R & H & X2B & ... & RBI & SB & CS & BB & SO & IBB & HBP & SH & SF & GIDP\\\\\n",
       "\\hline\n",
       "\t abercda01 & 1871      & 1         & TRO       & NA        &  1        &   4       &  0        &  0        &  0        & ...       &  0        & 0         & 0         & 0         & 0         & NA        & NA        & NA        & NA        & 0        \\\\\n",
       "\t addybo01  & 1871      & 1         & RC1       & NA        & 25        & 118       & 30        & 32        &  6        & ...       & 13        & 8         & 1         & 4         & 0         & NA        & NA        & NA        & NA        & 0        \\\\\n",
       "\t allisar01 & 1871      & 1         & CL1       & NA        & 29        & 137       & 28        & 40        &  4        & ...       & 19        & 3         & 1         & 2         & 5         & NA        & NA        & NA        & NA        & 1        \\\\\n",
       "\t allisdo01 & 1871      & 1         & WS3       & NA        & 27        & 133       & 28        & 44        & 10        & ...       & 27        & 1         & 1         & 0         & 2         & NA        & NA        & NA        & NA        & 0        \\\\\n",
       "\t ansonca01 & 1871      & 1         & RC1       & NA        & 25        & 120       & 29        & 39        & 11        & ...       & 16        & 6         & 2         & 2         & 1         & NA        & NA        & NA        & NA        & 0        \\\\\n",
       "\t armstbo01 & 1871      & 1         & FW1       & NA        & 12        &  49       &  9        & 11        &  2        & ...       &  5        & 0         & 1         & 0         & 1         & NA        & NA        & NA        & NA        & 0        \\\\\n",
       "\\end{tabular}\n"
      ],
      "text/markdown": [
       "\n",
       "| playerID | yearID | stint | teamID | lgID | G | AB | R | H | X2B | ... | RBI | SB | CS | BB | SO | IBB | HBP | SH | SF | GIDP |\n",
       "|---|---|---|---|---|---|---|---|---|---|---|---|---|---|---|---|---|---|---|---|---|\n",
       "| abercda01 | 1871      | 1         | TRO       | NA        |  1        |   4       |  0        |  0        |  0        | ...       |  0        | 0         | 0         | 0         | 0         | NA        | NA        | NA        | NA        | 0         |\n",
       "| addybo01  | 1871      | 1         | RC1       | NA        | 25        | 118       | 30        | 32        |  6        | ...       | 13        | 8         | 1         | 4         | 0         | NA        | NA        | NA        | NA        | 0         |\n",
       "| allisar01 | 1871      | 1         | CL1       | NA        | 29        | 137       | 28        | 40        |  4        | ...       | 19        | 3         | 1         | 2         | 5         | NA        | NA        | NA        | NA        | 1         |\n",
       "| allisdo01 | 1871      | 1         | WS3       | NA        | 27        | 133       | 28        | 44        | 10        | ...       | 27        | 1         | 1         | 0         | 2         | NA        | NA        | NA        | NA        | 0         |\n",
       "| ansonca01 | 1871      | 1         | RC1       | NA        | 25        | 120       | 29        | 39        | 11        | ...       | 16        | 6         | 2         | 2         | 1         | NA        | NA        | NA        | NA        | 0         |\n",
       "| armstbo01 | 1871      | 1         | FW1       | NA        | 12        |  49       |  9        | 11        |  2        | ...       |  5        | 0         | 1         | 0         | 1         | NA        | NA        | NA        | NA        | 0         |\n",
       "\n"
      ],
      "text/plain": [
       "  playerID  yearID stint teamID lgID G  AB  R  H  X2B ... RBI SB CS BB SO IBB\n",
       "1 abercda01 1871   1     TRO    NA    1   4  0  0  0  ...  0  0  0  0  0  NA \n",
       "2 addybo01  1871   1     RC1    NA   25 118 30 32  6  ... 13  8  1  4  0  NA \n",
       "3 allisar01 1871   1     CL1    NA   29 137 28 40  4  ... 19  3  1  2  5  NA \n",
       "4 allisdo01 1871   1     WS3    NA   27 133 28 44 10  ... 27  1  1  0  2  NA \n",
       "5 ansonca01 1871   1     RC1    NA   25 120 29 39 11  ... 16  6  2  2  1  NA \n",
       "6 armstbo01 1871   1     FW1    NA   12  49  9 11  2  ...  5  0  1  0  1  NA \n",
       "  HBP SH SF GIDP\n",
       "1 NA  NA NA 0   \n",
       "2 NA  NA NA 0   \n",
       "3 NA  NA NA 1   \n",
       "4 NA  NA NA 0   \n",
       "5 NA  NA NA 0   \n",
       "6 NA  NA NA 0   "
      ]
     },
     "metadata": {},
     "output_type": "display_data"
    },
    {
     "data": {
      "text/html": [
       "<table>\n",
       "<thead><tr><th scope=col>playerID</th><th scope=col>yearID</th><th scope=col>stint</th><th scope=col>teamID</th><th scope=col>lgID</th><th scope=col>G</th><th scope=col>AB</th><th scope=col>R</th><th scope=col>H</th><th scope=col>X2B</th><th scope=col>...</th><th scope=col>RBI</th><th scope=col>SB</th><th scope=col>CS</th><th scope=col>BB</th><th scope=col>SO</th><th scope=col>IBB</th><th scope=col>HBP</th><th scope=col>SH</th><th scope=col>SF</th><th scope=col>GIDP</th></tr></thead>\n",
       "<tbody>\n",
       "\t<tr><td>abercda01</td><td>1871     </td><td>1        </td><td>TRO      </td><td>NA       </td><td> 1       </td><td>  4      </td><td> 0       </td><td> 0       </td><td> 0       </td><td>...      </td><td> 0       </td><td>0        </td><td>0        </td><td>0        </td><td>0        </td><td>NA       </td><td>NA       </td><td>NA       </td><td>NA       </td><td>0        </td></tr>\n",
       "\t<tr><td>addybo01 </td><td>1871     </td><td>1        </td><td>RC1      </td><td>NA       </td><td>25       </td><td>118      </td><td>30       </td><td>32       </td><td> 6       </td><td>...      </td><td>13       </td><td>8        </td><td>1        </td><td>4        </td><td>0        </td><td>NA       </td><td>NA       </td><td>NA       </td><td>NA       </td><td>0        </td></tr>\n",
       "\t<tr><td>allisar01</td><td>1871     </td><td>1        </td><td>CL1      </td><td>NA       </td><td>29       </td><td>137      </td><td>28       </td><td>40       </td><td> 4       </td><td>...      </td><td>19       </td><td>3        </td><td>1        </td><td>2        </td><td>5        </td><td>NA       </td><td>NA       </td><td>NA       </td><td>NA       </td><td>1        </td></tr>\n",
       "\t<tr><td>allisdo01</td><td>1871     </td><td>1        </td><td>WS3      </td><td>NA       </td><td>27       </td><td>133      </td><td>28       </td><td>44       </td><td>10       </td><td>...      </td><td>27       </td><td>1        </td><td>1        </td><td>0        </td><td>2        </td><td>NA       </td><td>NA       </td><td>NA       </td><td>NA       </td><td>0        </td></tr>\n",
       "\t<tr><td>ansonca01</td><td>1871     </td><td>1        </td><td>RC1      </td><td>NA       </td><td>25       </td><td>120      </td><td>29       </td><td>39       </td><td>11       </td><td>...      </td><td>16       </td><td>6        </td><td>2        </td><td>2        </td><td>1        </td><td>NA       </td><td>NA       </td><td>NA       </td><td>NA       </td><td>0        </td></tr>\n",
       "\t<tr><td>armstbo01</td><td>1871     </td><td>1        </td><td>FW1      </td><td>NA       </td><td>12       </td><td> 49      </td><td> 9       </td><td>11       </td><td> 2       </td><td>...      </td><td> 5       </td><td>0        </td><td>1        </td><td>0        </td><td>1        </td><td>NA       </td><td>NA       </td><td>NA       </td><td>NA       </td><td>0        </td></tr>\n",
       "</tbody>\n",
       "</table>\n"
      ],
      "text/latex": [
       "\\begin{tabular}{r|llllllllllllllllllllll}\n",
       " playerID & yearID & stint & teamID & lgID & G & AB & R & H & X2B & ... & RBI & SB & CS & BB & SO & IBB & HBP & SH & SF & GIDP\\\\\n",
       "\\hline\n",
       "\t abercda01 & 1871      & 1         & TRO       & NA        &  1        &   4       &  0        &  0        &  0        & ...       &  0        & 0         & 0         & 0         & 0         & NA        & NA        & NA        & NA        & 0        \\\\\n",
       "\t addybo01  & 1871      & 1         & RC1       & NA        & 25        & 118       & 30        & 32        &  6        & ...       & 13        & 8         & 1         & 4         & 0         & NA        & NA        & NA        & NA        & 0        \\\\\n",
       "\t allisar01 & 1871      & 1         & CL1       & NA        & 29        & 137       & 28        & 40        &  4        & ...       & 19        & 3         & 1         & 2         & 5         & NA        & NA        & NA        & NA        & 1        \\\\\n",
       "\t allisdo01 & 1871      & 1         & WS3       & NA        & 27        & 133       & 28        & 44        & 10        & ...       & 27        & 1         & 1         & 0         & 2         & NA        & NA        & NA        & NA        & 0        \\\\\n",
       "\t ansonca01 & 1871      & 1         & RC1       & NA        & 25        & 120       & 29        & 39        & 11        & ...       & 16        & 6         & 2         & 2         & 1         & NA        & NA        & NA        & NA        & 0        \\\\\n",
       "\t armstbo01 & 1871      & 1         & FW1       & NA        & 12        &  49       &  9        & 11        &  2        & ...       &  5        & 0         & 1         & 0         & 1         & NA        & NA        & NA        & NA        & 0        \\\\\n",
       "\\end{tabular}\n"
      ],
      "text/markdown": [
       "\n",
       "| playerID | yearID | stint | teamID | lgID | G | AB | R | H | X2B | ... | RBI | SB | CS | BB | SO | IBB | HBP | SH | SF | GIDP |\n",
       "|---|---|---|---|---|---|---|---|---|---|---|---|---|---|---|---|---|---|---|---|---|\n",
       "| abercda01 | 1871      | 1         | TRO       | NA        |  1        |   4       |  0        |  0        |  0        | ...       |  0        | 0         | 0         | 0         | 0         | NA        | NA        | NA        | NA        | 0         |\n",
       "| addybo01  | 1871      | 1         | RC1       | NA        | 25        | 118       | 30        | 32        |  6        | ...       | 13        | 8         | 1         | 4         | 0         | NA        | NA        | NA        | NA        | 0         |\n",
       "| allisar01 | 1871      | 1         | CL1       | NA        | 29        | 137       | 28        | 40        |  4        | ...       | 19        | 3         | 1         | 2         | 5         | NA        | NA        | NA        | NA        | 1         |\n",
       "| allisdo01 | 1871      | 1         | WS3       | NA        | 27        | 133       | 28        | 44        | 10        | ...       | 27        | 1         | 1         | 0         | 2         | NA        | NA        | NA        | NA        | 0         |\n",
       "| ansonca01 | 1871      | 1         | RC1       | NA        | 25        | 120       | 29        | 39        | 11        | ...       | 16        | 6         | 2         | 2         | 1         | NA        | NA        | NA        | NA        | 0         |\n",
       "| armstbo01 | 1871      | 1         | FW1       | NA        | 12        |  49       |  9        | 11        |  2        | ...       |  5        | 0         | 1         | 0         | 1         | NA        | NA        | NA        | NA        | 0         |\n",
       "\n"
      ],
      "text/plain": [
       "  playerID  yearID stint teamID lgID G  AB  R  H  X2B ... RBI SB CS BB SO IBB\n",
       "1 abercda01 1871   1     TRO    NA    1   4  0  0  0  ...  0  0  0  0  0  NA \n",
       "2 addybo01  1871   1     RC1    NA   25 118 30 32  6  ... 13  8  1  4  0  NA \n",
       "3 allisar01 1871   1     CL1    NA   29 137 28 40  4  ... 19  3  1  2  5  NA \n",
       "4 allisdo01 1871   1     WS3    NA   27 133 28 44 10  ... 27  1  1  0  2  NA \n",
       "5 ansonca01 1871   1     RC1    NA   25 120 29 39 11  ... 16  6  2  2  1  NA \n",
       "6 armstbo01 1871   1     FW1    NA   12  49  9 11  2  ...  5  0  1  0  1  NA \n",
       "  HBP SH SF GIDP\n",
       "1 NA  NA NA 0   \n",
       "2 NA  NA NA 0   \n",
       "3 NA  NA NA 1   \n",
       "4 NA  NA NA 0   \n",
       "5 NA  NA NA 0   \n",
       "6 NA  NA NA 0   "
      ]
     },
     "metadata": {},
     "output_type": "display_data"
    }
   ],
   "source": [
    "# Use this Batting data (this is in the Lahman library)\n",
    "dim(Batting)\n",
    "names(Batting)\n",
    "\n",
    "players = group_by(Batting, playerID)\n",
    "#players looks the same, but has more info, as the grouping has been defined\n",
    "dim(players)\n",
    "dim(Batting)\n",
    "head(players)\n",
    "head(Batting)\n",
    "# Now I can create easy summaries, over players...\n",
    "games = summarise(players, total = sum(G))\n",
    "\n",
    "# dplyr adds the %>% function, which serves as a \"pipe\", piping the output from one\n",
    "#  command into the input of the next.  Really cleans up code.  This does what the above code did\n",
    "games.using.dplyr = Batting %>%\n",
    "  group_by(playerID) %>%\n",
    "  summarise(total = sum(G))"
   ]
  },
  {
   "cell_type": "markdown",
   "id": "5e70f1f3",
   "metadata": {},
   "source": [
    "[Back to the top](#Table_of_Contents)"
   ]
  },
  {
   "cell_type": "markdown",
   "id": "1d8f6b3a-4ba6-472d-b79c-07157ae4fb4d",
   "metadata": {},
   "source": [
    "<h2>References</h2>"
   ]
  },
  {
   "cell_type": "markdown",
   "id": "dc77c9a5-209c-4c3b-9401-f4077a339b08",
   "metadata": {},
   "source": [
    "Intoduction of the data structure in R, please refer to the link below: <br>\n",
    "[Ch02_01.R 데이터 처리(데이터구조)01](https://youtu.be/DJZGU6DieNs) <br>\n",
    "[Ch02_02.R 데이터 처리(벡터)02](https://youtu.be/PsizlmG1ZQ0) <br>\n",
    "[Ch02_03.R 데이터 처리(행렬과 벡터)03](https://youtu.be/OuT9jIr2Or4) <br>\n",
    "[Ch02_04.R 데이터 처리(데이터프레임과 리스트)04](https://youtu.be/bvvKJpTlP-s) <br>\n",
    "[R 데이터 구조 (Data Structure in R) : scala, vector, factor, matrix, array, dataframe, list](https://rfriend.tistory.com/14?category=601862)\n",
    "[Matrices, lists, arrays and data frames](https://jeanettemumford.org/R-tutorial/01-getting-started/)\n",
    "\n",
    "Intoduction of the data input and output in R, please refer to the link below: <br>\n",
    "[Ch02_05.R 데이터 처리(txt데이터가져오기)05](https://youtu.be/NXxfNWYUxyg) <br>\n",
    "[Ch02_06.R 데이터 처리(csv데이터가져오기)06](https://youtu.be/RH82mghumAg) <br>\n",
    "[Ch02_07.R 데이터 처리(excel데이터가져오기)07](https://youtu.be/WAsnbhQOiQ4) <br>\n",
    "[Ch03_01.R 기술통계분석(범주형)(작업환경설정)01](https://youtu.be/fXjy0w-QEgA) <br>\n",
    "[Ch03_02.R 기술통계분석(범주형)(데이터 내보내기 1/2)02](https://youtu.be/8a-0cw07Iao) <br>\n",
    "[Ch03_03.R 기술통계분석(범주형)(데이터 내보내기 2/2)03](https://youtu.be/sZt1rfiyHS8) <br>\n",
    "[Reading in data](https://jeanettemumford.org/R-tutorial/09-reading-in-data/) <br>\n",
    "[Extra bits we probably won't have time to cover](https://jeanettemumford.org/R-tutorial/10-extras-dplyr-tidyr-fmri/)"
   ]
  },
  {
   "cell_type": "code",
   "execution_count": null,
   "id": "52e15e03-89ce-48ac-bffa-f1181af9c621",
   "metadata": {},
   "outputs": [],
   "source": []
  }
 ],
 "metadata": {
  "kernelspec": {
   "display_name": "R",
   "language": "R",
   "name": "ir"
  },
  "language_info": {
   "codemirror_mode": "r",
   "file_extension": ".r",
   "mimetype": "text/x-r-source",
   "name": "R",
   "pygments_lexer": "r",
   "version": "3.6.1"
  },
  "toc-autonumbering": false
 },
 "nbformat": 4,
 "nbformat_minor": 5
}
