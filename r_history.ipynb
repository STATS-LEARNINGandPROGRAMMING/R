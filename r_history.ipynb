{
 "cells": [
  {
   "cell_type": "markdown",
   "id": "b43fcd78-ce29-4d88-98ce-a4b5bbe4b241",
   "metadata": {},
   "source": [
    "<h2>Table_of_contents</h2>"
   ]
  },
  {
   "cell_type": "markdown",
   "id": "a29f1593-e22d-435e-8d61-f02e6472d205",
   "metadata": {},
   "source": [
    "- [History](#History)\n",
    "    - [What is R?](#What_is_R?)\n",
    "    - [Who created R?](#Who_created_R?)\n",
    "    - [Why should you learn R?](#Why_should_you_learn_R?)\n",
    "- [Reference](#Reference)"
   ]
  },
  {
   "cell_type": "markdown",
   "id": "96ec8d78-edbf-4eda-b9ea-6c35de5dd9d1",
   "metadata": {},
   "source": [
    "<h2>History</h2>"
   ]
  },
  {
   "cell_type": "markdown",
   "id": "54da3860-35d0-4549-9d49-456262496b52",
   "metadata": {},
   "source": [
    "<h3>What_is_R?</h3>"
   ]
  },
  {
   "cell_type": "markdown",
   "id": "63d7eeee-9f2b-4f7d-a46b-fb396a7b4583",
   "metadata": {},
   "source": [
    "R is a language and environment for statistical computing and graphics. It provides a wide variety of statistical (linear and nolinear modelling, classical statistical tests, time-series analysis, classification, clustering, ...) and graphical techniques. <br>\n",
    "\n",
    "R is an interpreter language. R makes the development process convenient and concise by directly executing the entered code without compiling."
   ]
  },
  {
   "cell_type": "markdown",
   "id": "33048347-b2bb-4b6e-908a-ef86fcf8c01b",
   "metadata": {},
   "source": [
    "[Back to the top](#Table_of_contents)"
   ]
  },
  {
   "cell_type": "markdown",
   "id": "f4ab267f-c92e-4489-9a6d-459ce402279a",
   "metadata": {},
   "source": [
    "<h3>Who_created_R?</h3>"
   ]
  },
  {
   "cell_type": "markdown",
   "id": "29c0e5e3-2217-469c-8543-4eb37d70b100",
   "metadata": {},
   "source": [
    "Designed by\tRoss Ihaka and Robert Gentleman <br>\n",
    "Developer\tR Core Team"
   ]
  },
  {
   "cell_type": "markdown",
   "id": "0555e254-7651-47f4-b731-45472ab27415",
   "metadata": {},
   "source": [
    "[Back to the top](#Table_of_contents)"
   ]
  },
  {
   "cell_type": "markdown",
   "id": "dab22d2d-d01f-43d3-9db1-1ed660cf05fb",
   "metadata": {},
   "source": [
    "<h3>Why_should_you_learn_R?</h3>"
   ]
  },
  {
   "cell_type": "markdown",
   "id": "423f7373-414a-4ff9-867f-5ca50a0a7eb4",
   "metadata": {},
   "source": [
    "R is available as Free Software, and can be extended via <i>packages</i>. Although R was developed for the purpose of statistical processing, it is currently expanding its application to various fields such as machine learning/deep learning, data mining, and natural language processing."
   ]
  },
  {
   "cell_type": "markdown",
   "id": "919265c9-0132-499a-903d-30d2230d36ff",
   "metadata": {},
   "source": [
    "[Back to the top](#Table_of_contents)"
   ]
  },
  {
   "cell_type": "markdown",
   "id": "fd53cf5f-e31c-40b6-a5f2-a1b6899a6126",
   "metadata": {},
   "source": [
    "<h2>Reference</h2>"
   ]
  },
  {
   "cell_type": "markdown",
   "id": "53c4a207-c5da-44f6-8877-0f6fdc5fb072",
   "metadata": {},
   "source": [
    "For a simple explanation, programming language, R <br>\n",
    "[Ch01_01.R 설치 및 사용법(R프로그램설명)01](https://youtu.be/twLB7h2pbuc) <br>\n",
    "[R 프로그래밍/R기초-설치](https://youtu.be/sL_Kc379r_4) <br>"
   ]
  },
  {
   "cell_type": "markdown",
   "id": "8d76aefa-f8df-4932-a0e7-196771f0ec92",
   "metadata": {},
   "source": [
    "Search all R packages on CRAN and Bioconuctor - RDocumentation [RDcoumentation](https://www.rdocumentation.org/)"
   ]
  },
  {
   "cell_type": "code",
   "execution_count": null,
   "id": "10f74ae7-802d-473b-bbfc-a4f9f3d0fda1",
   "metadata": {},
   "outputs": [],
   "source": []
  }
 ],
 "metadata": {
  "kernelspec": {
   "display_name": "R",
   "language": "R",
   "name": "ir"
  },
  "language_info": {
   "codemirror_mode": "r",
   "file_extension": ".r",
   "mimetype": "text/x-r-source",
   "name": "R",
   "pygments_lexer": "r",
   "version": "3.6.1"
  },
  "toc-autonumbering": false,
  "toc-showmarkdowntxt": false
 },
 "nbformat": 4,
 "nbformat_minor": 5
}
