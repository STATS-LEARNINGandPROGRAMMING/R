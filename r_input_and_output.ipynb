{
 "cells": [
  {
   "cell_type": "markdown",
   "id": "3f0809e5",
   "metadata": {},
   "source": [
    "<h2>Table_of_Contents</h2>"
   ]
  },
  {
   "cell_type": "markdown",
   "id": "6941a32b",
   "metadata": {},
   "source": [
    "- [R Input and Output](#R_Input_and_Output)\n",
    "    - [Load the data](#Load_the_data)\n",
    "        - [Load the txt file](#Load_the_txt_file)\n",
    "        - [Load the csv file](#Load_the_csv_file)\n",
    "        - [Load the excel file](#Load_the_excel_file)\n",
    "        - [View the data structure](#View_the_data_structure)\n",
    "    - [Export the data](#Export_the_data)\n",
    "        - [Export the txt file](#Export_the_txt_file)\n",
    "        - [Export the csv file](#Export_the_csv_file)\n",
    "        - [Export the excel file](#Export_the_excel_file)\n",
    "        - [Export the data as R](#Export_the_data_as_R)\n",
    "- [References](#References)"
   ]
  },
  {
   "cell_type": "markdown",
   "id": "c64f0ab5",
   "metadata": {},
   "source": [
    "<h2>R_Input_and_Output</h2>"
   ]
  },
  {
   "cell_type": "markdown",
   "id": "a4935105",
   "metadata": {},
   "source": [
    "<h3>Load_the_data</h3>"
   ]
  },
  {
   "cell_type": "markdown",
   "id": "88d00ae3",
   "metadata": {},
   "source": [
    "<li>Read.table: load the txt file # 0201.grade, separated by tab</li>\n",
    "<li>Read.csv: load the csv file # 0201.grade.csv, separated by \",\"</li>\n",
    "<li>Read_excel: load the excel file # 0201.grade.xlsx, prerequisite adding library</li>\n",
    "<li>In addition, files such as SPSS and JSON can be connected</li>"
   ]
  },
  {
   "cell_type": "code",
   "execution_count": null,
   "id": "01d2402c",
   "metadata": {},
   "outputs": [],
   "source": [
    "r_data_input_output_dataset = \"\n",
    "    example/0201.grade.txt,\n",
    "    example/0202.grade.csv,\n",
    "    example/0203.grade.xlsx\n",
    "\""
   ]
  },
  {
   "cell_type": "markdown",
   "id": "234ffca5",
   "metadata": {},
   "source": [
    "<h4>Load_the_txt_file</h4>"
   ]
  },
  {
   "cell_type": "code",
   "execution_count": null,
   "id": "3be01910",
   "metadata": {},
   "outputs": [],
   "source": [
    "# Load the data (read.table)\n",
    "# header = FALSE, (When there is no variable name)\"\n",
    "# sep (separtor): \",\" or \" \" or \":\" or \"\\t\" (tab)\n",
    "# stringAsFactor = recognize text data as a factor (True)\n",
    "# na.strings = \"\", \".\", \"NA\" etc.\n",
    "# str() : view attributes\n",
    "\n",
    "gradetxt <- read.table(\"example/0201.grade.txt\",\n",
    "                       header=FALSE,\n",
    "                       sep = \"\\t\",\n",
    "                       stringsAsFactor = FALSE,\n",
    "                       na.strings = \"\"\n",
    "                      )\n",
    "str(gradetxt)"
   ]
  },
  {
   "cell_type": "code",
   "execution_count": null,
   "id": "7ed637b8",
   "metadata": {},
   "outputs": [],
   "source": [
    "print(gradetxt)"
   ]
  },
  {
   "cell_type": "markdown",
   "id": "21cc3699",
   "metadata": {},
   "source": [
    "[Back to the top](#Table_of_Contents)"
   ]
  },
  {
   "cell_type": "markdown",
   "id": "155f4857",
   "metadata": {},
   "source": [
    "<h4>Load_the_csv_file</h4>\n",
    "read.data vs fread vs read_csv: which is faster?? <br>\n",
    "In the past I have used the read.data function to read in data, but now there are faster options that work much better if you’re reading in huge data: fread (data.table package) and read_csv (readr library)."
   ]
  },
  {
   "cell_type": "code",
   "execution_count": null,
   "id": "97dc049d",
   "metadata": {},
   "outputs": [],
   "source": [
    "#install.packages(\"data.table\") # Only run this if you've never installed it\n",
    "#install.packages(\"readr\")\n",
    "library(data.table)\n",
    "library(readr)"
   ]
  },
  {
   "cell_type": "code",
   "execution_count": null,
   "id": "6928e62f",
   "metadata": {},
   "outputs": [],
   "source": [
    "# This is simply the demo from the R help for fread, but it shows how much faster fread is!\n",
    "# Make up a data set (I haven't covered data.table, but it is like data.frame)\n",
    "n=1e6\n",
    "DT = data.table( a=sample(1:1000,n,replace=TRUE),\n",
    "                 b=sample(1:1000,n,replace=TRUE),\n",
    "                 c=rnorm(n),\n",
    "                 d=sample(c(\"foo\",\"bar\",\"baz\",\"qux\",\"quux\"),n,replace=TRUE),\n",
    "                 e=rnorm(n),\n",
    "                 f=sample(1:1000,n,replace=TRUE) )\n",
    "# Save it and get the size info\n",
    "write.table(DT,\"test.csv\",sep=\",\",row.names=FALSE,quote=FALSE)\n",
    "cat(\"File size (MB):\", round(file.info(\"test.csv\")$size/1024^2),\"\\n\")\n",
    "\n",
    "#Here is the read.table timing.  The bit in the system.time() is what \n",
    "# you'd typically use to read it in.\n",
    "# header=TRUE lets it know there's a header (column names)\n",
    "# sep = \",\" is the delimiter\n",
    "# quote=\"\" disables quoting\n",
    "# stringsAsFactors=FALSE is really handy, since you often\n",
    "#     don't want the strings to automatically be made into factors\n",
    "\n",
    "# note, the \"=\" notation won't work since the assignment is within another function\n",
    "# so <- is used instead.\n",
    "system.time(DF2 <- read.table(\"test.csv\",header=TRUE,sep=\",\",stringsAsFactors=FALSE))\n",
    "class(DF2)\n",
    "\n",
    "# read_csv from readr\n",
    "system.time(DF3 <- read_csv(\"test.csv\"))"
   ]
  },
  {
   "cell_type": "code",
   "execution_count": null,
   "id": "c7f35e95",
   "metadata": {},
   "outputs": [],
   "source": [
    "class(DF3)\n",
    "\n",
    "# fread from data.table\n",
    "system.time(DT <- fread(\"test.csv\"))\n",
    "class(DT)"
   ]
  },
  {
   "cell_type": "markdown",
   "id": "9bb2c800",
   "metadata": {},
   "source": [
    "It used to be the case the fread was only a data.table format, which made plotting in ggplot2 difficult, since that requires a data.frame. Guess they’ve changed it! I would use either fread or read_csv, although read_csv will only work for comma delimited files.\n",
    "\n",
    "One thing you must be careful about is that data.tables behave differently than regular data.frames. Specifically, data.table uses pass-by-reference, which improves performance but has odd behavior. For example, if I create a copy of DT2, it is still linked to DT and if I change a column heading in DT2 it will change it in DT as well!"
   ]
  },
  {
   "cell_type": "code",
   "execution_count": null,
   "id": "770d2a3a",
   "metadata": {},
   "outputs": [],
   "source": [
    "DT2 = DT\n",
    "names(DT2)\n",
    "\n",
    "# change a to a2\n",
    "names(DT2)[1] = \"a2\"\n",
    "names(DT2)\n",
    "\n",
    "# Now look at DT\n",
    "names(DT)\n",
    "#!!\n",
    "\n",
    "# If I add to DT2, what happens?\n",
    "DT2$g = DT2$f^2\n",
    "names(DT2)\n",
    "names(DT)\n",
    "# Nope, only in the new one\n",
    "\n",
    "# What if I manipulate the values in a column of DT2?\n",
    "# see what we're starting with\n",
    "DT2$b[1:5]\n",
    "DT2$b = DT2$b^2\n",
    "# See the change\n",
    "DT2$b[1:5]\n",
    "# Did it alter the original?\n",
    "DT$b[1:5]\n",
    "\n",
    "#  What if I change something in DT, is it automatically changed in DT2?\n",
    "# See what we start with\n",
    "DT$c[1:10]\n",
    "DT$c = DT$c^2\n",
    "# See the change in DT\n",
    "DT$c[1:10]\n",
    "# How's DT2?\n",
    "DT2$c[1:10]\n",
    "# unchanged"
   ]
  },
  {
   "cell_type": "code",
   "execution_count": null,
   "id": "967390e1",
   "metadata": {},
   "outputs": [],
   "source": [
    "# system() allows us to run a command in the Linux environment\n",
    "# system(\"rm test.csv\")"
   ]
  },
  {
   "cell_type": "code",
   "execution_count": null,
   "id": "b0c4fd4f",
   "metadata": {},
   "outputs": [],
   "source": [
    "# Load the data (read.csv)\n",
    "# No separator due to separted by \",\"\n",
    "# stringsAsFactor = It doesn't matter if you don't specify\n",
    "\n",
    "gradecsv <- read.csv(\"example/0202.grade.csv\",\n",
    "                     header = TRUE, # T\n",
    "                     na.strings = \".\"\n",
    "                    )\n",
    "str(gradecsv)"
   ]
  },
  {
   "cell_type": "code",
   "execution_count": null,
   "id": "e2b907c6",
   "metadata": {},
   "outputs": [],
   "source": [
    "print(gradecsv)"
   ]
  },
  {
   "cell_type": "markdown",
   "id": "107289f2",
   "metadata": {},
   "source": [
    "[Back to the top](#Table_of_Contents)"
   ]
  },
  {
   "cell_type": "markdown",
   "id": "ec25462a",
   "metadata": {},
   "source": [
    "<h4>Load_the_excel_file</h4>"
   ]
  },
  {
   "cell_type": "code",
   "execution_count": null,
   "id": "d55e45bc",
   "metadata": {},
   "outputs": [],
   "source": [
    "# Load the data (read_excel)\n",
    "install.packages('readxl') # install the packages\n",
    "library(readxl) # import the library\n",
    "gradexls <- read_excel(\"example/0203.grade.xlsx\",\n",
    "                       sheet = \"grade\",\n",
    "                       col_names = TRUE,\n",
    "                       na = \"NA\"\n",
    "                      )\n",
    "str(gradexls)"
   ]
  },
  {
   "cell_type": "code",
   "execution_count": null,
   "id": "7d26dba7",
   "metadata": {},
   "outputs": [],
   "source": [
    "gradexls"
   ]
  },
  {
   "cell_type": "markdown",
   "id": "54ae4bf4",
   "metadata": {},
   "source": [
    "[Back to the top](#Table_of_Contents)"
   ]
  },
  {
   "cell_type": "markdown",
   "id": "ce1a8011",
   "metadata": {},
   "source": [
    "<h4>View_the_data_structure</h4>"
   ]
  },
  {
   "cell_type": "code",
   "execution_count": null,
   "id": "1816b655",
   "metadata": {},
   "outputs": [],
   "source": [
    "# View the data structure\n",
    "str(gradexls) # summary of the data structure\n",
    "dim(gradexls) # data row number and whole data number\n",
    "summary(gradexls) # summary of data\n",
    "summary(gradexls$msex) # specific variable summary"
   ]
  },
  {
   "cell_type": "markdown",
   "id": "587f6def",
   "metadata": {},
   "source": [
    "[Back to the top](#Table_of_Contents)"
   ]
  },
  {
   "cell_type": "markdown",
   "id": "931a742d",
   "metadata": {},
   "source": [
    "<h3>Export_the_data</h3>"
   ]
  },
  {
   "cell_type": "code",
   "execution_count": null,
   "id": "17cd374b",
   "metadata": {},
   "outputs": [],
   "source": [
    "# Export the data (write.txt)\n",
    "str(gradetxt)\n",
    "\n",
    "write.table(gradetxt,\n",
    "            file = \"example/output/gradetxt.txt\",\n",
    "            row.names = FALSE,\n",
    "            na = \"\",\n",
    "            col.names = FALSE,\n",
    "            sep = \",\"\n",
    "           )"
   ]
  },
  {
   "cell_type": "code",
   "execution_count": null,
   "id": "ad34e698",
   "metadata": {},
   "outputs": [],
   "source": [
    "# Reload the data (read.table)\n",
    "gradetxt1 <- read.table(\"example/output/gradetxt.txt\",\n",
    "                        header = FALSE,\n",
    "                        sep = \",\",\n",
    "                        stringsAsFactor = FALSE,\n",
    "                        na.strings = \"\"\n",
    "                       )\n",
    "# V3 converts from number to character type and saves\n",
    "str(gradetxt)\n",
    "str(gradetxt1)"
   ]
  },
  {
   "cell_type": "markdown",
   "id": "6be54cd8",
   "metadata": {},
   "source": [
    "[Back to the top](#Table_of_Contents)"
   ]
  },
  {
   "cell_type": "markdown",
   "id": "f06ecb21",
   "metadata": {},
   "source": [
    "<h4>Export_the_csv_file</h4>"
   ]
  },
  {
   "cell_type": "code",
   "execution_count": null,
   "id": "72070788",
   "metadata": {},
   "outputs": [],
   "source": [
    "# Export the data (write.csv)\n",
    "write.csv(gradecsv,\n",
    "          file = \"example/output/gradecsv.csv\",\n",
    "          row.names=FALSE,\n",
    "          na=\"\"\n",
    "         )"
   ]
  },
  {
   "cell_type": "markdown",
   "id": "eade150c",
   "metadata": {},
   "source": [
    "[Back to the top](#Table_of_Contents)"
   ]
  },
  {
   "cell_type": "markdown",
   "id": "64c2d127",
   "metadata": {},
   "source": [
    "<h4>Export_the_excel_file</h4>"
   ]
  },
  {
   "cell_type": "code",
   "execution_count": null,
   "id": "7e81d7d4",
   "metadata": {},
   "outputs": [],
   "source": [
    "# Export the data (write_xlsx)\n",
    "str(gradexls)"
   ]
  },
  {
   "cell_type": "code",
   "execution_count": null,
   "id": "10cdb80b",
   "metadata": {},
   "outputs": [],
   "source": [
    "install.packages(\"writexl\")\n",
    "library(writexl)\n",
    "write_xlsx(gradexls,\n",
    "           path = \"example/output/gradexls.xlsx\"\n",
    "          )"
   ]
  },
  {
   "cell_type": "markdown",
   "id": "5e816c13",
   "metadata": {},
   "source": [
    "[Back to the top](#Table_of_Contents)"
   ]
  },
  {
   "cell_type": "markdown",
   "id": "92631132",
   "metadata": {},
   "source": [
    "<h4>Export_the_data_as_R</h4>"
   ]
  },
  {
   "cell_type": "code",
   "execution_count": null,
   "id": "64faba9a",
   "metadata": {},
   "outputs": [],
   "source": [
    "# Export the data as R data\n",
    "save(gradetxt, file=\"example/output/grade.RData\")"
   ]
  },
  {
   "cell_type": "code",
   "execution_count": null,
   "id": "8259b09a",
   "metadata": {},
   "outputs": [],
   "source": [
    "load(file=\"example/output/grade.RData\")"
   ]
  },
  {
   "cell_type": "markdown",
   "id": "68e32035",
   "metadata": {},
   "source": [
    "[Back to the top](#Table_of_Contents)"
   ]
  },
  {
   "cell_type": "markdown",
   "id": "e8578bd9",
   "metadata": {},
   "source": [
    "<h2>References</h2>"
   ]
  },
  {
   "cell_type": "markdown",
   "id": "970de963",
   "metadata": {},
   "source": [
    "Intoduction of the data input and output in R, please refer to the link below: <br>\n",
    "[Ch02_05.R 데이터 처리(txt데이터가져오기)05](https://youtu.be/NXxfNWYUxyg) <br>\n",
    "[Ch02_06.R 데이터 처리(csv데이터가져오기)06](https://youtu.be/RH82mghumAg) <br>\n",
    "[Ch02_07.R 데이터 처리(excel데이터가져오기)07](https://youtu.be/WAsnbhQOiQ4) <br>\n",
    "[Ch03_01.R 기술통계분석(범주형)(작업환경설정)01](https://youtu.be/fXjy0w-QEgA) <br>\n",
    "[Ch03_02.R 기술통계분석(범주형)(데이터 내보내기 1/2)02](https://youtu.be/8a-0cw07Iao) <br>\n",
    "[Ch03_03.R 기술통계분석(범주형)(데이터 내보내기 2/2)03](https://youtu.be/sZt1rfiyHS8) <br>\n",
    "[Reading in data](https://jeanettemumford.org/R-tutorial/09-reading-in-data/) <br>\n",
    "[Extra bits we probably won't have time to cover](https://jeanettemumford.org/R-tutorial/10-extras-dplyr-tidyr-fmri/)"
   ]
  }
 ],
 "metadata": {
  "kernelspec": {
   "display_name": "R",
   "language": "R",
   "name": "ir"
  },
  "language_info": {
   "codemirror_mode": "r",
   "file_extension": ".r",
   "mimetype": "text/x-r-source",
   "name": "R",
   "pygments_lexer": "r",
   "version": "3.6.1"
  }
 },
 "nbformat": 4,
 "nbformat_minor": 5
}
