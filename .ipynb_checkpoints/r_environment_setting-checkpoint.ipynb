{
 "cells": [
  {
   "cell_type": "markdown",
   "id": "36d9aa75",
   "metadata": {},
   "source": [
    "<h2>Table_of_contents</h2>"
   ]
  },
  {
   "cell_type": "markdown",
   "id": "f3bc00fc",
   "metadata": {},
   "source": [
    "- [Environment setting](#Environment_setting)\n",
    "    - [R & RConsole](#R_&_RConsole)\n",
    "        - [Download and install R](#Download_and_install_R)\n",
    "        - [R Console](#R_Console)\n",
    "        - [Editors for R](#Editors_for_R)\n",
    "    - [Editors for R in RStudio](#Editors_for_R_in_RStudio)\n",
    "        - [Download RStudio Desktop](#Download_RStudio_Desktop)\n",
    "        - [Tutorial RStudio setting](#Tutorial_RStudio_setting)\n",
    "        - [Tutorial RMarkdown](#Tutorial_RMarkdown)\n",
    "    - [Editors for R in Jupyter](#Editors_for_R_in_Jupyter)\n",
    "        - [Install Conda with Jupyter](#Install_Conda_with_Jupyter)\n",
    "        - [Install Conda with VScode](#Install_Conda_with_VScode)\n",
    "        - [Use R in colab](#Use_R_in_colab)\n",
    "    - [Install Packages](#Install_packages)\n",
    "- [Reference](#Reference)"
   ]
  },
  {
   "cell_type": "markdown",
   "id": "823f94df",
   "metadata": {},
   "source": [
    "<h2>Environment_setting</h2>"
   ]
  },
  {
   "cell_type": "markdown",
   "id": "69a327cd",
   "metadata": {},
   "source": [
    "There are two ways to use R on the local computer: after installing R, through the R Studio IDE, and after installing Conda, use it in jupyter or visual studio code. There are other ways to use R in Google Colab."
   ]
  },
  {
   "cell_type": "markdown",
   "id": "e51d4472",
   "metadata": {},
   "source": [
    "<i>The future contents will be explained based on the use of a Jupyter notebook in the future for use with Markdown, Python, etc</i>."
   ]
  },
  {
   "cell_type": "markdown",
   "id": "21988cff",
   "metadata": {},
   "source": [
    "<h3>R_&_RConsole</h3>"
   ]
  },
  {
   "cell_type": "markdown",
   "id": "abcd4e1b",
   "metadata": {},
   "source": [
    "<h4>Download_and_install_R</h4>"
   ]
  },
  {
   "cell_type": "markdown",
   "id": "e126db6b",
   "metadata": {},
   "source": [
    "R download link: <https://cran.r-project.org/> <br>\n",
    "<center><img src=\"img/r_Download_and_Install_R.png\" ></center> \n",
    "Case: Windows\n",
    "<li> Download R for Windows </li>\n",
    "<li> Click, base Binaries for base distribution. </li>"
   ]
  },
  {
   "cell_type": "markdown",
   "id": "39c3ce94",
   "metadata": {},
   "source": [
    "<h4>R_Console</h4>"
   ]
  },
  {
   "cell_type": "markdown",
   "id": "947fdf44",
   "metadata": {},
   "source": [
    "<center><img src=\"img/r_R_Console.png\" ></center> \n",
    "Case: Windows <br>\n",
    "Open Windows -> Find 'R' -> Open 'R'."
   ]
  },
  {
   "cell_type": "markdown",
   "id": "3d0c84cb",
   "metadata": {},
   "source": [
    "[Back to the top](#Table_of_contents)"
   ]
  },
  {
   "cell_type": "markdown",
   "id": "6faf7e96",
   "metadata": {},
   "source": [
    "<h4>Editors_for_R</h4>"
   ]
  },
  {
   "cell_type": "markdown",
   "id": "eb390479",
   "metadata": {},
   "source": [
    "[RStudio](http://www.rstudio.com/) provdie an editor, object browser and its own grpahics device. The free editor [Tinn-R](https://soruceforge.net/projects/tinn-r) can also be recommended for Windows."
   ]
  },
  {
   "cell_type": "markdown",
   "id": "8a566283",
   "metadata": {},
   "source": [
    "[Back to the top](#Table_of_contents)"
   ]
  },
  {
   "cell_type": "markdown",
   "id": "e5edf557",
   "metadata": {},
   "source": [
    "<h3>Editors_for_R_in_RStudio</h3>"
   ]
  },
  {
   "cell_type": "markdown",
   "id": "2a2dc423",
   "metadata": {},
   "source": [
    "<h4>Download_RStudio_Desktop</h4>"
   ]
  },
  {
   "cell_type": "markdown",
   "id": "23c7b897",
   "metadata": {},
   "source": [
    "RStudio download link: https://www.rstudio.com/ <br>\n",
    "<center><img src=\"img/r_Download_the_RStudio_IDE.png\" ></center> \n",
    "Case: Windows\n",
    "<li> prerequisite, R installed </li>\n",
    "<li> Click, Free version of the RStudio </li>\n",
    "<li> Download Rstudio Windows </li>"
   ]
  },
  {
   "cell_type": "markdown",
   "id": "fe0920a4",
   "metadata": {},
   "source": [
    "[Back to the top](#Table_of_contents)"
   ]
  },
  {
   "cell_type": "markdown",
   "id": "2d5fbfc0",
   "metadata": {},
   "source": [
    "<h4>Tutorial_RStudio_setting</h4>"
   ]
  },
  {
   "cell_type": "markdown",
   "id": "115f51d3",
   "metadata": {},
   "source": [
    "<center><img src=\"img/r_RStudio_IDE.png\" ></center> \n",
    "Case: Windows"
   ]
  },
  {
   "cell_type": "code",
   "execution_count": 1,
   "id": "121c2606",
   "metadata": {},
   "outputs": [],
   "source": [
    "ls() # shows objects in the recent workspace\n",
    "rm(objectname) # removes an object from the workspace\n",
    "q() # unsave the r and exit the workspace\n",
    "quit()\n",
    "save.image() # The workspace can be saved\n",
    "load()\n",
    "# TBA\n",
    "getwd() # print the working directory\n",
    "setwd() # set the working directory"
   ]
  },
  {
   "cell_type": "markdown",
   "id": "edda2710",
   "metadata": {},
   "source": [
    "[Back to the top](#Table_of_contents)"
   ]
  },
  {
   "cell_type": "markdown",
   "id": "d26e3cc7",
   "metadata": {},
   "source": [
    "<h4>Tutorial_RMarkdown</h4>"
   ]
  },
  {
   "cell_type": "code",
   "execution_count": 2,
   "id": "51237454",
   "metadata": {},
   "outputs": [],
   "source": [
    "# TBA"
   ]
  },
  {
   "cell_type": "markdown",
   "id": "622284bb",
   "metadata": {},
   "source": [
    "[Back to the top](#Table_of_contents)"
   ]
  },
  {
   "cell_type": "markdown",
   "id": "f1925360",
   "metadata": {},
   "source": [
    "<h3>Editors_for_R_in_Jupyter</h3>"
   ]
  },
  {
   "cell_type": "markdown",
   "id": "7d3baa29",
   "metadata": {},
   "source": [
    "You can use R in both jupyter and visual stuido code in Ananconda."
   ]
  },
  {
   "cell_type": "markdown",
   "id": "870b04f7",
   "metadata": {},
   "source": [
    "[Back to the top](#Table_of_contents)"
   ]
  },
  {
   "cell_type": "markdown",
   "id": "3635a6ff",
   "metadata": {},
   "source": [
    "<h4>Install_Conda_with_Jupyter</h4>"
   ]
  },
  {
   "cell_type": "markdown",
   "id": "211a173f",
   "metadata": {},
   "source": [
    "<center><img src=\"img/r_Conda_install.png\" ></center> \n",
    "<li> prerequisite, Conda installed </li>\n",
    "<li> Open the anaconda prompt and type the \"conda install -c r r-essentials\"</li>\n",
    "<li> Then you can use R in the jupyter lab or jupyter notebook</li>\n",
    "<center><img src=\"img/r_Conda_jupyterlab.png\" ></center> "
   ]
  },
  {
   "cell_type": "markdown",
   "id": "71d00002",
   "metadata": {},
   "source": [
    "[Back to the top](#Table_of_contents)"
   ]
  },
  {
   "cell_type": "markdown",
   "id": "63ba5a2f",
   "metadata": {},
   "source": [
    "<h4>Install_Conda_with_VScode</h4>"
   ]
  },
  {
   "cell_type": "code",
   "execution_count": 4,
   "id": "ae5e867d",
   "metadata": {},
   "outputs": [],
   "source": [
    "# TBA"
   ]
  },
  {
   "cell_type": "markdown",
   "id": "6230a563",
   "metadata": {},
   "source": [
    "[Back to the top](#Table_of_contents)"
   ]
  },
  {
   "cell_type": "markdown",
   "id": "d4ac97dd",
   "metadata": {},
   "source": [
    "<h4>Use_R_in_colab</h4>"
   ]
  },
  {
   "cell_type": "code",
   "execution_count": 5,
   "id": "a339cbdc",
   "metadata": {},
   "outputs": [],
   "source": [
    "# TBA"
   ]
  },
  {
   "cell_type": "markdown",
   "id": "7d9bb51c",
   "metadata": {},
   "source": [
    "[Back to the top](#Table_of_contents)"
   ]
  },
  {
   "cell_type": "markdown",
   "id": "20f60516",
   "metadata": {},
   "source": [
    "<h3>Install_packages</h3>\n",
    "(Rtools, helibrary, ggplot2, data.table ... )"
   ]
  },
  {
   "cell_type": "code",
   "execution_count": 6,
   "id": "431027ba",
   "metadata": {},
   "outputs": [],
   "source": [
    "# TBA"
   ]
  },
  {
   "cell_type": "markdown",
   "id": "824729c7",
   "metadata": {
    "tags": []
   },
   "source": [
    "[Back to the top](#Table_of_contents)"
   ]
  },
  {
   "cell_type": "markdown",
   "id": "9e197b00",
   "metadata": {},
   "source": [
    "<h2>Reference</h2>"
   ]
  },
  {
   "cell_type": "markdown",
   "id": "c6e5b37e",
   "metadata": {},
   "source": [
    "For a simple R installation and usage, please refer to the link below: <br>\n",
    "[Ch01_02.R 설치 및 사용법(R프로그램설치)02](https://youtu.be/zfBvEOPk-kE) <br>\n",
    "[Ch01_03.R 설치 및 사용법(프로젝트생성)03](https://youtu.be/UwfeS0KjQOU) <br>\n",
    "[[R 강의]1.R 설치하기](https://youtu.be/esK37_bj8Is) <br>\n",
    "[Installing R and R libraries](https://jeanettemumford.org/R-tutorial/01-getting-started/) <br>\n",
    "[Using R language with Anaconda](https://docs.anaconda.com/anaconda/user-guide/tasks/using-r-language/)"
   ]
  },
  {
   "cell_type": "code",
   "execution_count": null,
   "id": "b1b55a04",
   "metadata": {},
   "outputs": [],
   "source": []
  }
 ],
 "metadata": {
  "kernelspec": {
   "display_name": "R",
   "language": "R",
   "name": "ir"
  },
  "language_info": {
   "codemirror_mode": "r",
   "file_extension": ".r",
   "mimetype": "text/x-r-source",
   "name": "R",
   "pygments_lexer": "r",
   "version": "3.6.1"
  },
  "toc-autonumbering": false,
  "toc-showcode": false,
  "toc-showmarkdowntxt": true
 },
 "nbformat": 4,
 "nbformat_minor": 5
}
