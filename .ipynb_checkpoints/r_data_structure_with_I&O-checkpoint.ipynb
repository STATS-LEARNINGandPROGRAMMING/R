{
 "cells": [
  {
   "cell_type": "markdown",
   "id": "30bf4d6c",
   "metadata": {},
   "source": [
    "<h2>Table_of_Contents</h2>"
   ]
  },
  {
   "cell_type": "markdown",
   "id": "17591c36",
   "metadata": {},
   "source": [
    "- [R data structure with I/O](#R_data_structure_with_I/O)\n",
    "    - [Data structure](#Data_structure)\n",
    "        - [Scalar](#Scalar)\n",
    "        - [Vector](#Vector)\n",
    "        - [Matrix](#Matrix)\n",
    "        - [Array](#Array)\n",
    "        - [Data frame](#Data_frame)\n",
    "        - [List](#List)\n",
    "    - [Manipulate the data](#Manipulate_the_data)\n",
    "- [References](#References)"
   ]
  },
  {
   "cell_type": "markdown",
   "id": "29999218",
   "metadata": {},
   "source": [
    "<h3>R_data_structure_with_I/O</h3>"
   ]
  },
  {
   "cell_type": "markdown",
   "id": "f7747125",
   "metadata": {},
   "source": [
    "<h4>Data_structure</h4>"
   ]
  },
  {
   "cell_type": "markdown",
   "id": "0937f698",
   "metadata": {},
   "source": [
    "<center><img src=\"img/r_Data_structure.png\" ></center> "
   ]
  },
  {
   "cell_type": "markdown",
   "id": "18c3e646",
   "metadata": {},
   "source": [
    "<li>Save only with the same data type: scalar, vector, matrix, array</li>\n",
    "<li>Different types of data types can be stored: data frames, lists</li>"
   ]
  },
  {
   "cell_type": "markdown",
   "id": "17db5569",
   "metadata": {},
   "source": [
    "<h5>Scalar</h5>"
   ]
  },
  {
   "cell_type": "code",
   "execution_count": 4,
   "id": "03a89e9d",
   "metadata": {},
   "outputs": [
    {
     "data": {
      "text/html": [
       "1"
      ],
      "text/latex": [
       "1"
      ],
      "text/markdown": [
       "1"
      ],
      "text/plain": [
       "[1] 1"
      ]
     },
     "metadata": {},
     "output_type": "display_data"
    }
   ],
   "source": [
    "# Scalar\n",
    "c(1)"
   ]
  },
  {
   "cell_type": "markdown",
   "id": "b0c11dc3",
   "metadata": {},
   "source": [
    "[Back to the top](#Table_of_Contents)"
   ]
  },
  {
   "cell_type": "markdown",
   "id": "3581fe48",
   "metadata": {},
   "source": [
    "<h5>Vector</h5>"
   ]
  },
  {
   "cell_type": "code",
   "execution_count": 9,
   "id": "b323c9fd",
   "metadata": {},
   "outputs": [
    {
     "data": {
      "text/html": [
       "<ol class=list-inline>\n",
       "\t<li>1</li>\n",
       "\t<li>2</li>\n",
       "\t<li>3</li>\n",
       "\t<li>4</li>\n",
       "</ol>\n"
      ],
      "text/latex": [
       "\\begin{enumerate*}\n",
       "\\item 1\n",
       "\\item 2\n",
       "\\item 3\n",
       "\\item 4\n",
       "\\end{enumerate*}\n"
      ],
      "text/markdown": [
       "1. 1\n",
       "2. 2\n",
       "3. 3\n",
       "4. 4\n",
       "\n",
       "\n"
      ],
      "text/plain": [
       "[1] 1 2 3 4"
      ]
     },
     "metadata": {},
     "output_type": "display_data"
    }
   ],
   "source": [
    "# Vector (c) - Numeric data type\n",
    "num <- c(1,2,3,4) # c(1:4)\n",
    "num\n",
    "# View(num) # only working in RStudio"
   ]
  },
  {
   "cell_type": "code",
   "execution_count": 10,
   "id": "a4c290a1",
   "metadata": {},
   "outputs": [
    {
     "data": {
      "text/html": [
       "<table>\n",
       "<tbody>\n",
       "\t<tr><td>1</td><td>2</td><td>3</td><td>4</td></tr>\n",
       "</tbody>\n",
       "</table>\n"
      ],
      "text/latex": [
       "\\begin{tabular}{llll}\n",
       "\t 1 & 2 & 3 & 4\\\\\n",
       "\\end{tabular}\n"
      ],
      "text/markdown": [
       "\n",
       "| 1 | 2 | 3 | 4 |\n",
       "\n"
      ],
      "text/plain": [
       "     [,1] [,2] [,3] [,4]\n",
       "[1,] 1    2    3    4   "
      ]
     },
     "metadata": {},
     "output_type": "display_data"
    }
   ],
   "source": [
    "num.T <- t(num) # Transpose column vector to row vector\n",
    "num.T\n",
    "# View(numT) # only working in RStudio"
   ]
  },
  {
   "cell_type": "code",
   "execution_count": 12,
   "id": "98cdb468",
   "metadata": {},
   "outputs": [
    {
     "data": {
      "text/html": [
       "<table>\n",
       "<tbody>\n",
       "\t<tr><td>1 </td><td>2 </td><td> 3</td><td> 4</td></tr>\n",
       "\t<tr><td>2 </td><td>4 </td><td> 6</td><td> 8</td></tr>\n",
       "\t<tr><td>3 </td><td>6 </td><td> 9</td><td>12</td></tr>\n",
       "\t<tr><td>4 </td><td>8 </td><td>12</td><td>16</td></tr>\n",
       "</tbody>\n",
       "</table>\n"
      ],
      "text/latex": [
       "\\begin{tabular}{llll}\n",
       "\t 1  & 2  &  3 &  4\\\\\n",
       "\t 2  & 4  &  6 &  8\\\\\n",
       "\t 3  & 6  &  9 & 12\\\\\n",
       "\t 4  & 8  & 12 & 16\\\\\n",
       "\\end{tabular}\n"
      ],
      "text/markdown": [
       "\n",
       "| 1  | 2  |  3 |  4 |\n",
       "| 2  | 4  |  6 |  8 |\n",
       "| 3  | 6  |  9 | 12 |\n",
       "| 4  | 8  | 12 | 16 |\n",
       "\n"
      ],
      "text/plain": [
       "     [,1] [,2] [,3] [,4]\n",
       "[1,] 1    2     3    4  \n",
       "[2,] 2    4     6    8  \n",
       "[3,] 3    6     9   12  \n",
       "[4,] 4    8    12   16  "
      ]
     },
     "metadata": {},
     "output_type": "display_data"
    }
   ],
   "source": [
    "num %*% num.T # Vector multiplication (4*1 X 1*4) = 4*4"
   ]
  },
  {
   "cell_type": "code",
   "execution_count": 13,
   "id": "9c47333e",
   "metadata": {},
   "outputs": [
    {
     "data": {
      "text/html": [
       "<table>\n",
       "<tbody>\n",
       "\t<tr><td>30</td></tr>\n",
       "</tbody>\n",
       "</table>\n"
      ],
      "text/latex": [
       "\\begin{tabular}{l}\n",
       "\t 30\\\\\n",
       "\\end{tabular}\n"
      ],
      "text/markdown": [
       "\n",
       "| 30 |\n",
       "\n"
      ],
      "text/plain": [
       "     [,1]\n",
       "[1,] 30  "
      ]
     },
     "metadata": {},
     "output_type": "display_data"
    }
   ],
   "source": [
    "num.T %*% num # Vector multiplication (1*4 X 4*1) = 1*1"
   ]
  },
  {
   "cell_type": "code",
   "execution_count": 14,
   "id": "65410ceb",
   "metadata": {},
   "outputs": [
    {
     "data": {
      "text/html": [
       "<ol class=list-inline>\n",
       "\t<li>'M'</li>\n",
       "\t<li>'F'</li>\n",
       "\t<li>'F'</li>\n",
       "\t<li>'M'</li>\n",
       "</ol>\n"
      ],
      "text/latex": [
       "\\begin{enumerate*}\n",
       "\\item 'M'\n",
       "\\item 'F'\n",
       "\\item 'F'\n",
       "\\item 'M'\n",
       "\\end{enumerate*}\n"
      ],
      "text/markdown": [
       "1. 'M'\n",
       "2. 'F'\n",
       "3. 'F'\n",
       "4. 'M'\n",
       "\n",
       "\n"
      ],
      "text/plain": [
       "[1] \"M\" \"F\" \"F\" \"M\""
      ]
     },
     "metadata": {},
     "output_type": "display_data"
    },
    {
     "data": {
      "text/html": [
       "<ol class=list-inline>\n",
       "\t<li>TRUE</li>\n",
       "\t<li>FALSE</li>\n",
       "\t<li>FALSE</li>\n",
       "\t<li>TRUE</li>\n",
       "</ol>\n"
      ],
      "text/latex": [
       "\\begin{enumerate*}\n",
       "\\item TRUE\n",
       "\\item FALSE\n",
       "\\item FALSE\n",
       "\\item TRUE\n",
       "\\end{enumerate*}\n"
      ],
      "text/markdown": [
       "1. TRUE\n",
       "2. FALSE\n",
       "3. FALSE\n",
       "4. TRUE\n",
       "\n",
       "\n"
      ],
      "text/plain": [
       "[1]  TRUE FALSE FALSE  TRUE"
      ]
     },
     "metadata": {},
     "output_type": "display_data"
    }
   ],
   "source": [
    "# character, logical data type\n",
    "c(\"M\",\"F\",\"F\",\"M\")\n",
    "c(TRUE, FALSE, FALSE, TRUE)"
   ]
  },
  {
   "cell_type": "markdown",
   "id": "0c54dfad",
   "metadata": {},
   "source": [
    "[Back to the top](#Table_of_Contents)"
   ]
  },
  {
   "cell_type": "markdown",
   "id": "27214f8c",
   "metadata": {},
   "source": [
    "<h5>Matrix</h5>"
   ]
  },
  {
   "cell_type": "code",
   "execution_count": 18,
   "id": "668fe6fc",
   "metadata": {},
   "outputs": [
    {
     "name": "stdout",
     "output_type": "stream",
     "text": [
      " [1]  1  2  3  4  5  6  7  8  9 10 11 12\n",
      "     [,1] [,2] [,3]\n",
      "[1,]    1    5    9\n",
      "[2,]    2    6   10\n",
      "[3,]    3    7   11\n",
      "[4,]    4    8   12\n"
     ]
    }
   ],
   "source": [
    "m <- 1:12\n",
    "print(m)\n",
    "\n",
    "# Matrix (Matrix 4x3)\n",
    "mtx <- matrix(m, nrow=4)\n",
    "print(mtx)"
   ]
  },
  {
   "cell_type": "code",
   "execution_count": 19,
   "id": "15871110",
   "metadata": {},
   "outputs": [
    {
     "data": {
      "text/html": [
       "7"
      ],
      "text/latex": [
       "7"
      ],
      "text/markdown": [
       "7"
      ],
      "text/plain": [
       "[1] 7"
      ]
     },
     "metadata": {},
     "output_type": "display_data"
    }
   ],
   "source": [
    "mtx[3,2]"
   ]
  },
  {
   "cell_type": "code",
   "execution_count": 1,
   "id": "7960ad43",
   "metadata": {
    "scrolled": true
   },
   "outputs": [
    {
     "data": {
      "text/html": [
       "<ol class=list-inline>\n",
       "\t<li>2</li>\n",
       "\t<li>3</li>\n",
       "</ol>\n"
      ],
      "text/latex": [
       "\\begin{enumerate*}\n",
       "\\item 2\n",
       "\\item 3\n",
       "\\end{enumerate*}\n"
      ],
      "text/markdown": [
       "1. 2\n",
       "2. 3\n",
       "\n",
       "\n"
      ],
      "text/plain": [
       "[1] 2 3"
      ]
     },
     "metadata": {},
     "output_type": "display_data"
    },
    {
     "data": {
      "text/html": [
       "<table>\n",
       "<tbody>\n",
       "\t<tr><td>1</td><td>3</td><td>5</td></tr>\n",
       "\t<tr><td>2</td><td>4</td><td>6</td></tr>\n",
       "</tbody>\n",
       "</table>\n"
      ],
      "text/latex": [
       "\\begin{tabular}{lll}\n",
       "\t 1 & 3 & 5\\\\\n",
       "\t 2 & 4 & 6\\\\\n",
       "\\end{tabular}\n"
      ],
      "text/markdown": [
       "\n",
       "| 1 | 3 | 5 |\n",
       "| 2 | 4 | 6 |\n",
       "\n"
      ],
      "text/plain": [
       "     [,1] [,2] [,3]\n",
       "[1,] 1    3    5   \n",
       "[2,] 2    4    6   "
      ]
     },
     "metadata": {},
     "output_type": "display_data"
    }
   ],
   "source": [
    "mat.ex = matrix(c(1,2,3,4,5,6), nrow = 2)\n",
    "dim(mat.ex)\n",
    "mat.ex"
   ]
  },
  {
   "cell_type": "markdown",
   "id": "4e342985",
   "metadata": {},
   "source": [
    "It is easy to construct diagonal matrices and extract diagonals from matrices in R. The same command is use."
   ]
  },
  {
   "cell_type": "code",
   "execution_count": 6,
   "id": "74e23802",
   "metadata": {
    "scrolled": true
   },
   "outputs": [
    {
     "data": {
      "text/html": [
       "<ol class=list-inline>\n",
       "\t<li>1</li>\n",
       "\t<li>5</li>\n",
       "\t<li>9</li>\n",
       "</ol>\n"
      ],
      "text/latex": [
       "\\begin{enumerate*}\n",
       "\\item 1\n",
       "\\item 5\n",
       "\\item 9\n",
       "\\end{enumerate*}\n"
      ],
      "text/markdown": [
       "1. 1\n",
       "2. 5\n",
       "3. 9\n",
       "\n",
       "\n"
      ],
      "text/plain": [
       "[1] 1 5 9"
      ]
     },
     "metadata": {},
     "output_type": "display_data"
    },
    {
     "data": {
      "text/html": [
       "<table>\n",
       "<tbody>\n",
       "\t<tr><td>1</td><td>0</td><td>0</td></tr>\n",
       "\t<tr><td>0</td><td>2</td><td>0</td></tr>\n",
       "\t<tr><td>0</td><td>0</td><td>3</td></tr>\n",
       "</tbody>\n",
       "</table>\n"
      ],
      "text/latex": [
       "\\begin{tabular}{lll}\n",
       "\t 1 & 0 & 0\\\\\n",
       "\t 0 & 2 & 0\\\\\n",
       "\t 0 & 0 & 3\\\\\n",
       "\\end{tabular}\n"
      ],
      "text/markdown": [
       "\n",
       "| 1 | 0 | 0 |\n",
       "| 0 | 2 | 0 |\n",
       "| 0 | 0 | 3 |\n",
       "\n"
      ],
      "text/plain": [
       "     [,1] [,2] [,3]\n",
       "[1,] 1    0    0   \n",
       "[2,] 0    2    0   \n",
       "[3,] 0    0    3   "
      ]
     },
     "metadata": {},
     "output_type": "display_data"
    },
    {
     "data": {
      "text/html": [
       "<table>\n",
       "<tbody>\n",
       "\t<tr><td>1</td><td>4</td><td>7</td></tr>\n",
       "\t<tr><td>2</td><td>5</td><td>8</td></tr>\n",
       "\t<tr><td>3</td><td>6</td><td>9</td></tr>\n",
       "</tbody>\n",
       "</table>\n"
      ],
      "text/latex": [
       "\\begin{tabular}{lll}\n",
       "\t 1 & 4 & 7\\\\\n",
       "\t 2 & 5 & 8\\\\\n",
       "\t 3 & 6 & 9\\\\\n",
       "\\end{tabular}\n"
      ],
      "text/markdown": [
       "\n",
       "| 1 | 4 | 7 |\n",
       "| 2 | 5 | 8 |\n",
       "| 3 | 6 | 9 |\n",
       "\n"
      ],
      "text/plain": [
       "     [,1] [,2] [,3]\n",
       "[1,] 1    4    7   \n",
       "[2,] 2    5    8   \n",
       "[3,] 3    6    9   "
      ]
     },
     "metadata": {},
     "output_type": "display_data"
    },
    {
     "data": {
      "text/html": [
       "<table>\n",
       "<tbody>\n",
       "\t<tr><td>1</td><td>4</td><td>7</td></tr>\n",
       "\t<tr><td>2</td><td>1</td><td>8</td></tr>\n",
       "\t<tr><td>3</td><td>6</td><td>1</td></tr>\n",
       "</tbody>\n",
       "</table>\n"
      ],
      "text/latex": [
       "\\begin{tabular}{lll}\n",
       "\t 1 & 4 & 7\\\\\n",
       "\t 2 & 1 & 8\\\\\n",
       "\t 3 & 6 & 1\\\\\n",
       "\\end{tabular}\n"
      ],
      "text/markdown": [
       "\n",
       "| 1 | 4 | 7 |\n",
       "| 2 | 1 | 8 |\n",
       "| 3 | 6 | 1 |\n",
       "\n"
      ],
      "text/plain": [
       "     [,1] [,2] [,3]\n",
       "[1,] 1    4    7   \n",
       "[2,] 2    1    8   \n",
       "[3,] 3    6    1   "
      ]
     },
     "metadata": {},
     "output_type": "display_data"
    }
   ],
   "source": [
    "a = matrix(1:9, nrow = 3)\n",
    "diag(a)\n",
    "\n",
    "diag(c(1,2,3))\n",
    "\n",
    "# you can even change the diagonal of the matrix\n",
    "# Here I'll change it to 1s\n",
    "a\n",
    "diag(a) = 1\n",
    "a"
   ]
  },
  {
   "cell_type": "markdown",
   "id": "23e3fef5",
   "metadata": {},
   "source": [
    "Basic math with matrices"
   ]
  },
  {
   "cell_type": "markdown",
   "id": "a31e16bb",
   "metadata": {},
   "source": [
    "Matrix math is a bit cumbersome! Three key strokes for the multiplication symbol…oh well."
   ]
  },
  {
   "cell_type": "code",
   "execution_count": 1,
   "id": "4b16cfc5",
   "metadata": {},
   "outputs": [
    {
     "data": {
      "text/html": [
       "<table>\n",
       "<tbody>\n",
       "\t<tr><td>1</td><td>2</td><td>2</td></tr>\n",
       "\t<tr><td>2</td><td>1</td><td>2</td></tr>\n",
       "\t<tr><td>3</td><td>2</td><td>1</td></tr>\n",
       "</tbody>\n",
       "</table>\n"
      ],
      "text/latex": [
       "\\begin{tabular}{lll}\n",
       "\t 1 & 2 & 2\\\\\n",
       "\t 2 & 1 & 2\\\\\n",
       "\t 3 & 2 & 1\\\\\n",
       "\\end{tabular}\n"
      ],
      "text/markdown": [
       "\n",
       "| 1 | 2 | 2 |\n",
       "| 2 | 1 | 2 |\n",
       "| 3 | 2 | 1 |\n",
       "\n"
      ],
      "text/plain": [
       "     [,1] [,2] [,3]\n",
       "[1,] 1    2    2   \n",
       "[2,] 2    1    2   \n",
       "[3,] 3    2    1   "
      ]
     },
     "metadata": {},
     "output_type": "display_data"
    },
    {
     "data": {
      "text/html": [
       "<table>\n",
       "<tbody>\n",
       "\t<tr><td>1</td><td>2</td><td>3</td></tr>\n",
       "\t<tr><td>2</td><td>1</td><td>2</td></tr>\n",
       "\t<tr><td>2</td><td>2</td><td>1</td></tr>\n",
       "</tbody>\n",
       "</table>\n"
      ],
      "text/latex": [
       "\\begin{tabular}{lll}\n",
       "\t 1 & 2 & 3\\\\\n",
       "\t 2 & 1 & 2\\\\\n",
       "\t 2 & 2 & 1\\\\\n",
       "\\end{tabular}\n"
      ],
      "text/markdown": [
       "\n",
       "| 1 | 2 | 3 |\n",
       "| 2 | 1 | 2 |\n",
       "| 2 | 2 | 1 |\n",
       "\n"
      ],
      "text/plain": [
       "     [,1] [,2] [,3]\n",
       "[1,] 1    2    3   \n",
       "[2,] 2    1    2   \n",
       "[3,] 2    2    1   "
      ]
     },
     "metadata": {},
     "output_type": "display_data"
    },
    {
     "data": {
      "text/html": [
       "<table>\n",
       "<tbody>\n",
       "\t<tr><td>11</td><td> 8</td><td> 8</td></tr>\n",
       "\t<tr><td>10</td><td> 9</td><td> 8</td></tr>\n",
       "\t<tr><td>10</td><td>10</td><td>11</td></tr>\n",
       "</tbody>\n",
       "</table>\n"
      ],
      "text/latex": [
       "\\begin{tabular}{lll}\n",
       "\t 11 &  8 &  8\\\\\n",
       "\t 10 &  9 &  8\\\\\n",
       "\t 10 & 10 & 11\\\\\n",
       "\\end{tabular}\n"
      ],
      "text/markdown": [
       "\n",
       "| 11 |  8 |  8 |\n",
       "| 10 |  9 |  8 |\n",
       "| 10 | 10 | 11 |\n",
       "\n"
      ],
      "text/plain": [
       "     [,1] [,2] [,3]\n",
       "[1,] 11    8    8  \n",
       "[2,] 10    9    8  \n",
       "[3,] 10   10   11  "
      ]
     },
     "metadata": {},
     "output_type": "display_data"
    },
    {
     "data": {
      "text/html": [
       "<table>\n",
       "<tbody>\n",
       "\t<tr><td>-0.4285714</td><td> 0.2857143</td><td> 0.2857143</td></tr>\n",
       "\t<tr><td> 0.5714286</td><td>-0.7142857</td><td> 0.2857143</td></tr>\n",
       "\t<tr><td> 0.1428571</td><td> 0.5714286</td><td>-0.4285714</td></tr>\n",
       "</tbody>\n",
       "</table>\n"
      ],
      "text/latex": [
       "\\begin{tabular}{lll}\n",
       "\t -0.4285714 &  0.2857143 &  0.2857143\\\\\n",
       "\t  0.5714286 & -0.7142857 &  0.2857143\\\\\n",
       "\t  0.1428571 &  0.5714286 & -0.4285714\\\\\n",
       "\\end{tabular}\n"
      ],
      "text/markdown": [
       "\n",
       "| -0.4285714 |  0.2857143 |  0.2857143 |\n",
       "|  0.5714286 | -0.7142857 |  0.2857143 |\n",
       "|  0.1428571 |  0.5714286 | -0.4285714 |\n",
       "\n"
      ],
      "text/plain": [
       "     [,1]       [,2]       [,3]      \n",
       "[1,] -0.4285714  0.2857143  0.2857143\n",
       "[2,]  0.5714286 -0.7142857  0.2857143\n",
       "[3,]  0.1428571  0.5714286 -0.4285714"
      ]
     },
     "metadata": {},
     "output_type": "display_data"
    }
   ],
   "source": [
    "a = matrix(c(1, 2, 3, 2, 1, 2, 2, 2, 1), nrow = 3)\n",
    "a\n",
    "# transpose\n",
    "t(a)\n",
    "# multiplication\n",
    "a%*%a\n",
    "# inverse \n",
    "solve(a)"
   ]
  },
  {
   "cell_type": "markdown",
   "id": "a816880e",
   "metadata": {},
   "source": [
    "Extracting parts of a matrix is similar to other programs."
   ]
  },
  {
   "cell_type": "code",
   "execution_count": 2,
   "id": "79611f46",
   "metadata": {},
   "outputs": [
    {
     "data": {
      "text/html": [
       "<table>\n",
       "<tbody>\n",
       "\t<tr><td>1</td><td>4</td><td>7</td></tr>\n",
       "\t<tr><td>2</td><td>5</td><td>8</td></tr>\n",
       "\t<tr><td>3</td><td>6</td><td>9</td></tr>\n",
       "</tbody>\n",
       "</table>\n"
      ],
      "text/latex": [
       "\\begin{tabular}{lll}\n",
       "\t 1 & 4 & 7\\\\\n",
       "\t 2 & 5 & 8\\\\\n",
       "\t 3 & 6 & 9\\\\\n",
       "\\end{tabular}\n"
      ],
      "text/markdown": [
       "\n",
       "| 1 | 4 | 7 |\n",
       "| 2 | 5 | 8 |\n",
       "| 3 | 6 | 9 |\n",
       "\n"
      ],
      "text/plain": [
       "     [,1] [,2] [,3]\n",
       "[1,] 1    4    7   \n",
       "[2,] 2    5    8   \n",
       "[3,] 3    6    9   "
      ]
     },
     "metadata": {},
     "output_type": "display_data"
    },
    {
     "data": {
      "text/html": [
       "<ol class=list-inline>\n",
       "\t<li>1</li>\n",
       "\t<li>4</li>\n",
       "\t<li>7</li>\n",
       "</ol>\n"
      ],
      "text/latex": [
       "\\begin{enumerate*}\n",
       "\\item 1\n",
       "\\item 4\n",
       "\\item 7\n",
       "\\end{enumerate*}\n"
      ],
      "text/markdown": [
       "1. 1\n",
       "2. 4\n",
       "3. 7\n",
       "\n",
       "\n"
      ],
      "text/plain": [
       "[1] 1 4 7"
      ]
     },
     "metadata": {},
     "output_type": "display_data"
    },
    {
     "data": {
      "text/html": [
       "<ol class=list-inline>\n",
       "\t<li>1</li>\n",
       "\t<li>2</li>\n",
       "\t<li>3</li>\n",
       "</ol>\n"
      ],
      "text/latex": [
       "\\begin{enumerate*}\n",
       "\\item 1\n",
       "\\item 2\n",
       "\\item 3\n",
       "\\end{enumerate*}\n"
      ],
      "text/markdown": [
       "1. 1\n",
       "2. 2\n",
       "3. 3\n",
       "\n",
       "\n"
      ],
      "text/plain": [
       "[1] 1 2 3"
      ]
     },
     "metadata": {},
     "output_type": "display_data"
    },
    {
     "data": {
      "text/html": [
       "<ol class=list-inline>\n",
       "\t<li>6</li>\n",
       "\t<li>9</li>\n",
       "</ol>\n"
      ],
      "text/latex": [
       "\\begin{enumerate*}\n",
       "\\item 6\n",
       "\\item 9\n",
       "\\end{enumerate*}\n"
      ],
      "text/markdown": [
       "1. 6\n",
       "2. 9\n",
       "\n",
       "\n"
      ],
      "text/plain": [
       "[1] 6 9"
      ]
     },
     "metadata": {},
     "output_type": "display_data"
    }
   ],
   "source": [
    "a = matrix(c(1:9), nrow = 3)\n",
    "a\n",
    "# First row\n",
    "a[1,]\n",
    "# First column\n",
    "a[,1]\n",
    "# Second and third entry of the third row\n",
    "a[3, 2:3]"
   ]
  },
  {
   "cell_type": "markdown",
   "id": "2dc49e88",
   "metadata": {},
   "source": [
    "[Back to the top](#Table_of_Contents)"
   ]
  },
  {
   "cell_type": "markdown",
   "id": "e5c41927",
   "metadata": {},
   "source": [
    "<h5>Array</h5>"
   ]
  },
  {
   "cell_type": "code",
   "execution_count": 17,
   "id": "66628ac3",
   "metadata": {},
   "outputs": [
    {
     "name": "stdout",
     "output_type": "stream",
     "text": [
      ", , 1\n",
      "\n",
      "     [,1] [,2] [,3]\n",
      "[1,]    1    3    5\n",
      "[2,]    2    4    6\n",
      "\n",
      ", , 2\n",
      "\n",
      "     [,1] [,2] [,3]\n",
      "[1,]    7    9   11\n",
      "[2,]    8   10   12\n",
      "\n"
     ]
    }
   ],
   "source": [
    "# Array (Array 2x3x2)\n",
    "arr <- array(m, c(2,3,2))\n",
    "print(arr)"
   ]
  },
  {
   "cell_type": "code",
   "execution_count": 2,
   "id": "c01d9bb2",
   "metadata": {},
   "outputs": [
    {
     "data": {
      "text/html": [
       "<ol class=list-inline>\n",
       "\t<li>4</li>\n",
       "\t<li>3</li>\n",
       "\t<li>2</li>\n",
       "</ol>\n"
      ],
      "text/latex": [
       "\\begin{enumerate*}\n",
       "\\item 4\n",
       "\\item 3\n",
       "\\item 2\n",
       "\\end{enumerate*}\n"
      ],
      "text/markdown": [
       "1. 4\n",
       "2. 3\n",
       "3. 2\n",
       "\n",
       "\n"
      ],
      "text/plain": [
       "[1] 4 3 2"
      ]
     },
     "metadata": {},
     "output_type": "display_data"
    },
    {
     "data": {
      "text/html": [
       "<ol class=list-inline>\n",
       "\t<li>1</li>\n",
       "\t<li>2</li>\n",
       "\t<li>3</li>\n",
       "\t<li>4</li>\n",
       "\t<li>5</li>\n",
       "\t<li>6</li>\n",
       "\t<li>7</li>\n",
       "\t<li>8</li>\n",
       "\t<li>9</li>\n",
       "\t<li>10</li>\n",
       "\t<li>11</li>\n",
       "\t<li>12</li>\n",
       "\t<li>13</li>\n",
       "\t<li>14</li>\n",
       "\t<li>15</li>\n",
       "\t<li>16</li>\n",
       "\t<li>17</li>\n",
       "\t<li>18</li>\n",
       "\t<li>19</li>\n",
       "\t<li>20</li>\n",
       "\t<li>21</li>\n",
       "\t<li>22</li>\n",
       "\t<li>23</li>\n",
       "\t<li>24</li>\n",
       "</ol>\n"
      ],
      "text/latex": [
       "\\begin{enumerate*}\n",
       "\\item 1\n",
       "\\item 2\n",
       "\\item 3\n",
       "\\item 4\n",
       "\\item 5\n",
       "\\item 6\n",
       "\\item 7\n",
       "\\item 8\n",
       "\\item 9\n",
       "\\item 10\n",
       "\\item 11\n",
       "\\item 12\n",
       "\\item 13\n",
       "\\item 14\n",
       "\\item 15\n",
       "\\item 16\n",
       "\\item 17\n",
       "\\item 18\n",
       "\\item 19\n",
       "\\item 20\n",
       "\\item 21\n",
       "\\item 22\n",
       "\\item 23\n",
       "\\item 24\n",
       "\\end{enumerate*}\n"
      ],
      "text/markdown": [
       "1. 1\n",
       "2. 2\n",
       "3. 3\n",
       "4. 4\n",
       "5. 5\n",
       "6. 6\n",
       "7. 7\n",
       "8. 8\n",
       "9. 9\n",
       "10. 10\n",
       "11. 11\n",
       "12. 12\n",
       "13. 13\n",
       "14. 14\n",
       "15. 15\n",
       "16. 16\n",
       "17. 17\n",
       "18. 18\n",
       "19. 19\n",
       "20. 20\n",
       "21. 21\n",
       "22. 22\n",
       "23. 23\n",
       "24. 24\n",
       "\n",
       "\n"
      ],
      "text/plain": [
       ", , 1\n",
       "\n",
       "     [,1] [,2] [,3]\n",
       "[1,]    1    5    9\n",
       "[2,]    2    6   10\n",
       "[3,]    3    7   11\n",
       "[4,]    4    8   12\n",
       "\n",
       ", , 2\n",
       "\n",
       "     [,1] [,2] [,3]\n",
       "[1,]   13   17   21\n",
       "[2,]   14   18   22\n",
       "[3,]   15   19   23\n",
       "[4,]   16   20   24\n"
      ]
     },
     "metadata": {},
     "output_type": "display_data"
    }
   ],
   "source": [
    "array.ex = array(c(1:24), c(4, 3, 2))\n",
    "dim(array.ex)\n",
    "array.ex"
   ]
  },
  {
   "cell_type": "markdown",
   "id": "74d7e3cc",
   "metadata": {},
   "source": [
    "[Back to the top](#Table_of_Contents)"
   ]
  },
  {
   "cell_type": "markdown",
   "id": "eb7a863a",
   "metadata": {},
   "source": [
    "<h5>Data_frame</h5>"
   ]
  },
  {
   "cell_type": "code",
   "execution_count": 20,
   "id": "192a5202",
   "metadata": {},
   "outputs": [
    {
     "name": "stdout",
     "output_type": "stream",
     "text": [
      "'data.frame':\t4 obs. of  2 variables:\n",
      " $ id : num  1 2 3 4\n",
      " $ sex: Factor w/ 2 levels \"F\",\"M\": 2 1 1 2\n"
     ]
    }
   ],
   "source": [
    "# Data Frame\n",
    "var1 <- c(1,2,3,4)\n",
    "var2 <- factor(c(\"M\",\"F\",\"F\",\"M\"))\n",
    "df = data.frame(id = var1, sex = var2)\n",
    "str(df)"
   ]
  },
  {
   "cell_type": "code",
   "execution_count": 4,
   "id": "a7f300a3",
   "metadata": {},
   "outputs": [
    {
     "data": {
      "text/html": [
       "<table>\n",
       "<thead><tr><th scope=col>col1</th><th scope=col>col2</th><th scope=col>col3</th></tr></thead>\n",
       "<tbody>\n",
       "\t<tr><td> 1</td><td>21</td><td>a1</td></tr>\n",
       "\t<tr><td> 2</td><td>22</td><td>a1</td></tr>\n",
       "\t<tr><td> 3</td><td>23</td><td>a1</td></tr>\n",
       "\t<tr><td> 4</td><td>24</td><td>a1</td></tr>\n",
       "\t<tr><td> 5</td><td>25</td><td>a1</td></tr>\n",
       "\t<tr><td> 6</td><td>26</td><td>b1</td></tr>\n",
       "\t<tr><td> 7</td><td>27</td><td>b1</td></tr>\n",
       "\t<tr><td> 8</td><td>28</td><td>b1</td></tr>\n",
       "\t<tr><td> 9</td><td>29</td><td>b1</td></tr>\n",
       "\t<tr><td>10</td><td>30</td><td>b1</td></tr>\n",
       "</tbody>\n",
       "</table>\n"
      ],
      "text/latex": [
       "\\begin{tabular}{r|lll}\n",
       " col1 & col2 & col3\\\\\n",
       "\\hline\n",
       "\t  1 & 21 & a1\\\\\n",
       "\t  2 & 22 & a1\\\\\n",
       "\t  3 & 23 & a1\\\\\n",
       "\t  4 & 24 & a1\\\\\n",
       "\t  5 & 25 & a1\\\\\n",
       "\t  6 & 26 & b1\\\\\n",
       "\t  7 & 27 & b1\\\\\n",
       "\t  8 & 28 & b1\\\\\n",
       "\t  9 & 29 & b1\\\\\n",
       "\t 10 & 30 & b1\\\\\n",
       "\\end{tabular}\n"
      ],
      "text/markdown": [
       "\n",
       "| col1 | col2 | col3 |\n",
       "|---|---|---|\n",
       "|  1 | 21 | a1 |\n",
       "|  2 | 22 | a1 |\n",
       "|  3 | 23 | a1 |\n",
       "|  4 | 24 | a1 |\n",
       "|  5 | 25 | a1 |\n",
       "|  6 | 26 | b1 |\n",
       "|  7 | 27 | b1 |\n",
       "|  8 | 28 | b1 |\n",
       "|  9 | 29 | b1 |\n",
       "| 10 | 30 | b1 |\n",
       "\n"
      ],
      "text/plain": [
       "   col1 col2 col3\n",
       "1   1   21   a1  \n",
       "2   2   22   a1  \n",
       "3   3   23   a1  \n",
       "4   4   24   a1  \n",
       "5   5   25   a1  \n",
       "6   6   26   b1  \n",
       "7   7   27   b1  \n",
       "8   8   28   b1  \n",
       "9   9   29   b1  \n",
       "10 10   30   b1  "
      ]
     },
     "metadata": {},
     "output_type": "display_data"
    },
    {
     "data": {
      "text/html": [
       "<ol class=list-inline>\n",
       "\t<li>10</li>\n",
       "\t<li>3</li>\n",
       "</ol>\n"
      ],
      "text/latex": [
       "\\begin{enumerate*}\n",
       "\\item 10\n",
       "\\item 3\n",
       "\\end{enumerate*}\n"
      ],
      "text/markdown": [
       "1. 10\n",
       "2. 3\n",
       "\n",
       "\n"
      ],
      "text/plain": [
       "[1] 10  3"
      ]
     },
     "metadata": {},
     "output_type": "display_data"
    },
    {
     "data": {
      "text/html": [
       "<ol class=list-inline>\n",
       "\t<li>'col1'</li>\n",
       "\t<li>'col2'</li>\n",
       "\t<li>'col3'</li>\n",
       "</ol>\n"
      ],
      "text/latex": [
       "\\begin{enumerate*}\n",
       "\\item 'col1'\n",
       "\\item 'col2'\n",
       "\\item 'col3'\n",
       "\\end{enumerate*}\n"
      ],
      "text/markdown": [
       "1. 'col1'\n",
       "2. 'col2'\n",
       "3. 'col3'\n",
       "\n",
       "\n"
      ],
      "text/plain": [
       "[1] \"col1\" \"col2\" \"col3\""
      ]
     },
     "metadata": {},
     "output_type": "display_data"
    },
    {
     "data": {
      "text/html": [
       "<ol class=list-inline>\n",
       "\t<li>1</li>\n",
       "\t<li>2</li>\n",
       "\t<li>3</li>\n",
       "\t<li>4</li>\n",
       "\t<li>5</li>\n",
       "\t<li>6</li>\n",
       "\t<li>7</li>\n",
       "\t<li>8</li>\n",
       "\t<li>9</li>\n",
       "\t<li>10</li>\n",
       "</ol>\n"
      ],
      "text/latex": [
       "\\begin{enumerate*}\n",
       "\\item 1\n",
       "\\item 2\n",
       "\\item 3\n",
       "\\item 4\n",
       "\\item 5\n",
       "\\item 6\n",
       "\\item 7\n",
       "\\item 8\n",
       "\\item 9\n",
       "\\item 10\n",
       "\\end{enumerate*}\n"
      ],
      "text/markdown": [
       "1. 1\n",
       "2. 2\n",
       "3. 3\n",
       "4. 4\n",
       "5. 5\n",
       "6. 6\n",
       "7. 7\n",
       "8. 8\n",
       "9. 9\n",
       "10. 10\n",
       "\n",
       "\n"
      ],
      "text/plain": [
       " [1]  1  2  3  4  5  6  7  8  9 10"
      ]
     },
     "metadata": {},
     "output_type": "display_data"
    },
    {
     "data": {
      "text/html": [
       "<table>\n",
       "<thead><tr><th scope=col>col1</th><th scope=col>col2</th><th scope=col>col3</th><th scope=col>col4</th></tr></thead>\n",
       "<tbody>\n",
       "\t<tr><td> 1</td><td>21</td><td>a1</td><td>m </td></tr>\n",
       "\t<tr><td> 2</td><td>22</td><td>a1</td><td>f </td></tr>\n",
       "\t<tr><td> 3</td><td>23</td><td>a1</td><td>m </td></tr>\n",
       "\t<tr><td> 4</td><td>24</td><td>a1</td><td>f </td></tr>\n",
       "\t<tr><td> 5</td><td>25</td><td>a1</td><td>m </td></tr>\n",
       "\t<tr><td> 6</td><td>26</td><td>b1</td><td>f </td></tr>\n",
       "\t<tr><td> 7</td><td>27</td><td>b1</td><td>m </td></tr>\n",
       "\t<tr><td> 8</td><td>28</td><td>b1</td><td>f </td></tr>\n",
       "\t<tr><td> 9</td><td>29</td><td>b1</td><td>m </td></tr>\n",
       "\t<tr><td>10</td><td>30</td><td>b1</td><td>f </td></tr>\n",
       "</tbody>\n",
       "</table>\n"
      ],
      "text/latex": [
       "\\begin{tabular}{r|llll}\n",
       " col1 & col2 & col3 & col4\\\\\n",
       "\\hline\n",
       "\t  1 & 21 & a1 & m \\\\\n",
       "\t  2 & 22 & a1 & f \\\\\n",
       "\t  3 & 23 & a1 & m \\\\\n",
       "\t  4 & 24 & a1 & f \\\\\n",
       "\t  5 & 25 & a1 & m \\\\\n",
       "\t  6 & 26 & b1 & f \\\\\n",
       "\t  7 & 27 & b1 & m \\\\\n",
       "\t  8 & 28 & b1 & f \\\\\n",
       "\t  9 & 29 & b1 & m \\\\\n",
       "\t 10 & 30 & b1 & f \\\\\n",
       "\\end{tabular}\n"
      ],
      "text/markdown": [
       "\n",
       "| col1 | col2 | col3 | col4 |\n",
       "|---|---|---|---|\n",
       "|  1 | 21 | a1 | m  |\n",
       "|  2 | 22 | a1 | f  |\n",
       "|  3 | 23 | a1 | m  |\n",
       "|  4 | 24 | a1 | f  |\n",
       "|  5 | 25 | a1 | m  |\n",
       "|  6 | 26 | b1 | f  |\n",
       "|  7 | 27 | b1 | m  |\n",
       "|  8 | 28 | b1 | f  |\n",
       "|  9 | 29 | b1 | m  |\n",
       "| 10 | 30 | b1 | f  |\n",
       "\n"
      ],
      "text/plain": [
       "   col1 col2 col3 col4\n",
       "1   1   21   a1   m   \n",
       "2   2   22   a1   f   \n",
       "3   3   23   a1   m   \n",
       "4   4   24   a1   f   \n",
       "5   5   25   a1   m   \n",
       "6   6   26   b1   f   \n",
       "7   7   27   b1   m   \n",
       "8   8   28   b1   f   \n",
       "9   9   29   b1   m   \n",
       "10 10   30   b1   f   "
      ]
     },
     "metadata": {},
     "output_type": "display_data"
    }
   ],
   "source": [
    "col1 = c(1:10)\n",
    "col2 = c(21:30)\n",
    "col3 = rep(c(\"a1\", \"b1\"), each = 5)\n",
    "data.frame.ex = data.frame(col1, col2, col3)\n",
    "data.frame.ex\n",
    "dim(data.frame.ex)\n",
    "names(data.frame.ex)\n",
    "# you can pull columns of a data frame out using the column name\n",
    "data.frame.ex$col1\n",
    "# you can also add a new column to a pre-existing data frame\n",
    "data.frame.ex$col4 = rep(c(\"m\", \"f\"), 5)\n",
    "data.frame.ex"
   ]
  },
  {
   "cell_type": "code",
   "execution_count": 5,
   "id": "6a1809b7",
   "metadata": {},
   "outputs": [
    {
     "data": {
      "text/html": [
       "<table>\n",
       "<thead><tr><th scope=col>col1</th><th scope=col>col2</th><th scope=col>col3</th></tr></thead>\n",
       "<tbody>\n",
       "\t<tr><td>1 </td><td> 7</td><td>13</td></tr>\n",
       "\t<tr><td>2 </td><td> 8</td><td>14</td></tr>\n",
       "\t<tr><td>3 </td><td> 9</td><td>15</td></tr>\n",
       "\t<tr><td>4 </td><td>10</td><td>16</td></tr>\n",
       "\t<tr><td>5 </td><td>11</td><td>17</td></tr>\n",
       "\t<tr><td>6 </td><td>12</td><td>18</td></tr>\n",
       "</tbody>\n",
       "</table>\n"
      ],
      "text/latex": [
       "\\begin{tabular}{r|lll}\n",
       " col1 & col2 & col3\\\\\n",
       "\\hline\n",
       "\t 1  &  7 & 13\\\\\n",
       "\t 2  &  8 & 14\\\\\n",
       "\t 3  &  9 & 15\\\\\n",
       "\t 4  & 10 & 16\\\\\n",
       "\t 5  & 11 & 17\\\\\n",
       "\t 6  & 12 & 18\\\\\n",
       "\\end{tabular}\n"
      ],
      "text/markdown": [
       "\n",
       "| col1 | col2 | col3 |\n",
       "|---|---|---|\n",
       "| 1  |  7 | 13 |\n",
       "| 2  |  8 | 14 |\n",
       "| 3  |  9 | 15 |\n",
       "| 4  | 10 | 16 |\n",
       "| 5  | 11 | 17 |\n",
       "| 6  | 12 | 18 |\n",
       "\n"
      ],
      "text/plain": [
       "  col1 col2 col3\n",
       "1 1     7   13  \n",
       "2 2     8   14  \n",
       "3 3     9   15  \n",
       "4 4    10   16  \n",
       "5 5    11   17  \n",
       "6 6    12   18  "
      ]
     },
     "metadata": {},
     "output_type": "display_data"
    }
   ],
   "source": [
    "# you can easily convert a matrix to a data.frame and add names\n",
    "df.ex2 = matrix(1:18, ncol = 3)\n",
    "df.ex2 = data.frame(df.ex2)\n",
    "names(df.ex2) = c(\"col1\", \"col2\", \"col3\")\n",
    "df.ex2"
   ]
  },
  {
   "cell_type": "markdown",
   "id": "b40301ae",
   "metadata": {},
   "source": [
    "[Back to the top](#Table_of_Contents)"
   ]
  },
  {
   "cell_type": "markdown",
   "id": "1d5747a6",
   "metadata": {},
   "source": [
    "<h5>List</h5>"
   ]
  },
  {
   "cell_type": "code",
   "execution_count": 21,
   "id": "730d5d88",
   "metadata": {},
   "outputs": [
    {
     "name": "stdout",
     "output_type": "stream",
     "text": [
      "List of 4\n",
      " $ : num [1:4] 1 2 3 4\n",
      " $ : int [1:4, 1:3] 1 2 3 4 5 6 7 8 9 10 ...\n",
      " $ : int [1:2, 1:3, 1:2] 1 2 3 4 5 6 7 8 9 10 ...\n",
      " $ :'data.frame':\t4 obs. of  2 variables:\n",
      "  ..$ id : num [1:4] 1 2 3 4\n",
      "  ..$ sex: Factor w/ 2 levels \"F\",\"M\": 2 1 1 2\n"
     ]
    }
   ],
   "source": [
    "# list\n",
    "v1 <- c(1,2,3,4)\n",
    "v2 <- matrix(1:12, nrow=4)\n",
    "v3 <- array(1:12, c(2,3,2))\n",
    "v4 <- data.frame(id = c(1,2,3,4), sex = c(\"M\",\"F\",\"F\",\"M\"))\n",
    "lt <- list (v1, v2, v3, v4)\n",
    "str(lt)"
   ]
  },
  {
   "cell_type": "code",
   "execution_count": 23,
   "id": "96cd7ff2",
   "metadata": {},
   "outputs": [
    {
     "name": "stdout",
     "output_type": "stream",
     "text": [
      "[[1]]\n",
      "[1] 1 2 3 4\n",
      "\n",
      "[[2]]\n",
      "     [,1] [,2] [,3]\n",
      "[1,]    1    5    9\n",
      "[2,]    2    6   10\n",
      "[3,]    3    7   11\n",
      "[4,]    4    8   12\n",
      "\n",
      "[[3]]\n",
      ", , 1\n",
      "\n",
      "     [,1] [,2] [,3]\n",
      "[1,]    1    3    5\n",
      "[2,]    2    4    6\n",
      "\n",
      ", , 2\n",
      "\n",
      "     [,1] [,2] [,3]\n",
      "[1,]    7    9   11\n",
      "[2,]    8   10   12\n",
      "\n",
      "\n",
      "[[4]]\n",
      "  id sex\n",
      "1  1   M\n",
      "2  2   F\n",
      "3  3   F\n",
      "4  4   M\n",
      "\n"
     ]
    }
   ],
   "source": [
    "print(lt)"
   ]
  },
  {
   "cell_type": "code",
   "execution_count": 3,
   "id": "37817934",
   "metadata": {},
   "outputs": [
    {
     "data": {
      "text/html": [
       "4"
      ],
      "text/latex": [
       "4"
      ],
      "text/markdown": [
       "4"
      ],
      "text/plain": [
       "[1] 4"
      ]
     },
     "metadata": {},
     "output_type": "display_data"
    },
    {
     "data": {
      "text/html": [
       "<dl>\n",
       "\t<dt>$a</dt>\n",
       "\t\t<dd><ol class=list-inline>\n",
       "\t<li>1</li>\n",
       "\t<li>2</li>\n",
       "\t<li>3</li>\n",
       "\t<li>4</li>\n",
       "\t<li>5</li>\n",
       "\t<li>6</li>\n",
       "\t<li>7</li>\n",
       "\t<li>8</li>\n",
       "\t<li>9</li>\n",
       "\t<li>10</li>\n",
       "</ol>\n",
       "</dd>\n",
       "\t<dt>$b</dt>\n",
       "\t\t<dd><ol class=list-inline>\n",
       "\t<li>45</li>\n",
       "\t<li>46</li>\n",
       "\t<li>47</li>\n",
       "\t<li>48</li>\n",
       "\t<li>49</li>\n",
       "\t<li>50</li>\n",
       "\t<li>51</li>\n",
       "\t<li>52</li>\n",
       "\t<li>53</li>\n",
       "\t<li>54</li>\n",
       "\t<li>55</li>\n",
       "\t<li>56</li>\n",
       "\t<li>57</li>\n",
       "\t<li>58</li>\n",
       "\t<li>59</li>\n",
       "\t<li>60</li>\n",
       "\t<li>61</li>\n",
       "\t<li>62</li>\n",
       "\t<li>63</li>\n",
       "\t<li>64</li>\n",
       "\t<li>65</li>\n",
       "\t<li>66</li>\n",
       "\t<li>67</li>\n",
       "\t<li>68</li>\n",
       "\t<li>69</li>\n",
       "\t<li>70</li>\n",
       "</ol>\n",
       "</dd>\n",
       "\t<dt>$c</dt>\n",
       "\t\t<dd><ol class=list-inline>\n",
       "\t<li>a1</li>\n",
       "\t<li>b1</li>\n",
       "\t<li>c1</li>\n",
       "</ol>\n",
       "\n",
       "<details>\n",
       "\t<summary style=display:list-item;cursor:pointer>\n",
       "\t\t<strong>Levels</strong>:\n",
       "\t</summary>\n",
       "\t<ol class=list-inline>\n",
       "\t\t<li>'a1'</li>\n",
       "\t\t<li>'b1'</li>\n",
       "\t\t<li>'c1'</li>\n",
       "\t</ol>\n",
       "</details></dd>\n",
       "\t<dt>$d</dt>\n",
       "\t\t<dd><ol class=list-inline>\n",
       "\t<li>'bat'</li>\n",
       "\t<li>'cat'</li>\n",
       "\t<li>'bird'</li>\n",
       "\t<li>'dog'</li>\n",
       "</ol>\n",
       "</dd>\n",
       "</dl>\n"
      ],
      "text/latex": [
       "\\begin{description}\n",
       "\\item[\\$a] \\begin{enumerate*}\n",
       "\\item 1\n",
       "\\item 2\n",
       "\\item 3\n",
       "\\item 4\n",
       "\\item 5\n",
       "\\item 6\n",
       "\\item 7\n",
       "\\item 8\n",
       "\\item 9\n",
       "\\item 10\n",
       "\\end{enumerate*}\n",
       "\n",
       "\\item[\\$b] \\begin{enumerate*}\n",
       "\\item 45\n",
       "\\item 46\n",
       "\\item 47\n",
       "\\item 48\n",
       "\\item 49\n",
       "\\item 50\n",
       "\\item 51\n",
       "\\item 52\n",
       "\\item 53\n",
       "\\item 54\n",
       "\\item 55\n",
       "\\item 56\n",
       "\\item 57\n",
       "\\item 58\n",
       "\\item 59\n",
       "\\item 60\n",
       "\\item 61\n",
       "\\item 62\n",
       "\\item 63\n",
       "\\item 64\n",
       "\\item 65\n",
       "\\item 66\n",
       "\\item 67\n",
       "\\item 68\n",
       "\\item 69\n",
       "\\item 70\n",
       "\\end{enumerate*}\n",
       "\n",
       "\\item[\\$c] \\begin{enumerate*}\n",
       "\\item a1\n",
       "\\item b1\n",
       "\\item c1\n",
       "\\end{enumerate*}\n",
       "\n",
       "\\emph{Levels}: \\begin{enumerate*}\n",
       "\\item 'a1'\n",
       "\\item 'b1'\n",
       "\\item 'c1'\n",
       "\\end{enumerate*}\n",
       "\n",
       "\\item[\\$d] \\begin{enumerate*}\n",
       "\\item 'bat'\n",
       "\\item 'cat'\n",
       "\\item 'bird'\n",
       "\\item 'dog'\n",
       "\\end{enumerate*}\n",
       "\n",
       "\\end{description}\n"
      ],
      "text/markdown": [
       "$a\n",
       ":   1. 1\n",
       "2. 2\n",
       "3. 3\n",
       "4. 4\n",
       "5. 5\n",
       "6. 6\n",
       "7. 7\n",
       "8. 8\n",
       "9. 9\n",
       "10. 10\n",
       "\n",
       "\n",
       "\n",
       "$b\n",
       ":   1. 45\n",
       "2. 46\n",
       "3. 47\n",
       "4. 48\n",
       "5. 49\n",
       "6. 50\n",
       "7. 51\n",
       "8. 52\n",
       "9. 53\n",
       "10. 54\n",
       "11. 55\n",
       "12. 56\n",
       "13. 57\n",
       "14. 58\n",
       "15. 59\n",
       "16. 60\n",
       "17. 61\n",
       "18. 62\n",
       "19. 63\n",
       "20. 64\n",
       "21. 65\n",
       "22. 66\n",
       "23. 67\n",
       "24. 68\n",
       "25. 69\n",
       "26. 70\n",
       "\n",
       "\n",
       "\n",
       "$c\n",
       ":   1. a1\n",
       "2. b1\n",
       "3. c1\n",
       "\n",
       "\n",
       "\n",
       "**Levels**: 1. 'a1'\n",
       "2. 'b1'\n",
       "3. 'c1'\n",
       "\n",
       "\n",
       "\n",
       "$d\n",
       ":   1. 'bat'\n",
       "2. 'cat'\n",
       "3. 'bird'\n",
       "4. 'dog'\n",
       "\n",
       "\n",
       "\n",
       "\n",
       "\n"
      ],
      "text/plain": [
       "$a\n",
       " [1]  1  2  3  4  5  6  7  8  9 10\n",
       "\n",
       "$b\n",
       " [1] 45 46 47 48 49 50 51 52 53 54 55 56 57 58 59 60 61 62 63 64 65 66 67 68 69\n",
       "[26] 70\n",
       "\n",
       "$c\n",
       "[1] a1 b1 c1\n",
       "Levels: a1 b1 c1\n",
       "\n",
       "$d\n",
       "[1] \"bat\"  \"cat\"  \"bird\" \"dog\" \n"
      ]
     },
     "metadata": {},
     "output_type": "display_data"
    },
    {
     "data": {
      "text/html": [
       "<ol class=list-inline>\n",
       "\t<li>'bat'</li>\n",
       "\t<li>'cat'</li>\n",
       "\t<li>'bird'</li>\n",
       "\t<li>'dog'</li>\n",
       "</ol>\n"
      ],
      "text/latex": [
       "\\begin{enumerate*}\n",
       "\\item 'bat'\n",
       "\\item 'cat'\n",
       "\\item 'bird'\n",
       "\\item 'dog'\n",
       "\\end{enumerate*}\n"
      ],
      "text/markdown": [
       "1. 'bat'\n",
       "2. 'cat'\n",
       "3. 'bird'\n",
       "4. 'dog'\n",
       "\n",
       "\n"
      ],
      "text/plain": [
       "[1] \"bat\"  \"cat\"  \"bird\" \"dog\" "
      ]
     },
     "metadata": {},
     "output_type": "display_data"
    }
   ],
   "source": [
    "list.ex = list()\n",
    "list.ex$a = c(1:10)\n",
    "list.ex$b = c(45:70)\n",
    "list.ex$c = factor(c(\"a1\", \"b1\", \"c1\"))\n",
    "list.ex$d = as.character(c(\"bat\", \"cat\", \"bird\", \"dog\"))\n",
    "length(list.ex)\n",
    "list.ex\n",
    "# you can pull out one element of the list using $\n",
    "list.ex$d"
   ]
  },
  {
   "cell_type": "markdown",
   "id": "046d798d",
   "metadata": {},
   "source": [
    "[Back to the top](#Table_of_Contents)"
   ]
  },
  {
   "cell_type": "markdown",
   "id": "e722e5de",
   "metadata": {},
   "source": [
    "<h3>Manipulate_the_data</h3>"
   ]
  },
  {
   "cell_type": "markdown",
   "id": "f4daa3dd",
   "metadata": {},
   "source": [
    "Two libraries, tidyr and dplyr libraries provide really great functions for manipulating data frames. A couple of quick examples are in the following. Typically I use it to convert between wide and long data formats."
   ]
  },
  {
   "cell_type": "code",
   "execution_count": 9,
   "id": "ed129644",
   "metadata": {},
   "outputs": [
    {
     "name": "stderr",
     "output_type": "stream",
     "text": [
      "also installing the dependencies 'ellipsis', 'glue', 'lifecycle', 'rlang', 'tibble', 'tidyselect', 'vctrs', 'pillar'\n",
      "\n"
     ]
    },
    {
     "name": "stdout",
     "output_type": "stream",
     "text": [
      "\n",
      "  There are binary versions available but the source versions are later:\n",
      "       binary source needs_compilation\n",
      "tibble  3.1.1  3.1.2              TRUE\n",
      "pillar  1.6.0  1.6.1             FALSE\n",
      "\n",
      "  Binaries will be installed\n"
     ]
    },
    {
     "name": "stderr",
     "output_type": "stream",
     "text": [
      "Warning message:\n",
      "\"package 'dplyr' is in use and will not be installed\""
     ]
    },
    {
     "name": "stdout",
     "output_type": "stream",
     "text": [
      "package 'ellipsis' successfully unpacked and MD5 sums checked\n",
      "package 'glue' successfully unpacked and MD5 sums checked\n"
     ]
    },
    {
     "name": "stderr",
     "output_type": "stream",
     "text": [
      "Warning message:\n",
      "\"cannot remove prior installation of package 'glue'\"Warning message in file.copy(savedcopy, lib, recursive = TRUE):\n",
      "\"problem copying C:\\Users\\kimji\\.conda\\envs\\slap\\Lib\\R\\library\\00LOCK\\glue\\libs\\x64\\glue.dll to C:\\Users\\kimji\\.conda\\envs\\slap\\Lib\\R\\library\\glue\\libs\\x64\\glue.dll: Permission denied\"Warning message:\n",
      "\"restored 'glue'\""
     ]
    },
    {
     "name": "stdout",
     "output_type": "stream",
     "text": [
      "package 'lifecycle' successfully unpacked and MD5 sums checked\n",
      "package 'rlang' successfully unpacked and MD5 sums checked\n"
     ]
    },
    {
     "name": "stderr",
     "output_type": "stream",
     "text": [
      "Warning message:\n",
      "\"cannot remove prior installation of package 'rlang'\"Warning message in file.copy(savedcopy, lib, recursive = TRUE):\n",
      "\"problem copying C:\\Users\\kimji\\.conda\\envs\\slap\\Lib\\R\\library\\00LOCK\\rlang\\libs\\x64\\rlang.dll to C:\\Users\\kimji\\.conda\\envs\\slap\\Lib\\R\\library\\rlang\\libs\\x64\\rlang.dll: Permission denied\"Warning message:\n",
      "\"restored 'rlang'\""
     ]
    },
    {
     "name": "stdout",
     "output_type": "stream",
     "text": [
      "package 'tibble' successfully unpacked and MD5 sums checked\n"
     ]
    },
    {
     "name": "stderr",
     "output_type": "stream",
     "text": [
      "Warning message:\n",
      "\"cannot remove prior installation of package 'tibble'\"Warning message in file.copy(savedcopy, lib, recursive = TRUE):\n",
      "\"problem copying C:\\Users\\kimji\\.conda\\envs\\slap\\Lib\\R\\library\\00LOCK\\tibble\\libs\\x64\\tibble.dll to C:\\Users\\kimji\\.conda\\envs\\slap\\Lib\\R\\library\\tibble\\libs\\x64\\tibble.dll: Permission denied\"Warning message:\n",
      "\"restored 'tibble'\""
     ]
    },
    {
     "name": "stdout",
     "output_type": "stream",
     "text": [
      "package 'tidyselect' successfully unpacked and MD5 sums checked\n"
     ]
    },
    {
     "name": "stderr",
     "output_type": "stream",
     "text": [
      "Warning message:\n",
      "\"cannot remove prior installation of package 'tidyselect'\"Warning message in file.copy(savedcopy, lib, recursive = TRUE):\n",
      "\"problem copying C:\\Users\\kimji\\.conda\\envs\\slap\\Lib\\R\\library\\00LOCK\\tidyselect\\libs\\x64\\tidyselect.dll to C:\\Users\\kimji\\.conda\\envs\\slap\\Lib\\R\\library\\tidyselect\\libs\\x64\\tidyselect.dll: Permission denied\"Warning message:\n",
      "\"restored 'tidyselect'\""
     ]
    },
    {
     "name": "stdout",
     "output_type": "stream",
     "text": [
      "package 'vctrs' successfully unpacked and MD5 sums checked\n",
      "\n",
      "The downloaded binary packages are in\n",
      "\tC:\\Users\\kimji\\AppData\\Local\\Temp\\RtmpQDn5MV\\downloaded_packages\n"
     ]
    },
    {
     "name": "stderr",
     "output_type": "stream",
     "text": [
      "installing the source package 'pillar'\n",
      "\n",
      "Warning message in install.packages(\"dplyr\"):\n",
      "\"installation of package 'pillar' had non-zero exit status\"also installing the dependencies 'glue', 'rlang', 'tibble', 'pillar', 'dplyr', 'tidyselect', 'cpp11'\n",
      "\n"
     ]
    },
    {
     "name": "stdout",
     "output_type": "stream",
     "text": [
      "\n",
      "  There are binary versions available but the source versions are later:\n",
      "       binary source needs_compilation\n",
      "tibble  3.1.1  3.1.2              TRUE\n",
      "pillar  1.6.0  1.6.1             FALSE\n",
      "\n",
      "  Binaries will be installed\n"
     ]
    },
    {
     "name": "stderr",
     "output_type": "stream",
     "text": [
      "Warning message:\n",
      "\"packages 'dplyr', 'tidyr' are in use and will not be installed\""
     ]
    },
    {
     "name": "stdout",
     "output_type": "stream",
     "text": [
      "package 'glue' successfully unpacked and MD5 sums checked\n"
     ]
    },
    {
     "name": "stderr",
     "output_type": "stream",
     "text": [
      "Warning message:\n",
      "\"cannot remove prior installation of package 'glue'\"Warning message in file.copy(savedcopy, lib, recursive = TRUE):\n",
      "\"problem copying C:\\Users\\kimji\\.conda\\envs\\slap\\Lib\\R\\library\\00LOCK\\glue\\libs\\x64\\glue.dll to C:\\Users\\kimji\\.conda\\envs\\slap\\Lib\\R\\library\\glue\\libs\\x64\\glue.dll: Permission denied\"Warning message:\n",
      "\"restored 'glue'\""
     ]
    },
    {
     "name": "stdout",
     "output_type": "stream",
     "text": [
      "package 'rlang' successfully unpacked and MD5 sums checked\n"
     ]
    },
    {
     "name": "stderr",
     "output_type": "stream",
     "text": [
      "Warning message:\n",
      "\"cannot remove prior installation of package 'rlang'\"Warning message in file.copy(savedcopy, lib, recursive = TRUE):\n",
      "\"problem copying C:\\Users\\kimji\\.conda\\envs\\slap\\Lib\\R\\library\\00LOCK\\rlang\\libs\\x64\\rlang.dll to C:\\Users\\kimji\\.conda\\envs\\slap\\Lib\\R\\library\\rlang\\libs\\x64\\rlang.dll: Permission denied\"Warning message:\n",
      "\"restored 'rlang'\""
     ]
    },
    {
     "name": "stdout",
     "output_type": "stream",
     "text": [
      "package 'tibble' successfully unpacked and MD5 sums checked\n"
     ]
    },
    {
     "name": "stderr",
     "output_type": "stream",
     "text": [
      "Warning message:\n",
      "\"cannot remove prior installation of package 'tibble'\"Warning message in file.copy(savedcopy, lib, recursive = TRUE):\n",
      "\"problem copying C:\\Users\\kimji\\.conda\\envs\\slap\\Lib\\R\\library\\00LOCK\\tibble\\libs\\x64\\tibble.dll to C:\\Users\\kimji\\.conda\\envs\\slap\\Lib\\R\\library\\tibble\\libs\\x64\\tibble.dll: Permission denied\"Warning message:\n",
      "\"restored 'tibble'\""
     ]
    },
    {
     "name": "stdout",
     "output_type": "stream",
     "text": [
      "package 'tidyselect' successfully unpacked and MD5 sums checked\n"
     ]
    },
    {
     "name": "stderr",
     "output_type": "stream",
     "text": [
      "Warning message:\n",
      "\"cannot remove prior installation of package 'tidyselect'\"Warning message in file.copy(savedcopy, lib, recursive = TRUE):\n",
      "\"problem copying C:\\Users\\kimji\\.conda\\envs\\slap\\Lib\\R\\library\\00LOCK\\tidyselect\\libs\\x64\\tidyselect.dll to C:\\Users\\kimji\\.conda\\envs\\slap\\Lib\\R\\library\\tidyselect\\libs\\x64\\tidyselect.dll: Permission denied\"Warning message:\n",
      "\"restored 'tidyselect'\""
     ]
    },
    {
     "name": "stdout",
     "output_type": "stream",
     "text": [
      "package 'cpp11' successfully unpacked and MD5 sums checked\n",
      "\n",
      "The downloaded binary packages are in\n",
      "\tC:\\Users\\kimji\\AppData\\Local\\Temp\\RtmpQDn5MV\\downloaded_packages\n"
     ]
    },
    {
     "name": "stderr",
     "output_type": "stream",
     "text": [
      "installing the source package 'pillar'\n",
      "\n",
      "Warning message in install.packages(\"tidyr\"):\n",
      "\"installation of package 'pillar' had non-zero exit status\""
     ]
    },
    {
     "name": "stdout",
     "output_type": "stream",
     "text": [
      "package 'Lahman' successfully unpacked and MD5 sums checked\n",
      "\n",
      "The downloaded binary packages are in\n",
      "\tC:\\Users\\kimji\\AppData\\Local\\Temp\\RtmpQDn5MV\\downloaded_packages\n"
     ]
    },
    {
     "name": "stderr",
     "output_type": "stream",
     "text": [
      "Warning message:\n",
      "\"package 'Lahman' was built under R version 3.6.3\""
     ]
    }
   ],
   "source": [
    "# install.packages(\"dplyr\")\n",
    "# install.packages(\"tidyr\")\n",
    "# install.packages(\"Lahman\")\n",
    "library(dplyr)\n",
    "library(tidyr)\n",
    "library(Lahman)  #I'm using a data set from this library"
   ]
  },
  {
   "cell_type": "code",
   "execution_count": 10,
   "id": "91d5a551",
   "metadata": {},
   "outputs": [
    {
     "data": {
      "text/html": [
       "<ol class=list-inline>\n",
       "\t<li>108789</li>\n",
       "\t<li>22</li>\n",
       "</ol>\n"
      ],
      "text/latex": [
       "\\begin{enumerate*}\n",
       "\\item 108789\n",
       "\\item 22\n",
       "\\end{enumerate*}\n"
      ],
      "text/markdown": [
       "1. 108789\n",
       "2. 22\n",
       "\n",
       "\n"
      ],
      "text/plain": [
       "[1] 108789     22"
      ]
     },
     "metadata": {},
     "output_type": "display_data"
    },
    {
     "data": {
      "text/html": [
       "<ol class=list-inline>\n",
       "\t<li>'playerID'</li>\n",
       "\t<li>'yearID'</li>\n",
       "\t<li>'stint'</li>\n",
       "\t<li>'teamID'</li>\n",
       "\t<li>'lgID'</li>\n",
       "\t<li>'G'</li>\n",
       "\t<li>'AB'</li>\n",
       "\t<li>'R'</li>\n",
       "\t<li>'H'</li>\n",
       "\t<li>'X2B'</li>\n",
       "\t<li>'X3B'</li>\n",
       "\t<li>'HR'</li>\n",
       "\t<li>'RBI'</li>\n",
       "\t<li>'SB'</li>\n",
       "\t<li>'CS'</li>\n",
       "\t<li>'BB'</li>\n",
       "\t<li>'SO'</li>\n",
       "\t<li>'IBB'</li>\n",
       "\t<li>'HBP'</li>\n",
       "\t<li>'SH'</li>\n",
       "\t<li>'SF'</li>\n",
       "\t<li>'GIDP'</li>\n",
       "</ol>\n"
      ],
      "text/latex": [
       "\\begin{enumerate*}\n",
       "\\item 'playerID'\n",
       "\\item 'yearID'\n",
       "\\item 'stint'\n",
       "\\item 'teamID'\n",
       "\\item 'lgID'\n",
       "\\item 'G'\n",
       "\\item 'AB'\n",
       "\\item 'R'\n",
       "\\item 'H'\n",
       "\\item 'X2B'\n",
       "\\item 'X3B'\n",
       "\\item 'HR'\n",
       "\\item 'RBI'\n",
       "\\item 'SB'\n",
       "\\item 'CS'\n",
       "\\item 'BB'\n",
       "\\item 'SO'\n",
       "\\item 'IBB'\n",
       "\\item 'HBP'\n",
       "\\item 'SH'\n",
       "\\item 'SF'\n",
       "\\item 'GIDP'\n",
       "\\end{enumerate*}\n"
      ],
      "text/markdown": [
       "1. 'playerID'\n",
       "2. 'yearID'\n",
       "3. 'stint'\n",
       "4. 'teamID'\n",
       "5. 'lgID'\n",
       "6. 'G'\n",
       "7. 'AB'\n",
       "8. 'R'\n",
       "9. 'H'\n",
       "10. 'X2B'\n",
       "11. 'X3B'\n",
       "12. 'HR'\n",
       "13. 'RBI'\n",
       "14. 'SB'\n",
       "15. 'CS'\n",
       "16. 'BB'\n",
       "17. 'SO'\n",
       "18. 'IBB'\n",
       "19. 'HBP'\n",
       "20. 'SH'\n",
       "21. 'SF'\n",
       "22. 'GIDP'\n",
       "\n",
       "\n"
      ],
      "text/plain": [
       " [1] \"playerID\" \"yearID\"   \"stint\"    \"teamID\"   \"lgID\"     \"G\"       \n",
       " [7] \"AB\"       \"R\"        \"H\"        \"X2B\"      \"X3B\"      \"HR\"      \n",
       "[13] \"RBI\"      \"SB\"       \"CS\"       \"BB\"       \"SO\"       \"IBB\"     \n",
       "[19] \"HBP\"      \"SH\"       \"SF\"       \"GIDP\"    "
      ]
     },
     "metadata": {},
     "output_type": "display_data"
    },
    {
     "data": {
      "text/html": [
       "<ol class=list-inline>\n",
       "\t<li>108789</li>\n",
       "\t<li>22</li>\n",
       "</ol>\n"
      ],
      "text/latex": [
       "\\begin{enumerate*}\n",
       "\\item 108789\n",
       "\\item 22\n",
       "\\end{enumerate*}\n"
      ],
      "text/markdown": [
       "1. 108789\n",
       "2. 22\n",
       "\n",
       "\n"
      ],
      "text/plain": [
       "[1] 108789     22"
      ]
     },
     "metadata": {},
     "output_type": "display_data"
    },
    {
     "data": {
      "text/html": [
       "<ol class=list-inline>\n",
       "\t<li>108789</li>\n",
       "\t<li>22</li>\n",
       "</ol>\n"
      ],
      "text/latex": [
       "\\begin{enumerate*}\n",
       "\\item 108789\n",
       "\\item 22\n",
       "\\end{enumerate*}\n"
      ],
      "text/markdown": [
       "1. 108789\n",
       "2. 22\n",
       "\n",
       "\n"
      ],
      "text/plain": [
       "[1] 108789     22"
      ]
     },
     "metadata": {},
     "output_type": "display_data"
    },
    {
     "data": {
      "text/html": [
       "<table>\n",
       "<thead><tr><th scope=col>playerID</th><th scope=col>yearID</th><th scope=col>stint</th><th scope=col>teamID</th><th scope=col>lgID</th><th scope=col>G</th><th scope=col>AB</th><th scope=col>R</th><th scope=col>H</th><th scope=col>X2B</th><th scope=col>...</th><th scope=col>RBI</th><th scope=col>SB</th><th scope=col>CS</th><th scope=col>BB</th><th scope=col>SO</th><th scope=col>IBB</th><th scope=col>HBP</th><th scope=col>SH</th><th scope=col>SF</th><th scope=col>GIDP</th></tr></thead>\n",
       "<tbody>\n",
       "\t<tr><td>abercda01</td><td>1871     </td><td>1        </td><td>TRO      </td><td>NA       </td><td> 1       </td><td>  4      </td><td> 0       </td><td> 0       </td><td> 0       </td><td>...      </td><td> 0       </td><td>0        </td><td>0        </td><td>0        </td><td>0        </td><td>NA       </td><td>NA       </td><td>NA       </td><td>NA       </td><td>0        </td></tr>\n",
       "\t<tr><td>addybo01 </td><td>1871     </td><td>1        </td><td>RC1      </td><td>NA       </td><td>25       </td><td>118      </td><td>30       </td><td>32       </td><td> 6       </td><td>...      </td><td>13       </td><td>8        </td><td>1        </td><td>4        </td><td>0        </td><td>NA       </td><td>NA       </td><td>NA       </td><td>NA       </td><td>0        </td></tr>\n",
       "\t<tr><td>allisar01</td><td>1871     </td><td>1        </td><td>CL1      </td><td>NA       </td><td>29       </td><td>137      </td><td>28       </td><td>40       </td><td> 4       </td><td>...      </td><td>19       </td><td>3        </td><td>1        </td><td>2        </td><td>5        </td><td>NA       </td><td>NA       </td><td>NA       </td><td>NA       </td><td>1        </td></tr>\n",
       "\t<tr><td>allisdo01</td><td>1871     </td><td>1        </td><td>WS3      </td><td>NA       </td><td>27       </td><td>133      </td><td>28       </td><td>44       </td><td>10       </td><td>...      </td><td>27       </td><td>1        </td><td>1        </td><td>0        </td><td>2        </td><td>NA       </td><td>NA       </td><td>NA       </td><td>NA       </td><td>0        </td></tr>\n",
       "\t<tr><td>ansonca01</td><td>1871     </td><td>1        </td><td>RC1      </td><td>NA       </td><td>25       </td><td>120      </td><td>29       </td><td>39       </td><td>11       </td><td>...      </td><td>16       </td><td>6        </td><td>2        </td><td>2        </td><td>1        </td><td>NA       </td><td>NA       </td><td>NA       </td><td>NA       </td><td>0        </td></tr>\n",
       "\t<tr><td>armstbo01</td><td>1871     </td><td>1        </td><td>FW1      </td><td>NA       </td><td>12       </td><td> 49      </td><td> 9       </td><td>11       </td><td> 2       </td><td>...      </td><td> 5       </td><td>0        </td><td>1        </td><td>0        </td><td>1        </td><td>NA       </td><td>NA       </td><td>NA       </td><td>NA       </td><td>0        </td></tr>\n",
       "</tbody>\n",
       "</table>\n"
      ],
      "text/latex": [
       "\\begin{tabular}{r|llllllllllllllllllllll}\n",
       " playerID & yearID & stint & teamID & lgID & G & AB & R & H & X2B & ... & RBI & SB & CS & BB & SO & IBB & HBP & SH & SF & GIDP\\\\\n",
       "\\hline\n",
       "\t abercda01 & 1871      & 1         & TRO       & NA        &  1        &   4       &  0        &  0        &  0        & ...       &  0        & 0         & 0         & 0         & 0         & NA        & NA        & NA        & NA        & 0        \\\\\n",
       "\t addybo01  & 1871      & 1         & RC1       & NA        & 25        & 118       & 30        & 32        &  6        & ...       & 13        & 8         & 1         & 4         & 0         & NA        & NA        & NA        & NA        & 0        \\\\\n",
       "\t allisar01 & 1871      & 1         & CL1       & NA        & 29        & 137       & 28        & 40        &  4        & ...       & 19        & 3         & 1         & 2         & 5         & NA        & NA        & NA        & NA        & 1        \\\\\n",
       "\t allisdo01 & 1871      & 1         & WS3       & NA        & 27        & 133       & 28        & 44        & 10        & ...       & 27        & 1         & 1         & 0         & 2         & NA        & NA        & NA        & NA        & 0        \\\\\n",
       "\t ansonca01 & 1871      & 1         & RC1       & NA        & 25        & 120       & 29        & 39        & 11        & ...       & 16        & 6         & 2         & 2         & 1         & NA        & NA        & NA        & NA        & 0        \\\\\n",
       "\t armstbo01 & 1871      & 1         & FW1       & NA        & 12        &  49       &  9        & 11        &  2        & ...       &  5        & 0         & 1         & 0         & 1         & NA        & NA        & NA        & NA        & 0        \\\\\n",
       "\\end{tabular}\n"
      ],
      "text/markdown": [
       "\n",
       "| playerID | yearID | stint | teamID | lgID | G | AB | R | H | X2B | ... | RBI | SB | CS | BB | SO | IBB | HBP | SH | SF | GIDP |\n",
       "|---|---|---|---|---|---|---|---|---|---|---|---|---|---|---|---|---|---|---|---|---|\n",
       "| abercda01 | 1871      | 1         | TRO       | NA        |  1        |   4       |  0        |  0        |  0        | ...       |  0        | 0         | 0         | 0         | 0         | NA        | NA        | NA        | NA        | 0         |\n",
       "| addybo01  | 1871      | 1         | RC1       | NA        | 25        | 118       | 30        | 32        |  6        | ...       | 13        | 8         | 1         | 4         | 0         | NA        | NA        | NA        | NA        | 0         |\n",
       "| allisar01 | 1871      | 1         | CL1       | NA        | 29        | 137       | 28        | 40        |  4        | ...       | 19        | 3         | 1         | 2         | 5         | NA        | NA        | NA        | NA        | 1         |\n",
       "| allisdo01 | 1871      | 1         | WS3       | NA        | 27        | 133       | 28        | 44        | 10        | ...       | 27        | 1         | 1         | 0         | 2         | NA        | NA        | NA        | NA        | 0         |\n",
       "| ansonca01 | 1871      | 1         | RC1       | NA        | 25        | 120       | 29        | 39        | 11        | ...       | 16        | 6         | 2         | 2         | 1         | NA        | NA        | NA        | NA        | 0         |\n",
       "| armstbo01 | 1871      | 1         | FW1       | NA        | 12        |  49       |  9        | 11        |  2        | ...       |  5        | 0         | 1         | 0         | 1         | NA        | NA        | NA        | NA        | 0         |\n",
       "\n"
      ],
      "text/plain": [
       "  playerID  yearID stint teamID lgID G  AB  R  H  X2B ... RBI SB CS BB SO IBB\n",
       "1 abercda01 1871   1     TRO    NA    1   4  0  0  0  ...  0  0  0  0  0  NA \n",
       "2 addybo01  1871   1     RC1    NA   25 118 30 32  6  ... 13  8  1  4  0  NA \n",
       "3 allisar01 1871   1     CL1    NA   29 137 28 40  4  ... 19  3  1  2  5  NA \n",
       "4 allisdo01 1871   1     WS3    NA   27 133 28 44 10  ... 27  1  1  0  2  NA \n",
       "5 ansonca01 1871   1     RC1    NA   25 120 29 39 11  ... 16  6  2  2  1  NA \n",
       "6 armstbo01 1871   1     FW1    NA   12  49  9 11  2  ...  5  0  1  0  1  NA \n",
       "  HBP SH SF GIDP\n",
       "1 NA  NA NA 0   \n",
       "2 NA  NA NA 0   \n",
       "3 NA  NA NA 1   \n",
       "4 NA  NA NA 0   \n",
       "5 NA  NA NA 0   \n",
       "6 NA  NA NA 0   "
      ]
     },
     "metadata": {},
     "output_type": "display_data"
    },
    {
     "data": {
      "text/html": [
       "<table>\n",
       "<thead><tr><th scope=col>playerID</th><th scope=col>yearID</th><th scope=col>stint</th><th scope=col>teamID</th><th scope=col>lgID</th><th scope=col>G</th><th scope=col>AB</th><th scope=col>R</th><th scope=col>H</th><th scope=col>X2B</th><th scope=col>...</th><th scope=col>RBI</th><th scope=col>SB</th><th scope=col>CS</th><th scope=col>BB</th><th scope=col>SO</th><th scope=col>IBB</th><th scope=col>HBP</th><th scope=col>SH</th><th scope=col>SF</th><th scope=col>GIDP</th></tr></thead>\n",
       "<tbody>\n",
       "\t<tr><td>abercda01</td><td>1871     </td><td>1        </td><td>TRO      </td><td>NA       </td><td> 1       </td><td>  4      </td><td> 0       </td><td> 0       </td><td> 0       </td><td>...      </td><td> 0       </td><td>0        </td><td>0        </td><td>0        </td><td>0        </td><td>NA       </td><td>NA       </td><td>NA       </td><td>NA       </td><td>0        </td></tr>\n",
       "\t<tr><td>addybo01 </td><td>1871     </td><td>1        </td><td>RC1      </td><td>NA       </td><td>25       </td><td>118      </td><td>30       </td><td>32       </td><td> 6       </td><td>...      </td><td>13       </td><td>8        </td><td>1        </td><td>4        </td><td>0        </td><td>NA       </td><td>NA       </td><td>NA       </td><td>NA       </td><td>0        </td></tr>\n",
       "\t<tr><td>allisar01</td><td>1871     </td><td>1        </td><td>CL1      </td><td>NA       </td><td>29       </td><td>137      </td><td>28       </td><td>40       </td><td> 4       </td><td>...      </td><td>19       </td><td>3        </td><td>1        </td><td>2        </td><td>5        </td><td>NA       </td><td>NA       </td><td>NA       </td><td>NA       </td><td>1        </td></tr>\n",
       "\t<tr><td>allisdo01</td><td>1871     </td><td>1        </td><td>WS3      </td><td>NA       </td><td>27       </td><td>133      </td><td>28       </td><td>44       </td><td>10       </td><td>...      </td><td>27       </td><td>1        </td><td>1        </td><td>0        </td><td>2        </td><td>NA       </td><td>NA       </td><td>NA       </td><td>NA       </td><td>0        </td></tr>\n",
       "\t<tr><td>ansonca01</td><td>1871     </td><td>1        </td><td>RC1      </td><td>NA       </td><td>25       </td><td>120      </td><td>29       </td><td>39       </td><td>11       </td><td>...      </td><td>16       </td><td>6        </td><td>2        </td><td>2        </td><td>1        </td><td>NA       </td><td>NA       </td><td>NA       </td><td>NA       </td><td>0        </td></tr>\n",
       "\t<tr><td>armstbo01</td><td>1871     </td><td>1        </td><td>FW1      </td><td>NA       </td><td>12       </td><td> 49      </td><td> 9       </td><td>11       </td><td> 2       </td><td>...      </td><td> 5       </td><td>0        </td><td>1        </td><td>0        </td><td>1        </td><td>NA       </td><td>NA       </td><td>NA       </td><td>NA       </td><td>0        </td></tr>\n",
       "</tbody>\n",
       "</table>\n"
      ],
      "text/latex": [
       "\\begin{tabular}{r|llllllllllllllllllllll}\n",
       " playerID & yearID & stint & teamID & lgID & G & AB & R & H & X2B & ... & RBI & SB & CS & BB & SO & IBB & HBP & SH & SF & GIDP\\\\\n",
       "\\hline\n",
       "\t abercda01 & 1871      & 1         & TRO       & NA        &  1        &   4       &  0        &  0        &  0        & ...       &  0        & 0         & 0         & 0         & 0         & NA        & NA        & NA        & NA        & 0        \\\\\n",
       "\t addybo01  & 1871      & 1         & RC1       & NA        & 25        & 118       & 30        & 32        &  6        & ...       & 13        & 8         & 1         & 4         & 0         & NA        & NA        & NA        & NA        & 0        \\\\\n",
       "\t allisar01 & 1871      & 1         & CL1       & NA        & 29        & 137       & 28        & 40        &  4        & ...       & 19        & 3         & 1         & 2         & 5         & NA        & NA        & NA        & NA        & 1        \\\\\n",
       "\t allisdo01 & 1871      & 1         & WS3       & NA        & 27        & 133       & 28        & 44        & 10        & ...       & 27        & 1         & 1         & 0         & 2         & NA        & NA        & NA        & NA        & 0        \\\\\n",
       "\t ansonca01 & 1871      & 1         & RC1       & NA        & 25        & 120       & 29        & 39        & 11        & ...       & 16        & 6         & 2         & 2         & 1         & NA        & NA        & NA        & NA        & 0        \\\\\n",
       "\t armstbo01 & 1871      & 1         & FW1       & NA        & 12        &  49       &  9        & 11        &  2        & ...       &  5        & 0         & 1         & 0         & 1         & NA        & NA        & NA        & NA        & 0        \\\\\n",
       "\\end{tabular}\n"
      ],
      "text/markdown": [
       "\n",
       "| playerID | yearID | stint | teamID | lgID | G | AB | R | H | X2B | ... | RBI | SB | CS | BB | SO | IBB | HBP | SH | SF | GIDP |\n",
       "|---|---|---|---|---|---|---|---|---|---|---|---|---|---|---|---|---|---|---|---|---|\n",
       "| abercda01 | 1871      | 1         | TRO       | NA        |  1        |   4       |  0        |  0        |  0        | ...       |  0        | 0         | 0         | 0         | 0         | NA        | NA        | NA        | NA        | 0         |\n",
       "| addybo01  | 1871      | 1         | RC1       | NA        | 25        | 118       | 30        | 32        |  6        | ...       | 13        | 8         | 1         | 4         | 0         | NA        | NA        | NA        | NA        | 0         |\n",
       "| allisar01 | 1871      | 1         | CL1       | NA        | 29        | 137       | 28        | 40        |  4        | ...       | 19        | 3         | 1         | 2         | 5         | NA        | NA        | NA        | NA        | 1         |\n",
       "| allisdo01 | 1871      | 1         | WS3       | NA        | 27        | 133       | 28        | 44        | 10        | ...       | 27        | 1         | 1         | 0         | 2         | NA        | NA        | NA        | NA        | 0         |\n",
       "| ansonca01 | 1871      | 1         | RC1       | NA        | 25        | 120       | 29        | 39        | 11        | ...       | 16        | 6         | 2         | 2         | 1         | NA        | NA        | NA        | NA        | 0         |\n",
       "| armstbo01 | 1871      | 1         | FW1       | NA        | 12        |  49       |  9        | 11        |  2        | ...       |  5        | 0         | 1         | 0         | 1         | NA        | NA        | NA        | NA        | 0         |\n",
       "\n"
      ],
      "text/plain": [
       "  playerID  yearID stint teamID lgID G  AB  R  H  X2B ... RBI SB CS BB SO IBB\n",
       "1 abercda01 1871   1     TRO    NA    1   4  0  0  0  ...  0  0  0  0  0  NA \n",
       "2 addybo01  1871   1     RC1    NA   25 118 30 32  6  ... 13  8  1  4  0  NA \n",
       "3 allisar01 1871   1     CL1    NA   29 137 28 40  4  ... 19  3  1  2  5  NA \n",
       "4 allisdo01 1871   1     WS3    NA   27 133 28 44 10  ... 27  1  1  0  2  NA \n",
       "5 ansonca01 1871   1     RC1    NA   25 120 29 39 11  ... 16  6  2  2  1  NA \n",
       "6 armstbo01 1871   1     FW1    NA   12  49  9 11  2  ...  5  0  1  0  1  NA \n",
       "  HBP SH SF GIDP\n",
       "1 NA  NA NA 0   \n",
       "2 NA  NA NA 0   \n",
       "3 NA  NA NA 1   \n",
       "4 NA  NA NA 0   \n",
       "5 NA  NA NA 0   \n",
       "6 NA  NA NA 0   "
      ]
     },
     "metadata": {},
     "output_type": "display_data"
    }
   ],
   "source": [
    "# Use this Batting data (this is in the Lahman library)\n",
    "dim(Batting)\n",
    "names(Batting)\n",
    "\n",
    "players = group_by(Batting, playerID)\n",
    "#players looks the same, but has more info, as the grouping has been defined\n",
    "dim(players)\n",
    "dim(Batting)\n",
    "head(players)\n",
    "head(Batting)\n",
    "# Now I can create easy summaries, over players...\n",
    "games = summarise(players, total = sum(G))\n",
    "\n",
    "# dplyr adds the %>% function, which serves as a \"pipe\", piping the output from one\n",
    "#  command into the input of the next.  Really cleans up code.  This does what the above code did\n",
    "games.using.dplyr = Batting %>%\n",
    "  group_by(playerID) %>%\n",
    "  summarise(total = sum(G))"
   ]
  },
  {
   "cell_type": "markdown",
   "id": "9be5529c",
   "metadata": {},
   "source": [
    "[Back to the top](#Table_of_Contents)"
   ]
  },
  {
   "cell_type": "markdown",
   "id": "6b77abee",
   "metadata": {},
   "source": [
    "<h2>References</h2>"
   ]
  },
  {
   "cell_type": "markdown",
   "id": "e757ba6c",
   "metadata": {},
   "source": [
    "Intoduction of the data structure in R, please refer to the link below: <br>\n",
    "[Ch02_01.R 데이터 처리(데이터구조)01](https://youtu.be/DJZGU6DieNs) <br>\n",
    "[Ch02_02.R 데이터 처리(벡터)02](https://youtu.be/PsizlmG1ZQ0) <br>\n",
    "[Ch02_03.R 데이터 처리(행렬과 벡터)03](https://youtu.be/OuT9jIr2Or4) <br>\n",
    "[Ch02_04.R 데이터 처리(데이터프레임과 리스트)04](https://youtu.be/bvvKJpTlP-s) <br>\n",
    "[R 데이터 구조 (Data Structure in R) : scala, vector, factor, matrix, array, dataframe, list](https://rfriend.tistory.com/14?category=601862)\n",
    "[Matrices, lists, arrays and data frames](https://jeanettemumford.org/R-tutorial/01-getting-started/)"
   ]
  },
  {
   "cell_type": "code",
   "execution_count": null,
   "id": "cefb7690",
   "metadata": {},
   "outputs": [],
   "source": []
  }
 ],
 "metadata": {
  "kernelspec": {
   "display_name": "R",
   "language": "R",
   "name": "ir"
  },
  "language_info": {
   "codemirror_mode": "r",
   "file_extension": ".r",
   "mimetype": "text/x-r-source",
   "name": "R",
   "pygments_lexer": "r",
   "version": "3.6.1"
  },
  "toc-autonumbering": false
 },
 "nbformat": 4,
 "nbformat_minor": 5
}
