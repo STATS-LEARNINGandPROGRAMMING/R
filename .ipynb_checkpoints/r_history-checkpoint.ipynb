{
 "cells": [
  {
   "cell_type": "markdown",
   "id": "268dafb6",
   "metadata": {},
   "source": [
    "<h2>Table_of_contents</h2>"
   ]
  },
  {
   "cell_type": "markdown",
   "id": "cfae38d2",
   "metadata": {},
   "source": [
    "- [History](#History)\n",
    "    - [What is R?](#What_is_R?)\n",
    "    - [Who created R?](#Who_created_R?)\n",
    "    - [Why should you learn R?](#Why_should_you_learn_R?)\n",
    "- [Reference](#Reference)"
   ]
  },
  {
   "cell_type": "markdown",
   "id": "056ec844",
   "metadata": {},
   "source": [
    "<h2>History</h2>"
   ]
  },
  {
   "cell_type": "markdown",
   "id": "033e9b41",
   "metadata": {},
   "source": [
    "<h3>Who_created_R?</h3>"
   ]
  },
  {
   "cell_type": "markdown",
   "id": "035eddc4",
   "metadata": {},
   "source": [
    "In 1976, S was created by [John Chambers](https://en.wikipedia.org/wiki/John_Chambers_(statistician)) while at Bell Labs. A commercial software is offered as S-PLUS. In 1991, <b>R</b> is free software, developed by Robert Gentleman and Ross Ihaka. It was named partly after the first names of the first two R authors and partly as a play on the name of S."
   ]
  },
  {
   "cell_type": "markdown",
   "id": "0ac060e1",
   "metadata": {},
   "source": [
    "Designed by\tRoss Ihaka and Robert Gentleman, and Developer: R Core Team"
   ]
  },
  {
   "cell_type": "markdown",
   "id": "2b05fbfd",
   "metadata": {},
   "source": [
    "[Back to the top](#Table_of_contents)"
   ]
  },
  {
   "cell_type": "markdown",
   "id": "c942b18e",
   "metadata": {},
   "source": [
    "<h3>What_is_R?</h3>"
   ]
  },
  {
   "cell_type": "markdown",
   "id": "6cedca2a",
   "metadata": {},
   "source": [
    "R is a language and environment for <b>statistical computing</b> and <b>graphics</b>. It provides a wide variety of statistical (linear and nolinear modelling, classical statistical tests, time-series analysis, classification, clustering, ...) and graphical techniques. <br>\n",
    "\n",
    "R is an interpreter language. R makes the development process convenient and concise by directly executing the entered code without compiling."
   ]
  },
  {
   "cell_type": "markdown",
   "id": "9f259902",
   "metadata": {},
   "source": [
    "[Back to the top](#Table_of_contents)"
   ]
  },
  {
   "cell_type": "markdown",
   "id": "e8fc2f9e",
   "metadata": {},
   "source": [
    "<h3>Why_should_you_learn_R?</h3>"
   ]
  },
  {
   "cell_type": "markdown",
   "id": "ea7b9238",
   "metadata": {},
   "source": [
    "R has no GUI, and no itnteractive graphics. However, R is available as Free Software, and can be extended via <i>packages</i>. Although R was developed for the purpose of statistical processing, it is currently expanding its application to various fields such as machine learning/deep learning, data mining, and natural language processing."
   ]
  },
  {
   "cell_type": "markdown",
   "id": "4b2b7832",
   "metadata": {},
   "source": [
    "[Back to the top](#Table_of_contents)"
   ]
  },
  {
   "cell_type": "markdown",
   "id": "cb7ac37b",
   "metadata": {},
   "source": [
    "<h2>Reference</h2>"
   ]
  },
  {
   "cell_type": "markdown",
   "id": "f607d598",
   "metadata": {},
   "source": [
    "For a simple explanation, programming language, R <br>\n",
    "[Ch01_01.R 설치 및 사용법(R프로그램설명)01](https://youtu.be/twLB7h2pbuc) <br>\n",
    "[R 프로그래밍/R기초-설치](https://youtu.be/sL_Kc379r_4) <br>\n",
    "[R (programming language)](https://en.wikipedia.org/wiki/R_(programming_language))<br>"
   ]
  },
  {
   "cell_type": "markdown",
   "id": "8aed4850",
   "metadata": {},
   "source": [
    "Search all R packages on CRAN and Bioconuctor - RDocumentation <br>\n",
    "[RDcoumentation](https://www.rdocumentation.org/)"
   ]
  },
  {
   "cell_type": "code",
   "execution_count": null,
   "id": "8f5f0517",
   "metadata": {},
   "outputs": [],
   "source": []
  }
 ],
 "metadata": {
  "kernelspec": {
   "display_name": "R",
   "language": "R",
   "name": "ir"
  },
  "language_info": {
   "codemirror_mode": "r",
   "file_extension": ".r",
   "mimetype": "text/x-r-source",
   "name": "R",
   "pygments_lexer": "r",
   "version": "3.6.1"
  },
  "toc-autonumbering": false,
  "toc-showmarkdowntxt": false
 },
 "nbformat": 4,
 "nbformat_minor": 5
}
