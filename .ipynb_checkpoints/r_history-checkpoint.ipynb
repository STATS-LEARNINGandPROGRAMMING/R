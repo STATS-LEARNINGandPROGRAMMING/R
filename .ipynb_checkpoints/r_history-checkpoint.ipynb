{
 "cells": [
  {
   "cell_type": "markdown",
   "id": "d25f562e",
   "metadata": {},
   "source": [
    "<h2>Table_of_contents</h2>"
   ]
  },
  {
   "cell_type": "markdown",
   "id": "684390bc",
   "metadata": {},
   "source": [
    "- [History](#History)\n",
    "    - [What is R?](#What_is_R?)\n",
    "    - [Who created R?](#Who_created_R?)\n",
    "    - [Why should you learn R?](#Why_should_you_learn_R?)\n",
    "- [Reference](#Reference)"
   ]
  },
  {
   "cell_type": "markdown",
   "id": "0c7e4b85",
   "metadata": {},
   "source": [
    "<h2>History</h2>"
   ]
  },
  {
   "cell_type": "markdown",
   "id": "1d014026",
   "metadata": {},
   "source": [
    "<h3>What_is_R?</h3>"
   ]
  },
  {
   "cell_type": "markdown",
   "id": "78877b60",
   "metadata": {},
   "source": [
    "R is a language and environment for statistical computing and graphics. It provides a wide variety of statistical (linear and nolinear modelling, classical statistical tests, time-series analysis, classification, clustering, ...) and graphical techniques. <br>\n",
    "\n",
    "R is an interpreter language. R makes the development process convenient and concise by directly executing the entered code without compiling."
   ]
  },
  {
   "cell_type": "markdown",
   "id": "831fcfca",
   "metadata": {},
   "source": [
    "[Back to the top](#Table_of_contents)"
   ]
  },
  {
   "cell_type": "markdown",
   "id": "f27ab540",
   "metadata": {},
   "source": [
    "<h3>Who_created_R?</h3>"
   ]
  },
  {
   "cell_type": "markdown",
   "id": "ec842117",
   "metadata": {},
   "source": [
    "Designed by\tRoss Ihaka and Robert Gentleman <br>\n",
    "Developer\tR Core Team"
   ]
  },
  {
   "cell_type": "markdown",
   "id": "6c84b28b",
   "metadata": {},
   "source": [
    "[Back to the top](#Table_of_contents)"
   ]
  },
  {
   "cell_type": "markdown",
   "id": "761beb4e",
   "metadata": {},
   "source": [
    "<h3>Why_should_you_learn_R?</h3>"
   ]
  },
  {
   "cell_type": "markdown",
   "id": "79e9b016",
   "metadata": {},
   "source": [
    "R is available as Free Software, and can be extended via <i>packages</i>. Although R was developed for the purpose of statistical processing, it is currently expanding its application to various fields such as machine learning/deep learning, data mining, and natural language processing."
   ]
  },
  {
   "cell_type": "markdown",
   "id": "36606065",
   "metadata": {},
   "source": [
    "[Back to the top](#Table_of_contents)"
   ]
  },
  {
   "cell_type": "markdown",
   "id": "ef034bc0",
   "metadata": {},
   "source": [
    "<h2>Reference</h2>"
   ]
  },
  {
   "cell_type": "markdown",
   "id": "e60380ef",
   "metadata": {},
   "source": [
    "For a simple explanation, programming language, R <br>\n",
    "[Ch01_01.R 설치 및 사용법(R프로그램설명)01](https://youtu.be/twLB7h2pbuc) <br>\n",
    "[R 프로그래밍/R기초-설치](https://youtu.be/sL_Kc379r_4) <br>"
   ]
  },
  {
   "cell_type": "markdown",
   "id": "f51138c3",
   "metadata": {},
   "source": [
    "Search all R packages on CRAN and Bioconuctor - RDocumentation <br>\n",
    "[RDcoumentation](https://www.rdocumentation.org/)"
   ]
  },
  {
   "cell_type": "code",
   "execution_count": null,
   "id": "e9553d64",
   "metadata": {},
   "outputs": [],
   "source": []
  }
 ],
 "metadata": {
  "kernelspec": {
   "display_name": "R",
   "language": "R",
   "name": "ir"
  },
  "language_info": {
   "codemirror_mode": "r",
   "file_extension": ".r",
   "mimetype": "text/x-r-source",
   "name": "R",
   "pygments_lexer": "r",
   "version": "3.6.1"
  },
  "toc-autonumbering": false,
  "toc-showmarkdowntxt": false
 },
 "nbformat": 4,
 "nbformat_minor": 5
}
